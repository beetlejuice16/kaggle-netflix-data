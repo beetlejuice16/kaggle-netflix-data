{
 "cells": [
  {
   "cell_type": "code",
   "execution_count": 1,
   "id": "cac3b72f",
   "metadata": {
    "_cell_guid": "14d3a892-3501-43eb-9864-5b8aede88a90",
    "_uuid": "99dd347b-1769-47d1-8a73-843cc155eac2",
    "collapsed": false,
    "execution": {
     "iopub.execute_input": "2023-11-29T18:44:33.400243Z",
     "iopub.status.busy": "2023-11-29T18:44:33.399833Z",
     "iopub.status.idle": "2023-11-29T18:44:35.681762Z",
     "shell.execute_reply": "2023-11-29T18:44:35.680745Z"
    },
    "jupyter": {
     "outputs_hidden": false
    },
    "papermill": {
     "duration": 2.301695,
     "end_time": "2023-11-29T18:44:35.684786",
     "exception": false,
     "start_time": "2023-11-29T18:44:33.383091",
     "status": "completed"
    },
    "tags": []
   },
   "outputs": [
    {
     "name": "stdout",
     "output_type": "stream",
     "text": [
      "/kaggle/input/netflix-movies-and-shows/imdb_movies_shows.csv\n"
     ]
    }
   ],
   "source": [
    "from typing import Dict, List, Set\n",
    "import pandas as pd\n",
    "import numpy as np\n",
    "import plotly.express as px\n",
    "import plotly.graph_objects as go\n",
    "import json\n",
    "import ast\n",
    "\n",
    "import os\n",
    "for dirname, _, filenames in os.walk('/kaggle/input'):\n",
    "    for filename in filenames:\n",
    "        print(os.path.join(dirname, filename))"
   ]
  },
  {
   "cell_type": "markdown",
   "id": "ecaa0eab",
   "metadata": {
    "_cell_guid": "c08c6320-cded-4271-8da5-3e7b7eecda48",
    "_uuid": "e72cc3a2-443c-419b-84e1-b72e49351831",
    "papermill": {
     "duration": 0.012218,
     "end_time": "2023-11-29T18:44:35.710558",
     "exception": false,
     "start_time": "2023-11-29T18:44:35.698340",
     "status": "completed"
    },
    "tags": []
   },
   "source": [
    "# Netflix Movies and Shows:\n",
    "## Decoding Trends in Entertainment: A Deep Dive into Netflix's Content Library"
   ]
  },
  {
   "cell_type": "code",
   "execution_count": 2,
   "id": "69da46e6",
   "metadata": {
    "_cell_guid": "6b61126a-8ae8-4da3-a256-8b199c67f968",
    "_uuid": "5e12dfff-eafd-4805-a261-e93b1bb4e5e5",
    "collapsed": false,
    "execution": {
     "iopub.execute_input": "2023-11-29T18:44:35.738203Z",
     "iopub.status.busy": "2023-11-29T18:44:35.736930Z",
     "iopub.status.idle": "2023-11-29T18:44:35.806203Z",
     "shell.execute_reply": "2023-11-29T18:44:35.805167Z"
    },
    "jupyter": {
     "outputs_hidden": false
    },
    "papermill": {
     "duration": 0.086109,
     "end_time": "2023-11-29T18:44:35.808918",
     "exception": false,
     "start_time": "2023-11-29T18:44:35.722809",
     "status": "completed"
    },
    "tags": []
   },
   "outputs": [],
   "source": [
    "df_netflix = pd.read_csv(\"/kaggle/input/netflix-movies-and-shows/imdb_movies_shows.csv\").sort_values(\"release_year\")"
   ]
  },
  {
   "cell_type": "code",
   "execution_count": 3,
   "id": "c890bf9d",
   "metadata": {
    "execution": {
     "iopub.execute_input": "2023-11-29T18:44:35.837102Z",
     "iopub.status.busy": "2023-11-29T18:44:35.836371Z",
     "iopub.status.idle": "2023-11-29T18:44:35.992583Z",
     "shell.execute_reply": "2023-11-29T18:44:35.991498Z"
    },
    "papermill": {
     "duration": 0.173948,
     "end_time": "2023-11-29T18:44:35.995364",
     "exception": false,
     "start_time": "2023-11-29T18:44:35.821416",
     "status": "completed"
    },
    "tags": []
   },
   "outputs": [],
   "source": [
    "df_netflix[\"production_countries\"] = df_netflix[\"production_countries\"].apply(lambda x: ast.literal_eval(x))"
   ]
  },
  {
   "cell_type": "code",
   "execution_count": 4,
   "id": "29fca83d",
   "metadata": {
    "_cell_guid": "18a26fdb-805d-4b18-9e6e-0844d8ebb062",
    "_uuid": "da819066-ee30-476a-884a-7a05bf26b494",
    "collapsed": false,
    "execution": {
     "iopub.execute_input": "2023-11-29T18:44:36.023631Z",
     "iopub.status.busy": "2023-11-29T18:44:36.022325Z",
     "iopub.status.idle": "2023-11-29T18:44:36.054877Z",
     "shell.execute_reply": "2023-11-29T18:44:36.053669Z"
    },
    "jupyter": {
     "outputs_hidden": false
    },
    "papermill": {
     "duration": 0.049247,
     "end_time": "2023-11-29T18:44:36.057555",
     "exception": false,
     "start_time": "2023-11-29T18:44:36.008308",
     "status": "completed"
    },
    "tags": []
   },
   "outputs": [
    {
     "data": {
      "text/html": [
       "<div>\n",
       "<style scoped>\n",
       "    .dataframe tbody tr th:only-of-type {\n",
       "        vertical-align: middle;\n",
       "    }\n",
       "\n",
       "    .dataframe tbody tr th {\n",
       "        vertical-align: top;\n",
       "    }\n",
       "\n",
       "    .dataframe thead th {\n",
       "        text-align: right;\n",
       "    }\n",
       "</style>\n",
       "<table border=\"1\" class=\"dataframe\">\n",
       "  <thead>\n",
       "    <tr style=\"text-align: right;\">\n",
       "      <th></th>\n",
       "      <th>title</th>\n",
       "      <th>type</th>\n",
       "      <th>release_year</th>\n",
       "      <th>age_certification</th>\n",
       "      <th>runtime</th>\n",
       "      <th>genres</th>\n",
       "      <th>production_countries</th>\n",
       "      <th>seasons</th>\n",
       "      <th>imdb_id</th>\n",
       "      <th>imdb_score</th>\n",
       "      <th>imdb_votes</th>\n",
       "    </tr>\n",
       "  </thead>\n",
       "  <tbody>\n",
       "    <tr>\n",
       "      <th>0</th>\n",
       "      <td>Five Came Back: The Reference Films</td>\n",
       "      <td>SHOW</td>\n",
       "      <td>1945</td>\n",
       "      <td>TV-MA</td>\n",
       "      <td>48</td>\n",
       "      <td>['documentation']</td>\n",
       "      <td>[US]</td>\n",
       "      <td>1.0</td>\n",
       "      <td>NaN</td>\n",
       "      <td>NaN</td>\n",
       "      <td>NaN</td>\n",
       "    </tr>\n",
       "    <tr>\n",
       "      <th>24</th>\n",
       "      <td>Raya and Sakina</td>\n",
       "      <td>MOVIE</td>\n",
       "      <td>1953</td>\n",
       "      <td>NaN</td>\n",
       "      <td>105</td>\n",
       "      <td>['drama', 'thriller', 'crime', 'history']</td>\n",
       "      <td>[EG]</td>\n",
       "      <td>NaN</td>\n",
       "      <td>tt0316472</td>\n",
       "      <td>6.8</td>\n",
       "      <td>231.0</td>\n",
       "    </tr>\n",
       "    <tr>\n",
       "      <th>28</th>\n",
       "      <td>The Blazing Sun</td>\n",
       "      <td>MOVIE</td>\n",
       "      <td>1954</td>\n",
       "      <td>NaN</td>\n",
       "      <td>100</td>\n",
       "      <td>['romance', 'crime', 'drama']</td>\n",
       "      <td>[EG]</td>\n",
       "      <td>NaN</td>\n",
       "      <td>tt0044429</td>\n",
       "      <td>7.4</td>\n",
       "      <td>1219.0</td>\n",
       "    </tr>\n",
       "    <tr>\n",
       "      <th>15</th>\n",
       "      <td>White Christmas</td>\n",
       "      <td>MOVIE</td>\n",
       "      <td>1954</td>\n",
       "      <td>NaN</td>\n",
       "      <td>115</td>\n",
       "      <td>['romance', 'comedy', 'music']</td>\n",
       "      <td>[US]</td>\n",
       "      <td>NaN</td>\n",
       "      <td>tt0047673</td>\n",
       "      <td>7.5</td>\n",
       "      <td>42373.0</td>\n",
       "    </tr>\n",
       "    <tr>\n",
       "      <th>22</th>\n",
       "      <td>Dark Waters</td>\n",
       "      <td>MOVIE</td>\n",
       "      <td>1956</td>\n",
       "      <td>NaN</td>\n",
       "      <td>120</td>\n",
       "      <td>['drama', 'action', 'romance', 'thriller']</td>\n",
       "      <td>[EG]</td>\n",
       "      <td>NaN</td>\n",
       "      <td>tt0049761</td>\n",
       "      <td>6.7</td>\n",
       "      <td>590.0</td>\n",
       "    </tr>\n",
       "  </tbody>\n",
       "</table>\n",
       "</div>"
      ],
      "text/plain": [
       "                                  title   type  release_year  \\\n",
       "0   Five Came Back: The Reference Films   SHOW          1945   \n",
       "24                      Raya and Sakina  MOVIE          1953   \n",
       "28                      The Blazing Sun  MOVIE          1954   \n",
       "15                      White Christmas  MOVIE          1954   \n",
       "22                          Dark Waters  MOVIE          1956   \n",
       "\n",
       "   age_certification  runtime                                      genres  \\\n",
       "0              TV-MA       48                           ['documentation']   \n",
       "24               NaN      105   ['drama', 'thriller', 'crime', 'history']   \n",
       "28               NaN      100               ['romance', 'crime', 'drama']   \n",
       "15               NaN      115              ['romance', 'comedy', 'music']   \n",
       "22               NaN      120  ['drama', 'action', 'romance', 'thriller']   \n",
       "\n",
       "   production_countries  seasons    imdb_id  imdb_score  imdb_votes  \n",
       "0                  [US]      1.0        NaN         NaN         NaN  \n",
       "24                 [EG]      NaN  tt0316472         6.8       231.0  \n",
       "28                 [EG]      NaN  tt0044429         7.4      1219.0  \n",
       "15                 [US]      NaN  tt0047673         7.5     42373.0  \n",
       "22                 [EG]      NaN  tt0049761         6.7       590.0  "
      ]
     },
     "execution_count": 4,
     "metadata": {},
     "output_type": "execute_result"
    }
   ],
   "source": [
    "df_netflix.head()"
   ]
  },
  {
   "cell_type": "code",
   "execution_count": 5,
   "id": "14f40d5d",
   "metadata": {
    "_cell_guid": "306a1150-388a-4d42-8c0b-6975e2bef9e2",
    "_uuid": "6fa1dbb5-40d8-4204-88a9-833b4b3a5880",
    "collapsed": false,
    "execution": {
     "iopub.execute_input": "2023-11-29T18:44:36.083453Z",
     "iopub.status.busy": "2023-11-29T18:44:36.083007Z",
     "iopub.status.idle": "2023-11-29T18:44:38.433759Z",
     "shell.execute_reply": "2023-11-29T18:44:38.432771Z"
    },
    "jupyter": {
     "outputs_hidden": false
    },
    "papermill": {
     "duration": 2.366916,
     "end_time": "2023-11-29T18:44:38.436522",
     "exception": false,
     "start_time": "2023-11-29T18:44:36.069606",
     "status": "completed"
    },
    "tags": []
   },
   "outputs": [
    {
     "data": {
      "text/html": [
       "        <script type=\"text/javascript\">\n",
       "        window.PlotlyConfig = {MathJaxConfig: 'local'};\n",
       "        if (window.MathJax && window.MathJax.Hub && window.MathJax.Hub.Config) {window.MathJax.Hub.Config({SVG: {font: \"STIX-Web\"}});}\n",
       "        if (typeof require !== 'undefined') {\n",
       "        require.undef(\"plotly\");\n",
       "        requirejs.config({\n",
       "            paths: {\n",
       "                'plotly': ['https://cdn.plot.ly/plotly-2.25.2.min']\n",
       "            }\n",
       "        });\n",
       "        require(['plotly'], function(Plotly) {\n",
       "            window._Plotly = Plotly;\n",
       "        });\n",
       "        }\n",
       "        </script>\n",
       "        "
      ]
     },
     "metadata": {},
     "output_type": "display_data"
    },
    {
     "data": {
      "text/html": [
       "<div>                            <div id=\"6953c0e5-66ab-4893-be61-2701409a9768\" class=\"plotly-graph-div\" style=\"height:525px; width:100%;\"></div>            <script type=\"text/javascript\">                require([\"plotly\"], function(Plotly) {                    window.PLOTLYENV=window.PLOTLYENV || {};                                    if (document.getElementById(\"6953c0e5-66ab-4893-be61-2701409a9768\")) {                    Plotly.newPlot(                        \"6953c0e5-66ab-4893-be61-2701409a9768\",                        [{\"alignmentgroup\":\"True\",\"bingroup\":\"x\",\"hovertemplate\":\"Type=%{x}\\u003cbr\\u003ecount=%{y}\\u003cextra\\u003e\\u003c\\u002fextra\\u003e\",\"legendgroup\":\"SHOW\",\"marker\":{\"color\":\"#636efa\",\"pattern\":{\"shape\":\"\"}},\"name\":\"SHOW\",\"offsetgroup\":\"SHOW\",\"orientation\":\"v\",\"showlegend\":true,\"x\":[\"SHOW\",\"SHOW\",\"SHOW\",\"SHOW\",\"SHOW\",\"SHOW\",\"SHOW\",\"SHOW\",\"SHOW\",\"SHOW\",\"SHOW\",\"SHOW\",\"SHOW\",\"SHOW\",\"SHOW\",\"SHOW\",\"SHOW\",\"SHOW\",\"SHOW\",\"SHOW\",\"SHOW\",\"SHOW\",\"SHOW\",\"SHOW\",\"SHOW\",\"SHOW\",\"SHOW\",\"SHOW\",\"SHOW\",\"SHOW\",\"SHOW\",\"SHOW\",\"SHOW\",\"SHOW\",\"SHOW\",\"SHOW\",\"SHOW\",\"SHOW\",\"SHOW\",\"SHOW\",\"SHOW\",\"SHOW\",\"SHOW\",\"SHOW\",\"SHOW\",\"SHOW\",\"SHOW\",\"SHOW\",\"SHOW\",\"SHOW\",\"SHOW\",\"SHOW\",\"SHOW\",\"SHOW\",\"SHOW\",\"SHOW\",\"SHOW\",\"SHOW\",\"SHOW\",\"SHOW\",\"SHOW\",\"SHOW\",\"SHOW\",\"SHOW\",\"SHOW\",\"SHOW\",\"SHOW\",\"SHOW\",\"SHOW\",\"SHOW\",\"SHOW\",\"SHOW\",\"SHOW\",\"SHOW\",\"SHOW\",\"SHOW\",\"SHOW\",\"SHOW\",\"SHOW\",\"SHOW\",\"SHOW\",\"SHOW\",\"SHOW\",\"SHOW\",\"SHOW\",\"SHOW\",\"SHOW\",\"SHOW\",\"SHOW\",\"SHOW\",\"SHOW\",\"SHOW\",\"SHOW\",\"SHOW\",\"SHOW\",\"SHOW\",\"SHOW\",\"SHOW\",\"SHOW\",\"SHOW\",\"SHOW\",\"SHOW\",\"SHOW\",\"SHOW\",\"SHOW\",\"SHOW\",\"SHOW\",\"SHOW\",\"SHOW\",\"SHOW\",\"SHOW\",\"SHOW\",\"SHOW\",\"SHOW\",\"SHOW\",\"SHOW\",\"SHOW\",\"SHOW\",\"SHOW\",\"SHOW\",\"SHOW\",\"SHOW\",\"SHOW\",\"SHOW\",\"SHOW\",\"SHOW\",\"SHOW\",\"SHOW\",\"SHOW\",\"SHOW\",\"SHOW\",\"SHOW\",\"SHOW\",\"SHOW\",\"SHOW\",\"SHOW\",\"SHOW\",\"SHOW\",\"SHOW\",\"SHOW\",\"SHOW\",\"SHOW\",\"SHOW\",\"SHOW\",\"SHOW\",\"SHOW\",\"SHOW\",\"SHOW\",\"SHOW\",\"SHOW\",\"SHOW\",\"SHOW\",\"SHOW\",\"SHOW\",\"SHOW\",\"SHOW\",\"SHOW\",\"SHOW\",\"SHOW\",\"SHOW\",\"SHOW\",\"SHOW\",\"SHOW\",\"SHOW\",\"SHOW\",\"SHOW\",\"SHOW\",\"SHOW\",\"SHOW\",\"SHOW\",\"SHOW\",\"SHOW\",\"SHOW\",\"SHOW\",\"SHOW\",\"SHOW\",\"SHOW\",\"SHOW\",\"SHOW\",\"SHOW\",\"SHOW\",\"SHOW\",\"SHOW\",\"SHOW\",\"SHOW\",\"SHOW\",\"SHOW\",\"SHOW\",\"SHOW\",\"SHOW\",\"SHOW\",\"SHOW\",\"SHOW\",\"SHOW\",\"SHOW\",\"SHOW\",\"SHOW\",\"SHOW\",\"SHOW\",\"SHOW\",\"SHOW\",\"SHOW\",\"SHOW\",\"SHOW\",\"SHOW\",\"SHOW\",\"SHOW\",\"SHOW\",\"SHOW\",\"SHOW\",\"SHOW\",\"SHOW\",\"SHOW\",\"SHOW\",\"SHOW\",\"SHOW\",\"SHOW\",\"SHOW\",\"SHOW\",\"SHOW\",\"SHOW\",\"SHOW\",\"SHOW\",\"SHOW\",\"SHOW\",\"SHOW\",\"SHOW\",\"SHOW\",\"SHOW\",\"SHOW\",\"SHOW\",\"SHOW\",\"SHOW\",\"SHOW\",\"SHOW\",\"SHOW\",\"SHOW\",\"SHOW\",\"SHOW\",\"SHOW\",\"SHOW\",\"SHOW\",\"SHOW\",\"SHOW\",\"SHOW\",\"SHOW\",\"SHOW\",\"SHOW\",\"SHOW\",\"SHOW\",\"SHOW\",\"SHOW\",\"SHOW\",\"SHOW\",\"SHOW\",\"SHOW\",\"SHOW\",\"SHOW\",\"SHOW\",\"SHOW\",\"SHOW\",\"SHOW\",\"SHOW\",\"SHOW\",\"SHOW\",\"SHOW\",\"SHOW\",\"SHOW\",\"SHOW\",\"SHOW\",\"SHOW\",\"SHOW\",\"SHOW\",\"SHOW\",\"SHOW\",\"SHOW\",\"SHOW\",\"SHOW\",\"SHOW\",\"SHOW\",\"SHOW\",\"SHOW\",\"SHOW\",\"SHOW\",\"SHOW\",\"SHOW\",\"SHOW\",\"SHOW\",\"SHOW\",\"SHOW\",\"SHOW\",\"SHOW\",\"SHOW\",\"SHOW\",\"SHOW\",\"SHOW\",\"SHOW\",\"SHOW\",\"SHOW\",\"SHOW\",\"SHOW\",\"SHOW\",\"SHOW\",\"SHOW\",\"SHOW\",\"SHOW\",\"SHOW\",\"SHOW\",\"SHOW\",\"SHOW\",\"SHOW\",\"SHOW\",\"SHOW\",\"SHOW\",\"SHOW\",\"SHOW\",\"SHOW\",\"SHOW\",\"SHOW\",\"SHOW\",\"SHOW\",\"SHOW\",\"SHOW\",\"SHOW\",\"SHOW\",\"SHOW\",\"SHOW\",\"SHOW\",\"SHOW\",\"SHOW\",\"SHOW\",\"SHOW\",\"SHOW\",\"SHOW\",\"SHOW\",\"SHOW\",\"SHOW\",\"SHOW\",\"SHOW\",\"SHOW\",\"SHOW\",\"SHOW\",\"SHOW\",\"SHOW\",\"SHOW\",\"SHOW\",\"SHOW\",\"SHOW\",\"SHOW\",\"SHOW\",\"SHOW\",\"SHOW\",\"SHOW\",\"SHOW\",\"SHOW\",\"SHOW\",\"SHOW\",\"SHOW\",\"SHOW\",\"SHOW\",\"SHOW\",\"SHOW\",\"SHOW\",\"SHOW\",\"SHOW\",\"SHOW\",\"SHOW\",\"SHOW\",\"SHOW\",\"SHOW\",\"SHOW\",\"SHOW\",\"SHOW\",\"SHOW\",\"SHOW\",\"SHOW\",\"SHOW\",\"SHOW\",\"SHOW\",\"SHOW\",\"SHOW\",\"SHOW\",\"SHOW\",\"SHOW\",\"SHOW\",\"SHOW\",\"SHOW\",\"SHOW\",\"SHOW\",\"SHOW\",\"SHOW\",\"SHOW\",\"SHOW\",\"SHOW\",\"SHOW\",\"SHOW\",\"SHOW\",\"SHOW\",\"SHOW\",\"SHOW\",\"SHOW\",\"SHOW\",\"SHOW\",\"SHOW\",\"SHOW\",\"SHOW\",\"SHOW\",\"SHOW\",\"SHOW\",\"SHOW\",\"SHOW\",\"SHOW\",\"SHOW\",\"SHOW\",\"SHOW\",\"SHOW\",\"SHOW\",\"SHOW\",\"SHOW\",\"SHOW\",\"SHOW\",\"SHOW\",\"SHOW\",\"SHOW\",\"SHOW\",\"SHOW\",\"SHOW\",\"SHOW\",\"SHOW\",\"SHOW\",\"SHOW\",\"SHOW\",\"SHOW\",\"SHOW\",\"SHOW\",\"SHOW\",\"SHOW\",\"SHOW\",\"SHOW\",\"SHOW\",\"SHOW\",\"SHOW\",\"SHOW\",\"SHOW\",\"SHOW\",\"SHOW\",\"SHOW\",\"SHOW\",\"SHOW\",\"SHOW\",\"SHOW\",\"SHOW\",\"SHOW\",\"SHOW\",\"SHOW\",\"SHOW\",\"SHOW\",\"SHOW\",\"SHOW\",\"SHOW\",\"SHOW\",\"SHOW\",\"SHOW\",\"SHOW\",\"SHOW\",\"SHOW\",\"SHOW\",\"SHOW\",\"SHOW\",\"SHOW\",\"SHOW\",\"SHOW\",\"SHOW\",\"SHOW\",\"SHOW\",\"SHOW\",\"SHOW\",\"SHOW\",\"SHOW\",\"SHOW\",\"SHOW\",\"SHOW\",\"SHOW\",\"SHOW\",\"SHOW\",\"SHOW\",\"SHOW\",\"SHOW\",\"SHOW\",\"SHOW\",\"SHOW\",\"SHOW\",\"SHOW\",\"SHOW\",\"SHOW\",\"SHOW\",\"SHOW\",\"SHOW\",\"SHOW\",\"SHOW\",\"SHOW\",\"SHOW\",\"SHOW\",\"SHOW\",\"SHOW\",\"SHOW\",\"SHOW\",\"SHOW\",\"SHOW\",\"SHOW\",\"SHOW\",\"SHOW\",\"SHOW\",\"SHOW\",\"SHOW\",\"SHOW\",\"SHOW\",\"SHOW\",\"SHOW\",\"SHOW\",\"SHOW\",\"SHOW\",\"SHOW\",\"SHOW\",\"SHOW\",\"SHOW\",\"SHOW\",\"SHOW\",\"SHOW\",\"SHOW\",\"SHOW\",\"SHOW\",\"SHOW\",\"SHOW\",\"SHOW\",\"SHOW\",\"SHOW\",\"SHOW\",\"SHOW\",\"SHOW\",\"SHOW\",\"SHOW\",\"SHOW\",\"SHOW\",\"SHOW\",\"SHOW\",\"SHOW\",\"SHOW\",\"SHOW\",\"SHOW\",\"SHOW\",\"SHOW\",\"SHOW\",\"SHOW\",\"SHOW\",\"SHOW\",\"SHOW\",\"SHOW\",\"SHOW\",\"SHOW\",\"SHOW\",\"SHOW\",\"SHOW\",\"SHOW\",\"SHOW\",\"SHOW\",\"SHOW\",\"SHOW\",\"SHOW\",\"SHOW\",\"SHOW\",\"SHOW\",\"SHOW\",\"SHOW\",\"SHOW\",\"SHOW\",\"SHOW\",\"SHOW\",\"SHOW\",\"SHOW\",\"SHOW\",\"SHOW\",\"SHOW\",\"SHOW\",\"SHOW\",\"SHOW\",\"SHOW\",\"SHOW\",\"SHOW\",\"SHOW\",\"SHOW\",\"SHOW\",\"SHOW\",\"SHOW\",\"SHOW\",\"SHOW\",\"SHOW\",\"SHOW\",\"SHOW\",\"SHOW\",\"SHOW\",\"SHOW\",\"SHOW\",\"SHOW\",\"SHOW\",\"SHOW\",\"SHOW\",\"SHOW\",\"SHOW\",\"SHOW\",\"SHOW\",\"SHOW\",\"SHOW\",\"SHOW\",\"SHOW\",\"SHOW\",\"SHOW\",\"SHOW\",\"SHOW\",\"SHOW\",\"SHOW\",\"SHOW\",\"SHOW\",\"SHOW\",\"SHOW\",\"SHOW\",\"SHOW\",\"SHOW\",\"SHOW\",\"SHOW\",\"SHOW\",\"SHOW\",\"SHOW\",\"SHOW\",\"SHOW\",\"SHOW\",\"SHOW\",\"SHOW\",\"SHOW\",\"SHOW\",\"SHOW\",\"SHOW\",\"SHOW\",\"SHOW\",\"SHOW\",\"SHOW\",\"SHOW\",\"SHOW\",\"SHOW\",\"SHOW\",\"SHOW\",\"SHOW\",\"SHOW\",\"SHOW\",\"SHOW\",\"SHOW\",\"SHOW\",\"SHOW\",\"SHOW\",\"SHOW\",\"SHOW\",\"SHOW\",\"SHOW\",\"SHOW\",\"SHOW\",\"SHOW\",\"SHOW\",\"SHOW\",\"SHOW\",\"SHOW\",\"SHOW\",\"SHOW\",\"SHOW\",\"SHOW\",\"SHOW\",\"SHOW\",\"SHOW\",\"SHOW\",\"SHOW\",\"SHOW\",\"SHOW\",\"SHOW\",\"SHOW\",\"SHOW\",\"SHOW\",\"SHOW\",\"SHOW\",\"SHOW\",\"SHOW\",\"SHOW\",\"SHOW\",\"SHOW\",\"SHOW\",\"SHOW\",\"SHOW\",\"SHOW\",\"SHOW\",\"SHOW\",\"SHOW\",\"SHOW\",\"SHOW\",\"SHOW\",\"SHOW\",\"SHOW\",\"SHOW\",\"SHOW\",\"SHOW\",\"SHOW\",\"SHOW\",\"SHOW\",\"SHOW\",\"SHOW\",\"SHOW\",\"SHOW\",\"SHOW\",\"SHOW\",\"SHOW\",\"SHOW\",\"SHOW\",\"SHOW\",\"SHOW\",\"SHOW\",\"SHOW\",\"SHOW\",\"SHOW\",\"SHOW\",\"SHOW\",\"SHOW\",\"SHOW\",\"SHOW\",\"SHOW\",\"SHOW\",\"SHOW\",\"SHOW\",\"SHOW\",\"SHOW\",\"SHOW\",\"SHOW\",\"SHOW\",\"SHOW\",\"SHOW\",\"SHOW\",\"SHOW\",\"SHOW\",\"SHOW\",\"SHOW\",\"SHOW\",\"SHOW\",\"SHOW\",\"SHOW\",\"SHOW\",\"SHOW\",\"SHOW\",\"SHOW\",\"SHOW\",\"SHOW\",\"SHOW\",\"SHOW\",\"SHOW\",\"SHOW\",\"SHOW\",\"SHOW\",\"SHOW\",\"SHOW\",\"SHOW\",\"SHOW\",\"SHOW\",\"SHOW\",\"SHOW\",\"SHOW\",\"SHOW\",\"SHOW\",\"SHOW\",\"SHOW\",\"SHOW\",\"SHOW\",\"SHOW\",\"SHOW\",\"SHOW\",\"SHOW\",\"SHOW\",\"SHOW\",\"SHOW\",\"SHOW\",\"SHOW\",\"SHOW\",\"SHOW\",\"SHOW\",\"SHOW\",\"SHOW\",\"SHOW\",\"SHOW\",\"SHOW\",\"SHOW\",\"SHOW\",\"SHOW\",\"SHOW\",\"SHOW\",\"SHOW\",\"SHOW\",\"SHOW\",\"SHOW\",\"SHOW\",\"SHOW\",\"SHOW\",\"SHOW\",\"SHOW\",\"SHOW\",\"SHOW\",\"SHOW\",\"SHOW\",\"SHOW\",\"SHOW\",\"SHOW\",\"SHOW\",\"SHOW\",\"SHOW\",\"SHOW\",\"SHOW\",\"SHOW\",\"SHOW\",\"SHOW\",\"SHOW\",\"SHOW\",\"SHOW\",\"SHOW\",\"SHOW\",\"SHOW\",\"SHOW\",\"SHOW\",\"SHOW\",\"SHOW\",\"SHOW\",\"SHOW\",\"SHOW\",\"SHOW\",\"SHOW\",\"SHOW\",\"SHOW\",\"SHOW\",\"SHOW\",\"SHOW\",\"SHOW\",\"SHOW\",\"SHOW\",\"SHOW\",\"SHOW\",\"SHOW\",\"SHOW\",\"SHOW\",\"SHOW\",\"SHOW\",\"SHOW\",\"SHOW\",\"SHOW\",\"SHOW\",\"SHOW\",\"SHOW\",\"SHOW\",\"SHOW\",\"SHOW\",\"SHOW\",\"SHOW\",\"SHOW\",\"SHOW\",\"SHOW\",\"SHOW\",\"SHOW\",\"SHOW\",\"SHOW\",\"SHOW\",\"SHOW\",\"SHOW\",\"SHOW\",\"SHOW\",\"SHOW\",\"SHOW\",\"SHOW\",\"SHOW\",\"SHOW\",\"SHOW\",\"SHOW\",\"SHOW\",\"SHOW\",\"SHOW\",\"SHOW\",\"SHOW\",\"SHOW\",\"SHOW\",\"SHOW\",\"SHOW\",\"SHOW\",\"SHOW\",\"SHOW\",\"SHOW\",\"SHOW\",\"SHOW\",\"SHOW\",\"SHOW\",\"SHOW\",\"SHOW\",\"SHOW\",\"SHOW\",\"SHOW\",\"SHOW\",\"SHOW\",\"SHOW\",\"SHOW\",\"SHOW\",\"SHOW\",\"SHOW\",\"SHOW\",\"SHOW\",\"SHOW\",\"SHOW\",\"SHOW\",\"SHOW\",\"SHOW\",\"SHOW\",\"SHOW\",\"SHOW\",\"SHOW\",\"SHOW\",\"SHOW\",\"SHOW\",\"SHOW\",\"SHOW\",\"SHOW\",\"SHOW\",\"SHOW\",\"SHOW\",\"SHOW\",\"SHOW\",\"SHOW\",\"SHOW\",\"SHOW\",\"SHOW\",\"SHOW\",\"SHOW\",\"SHOW\",\"SHOW\",\"SHOW\",\"SHOW\",\"SHOW\",\"SHOW\",\"SHOW\",\"SHOW\",\"SHOW\",\"SHOW\",\"SHOW\",\"SHOW\",\"SHOW\",\"SHOW\",\"SHOW\",\"SHOW\",\"SHOW\",\"SHOW\",\"SHOW\",\"SHOW\",\"SHOW\",\"SHOW\",\"SHOW\",\"SHOW\",\"SHOW\",\"SHOW\",\"SHOW\",\"SHOW\",\"SHOW\",\"SHOW\",\"SHOW\",\"SHOW\",\"SHOW\",\"SHOW\",\"SHOW\",\"SHOW\",\"SHOW\",\"SHOW\",\"SHOW\",\"SHOW\",\"SHOW\",\"SHOW\",\"SHOW\",\"SHOW\",\"SHOW\",\"SHOW\",\"SHOW\",\"SHOW\",\"SHOW\",\"SHOW\",\"SHOW\",\"SHOW\",\"SHOW\",\"SHOW\",\"SHOW\",\"SHOW\",\"SHOW\",\"SHOW\",\"SHOW\",\"SHOW\",\"SHOW\",\"SHOW\",\"SHOW\",\"SHOW\",\"SHOW\",\"SHOW\",\"SHOW\",\"SHOW\",\"SHOW\",\"SHOW\",\"SHOW\",\"SHOW\",\"SHOW\",\"SHOW\",\"SHOW\",\"SHOW\",\"SHOW\",\"SHOW\",\"SHOW\",\"SHOW\",\"SHOW\",\"SHOW\",\"SHOW\",\"SHOW\",\"SHOW\",\"SHOW\",\"SHOW\",\"SHOW\",\"SHOW\",\"SHOW\",\"SHOW\",\"SHOW\",\"SHOW\",\"SHOW\",\"SHOW\",\"SHOW\",\"SHOW\",\"SHOW\",\"SHOW\",\"SHOW\",\"SHOW\",\"SHOW\",\"SHOW\",\"SHOW\",\"SHOW\",\"SHOW\",\"SHOW\",\"SHOW\",\"SHOW\",\"SHOW\",\"SHOW\",\"SHOW\",\"SHOW\",\"SHOW\",\"SHOW\",\"SHOW\",\"SHOW\",\"SHOW\",\"SHOW\",\"SHOW\",\"SHOW\",\"SHOW\",\"SHOW\",\"SHOW\",\"SHOW\",\"SHOW\",\"SHOW\",\"SHOW\",\"SHOW\",\"SHOW\",\"SHOW\",\"SHOW\",\"SHOW\",\"SHOW\",\"SHOW\",\"SHOW\",\"SHOW\",\"SHOW\",\"SHOW\",\"SHOW\",\"SHOW\",\"SHOW\",\"SHOW\",\"SHOW\",\"SHOW\",\"SHOW\",\"SHOW\",\"SHOW\",\"SHOW\",\"SHOW\",\"SHOW\",\"SHOW\",\"SHOW\",\"SHOW\",\"SHOW\",\"SHOW\",\"SHOW\",\"SHOW\",\"SHOW\",\"SHOW\",\"SHOW\",\"SHOW\",\"SHOW\",\"SHOW\",\"SHOW\",\"SHOW\",\"SHOW\",\"SHOW\",\"SHOW\",\"SHOW\",\"SHOW\",\"SHOW\",\"SHOW\",\"SHOW\",\"SHOW\",\"SHOW\",\"SHOW\",\"SHOW\",\"SHOW\",\"SHOW\",\"SHOW\",\"SHOW\",\"SHOW\",\"SHOW\",\"SHOW\",\"SHOW\",\"SHOW\",\"SHOW\",\"SHOW\",\"SHOW\",\"SHOW\",\"SHOW\",\"SHOW\",\"SHOW\",\"SHOW\",\"SHOW\",\"SHOW\",\"SHOW\",\"SHOW\",\"SHOW\",\"SHOW\",\"SHOW\",\"SHOW\",\"SHOW\",\"SHOW\",\"SHOW\",\"SHOW\",\"SHOW\",\"SHOW\",\"SHOW\",\"SHOW\",\"SHOW\",\"SHOW\",\"SHOW\",\"SHOW\",\"SHOW\",\"SHOW\",\"SHOW\",\"SHOW\",\"SHOW\",\"SHOW\",\"SHOW\",\"SHOW\",\"SHOW\",\"SHOW\",\"SHOW\",\"SHOW\",\"SHOW\",\"SHOW\",\"SHOW\",\"SHOW\",\"SHOW\",\"SHOW\",\"SHOW\",\"SHOW\",\"SHOW\",\"SHOW\",\"SHOW\",\"SHOW\",\"SHOW\",\"SHOW\",\"SHOW\",\"SHOW\",\"SHOW\",\"SHOW\",\"SHOW\",\"SHOW\",\"SHOW\",\"SHOW\",\"SHOW\",\"SHOW\",\"SHOW\",\"SHOW\",\"SHOW\",\"SHOW\",\"SHOW\",\"SHOW\",\"SHOW\",\"SHOW\",\"SHOW\",\"SHOW\",\"SHOW\",\"SHOW\",\"SHOW\",\"SHOW\",\"SHOW\",\"SHOW\",\"SHOW\",\"SHOW\",\"SHOW\",\"SHOW\",\"SHOW\",\"SHOW\",\"SHOW\",\"SHOW\",\"SHOW\",\"SHOW\",\"SHOW\",\"SHOW\",\"SHOW\",\"SHOW\",\"SHOW\",\"SHOW\",\"SHOW\",\"SHOW\",\"SHOW\",\"SHOW\",\"SHOW\",\"SHOW\",\"SHOW\",\"SHOW\",\"SHOW\",\"SHOW\",\"SHOW\",\"SHOW\",\"SHOW\",\"SHOW\",\"SHOW\",\"SHOW\",\"SHOW\",\"SHOW\",\"SHOW\",\"SHOW\",\"SHOW\",\"SHOW\",\"SHOW\",\"SHOW\",\"SHOW\",\"SHOW\",\"SHOW\",\"SHOW\",\"SHOW\",\"SHOW\",\"SHOW\",\"SHOW\",\"SHOW\",\"SHOW\",\"SHOW\",\"SHOW\",\"SHOW\",\"SHOW\",\"SHOW\",\"SHOW\",\"SHOW\",\"SHOW\",\"SHOW\",\"SHOW\",\"SHOW\",\"SHOW\",\"SHOW\",\"SHOW\",\"SHOW\",\"SHOW\",\"SHOW\",\"SHOW\",\"SHOW\",\"SHOW\",\"SHOW\",\"SHOW\",\"SHOW\",\"SHOW\",\"SHOW\",\"SHOW\",\"SHOW\",\"SHOW\",\"SHOW\",\"SHOW\",\"SHOW\",\"SHOW\",\"SHOW\",\"SHOW\",\"SHOW\",\"SHOW\",\"SHOW\",\"SHOW\",\"SHOW\",\"SHOW\",\"SHOW\",\"SHOW\",\"SHOW\",\"SHOW\",\"SHOW\",\"SHOW\",\"SHOW\",\"SHOW\",\"SHOW\",\"SHOW\",\"SHOW\",\"SHOW\",\"SHOW\",\"SHOW\",\"SHOW\",\"SHOW\",\"SHOW\",\"SHOW\",\"SHOW\",\"SHOW\",\"SHOW\",\"SHOW\",\"SHOW\",\"SHOW\",\"SHOW\",\"SHOW\",\"SHOW\",\"SHOW\",\"SHOW\",\"SHOW\",\"SHOW\",\"SHOW\",\"SHOW\",\"SHOW\",\"SHOW\",\"SHOW\",\"SHOW\",\"SHOW\",\"SHOW\",\"SHOW\",\"SHOW\",\"SHOW\",\"SHOW\",\"SHOW\",\"SHOW\",\"SHOW\",\"SHOW\",\"SHOW\",\"SHOW\",\"SHOW\",\"SHOW\",\"SHOW\",\"SHOW\",\"SHOW\",\"SHOW\",\"SHOW\",\"SHOW\",\"SHOW\",\"SHOW\",\"SHOW\",\"SHOW\",\"SHOW\",\"SHOW\",\"SHOW\",\"SHOW\",\"SHOW\",\"SHOW\",\"SHOW\",\"SHOW\",\"SHOW\",\"SHOW\",\"SHOW\",\"SHOW\",\"SHOW\",\"SHOW\",\"SHOW\",\"SHOW\",\"SHOW\",\"SHOW\",\"SHOW\",\"SHOW\",\"SHOW\",\"SHOW\",\"SHOW\",\"SHOW\",\"SHOW\",\"SHOW\",\"SHOW\",\"SHOW\",\"SHOW\",\"SHOW\",\"SHOW\",\"SHOW\",\"SHOW\",\"SHOW\",\"SHOW\",\"SHOW\",\"SHOW\",\"SHOW\",\"SHOW\",\"SHOW\",\"SHOW\",\"SHOW\",\"SHOW\",\"SHOW\",\"SHOW\",\"SHOW\",\"SHOW\",\"SHOW\",\"SHOW\",\"SHOW\",\"SHOW\",\"SHOW\",\"SHOW\",\"SHOW\",\"SHOW\",\"SHOW\",\"SHOW\",\"SHOW\",\"SHOW\",\"SHOW\",\"SHOW\",\"SHOW\",\"SHOW\",\"SHOW\",\"SHOW\",\"SHOW\",\"SHOW\",\"SHOW\",\"SHOW\",\"SHOW\",\"SHOW\",\"SHOW\",\"SHOW\",\"SHOW\",\"SHOW\",\"SHOW\",\"SHOW\",\"SHOW\",\"SHOW\",\"SHOW\",\"SHOW\",\"SHOW\",\"SHOW\",\"SHOW\",\"SHOW\",\"SHOW\",\"SHOW\",\"SHOW\",\"SHOW\",\"SHOW\",\"SHOW\",\"SHOW\",\"SHOW\",\"SHOW\",\"SHOW\",\"SHOW\",\"SHOW\",\"SHOW\",\"SHOW\",\"SHOW\",\"SHOW\",\"SHOW\",\"SHOW\",\"SHOW\",\"SHOW\",\"SHOW\",\"SHOW\",\"SHOW\",\"SHOW\",\"SHOW\",\"SHOW\",\"SHOW\",\"SHOW\",\"SHOW\",\"SHOW\",\"SHOW\",\"SHOW\",\"SHOW\",\"SHOW\",\"SHOW\",\"SHOW\",\"SHOW\",\"SHOW\",\"SHOW\",\"SHOW\",\"SHOW\",\"SHOW\",\"SHOW\",\"SHOW\",\"SHOW\",\"SHOW\",\"SHOW\",\"SHOW\",\"SHOW\",\"SHOW\",\"SHOW\",\"SHOW\",\"SHOW\",\"SHOW\",\"SHOW\",\"SHOW\",\"SHOW\",\"SHOW\",\"SHOW\",\"SHOW\",\"SHOW\",\"SHOW\",\"SHOW\",\"SHOW\",\"SHOW\",\"SHOW\",\"SHOW\",\"SHOW\",\"SHOW\",\"SHOW\",\"SHOW\",\"SHOW\",\"SHOW\",\"SHOW\",\"SHOW\",\"SHOW\",\"SHOW\",\"SHOW\",\"SHOW\",\"SHOW\",\"SHOW\",\"SHOW\",\"SHOW\",\"SHOW\",\"SHOW\",\"SHOW\",\"SHOW\",\"SHOW\",\"SHOW\",\"SHOW\",\"SHOW\",\"SHOW\",\"SHOW\",\"SHOW\",\"SHOW\",\"SHOW\",\"SHOW\",\"SHOW\",\"SHOW\",\"SHOW\",\"SHOW\",\"SHOW\",\"SHOW\",\"SHOW\",\"SHOW\",\"SHOW\",\"SHOW\",\"SHOW\",\"SHOW\",\"SHOW\",\"SHOW\",\"SHOW\",\"SHOW\",\"SHOW\",\"SHOW\",\"SHOW\",\"SHOW\",\"SHOW\",\"SHOW\",\"SHOW\",\"SHOW\",\"SHOW\",\"SHOW\",\"SHOW\",\"SHOW\",\"SHOW\",\"SHOW\",\"SHOW\",\"SHOW\",\"SHOW\",\"SHOW\",\"SHOW\",\"SHOW\",\"SHOW\",\"SHOW\",\"SHOW\",\"SHOW\",\"SHOW\",\"SHOW\",\"SHOW\",\"SHOW\",\"SHOW\",\"SHOW\",\"SHOW\",\"SHOW\",\"SHOW\",\"SHOW\",\"SHOW\",\"SHOW\",\"SHOW\",\"SHOW\",\"SHOW\",\"SHOW\",\"SHOW\",\"SHOW\",\"SHOW\",\"SHOW\",\"SHOW\",\"SHOW\",\"SHOW\",\"SHOW\",\"SHOW\",\"SHOW\",\"SHOW\",\"SHOW\",\"SHOW\",\"SHOW\",\"SHOW\",\"SHOW\",\"SHOW\",\"SHOW\",\"SHOW\",\"SHOW\",\"SHOW\",\"SHOW\",\"SHOW\",\"SHOW\",\"SHOW\",\"SHOW\",\"SHOW\",\"SHOW\",\"SHOW\",\"SHOW\",\"SHOW\",\"SHOW\",\"SHOW\",\"SHOW\",\"SHOW\",\"SHOW\",\"SHOW\",\"SHOW\",\"SHOW\",\"SHOW\",\"SHOW\",\"SHOW\",\"SHOW\",\"SHOW\",\"SHOW\",\"SHOW\",\"SHOW\",\"SHOW\",\"SHOW\",\"SHOW\",\"SHOW\",\"SHOW\",\"SHOW\",\"SHOW\",\"SHOW\",\"SHOW\",\"SHOW\",\"SHOW\",\"SHOW\",\"SHOW\",\"SHOW\",\"SHOW\",\"SHOW\",\"SHOW\",\"SHOW\",\"SHOW\",\"SHOW\",\"SHOW\",\"SHOW\",\"SHOW\",\"SHOW\",\"SHOW\",\"SHOW\",\"SHOW\",\"SHOW\",\"SHOW\",\"SHOW\",\"SHOW\",\"SHOW\",\"SHOW\",\"SHOW\",\"SHOW\",\"SHOW\",\"SHOW\",\"SHOW\",\"SHOW\",\"SHOW\",\"SHOW\",\"SHOW\",\"SHOW\",\"SHOW\",\"SHOW\",\"SHOW\",\"SHOW\",\"SHOW\",\"SHOW\",\"SHOW\",\"SHOW\",\"SHOW\",\"SHOW\",\"SHOW\",\"SHOW\",\"SHOW\",\"SHOW\",\"SHOW\",\"SHOW\",\"SHOW\",\"SHOW\",\"SHOW\",\"SHOW\",\"SHOW\",\"SHOW\",\"SHOW\",\"SHOW\",\"SHOW\",\"SHOW\",\"SHOW\",\"SHOW\",\"SHOW\",\"SHOW\",\"SHOW\",\"SHOW\",\"SHOW\",\"SHOW\",\"SHOW\",\"SHOW\",\"SHOW\",\"SHOW\",\"SHOW\",\"SHOW\",\"SHOW\",\"SHOW\",\"SHOW\",\"SHOW\",\"SHOW\",\"SHOW\",\"SHOW\",\"SHOW\",\"SHOW\",\"SHOW\",\"SHOW\",\"SHOW\",\"SHOW\",\"SHOW\",\"SHOW\",\"SHOW\",\"SHOW\",\"SHOW\",\"SHOW\",\"SHOW\",\"SHOW\",\"SHOW\",\"SHOW\",\"SHOW\",\"SHOW\",\"SHOW\",\"SHOW\",\"SHOW\",\"SHOW\",\"SHOW\",\"SHOW\",\"SHOW\",\"SHOW\",\"SHOW\",\"SHOW\",\"SHOW\",\"SHOW\",\"SHOW\",\"SHOW\",\"SHOW\",\"SHOW\",\"SHOW\",\"SHOW\",\"SHOW\",\"SHOW\",\"SHOW\",\"SHOW\",\"SHOW\",\"SHOW\",\"SHOW\",\"SHOW\",\"SHOW\",\"SHOW\",\"SHOW\",\"SHOW\",\"SHOW\",\"SHOW\",\"SHOW\",\"SHOW\",\"SHOW\",\"SHOW\",\"SHOW\",\"SHOW\",\"SHOW\",\"SHOW\",\"SHOW\",\"SHOW\",\"SHOW\",\"SHOW\",\"SHOW\",\"SHOW\",\"SHOW\",\"SHOW\",\"SHOW\",\"SHOW\",\"SHOW\",\"SHOW\",\"SHOW\",\"SHOW\",\"SHOW\",\"SHOW\",\"SHOW\",\"SHOW\",\"SHOW\",\"SHOW\",\"SHOW\",\"SHOW\",\"SHOW\",\"SHOW\",\"SHOW\",\"SHOW\",\"SHOW\",\"SHOW\",\"SHOW\",\"SHOW\",\"SHOW\",\"SHOW\",\"SHOW\",\"SHOW\",\"SHOW\",\"SHOW\",\"SHOW\",\"SHOW\",\"SHOW\",\"SHOW\",\"SHOW\",\"SHOW\",\"SHOW\",\"SHOW\",\"SHOW\",\"SHOW\",\"SHOW\",\"SHOW\",\"SHOW\",\"SHOW\",\"SHOW\",\"SHOW\",\"SHOW\",\"SHOW\",\"SHOW\",\"SHOW\",\"SHOW\",\"SHOW\",\"SHOW\",\"SHOW\",\"SHOW\",\"SHOW\",\"SHOW\",\"SHOW\",\"SHOW\",\"SHOW\",\"SHOW\",\"SHOW\",\"SHOW\",\"SHOW\",\"SHOW\",\"SHOW\",\"SHOW\",\"SHOW\",\"SHOW\",\"SHOW\",\"SHOW\",\"SHOW\",\"SHOW\",\"SHOW\",\"SHOW\",\"SHOW\",\"SHOW\",\"SHOW\",\"SHOW\",\"SHOW\",\"SHOW\",\"SHOW\",\"SHOW\",\"SHOW\",\"SHOW\",\"SHOW\",\"SHOW\",\"SHOW\",\"SHOW\",\"SHOW\",\"SHOW\",\"SHOW\",\"SHOW\",\"SHOW\",\"SHOW\",\"SHOW\",\"SHOW\",\"SHOW\",\"SHOW\",\"SHOW\",\"SHOW\",\"SHOW\",\"SHOW\",\"SHOW\",\"SHOW\",\"SHOW\",\"SHOW\",\"SHOW\",\"SHOW\",\"SHOW\",\"SHOW\",\"SHOW\",\"SHOW\",\"SHOW\",\"SHOW\",\"SHOW\",\"SHOW\",\"SHOW\",\"SHOW\",\"SHOW\",\"SHOW\",\"SHOW\",\"SHOW\",\"SHOW\",\"SHOW\",\"SHOW\",\"SHOW\",\"SHOW\",\"SHOW\",\"SHOW\",\"SHOW\",\"SHOW\",\"SHOW\",\"SHOW\",\"SHOW\",\"SHOW\",\"SHOW\",\"SHOW\",\"SHOW\",\"SHOW\",\"SHOW\",\"SHOW\",\"SHOW\",\"SHOW\",\"SHOW\",\"SHOW\",\"SHOW\",\"SHOW\",\"SHOW\",\"SHOW\",\"SHOW\",\"SHOW\",\"SHOW\",\"SHOW\",\"SHOW\",\"SHOW\",\"SHOW\",\"SHOW\",\"SHOW\",\"SHOW\",\"SHOW\",\"SHOW\",\"SHOW\",\"SHOW\",\"SHOW\",\"SHOW\",\"SHOW\",\"SHOW\",\"SHOW\",\"SHOW\",\"SHOW\",\"SHOW\",\"SHOW\",\"SHOW\",\"SHOW\",\"SHOW\",\"SHOW\",\"SHOW\",\"SHOW\",\"SHOW\",\"SHOW\",\"SHOW\",\"SHOW\",\"SHOW\",\"SHOW\",\"SHOW\",\"SHOW\",\"SHOW\",\"SHOW\",\"SHOW\",\"SHOW\",\"SHOW\",\"SHOW\",\"SHOW\",\"SHOW\",\"SHOW\",\"SHOW\",\"SHOW\",\"SHOW\",\"SHOW\",\"SHOW\",\"SHOW\",\"SHOW\",\"SHOW\",\"SHOW\",\"SHOW\",\"SHOW\",\"SHOW\",\"SHOW\",\"SHOW\",\"SHOW\",\"SHOW\",\"SHOW\",\"SHOW\",\"SHOW\",\"SHOW\",\"SHOW\",\"SHOW\",\"SHOW\",\"SHOW\",\"SHOW\",\"SHOW\",\"SHOW\",\"SHOW\",\"SHOW\",\"SHOW\",\"SHOW\",\"SHOW\",\"SHOW\",\"SHOW\",\"SHOW\",\"SHOW\",\"SHOW\",\"SHOW\",\"SHOW\",\"SHOW\",\"SHOW\",\"SHOW\",\"SHOW\",\"SHOW\",\"SHOW\",\"SHOW\",\"SHOW\",\"SHOW\",\"SHOW\",\"SHOW\",\"SHOW\",\"SHOW\",\"SHOW\",\"SHOW\",\"SHOW\"],\"xaxis\":\"x\",\"yaxis\":\"y\",\"type\":\"histogram\"},{\"alignmentgroup\":\"True\",\"bingroup\":\"x\",\"hovertemplate\":\"Type=%{x}\\u003cbr\\u003ecount=%{y}\\u003cextra\\u003e\\u003c\\u002fextra\\u003e\",\"legendgroup\":\"MOVIE\",\"marker\":{\"color\":\"#EF553B\",\"pattern\":{\"shape\":\"\"}},\"name\":\"MOVIE\",\"offsetgroup\":\"MOVIE\",\"orientation\":\"v\",\"showlegend\":true,\"x\":[\"MOVIE\",\"MOVIE\",\"MOVIE\",\"MOVIE\",\"MOVIE\",\"MOVIE\",\"MOVIE\",\"MOVIE\",\"MOVIE\",\"MOVIE\",\"MOVIE\",\"MOVIE\",\"MOVIE\",\"MOVIE\",\"MOVIE\",\"MOVIE\",\"MOVIE\",\"MOVIE\",\"MOVIE\",\"MOVIE\",\"MOVIE\",\"MOVIE\",\"MOVIE\",\"MOVIE\",\"MOVIE\",\"MOVIE\",\"MOVIE\",\"MOVIE\",\"MOVIE\",\"MOVIE\",\"MOVIE\",\"MOVIE\",\"MOVIE\",\"MOVIE\",\"MOVIE\",\"MOVIE\",\"MOVIE\",\"MOVIE\",\"MOVIE\",\"MOVIE\",\"MOVIE\",\"MOVIE\",\"MOVIE\",\"MOVIE\",\"MOVIE\",\"MOVIE\",\"MOVIE\",\"MOVIE\",\"MOVIE\",\"MOVIE\",\"MOVIE\",\"MOVIE\",\"MOVIE\",\"MOVIE\",\"MOVIE\",\"MOVIE\",\"MOVIE\",\"MOVIE\",\"MOVIE\",\"MOVIE\",\"MOVIE\",\"MOVIE\",\"MOVIE\",\"MOVIE\",\"MOVIE\",\"MOVIE\",\"MOVIE\",\"MOVIE\",\"MOVIE\",\"MOVIE\",\"MOVIE\",\"MOVIE\",\"MOVIE\",\"MOVIE\",\"MOVIE\",\"MOVIE\",\"MOVIE\",\"MOVIE\",\"MOVIE\",\"MOVIE\",\"MOVIE\",\"MOVIE\",\"MOVIE\",\"MOVIE\",\"MOVIE\",\"MOVIE\",\"MOVIE\",\"MOVIE\",\"MOVIE\",\"MOVIE\",\"MOVIE\",\"MOVIE\",\"MOVIE\",\"MOVIE\",\"MOVIE\",\"MOVIE\",\"MOVIE\",\"MOVIE\",\"MOVIE\",\"MOVIE\",\"MOVIE\",\"MOVIE\",\"MOVIE\",\"MOVIE\",\"MOVIE\",\"MOVIE\",\"MOVIE\",\"MOVIE\",\"MOVIE\",\"MOVIE\",\"MOVIE\",\"MOVIE\",\"MOVIE\",\"MOVIE\",\"MOVIE\",\"MOVIE\",\"MOVIE\",\"MOVIE\",\"MOVIE\",\"MOVIE\",\"MOVIE\",\"MOVIE\",\"MOVIE\",\"MOVIE\",\"MOVIE\",\"MOVIE\",\"MOVIE\",\"MOVIE\",\"MOVIE\",\"MOVIE\",\"MOVIE\",\"MOVIE\",\"MOVIE\",\"MOVIE\",\"MOVIE\",\"MOVIE\",\"MOVIE\",\"MOVIE\",\"MOVIE\",\"MOVIE\",\"MOVIE\",\"MOVIE\",\"MOVIE\",\"MOVIE\",\"MOVIE\",\"MOVIE\",\"MOVIE\",\"MOVIE\",\"MOVIE\",\"MOVIE\",\"MOVIE\",\"MOVIE\",\"MOVIE\",\"MOVIE\",\"MOVIE\",\"MOVIE\",\"MOVIE\",\"MOVIE\",\"MOVIE\",\"MOVIE\",\"MOVIE\",\"MOVIE\",\"MOVIE\",\"MOVIE\",\"MOVIE\",\"MOVIE\",\"MOVIE\",\"MOVIE\",\"MOVIE\",\"MOVIE\",\"MOVIE\",\"MOVIE\",\"MOVIE\",\"MOVIE\",\"MOVIE\",\"MOVIE\",\"MOVIE\",\"MOVIE\",\"MOVIE\",\"MOVIE\",\"MOVIE\",\"MOVIE\",\"MOVIE\",\"MOVIE\",\"MOVIE\",\"MOVIE\",\"MOVIE\",\"MOVIE\",\"MOVIE\",\"MOVIE\",\"MOVIE\",\"MOVIE\",\"MOVIE\",\"MOVIE\",\"MOVIE\",\"MOVIE\",\"MOVIE\",\"MOVIE\",\"MOVIE\",\"MOVIE\",\"MOVIE\",\"MOVIE\",\"MOVIE\",\"MOVIE\",\"MOVIE\",\"MOVIE\",\"MOVIE\",\"MOVIE\",\"MOVIE\",\"MOVIE\",\"MOVIE\",\"MOVIE\",\"MOVIE\",\"MOVIE\",\"MOVIE\",\"MOVIE\",\"MOVIE\",\"MOVIE\",\"MOVIE\",\"MOVIE\",\"MOVIE\",\"MOVIE\",\"MOVIE\",\"MOVIE\",\"MOVIE\",\"MOVIE\",\"MOVIE\",\"MOVIE\",\"MOVIE\",\"MOVIE\",\"MOVIE\",\"MOVIE\",\"MOVIE\",\"MOVIE\",\"MOVIE\",\"MOVIE\",\"MOVIE\",\"MOVIE\",\"MOVIE\",\"MOVIE\",\"MOVIE\",\"MOVIE\",\"MOVIE\",\"MOVIE\",\"MOVIE\",\"MOVIE\",\"MOVIE\",\"MOVIE\",\"MOVIE\",\"MOVIE\",\"MOVIE\",\"MOVIE\",\"MOVIE\",\"MOVIE\",\"MOVIE\",\"MOVIE\",\"MOVIE\",\"MOVIE\",\"MOVIE\",\"MOVIE\",\"MOVIE\",\"MOVIE\",\"MOVIE\",\"MOVIE\",\"MOVIE\",\"MOVIE\",\"MOVIE\",\"MOVIE\",\"MOVIE\",\"MOVIE\",\"MOVIE\",\"MOVIE\",\"MOVIE\",\"MOVIE\",\"MOVIE\",\"MOVIE\",\"MOVIE\",\"MOVIE\",\"MOVIE\",\"MOVIE\",\"MOVIE\",\"MOVIE\",\"MOVIE\",\"MOVIE\",\"MOVIE\",\"MOVIE\",\"MOVIE\",\"MOVIE\",\"MOVIE\",\"MOVIE\",\"MOVIE\",\"MOVIE\",\"MOVIE\",\"MOVIE\",\"MOVIE\",\"MOVIE\",\"MOVIE\",\"MOVIE\",\"MOVIE\",\"MOVIE\",\"MOVIE\",\"MOVIE\",\"MOVIE\",\"MOVIE\",\"MOVIE\",\"MOVIE\",\"MOVIE\",\"MOVIE\",\"MOVIE\",\"MOVIE\",\"MOVIE\",\"MOVIE\",\"MOVIE\",\"MOVIE\",\"MOVIE\",\"MOVIE\",\"MOVIE\",\"MOVIE\",\"MOVIE\",\"MOVIE\",\"MOVIE\",\"MOVIE\",\"MOVIE\",\"MOVIE\",\"MOVIE\",\"MOVIE\",\"MOVIE\",\"MOVIE\",\"MOVIE\",\"MOVIE\",\"MOVIE\",\"MOVIE\",\"MOVIE\",\"MOVIE\",\"MOVIE\",\"MOVIE\",\"MOVIE\",\"MOVIE\",\"MOVIE\",\"MOVIE\",\"MOVIE\",\"MOVIE\",\"MOVIE\",\"MOVIE\",\"MOVIE\",\"MOVIE\",\"MOVIE\",\"MOVIE\",\"MOVIE\",\"MOVIE\",\"MOVIE\",\"MOVIE\",\"MOVIE\",\"MOVIE\",\"MOVIE\",\"MOVIE\",\"MOVIE\",\"MOVIE\",\"MOVIE\",\"MOVIE\",\"MOVIE\",\"MOVIE\",\"MOVIE\",\"MOVIE\",\"MOVIE\",\"MOVIE\",\"MOVIE\",\"MOVIE\",\"MOVIE\",\"MOVIE\",\"MOVIE\",\"MOVIE\",\"MOVIE\",\"MOVIE\",\"MOVIE\",\"MOVIE\",\"MOVIE\",\"MOVIE\",\"MOVIE\",\"MOVIE\",\"MOVIE\",\"MOVIE\",\"MOVIE\",\"MOVIE\",\"MOVIE\",\"MOVIE\",\"MOVIE\",\"MOVIE\",\"MOVIE\",\"MOVIE\",\"MOVIE\",\"MOVIE\",\"MOVIE\",\"MOVIE\",\"MOVIE\",\"MOVIE\",\"MOVIE\",\"MOVIE\",\"MOVIE\",\"MOVIE\",\"MOVIE\",\"MOVIE\",\"MOVIE\",\"MOVIE\",\"MOVIE\",\"MOVIE\",\"MOVIE\",\"MOVIE\",\"MOVIE\",\"MOVIE\",\"MOVIE\",\"MOVIE\",\"MOVIE\",\"MOVIE\",\"MOVIE\",\"MOVIE\",\"MOVIE\",\"MOVIE\",\"MOVIE\",\"MOVIE\",\"MOVIE\",\"MOVIE\",\"MOVIE\",\"MOVIE\",\"MOVIE\",\"MOVIE\",\"MOVIE\",\"MOVIE\",\"MOVIE\",\"MOVIE\",\"MOVIE\",\"MOVIE\",\"MOVIE\",\"MOVIE\",\"MOVIE\",\"MOVIE\",\"MOVIE\",\"MOVIE\",\"MOVIE\",\"MOVIE\",\"MOVIE\",\"MOVIE\",\"MOVIE\",\"MOVIE\",\"MOVIE\",\"MOVIE\",\"MOVIE\",\"MOVIE\",\"MOVIE\",\"MOVIE\",\"MOVIE\",\"MOVIE\",\"MOVIE\",\"MOVIE\",\"MOVIE\",\"MOVIE\",\"MOVIE\",\"MOVIE\",\"MOVIE\",\"MOVIE\",\"MOVIE\",\"MOVIE\",\"MOVIE\",\"MOVIE\",\"MOVIE\",\"MOVIE\",\"MOVIE\",\"MOVIE\",\"MOVIE\",\"MOVIE\",\"MOVIE\",\"MOVIE\",\"MOVIE\",\"MOVIE\",\"MOVIE\",\"MOVIE\",\"MOVIE\",\"MOVIE\",\"MOVIE\",\"MOVIE\",\"MOVIE\",\"MOVIE\",\"MOVIE\",\"MOVIE\",\"MOVIE\",\"MOVIE\",\"MOVIE\",\"MOVIE\",\"MOVIE\",\"MOVIE\",\"MOVIE\",\"MOVIE\",\"MOVIE\",\"MOVIE\",\"MOVIE\",\"MOVIE\",\"MOVIE\",\"MOVIE\",\"MOVIE\",\"MOVIE\",\"MOVIE\",\"MOVIE\",\"MOVIE\",\"MOVIE\",\"MOVIE\",\"MOVIE\",\"MOVIE\",\"MOVIE\",\"MOVIE\",\"MOVIE\",\"MOVIE\",\"MOVIE\",\"MOVIE\",\"MOVIE\",\"MOVIE\",\"MOVIE\",\"MOVIE\",\"MOVIE\",\"MOVIE\",\"MOVIE\",\"MOVIE\",\"MOVIE\",\"MOVIE\",\"MOVIE\",\"MOVIE\",\"MOVIE\",\"MOVIE\",\"MOVIE\",\"MOVIE\",\"MOVIE\",\"MOVIE\",\"MOVIE\",\"MOVIE\",\"MOVIE\",\"MOVIE\",\"MOVIE\",\"MOVIE\",\"MOVIE\",\"MOVIE\",\"MOVIE\",\"MOVIE\",\"MOVIE\",\"MOVIE\",\"MOVIE\",\"MOVIE\",\"MOVIE\",\"MOVIE\",\"MOVIE\",\"MOVIE\",\"MOVIE\",\"MOVIE\",\"MOVIE\",\"MOVIE\",\"MOVIE\",\"MOVIE\",\"MOVIE\",\"MOVIE\",\"MOVIE\",\"MOVIE\",\"MOVIE\",\"MOVIE\",\"MOVIE\",\"MOVIE\",\"MOVIE\",\"MOVIE\",\"MOVIE\",\"MOVIE\",\"MOVIE\",\"MOVIE\",\"MOVIE\",\"MOVIE\",\"MOVIE\",\"MOVIE\",\"MOVIE\",\"MOVIE\",\"MOVIE\",\"MOVIE\",\"MOVIE\",\"MOVIE\",\"MOVIE\",\"MOVIE\",\"MOVIE\",\"MOVIE\",\"MOVIE\",\"MOVIE\",\"MOVIE\",\"MOVIE\",\"MOVIE\",\"MOVIE\",\"MOVIE\",\"MOVIE\",\"MOVIE\",\"MOVIE\",\"MOVIE\",\"MOVIE\",\"MOVIE\",\"MOVIE\",\"MOVIE\",\"MOVIE\",\"MOVIE\",\"MOVIE\",\"MOVIE\",\"MOVIE\",\"MOVIE\",\"MOVIE\",\"MOVIE\",\"MOVIE\",\"MOVIE\",\"MOVIE\",\"MOVIE\",\"MOVIE\",\"MOVIE\",\"MOVIE\",\"MOVIE\",\"MOVIE\",\"MOVIE\",\"MOVIE\",\"MOVIE\",\"MOVIE\",\"MOVIE\",\"MOVIE\",\"MOVIE\",\"MOVIE\",\"MOVIE\",\"MOVIE\",\"MOVIE\",\"MOVIE\",\"MOVIE\",\"MOVIE\",\"MOVIE\",\"MOVIE\",\"MOVIE\",\"MOVIE\",\"MOVIE\",\"MOVIE\",\"MOVIE\",\"MOVIE\",\"MOVIE\",\"MOVIE\",\"MOVIE\",\"MOVIE\",\"MOVIE\",\"MOVIE\",\"MOVIE\",\"MOVIE\",\"MOVIE\",\"MOVIE\",\"MOVIE\",\"MOVIE\",\"MOVIE\",\"MOVIE\",\"MOVIE\",\"MOVIE\",\"MOVIE\",\"MOVIE\",\"MOVIE\",\"MOVIE\",\"MOVIE\",\"MOVIE\",\"MOVIE\",\"MOVIE\",\"MOVIE\",\"MOVIE\",\"MOVIE\",\"MOVIE\",\"MOVIE\",\"MOVIE\",\"MOVIE\",\"MOVIE\",\"MOVIE\",\"MOVIE\",\"MOVIE\",\"MOVIE\",\"MOVIE\",\"MOVIE\",\"MOVIE\",\"MOVIE\",\"MOVIE\",\"MOVIE\",\"MOVIE\",\"MOVIE\",\"MOVIE\",\"MOVIE\",\"MOVIE\",\"MOVIE\",\"MOVIE\",\"MOVIE\",\"MOVIE\",\"MOVIE\",\"MOVIE\",\"MOVIE\",\"MOVIE\",\"MOVIE\",\"MOVIE\",\"MOVIE\",\"MOVIE\",\"MOVIE\",\"MOVIE\",\"MOVIE\",\"MOVIE\",\"MOVIE\",\"MOVIE\",\"MOVIE\",\"MOVIE\",\"MOVIE\",\"MOVIE\",\"MOVIE\",\"MOVIE\",\"MOVIE\",\"MOVIE\",\"MOVIE\",\"MOVIE\",\"MOVIE\",\"MOVIE\",\"MOVIE\",\"MOVIE\",\"MOVIE\",\"MOVIE\",\"MOVIE\",\"MOVIE\",\"MOVIE\",\"MOVIE\",\"MOVIE\",\"MOVIE\",\"MOVIE\",\"MOVIE\",\"MOVIE\",\"MOVIE\",\"MOVIE\",\"MOVIE\",\"MOVIE\",\"MOVIE\",\"MOVIE\",\"MOVIE\",\"MOVIE\",\"MOVIE\",\"MOVIE\",\"MOVIE\",\"MOVIE\",\"MOVIE\",\"MOVIE\",\"MOVIE\",\"MOVIE\",\"MOVIE\",\"MOVIE\",\"MOVIE\",\"MOVIE\",\"MOVIE\",\"MOVIE\",\"MOVIE\",\"MOVIE\",\"MOVIE\",\"MOVIE\",\"MOVIE\",\"MOVIE\",\"MOVIE\",\"MOVIE\",\"MOVIE\",\"MOVIE\",\"MOVIE\",\"MOVIE\",\"MOVIE\",\"MOVIE\",\"MOVIE\",\"MOVIE\",\"MOVIE\",\"MOVIE\",\"MOVIE\",\"MOVIE\",\"MOVIE\",\"MOVIE\",\"MOVIE\",\"MOVIE\",\"MOVIE\",\"MOVIE\",\"MOVIE\",\"MOVIE\",\"MOVIE\",\"MOVIE\",\"MOVIE\",\"MOVIE\",\"MOVIE\",\"MOVIE\",\"MOVIE\",\"MOVIE\",\"MOVIE\",\"MOVIE\",\"MOVIE\",\"MOVIE\",\"MOVIE\",\"MOVIE\",\"MOVIE\",\"MOVIE\",\"MOVIE\",\"MOVIE\",\"MOVIE\",\"MOVIE\",\"MOVIE\",\"MOVIE\",\"MOVIE\",\"MOVIE\",\"MOVIE\",\"MOVIE\",\"MOVIE\",\"MOVIE\",\"MOVIE\",\"MOVIE\",\"MOVIE\",\"MOVIE\",\"MOVIE\",\"MOVIE\",\"MOVIE\",\"MOVIE\",\"MOVIE\",\"MOVIE\",\"MOVIE\",\"MOVIE\",\"MOVIE\",\"MOVIE\",\"MOVIE\",\"MOVIE\",\"MOVIE\",\"MOVIE\",\"MOVIE\",\"MOVIE\",\"MOVIE\",\"MOVIE\",\"MOVIE\",\"MOVIE\",\"MOVIE\",\"MOVIE\",\"MOVIE\",\"MOVIE\",\"MOVIE\",\"MOVIE\",\"MOVIE\",\"MOVIE\",\"MOVIE\",\"MOVIE\",\"MOVIE\",\"MOVIE\",\"MOVIE\",\"MOVIE\",\"MOVIE\",\"MOVIE\",\"MOVIE\",\"MOVIE\",\"MOVIE\",\"MOVIE\",\"MOVIE\",\"MOVIE\",\"MOVIE\",\"MOVIE\",\"MOVIE\",\"MOVIE\",\"MOVIE\",\"MOVIE\",\"MOVIE\",\"MOVIE\",\"MOVIE\",\"MOVIE\",\"MOVIE\",\"MOVIE\",\"MOVIE\",\"MOVIE\",\"MOVIE\",\"MOVIE\",\"MOVIE\",\"MOVIE\",\"MOVIE\",\"MOVIE\",\"MOVIE\",\"MOVIE\",\"MOVIE\",\"MOVIE\",\"MOVIE\",\"MOVIE\",\"MOVIE\",\"MOVIE\",\"MOVIE\",\"MOVIE\",\"MOVIE\",\"MOVIE\",\"MOVIE\",\"MOVIE\",\"MOVIE\",\"MOVIE\",\"MOVIE\",\"MOVIE\",\"MOVIE\",\"MOVIE\",\"MOVIE\",\"MOVIE\",\"MOVIE\",\"MOVIE\",\"MOVIE\",\"MOVIE\",\"MOVIE\",\"MOVIE\",\"MOVIE\",\"MOVIE\",\"MOVIE\",\"MOVIE\",\"MOVIE\",\"MOVIE\",\"MOVIE\",\"MOVIE\",\"MOVIE\",\"MOVIE\",\"MOVIE\",\"MOVIE\",\"MOVIE\",\"MOVIE\",\"MOVIE\",\"MOVIE\",\"MOVIE\",\"MOVIE\",\"MOVIE\",\"MOVIE\",\"MOVIE\",\"MOVIE\",\"MOVIE\",\"MOVIE\",\"MOVIE\",\"MOVIE\",\"MOVIE\",\"MOVIE\",\"MOVIE\",\"MOVIE\",\"MOVIE\",\"MOVIE\",\"MOVIE\",\"MOVIE\",\"MOVIE\",\"MOVIE\",\"MOVIE\",\"MOVIE\",\"MOVIE\",\"MOVIE\",\"MOVIE\",\"MOVIE\",\"MOVIE\",\"MOVIE\",\"MOVIE\",\"MOVIE\",\"MOVIE\",\"MOVIE\",\"MOVIE\",\"MOVIE\",\"MOVIE\",\"MOVIE\",\"MOVIE\",\"MOVIE\",\"MOVIE\",\"MOVIE\",\"MOVIE\",\"MOVIE\",\"MOVIE\",\"MOVIE\",\"MOVIE\",\"MOVIE\",\"MOVIE\",\"MOVIE\",\"MOVIE\",\"MOVIE\",\"MOVIE\",\"MOVIE\",\"MOVIE\",\"MOVIE\",\"MOVIE\",\"MOVIE\",\"MOVIE\",\"MOVIE\",\"MOVIE\",\"MOVIE\",\"MOVIE\",\"MOVIE\",\"MOVIE\",\"MOVIE\",\"MOVIE\",\"MOVIE\",\"MOVIE\",\"MOVIE\",\"MOVIE\",\"MOVIE\",\"MOVIE\",\"MOVIE\",\"MOVIE\",\"MOVIE\",\"MOVIE\",\"MOVIE\",\"MOVIE\",\"MOVIE\",\"MOVIE\",\"MOVIE\",\"MOVIE\",\"MOVIE\",\"MOVIE\",\"MOVIE\",\"MOVIE\",\"MOVIE\",\"MOVIE\",\"MOVIE\",\"MOVIE\",\"MOVIE\",\"MOVIE\",\"MOVIE\",\"MOVIE\",\"MOVIE\",\"MOVIE\",\"MOVIE\",\"MOVIE\",\"MOVIE\",\"MOVIE\",\"MOVIE\",\"MOVIE\",\"MOVIE\",\"MOVIE\",\"MOVIE\",\"MOVIE\",\"MOVIE\",\"MOVIE\",\"MOVIE\",\"MOVIE\",\"MOVIE\",\"MOVIE\",\"MOVIE\",\"MOVIE\",\"MOVIE\",\"MOVIE\",\"MOVIE\",\"MOVIE\",\"MOVIE\",\"MOVIE\",\"MOVIE\",\"MOVIE\",\"MOVIE\",\"MOVIE\",\"MOVIE\",\"MOVIE\",\"MOVIE\",\"MOVIE\",\"MOVIE\",\"MOVIE\",\"MOVIE\",\"MOVIE\",\"MOVIE\",\"MOVIE\",\"MOVIE\",\"MOVIE\",\"MOVIE\",\"MOVIE\",\"MOVIE\",\"MOVIE\",\"MOVIE\",\"MOVIE\",\"MOVIE\",\"MOVIE\",\"MOVIE\",\"MOVIE\",\"MOVIE\",\"MOVIE\",\"MOVIE\",\"MOVIE\",\"MOVIE\",\"MOVIE\",\"MOVIE\",\"MOVIE\",\"MOVIE\",\"MOVIE\",\"MOVIE\",\"MOVIE\",\"MOVIE\",\"MOVIE\",\"MOVIE\",\"MOVIE\",\"MOVIE\",\"MOVIE\",\"MOVIE\",\"MOVIE\",\"MOVIE\",\"MOVIE\",\"MOVIE\",\"MOVIE\",\"MOVIE\",\"MOVIE\",\"MOVIE\",\"MOVIE\",\"MOVIE\",\"MOVIE\",\"MOVIE\",\"MOVIE\",\"MOVIE\",\"MOVIE\",\"MOVIE\",\"MOVIE\",\"MOVIE\",\"MOVIE\",\"MOVIE\",\"MOVIE\",\"MOVIE\",\"MOVIE\",\"MOVIE\",\"MOVIE\",\"MOVIE\",\"MOVIE\",\"MOVIE\",\"MOVIE\",\"MOVIE\",\"MOVIE\",\"MOVIE\",\"MOVIE\",\"MOVIE\",\"MOVIE\",\"MOVIE\",\"MOVIE\",\"MOVIE\",\"MOVIE\",\"MOVIE\",\"MOVIE\",\"MOVIE\",\"MOVIE\",\"MOVIE\",\"MOVIE\",\"MOVIE\",\"MOVIE\",\"MOVIE\",\"MOVIE\",\"MOVIE\",\"MOVIE\",\"MOVIE\",\"MOVIE\",\"MOVIE\",\"MOVIE\",\"MOVIE\",\"MOVIE\",\"MOVIE\",\"MOVIE\",\"MOVIE\",\"MOVIE\",\"MOVIE\",\"MOVIE\",\"MOVIE\",\"MOVIE\",\"MOVIE\",\"MOVIE\",\"MOVIE\",\"MOVIE\",\"MOVIE\",\"MOVIE\",\"MOVIE\",\"MOVIE\",\"MOVIE\",\"MOVIE\",\"MOVIE\",\"MOVIE\",\"MOVIE\",\"MOVIE\",\"MOVIE\",\"MOVIE\",\"MOVIE\",\"MOVIE\",\"MOVIE\",\"MOVIE\",\"MOVIE\",\"MOVIE\",\"MOVIE\",\"MOVIE\",\"MOVIE\",\"MOVIE\",\"MOVIE\",\"MOVIE\",\"MOVIE\",\"MOVIE\",\"MOVIE\",\"MOVIE\",\"MOVIE\",\"MOVIE\",\"MOVIE\",\"MOVIE\",\"MOVIE\",\"MOVIE\",\"MOVIE\",\"MOVIE\",\"MOVIE\",\"MOVIE\",\"MOVIE\",\"MOVIE\",\"MOVIE\",\"MOVIE\",\"MOVIE\",\"MOVIE\",\"MOVIE\",\"MOVIE\",\"MOVIE\",\"MOVIE\",\"MOVIE\",\"MOVIE\",\"MOVIE\",\"MOVIE\",\"MOVIE\",\"MOVIE\",\"MOVIE\",\"MOVIE\",\"MOVIE\",\"MOVIE\",\"MOVIE\",\"MOVIE\",\"MOVIE\",\"MOVIE\",\"MOVIE\",\"MOVIE\",\"MOVIE\",\"MOVIE\",\"MOVIE\",\"MOVIE\",\"MOVIE\",\"MOVIE\",\"MOVIE\",\"MOVIE\",\"MOVIE\",\"MOVIE\",\"MOVIE\",\"MOVIE\",\"MOVIE\",\"MOVIE\",\"MOVIE\",\"MOVIE\",\"MOVIE\",\"MOVIE\",\"MOVIE\",\"MOVIE\",\"MOVIE\",\"MOVIE\",\"MOVIE\",\"MOVIE\",\"MOVIE\",\"MOVIE\",\"MOVIE\",\"MOVIE\",\"MOVIE\",\"MOVIE\",\"MOVIE\",\"MOVIE\",\"MOVIE\",\"MOVIE\",\"MOVIE\",\"MOVIE\",\"MOVIE\",\"MOVIE\",\"MOVIE\",\"MOVIE\",\"MOVIE\",\"MOVIE\",\"MOVIE\",\"MOVIE\",\"MOVIE\",\"MOVIE\",\"MOVIE\",\"MOVIE\",\"MOVIE\",\"MOVIE\",\"MOVIE\",\"MOVIE\",\"MOVIE\",\"MOVIE\",\"MOVIE\",\"MOVIE\",\"MOVIE\",\"MOVIE\",\"MOVIE\",\"MOVIE\",\"MOVIE\",\"MOVIE\",\"MOVIE\",\"MOVIE\",\"MOVIE\",\"MOVIE\",\"MOVIE\",\"MOVIE\",\"MOVIE\",\"MOVIE\",\"MOVIE\",\"MOVIE\",\"MOVIE\",\"MOVIE\",\"MOVIE\",\"MOVIE\",\"MOVIE\",\"MOVIE\",\"MOVIE\",\"MOVIE\",\"MOVIE\",\"MOVIE\",\"MOVIE\",\"MOVIE\",\"MOVIE\",\"MOVIE\",\"MOVIE\",\"MOVIE\",\"MOVIE\",\"MOVIE\",\"MOVIE\",\"MOVIE\",\"MOVIE\",\"MOVIE\",\"MOVIE\",\"MOVIE\",\"MOVIE\",\"MOVIE\",\"MOVIE\",\"MOVIE\",\"MOVIE\",\"MOVIE\",\"MOVIE\",\"MOVIE\",\"MOVIE\",\"MOVIE\",\"MOVIE\",\"MOVIE\",\"MOVIE\",\"MOVIE\",\"MOVIE\",\"MOVIE\",\"MOVIE\",\"MOVIE\",\"MOVIE\",\"MOVIE\",\"MOVIE\",\"MOVIE\",\"MOVIE\",\"MOVIE\",\"MOVIE\",\"MOVIE\",\"MOVIE\",\"MOVIE\",\"MOVIE\",\"MOVIE\",\"MOVIE\",\"MOVIE\",\"MOVIE\",\"MOVIE\",\"MOVIE\",\"MOVIE\",\"MOVIE\",\"MOVIE\",\"MOVIE\",\"MOVIE\",\"MOVIE\",\"MOVIE\",\"MOVIE\",\"MOVIE\",\"MOVIE\",\"MOVIE\",\"MOVIE\",\"MOVIE\",\"MOVIE\",\"MOVIE\",\"MOVIE\",\"MOVIE\",\"MOVIE\",\"MOVIE\",\"MOVIE\",\"MOVIE\",\"MOVIE\",\"MOVIE\",\"MOVIE\",\"MOVIE\",\"MOVIE\",\"MOVIE\",\"MOVIE\",\"MOVIE\",\"MOVIE\",\"MOVIE\",\"MOVIE\",\"MOVIE\",\"MOVIE\",\"MOVIE\",\"MOVIE\",\"MOVIE\",\"MOVIE\",\"MOVIE\",\"MOVIE\",\"MOVIE\",\"MOVIE\",\"MOVIE\",\"MOVIE\",\"MOVIE\",\"MOVIE\",\"MOVIE\",\"MOVIE\",\"MOVIE\",\"MOVIE\",\"MOVIE\",\"MOVIE\",\"MOVIE\",\"MOVIE\",\"MOVIE\",\"MOVIE\",\"MOVIE\",\"MOVIE\",\"MOVIE\",\"MOVIE\",\"MOVIE\",\"MOVIE\",\"MOVIE\",\"MOVIE\",\"MOVIE\",\"MOVIE\",\"MOVIE\",\"MOVIE\",\"MOVIE\",\"MOVIE\",\"MOVIE\",\"MOVIE\",\"MOVIE\",\"MOVIE\",\"MOVIE\",\"MOVIE\",\"MOVIE\",\"MOVIE\",\"MOVIE\",\"MOVIE\",\"MOVIE\",\"MOVIE\",\"MOVIE\",\"MOVIE\",\"MOVIE\",\"MOVIE\",\"MOVIE\",\"MOVIE\",\"MOVIE\",\"MOVIE\",\"MOVIE\",\"MOVIE\",\"MOVIE\",\"MOVIE\",\"MOVIE\",\"MOVIE\",\"MOVIE\",\"MOVIE\",\"MOVIE\",\"MOVIE\",\"MOVIE\",\"MOVIE\",\"MOVIE\",\"MOVIE\",\"MOVIE\",\"MOVIE\",\"MOVIE\",\"MOVIE\",\"MOVIE\",\"MOVIE\",\"MOVIE\",\"MOVIE\",\"MOVIE\",\"MOVIE\",\"MOVIE\",\"MOVIE\",\"MOVIE\",\"MOVIE\",\"MOVIE\",\"MOVIE\",\"MOVIE\",\"MOVIE\",\"MOVIE\",\"MOVIE\",\"MOVIE\",\"MOVIE\",\"MOVIE\",\"MOVIE\",\"MOVIE\",\"MOVIE\",\"MOVIE\",\"MOVIE\",\"MOVIE\",\"MOVIE\",\"MOVIE\",\"MOVIE\",\"MOVIE\",\"MOVIE\",\"MOVIE\",\"MOVIE\",\"MOVIE\",\"MOVIE\",\"MOVIE\",\"MOVIE\",\"MOVIE\",\"MOVIE\",\"MOVIE\",\"MOVIE\",\"MOVIE\",\"MOVIE\",\"MOVIE\",\"MOVIE\",\"MOVIE\",\"MOVIE\",\"MOVIE\",\"MOVIE\",\"MOVIE\",\"MOVIE\",\"MOVIE\",\"MOVIE\",\"MOVIE\",\"MOVIE\",\"MOVIE\",\"MOVIE\",\"MOVIE\",\"MOVIE\",\"MOVIE\",\"MOVIE\",\"MOVIE\",\"MOVIE\",\"MOVIE\",\"MOVIE\",\"MOVIE\",\"MOVIE\",\"MOVIE\",\"MOVIE\",\"MOVIE\",\"MOVIE\",\"MOVIE\",\"MOVIE\",\"MOVIE\",\"MOVIE\",\"MOVIE\",\"MOVIE\",\"MOVIE\",\"MOVIE\",\"MOVIE\",\"MOVIE\",\"MOVIE\",\"MOVIE\",\"MOVIE\",\"MOVIE\",\"MOVIE\",\"MOVIE\",\"MOVIE\",\"MOVIE\",\"MOVIE\",\"MOVIE\",\"MOVIE\",\"MOVIE\",\"MOVIE\",\"MOVIE\",\"MOVIE\",\"MOVIE\",\"MOVIE\",\"MOVIE\",\"MOVIE\",\"MOVIE\",\"MOVIE\",\"MOVIE\",\"MOVIE\",\"MOVIE\",\"MOVIE\",\"MOVIE\",\"MOVIE\",\"MOVIE\",\"MOVIE\",\"MOVIE\",\"MOVIE\",\"MOVIE\",\"MOVIE\",\"MOVIE\",\"MOVIE\",\"MOVIE\",\"MOVIE\",\"MOVIE\",\"MOVIE\",\"MOVIE\",\"MOVIE\",\"MOVIE\",\"MOVIE\",\"MOVIE\",\"MOVIE\",\"MOVIE\",\"MOVIE\",\"MOVIE\",\"MOVIE\",\"MOVIE\",\"MOVIE\",\"MOVIE\",\"MOVIE\",\"MOVIE\",\"MOVIE\",\"MOVIE\",\"MOVIE\",\"MOVIE\",\"MOVIE\",\"MOVIE\",\"MOVIE\",\"MOVIE\",\"MOVIE\",\"MOVIE\",\"MOVIE\",\"MOVIE\",\"MOVIE\",\"MOVIE\",\"MOVIE\",\"MOVIE\",\"MOVIE\",\"MOVIE\",\"MOVIE\",\"MOVIE\",\"MOVIE\",\"MOVIE\",\"MOVIE\",\"MOVIE\",\"MOVIE\",\"MOVIE\",\"MOVIE\",\"MOVIE\",\"MOVIE\",\"MOVIE\",\"MOVIE\",\"MOVIE\",\"MOVIE\",\"MOVIE\",\"MOVIE\",\"MOVIE\",\"MOVIE\",\"MOVIE\",\"MOVIE\",\"MOVIE\",\"MOVIE\",\"MOVIE\",\"MOVIE\",\"MOVIE\",\"MOVIE\",\"MOVIE\",\"MOVIE\",\"MOVIE\",\"MOVIE\",\"MOVIE\",\"MOVIE\",\"MOVIE\",\"MOVIE\",\"MOVIE\",\"MOVIE\",\"MOVIE\",\"MOVIE\",\"MOVIE\",\"MOVIE\",\"MOVIE\",\"MOVIE\",\"MOVIE\",\"MOVIE\",\"MOVIE\",\"MOVIE\",\"MOVIE\",\"MOVIE\",\"MOVIE\",\"MOVIE\",\"MOVIE\",\"MOVIE\",\"MOVIE\",\"MOVIE\",\"MOVIE\",\"MOVIE\",\"MOVIE\",\"MOVIE\",\"MOVIE\",\"MOVIE\",\"MOVIE\",\"MOVIE\",\"MOVIE\",\"MOVIE\",\"MOVIE\",\"MOVIE\",\"MOVIE\",\"MOVIE\",\"MOVIE\",\"MOVIE\",\"MOVIE\",\"MOVIE\",\"MOVIE\",\"MOVIE\",\"MOVIE\",\"MOVIE\",\"MOVIE\",\"MOVIE\",\"MOVIE\",\"MOVIE\",\"MOVIE\",\"MOVIE\",\"MOVIE\",\"MOVIE\",\"MOVIE\",\"MOVIE\",\"MOVIE\",\"MOVIE\",\"MOVIE\",\"MOVIE\",\"MOVIE\",\"MOVIE\",\"MOVIE\",\"MOVIE\",\"MOVIE\",\"MOVIE\",\"MOVIE\",\"MOVIE\",\"MOVIE\",\"MOVIE\",\"MOVIE\",\"MOVIE\",\"MOVIE\",\"MOVIE\",\"MOVIE\",\"MOVIE\",\"MOVIE\",\"MOVIE\",\"MOVIE\",\"MOVIE\",\"MOVIE\",\"MOVIE\",\"MOVIE\",\"MOVIE\",\"MOVIE\",\"MOVIE\",\"MOVIE\",\"MOVIE\",\"MOVIE\",\"MOVIE\",\"MOVIE\",\"MOVIE\",\"MOVIE\",\"MOVIE\",\"MOVIE\",\"MOVIE\",\"MOVIE\",\"MOVIE\",\"MOVIE\",\"MOVIE\",\"MOVIE\",\"MOVIE\",\"MOVIE\",\"MOVIE\",\"MOVIE\",\"MOVIE\",\"MOVIE\",\"MOVIE\",\"MOVIE\",\"MOVIE\",\"MOVIE\",\"MOVIE\",\"MOVIE\",\"MOVIE\",\"MOVIE\",\"MOVIE\",\"MOVIE\",\"MOVIE\",\"MOVIE\",\"MOVIE\",\"MOVIE\",\"MOVIE\",\"MOVIE\",\"MOVIE\",\"MOVIE\",\"MOVIE\",\"MOVIE\",\"MOVIE\",\"MOVIE\",\"MOVIE\",\"MOVIE\",\"MOVIE\",\"MOVIE\",\"MOVIE\",\"MOVIE\",\"MOVIE\",\"MOVIE\",\"MOVIE\",\"MOVIE\",\"MOVIE\",\"MOVIE\",\"MOVIE\",\"MOVIE\",\"MOVIE\",\"MOVIE\",\"MOVIE\",\"MOVIE\",\"MOVIE\",\"MOVIE\",\"MOVIE\",\"MOVIE\",\"MOVIE\",\"MOVIE\",\"MOVIE\",\"MOVIE\",\"MOVIE\",\"MOVIE\",\"MOVIE\",\"MOVIE\",\"MOVIE\",\"MOVIE\",\"MOVIE\",\"MOVIE\",\"MOVIE\",\"MOVIE\",\"MOVIE\",\"MOVIE\",\"MOVIE\",\"MOVIE\",\"MOVIE\",\"MOVIE\",\"MOVIE\",\"MOVIE\",\"MOVIE\",\"MOVIE\",\"MOVIE\",\"MOVIE\",\"MOVIE\",\"MOVIE\",\"MOVIE\",\"MOVIE\",\"MOVIE\",\"MOVIE\",\"MOVIE\",\"MOVIE\",\"MOVIE\",\"MOVIE\",\"MOVIE\",\"MOVIE\",\"MOVIE\",\"MOVIE\",\"MOVIE\",\"MOVIE\",\"MOVIE\",\"MOVIE\",\"MOVIE\",\"MOVIE\",\"MOVIE\",\"MOVIE\",\"MOVIE\",\"MOVIE\",\"MOVIE\",\"MOVIE\",\"MOVIE\",\"MOVIE\",\"MOVIE\",\"MOVIE\",\"MOVIE\",\"MOVIE\",\"MOVIE\",\"MOVIE\",\"MOVIE\",\"MOVIE\",\"MOVIE\",\"MOVIE\",\"MOVIE\",\"MOVIE\",\"MOVIE\",\"MOVIE\",\"MOVIE\",\"MOVIE\",\"MOVIE\",\"MOVIE\",\"MOVIE\",\"MOVIE\",\"MOVIE\",\"MOVIE\",\"MOVIE\",\"MOVIE\",\"MOVIE\",\"MOVIE\",\"MOVIE\",\"MOVIE\",\"MOVIE\",\"MOVIE\",\"MOVIE\",\"MOVIE\",\"MOVIE\",\"MOVIE\",\"MOVIE\",\"MOVIE\",\"MOVIE\",\"MOVIE\",\"MOVIE\",\"MOVIE\",\"MOVIE\",\"MOVIE\",\"MOVIE\",\"MOVIE\",\"MOVIE\",\"MOVIE\",\"MOVIE\",\"MOVIE\",\"MOVIE\",\"MOVIE\",\"MOVIE\",\"MOVIE\",\"MOVIE\",\"MOVIE\",\"MOVIE\",\"MOVIE\",\"MOVIE\",\"MOVIE\",\"MOVIE\",\"MOVIE\",\"MOVIE\",\"MOVIE\",\"MOVIE\",\"MOVIE\",\"MOVIE\",\"MOVIE\",\"MOVIE\",\"MOVIE\",\"MOVIE\",\"MOVIE\",\"MOVIE\",\"MOVIE\",\"MOVIE\",\"MOVIE\",\"MOVIE\",\"MOVIE\",\"MOVIE\",\"MOVIE\",\"MOVIE\",\"MOVIE\",\"MOVIE\",\"MOVIE\",\"MOVIE\",\"MOVIE\",\"MOVIE\",\"MOVIE\",\"MOVIE\",\"MOVIE\",\"MOVIE\",\"MOVIE\",\"MOVIE\",\"MOVIE\",\"MOVIE\",\"MOVIE\",\"MOVIE\",\"MOVIE\",\"MOVIE\",\"MOVIE\",\"MOVIE\",\"MOVIE\",\"MOVIE\",\"MOVIE\",\"MOVIE\",\"MOVIE\",\"MOVIE\",\"MOVIE\",\"MOVIE\",\"MOVIE\",\"MOVIE\",\"MOVIE\",\"MOVIE\",\"MOVIE\",\"MOVIE\",\"MOVIE\",\"MOVIE\",\"MOVIE\",\"MOVIE\",\"MOVIE\",\"MOVIE\",\"MOVIE\",\"MOVIE\",\"MOVIE\",\"MOVIE\",\"MOVIE\",\"MOVIE\",\"MOVIE\",\"MOVIE\",\"MOVIE\",\"MOVIE\",\"MOVIE\",\"MOVIE\",\"MOVIE\",\"MOVIE\",\"MOVIE\",\"MOVIE\",\"MOVIE\",\"MOVIE\",\"MOVIE\",\"MOVIE\",\"MOVIE\",\"MOVIE\",\"MOVIE\",\"MOVIE\",\"MOVIE\",\"MOVIE\",\"MOVIE\",\"MOVIE\",\"MOVIE\",\"MOVIE\",\"MOVIE\",\"MOVIE\",\"MOVIE\",\"MOVIE\",\"MOVIE\",\"MOVIE\",\"MOVIE\",\"MOVIE\",\"MOVIE\",\"MOVIE\",\"MOVIE\",\"MOVIE\",\"MOVIE\",\"MOVIE\",\"MOVIE\",\"MOVIE\",\"MOVIE\",\"MOVIE\",\"MOVIE\",\"MOVIE\",\"MOVIE\",\"MOVIE\",\"MOVIE\",\"MOVIE\",\"MOVIE\",\"MOVIE\",\"MOVIE\",\"MOVIE\",\"MOVIE\",\"MOVIE\",\"MOVIE\",\"MOVIE\",\"MOVIE\",\"MOVIE\",\"MOVIE\",\"MOVIE\",\"MOVIE\",\"MOVIE\",\"MOVIE\",\"MOVIE\",\"MOVIE\",\"MOVIE\",\"MOVIE\",\"MOVIE\",\"MOVIE\",\"MOVIE\",\"MOVIE\",\"MOVIE\",\"MOVIE\",\"MOVIE\",\"MOVIE\",\"MOVIE\",\"MOVIE\",\"MOVIE\",\"MOVIE\",\"MOVIE\",\"MOVIE\",\"MOVIE\",\"MOVIE\",\"MOVIE\",\"MOVIE\",\"MOVIE\",\"MOVIE\",\"MOVIE\",\"MOVIE\",\"MOVIE\",\"MOVIE\",\"MOVIE\",\"MOVIE\",\"MOVIE\",\"MOVIE\",\"MOVIE\",\"MOVIE\",\"MOVIE\",\"MOVIE\",\"MOVIE\",\"MOVIE\",\"MOVIE\",\"MOVIE\",\"MOVIE\",\"MOVIE\",\"MOVIE\",\"MOVIE\",\"MOVIE\",\"MOVIE\",\"MOVIE\",\"MOVIE\",\"MOVIE\",\"MOVIE\",\"MOVIE\",\"MOVIE\",\"MOVIE\",\"MOVIE\",\"MOVIE\",\"MOVIE\",\"MOVIE\",\"MOVIE\",\"MOVIE\",\"MOVIE\",\"MOVIE\",\"MOVIE\",\"MOVIE\",\"MOVIE\",\"MOVIE\",\"MOVIE\",\"MOVIE\",\"MOVIE\",\"MOVIE\",\"MOVIE\",\"MOVIE\",\"MOVIE\",\"MOVIE\",\"MOVIE\",\"MOVIE\",\"MOVIE\",\"MOVIE\",\"MOVIE\",\"MOVIE\",\"MOVIE\",\"MOVIE\",\"MOVIE\",\"MOVIE\",\"MOVIE\",\"MOVIE\",\"MOVIE\",\"MOVIE\",\"MOVIE\",\"MOVIE\",\"MOVIE\",\"MOVIE\",\"MOVIE\",\"MOVIE\",\"MOVIE\",\"MOVIE\",\"MOVIE\",\"MOVIE\",\"MOVIE\",\"MOVIE\",\"MOVIE\",\"MOVIE\",\"MOVIE\",\"MOVIE\",\"MOVIE\",\"MOVIE\",\"MOVIE\",\"MOVIE\",\"MOVIE\",\"MOVIE\",\"MOVIE\",\"MOVIE\",\"MOVIE\",\"MOVIE\",\"MOVIE\",\"MOVIE\",\"MOVIE\",\"MOVIE\",\"MOVIE\",\"MOVIE\",\"MOVIE\",\"MOVIE\",\"MOVIE\",\"MOVIE\",\"MOVIE\",\"MOVIE\",\"MOVIE\",\"MOVIE\",\"MOVIE\",\"MOVIE\",\"MOVIE\",\"MOVIE\",\"MOVIE\",\"MOVIE\",\"MOVIE\",\"MOVIE\",\"MOVIE\",\"MOVIE\",\"MOVIE\",\"MOVIE\",\"MOVIE\",\"MOVIE\",\"MOVIE\",\"MOVIE\",\"MOVIE\",\"MOVIE\",\"MOVIE\",\"MOVIE\",\"MOVIE\",\"MOVIE\",\"MOVIE\",\"MOVIE\",\"MOVIE\",\"MOVIE\",\"MOVIE\",\"MOVIE\",\"MOVIE\",\"MOVIE\",\"MOVIE\",\"MOVIE\",\"MOVIE\",\"MOVIE\",\"MOVIE\",\"MOVIE\",\"MOVIE\",\"MOVIE\",\"MOVIE\",\"MOVIE\",\"MOVIE\",\"MOVIE\",\"MOVIE\",\"MOVIE\",\"MOVIE\",\"MOVIE\",\"MOVIE\",\"MOVIE\",\"MOVIE\",\"MOVIE\",\"MOVIE\",\"MOVIE\",\"MOVIE\",\"MOVIE\",\"MOVIE\",\"MOVIE\",\"MOVIE\",\"MOVIE\",\"MOVIE\",\"MOVIE\",\"MOVIE\",\"MOVIE\",\"MOVIE\",\"MOVIE\",\"MOVIE\",\"MOVIE\",\"MOVIE\",\"MOVIE\",\"MOVIE\",\"MOVIE\",\"MOVIE\",\"MOVIE\",\"MOVIE\",\"MOVIE\",\"MOVIE\",\"MOVIE\",\"MOVIE\",\"MOVIE\",\"MOVIE\",\"MOVIE\",\"MOVIE\",\"MOVIE\",\"MOVIE\",\"MOVIE\",\"MOVIE\",\"MOVIE\",\"MOVIE\",\"MOVIE\",\"MOVIE\",\"MOVIE\",\"MOVIE\",\"MOVIE\",\"MOVIE\",\"MOVIE\",\"MOVIE\",\"MOVIE\",\"MOVIE\",\"MOVIE\",\"MOVIE\",\"MOVIE\",\"MOVIE\",\"MOVIE\",\"MOVIE\",\"MOVIE\",\"MOVIE\",\"MOVIE\",\"MOVIE\",\"MOVIE\",\"MOVIE\",\"MOVIE\",\"MOVIE\",\"MOVIE\",\"MOVIE\",\"MOVIE\",\"MOVIE\",\"MOVIE\",\"MOVIE\",\"MOVIE\",\"MOVIE\",\"MOVIE\",\"MOVIE\",\"MOVIE\",\"MOVIE\",\"MOVIE\",\"MOVIE\",\"MOVIE\",\"MOVIE\",\"MOVIE\",\"MOVIE\",\"MOVIE\",\"MOVIE\",\"MOVIE\",\"MOVIE\",\"MOVIE\",\"MOVIE\",\"MOVIE\",\"MOVIE\",\"MOVIE\",\"MOVIE\",\"MOVIE\",\"MOVIE\",\"MOVIE\",\"MOVIE\",\"MOVIE\",\"MOVIE\",\"MOVIE\",\"MOVIE\",\"MOVIE\",\"MOVIE\",\"MOVIE\",\"MOVIE\",\"MOVIE\",\"MOVIE\",\"MOVIE\",\"MOVIE\",\"MOVIE\",\"MOVIE\",\"MOVIE\",\"MOVIE\",\"MOVIE\",\"MOVIE\",\"MOVIE\",\"MOVIE\",\"MOVIE\",\"MOVIE\",\"MOVIE\",\"MOVIE\",\"MOVIE\",\"MOVIE\",\"MOVIE\",\"MOVIE\",\"MOVIE\",\"MOVIE\",\"MOVIE\",\"MOVIE\",\"MOVIE\",\"MOVIE\",\"MOVIE\",\"MOVIE\",\"MOVIE\",\"MOVIE\",\"MOVIE\",\"MOVIE\",\"MOVIE\",\"MOVIE\",\"MOVIE\",\"MOVIE\",\"MOVIE\",\"MOVIE\",\"MOVIE\",\"MOVIE\",\"MOVIE\",\"MOVIE\",\"MOVIE\",\"MOVIE\",\"MOVIE\",\"MOVIE\",\"MOVIE\",\"MOVIE\",\"MOVIE\",\"MOVIE\",\"MOVIE\",\"MOVIE\",\"MOVIE\",\"MOVIE\",\"MOVIE\",\"MOVIE\",\"MOVIE\",\"MOVIE\",\"MOVIE\",\"MOVIE\",\"MOVIE\",\"MOVIE\",\"MOVIE\",\"MOVIE\",\"MOVIE\",\"MOVIE\",\"MOVIE\",\"MOVIE\",\"MOVIE\",\"MOVIE\",\"MOVIE\",\"MOVIE\",\"MOVIE\",\"MOVIE\",\"MOVIE\",\"MOVIE\",\"MOVIE\",\"MOVIE\",\"MOVIE\",\"MOVIE\",\"MOVIE\",\"MOVIE\",\"MOVIE\",\"MOVIE\",\"MOVIE\",\"MOVIE\",\"MOVIE\",\"MOVIE\",\"MOVIE\",\"MOVIE\",\"MOVIE\",\"MOVIE\",\"MOVIE\",\"MOVIE\",\"MOVIE\",\"MOVIE\",\"MOVIE\",\"MOVIE\",\"MOVIE\",\"MOVIE\",\"MOVIE\",\"MOVIE\",\"MOVIE\",\"MOVIE\",\"MOVIE\",\"MOVIE\",\"MOVIE\",\"MOVIE\",\"MOVIE\",\"MOVIE\",\"MOVIE\",\"MOVIE\",\"MOVIE\",\"MOVIE\",\"MOVIE\",\"MOVIE\",\"MOVIE\",\"MOVIE\",\"MOVIE\",\"MOVIE\",\"MOVIE\",\"MOVIE\",\"MOVIE\",\"MOVIE\",\"MOVIE\",\"MOVIE\",\"MOVIE\",\"MOVIE\",\"MOVIE\",\"MOVIE\",\"MOVIE\",\"MOVIE\",\"MOVIE\",\"MOVIE\",\"MOVIE\",\"MOVIE\",\"MOVIE\",\"MOVIE\",\"MOVIE\",\"MOVIE\",\"MOVIE\",\"MOVIE\",\"MOVIE\",\"MOVIE\",\"MOVIE\",\"MOVIE\",\"MOVIE\",\"MOVIE\",\"MOVIE\",\"MOVIE\",\"MOVIE\",\"MOVIE\",\"MOVIE\",\"MOVIE\",\"MOVIE\",\"MOVIE\",\"MOVIE\",\"MOVIE\",\"MOVIE\",\"MOVIE\",\"MOVIE\",\"MOVIE\",\"MOVIE\",\"MOVIE\",\"MOVIE\",\"MOVIE\",\"MOVIE\",\"MOVIE\",\"MOVIE\",\"MOVIE\",\"MOVIE\",\"MOVIE\",\"MOVIE\",\"MOVIE\",\"MOVIE\",\"MOVIE\",\"MOVIE\",\"MOVIE\",\"MOVIE\",\"MOVIE\",\"MOVIE\",\"MOVIE\",\"MOVIE\",\"MOVIE\",\"MOVIE\",\"MOVIE\",\"MOVIE\",\"MOVIE\",\"MOVIE\",\"MOVIE\",\"MOVIE\",\"MOVIE\",\"MOVIE\",\"MOVIE\",\"MOVIE\",\"MOVIE\",\"MOVIE\",\"MOVIE\",\"MOVIE\",\"MOVIE\",\"MOVIE\",\"MOVIE\",\"MOVIE\",\"MOVIE\",\"MOVIE\",\"MOVIE\",\"MOVIE\",\"MOVIE\",\"MOVIE\",\"MOVIE\",\"MOVIE\",\"MOVIE\",\"MOVIE\",\"MOVIE\",\"MOVIE\",\"MOVIE\",\"MOVIE\",\"MOVIE\",\"MOVIE\",\"MOVIE\",\"MOVIE\",\"MOVIE\",\"MOVIE\",\"MOVIE\",\"MOVIE\",\"MOVIE\",\"MOVIE\",\"MOVIE\",\"MOVIE\",\"MOVIE\",\"MOVIE\",\"MOVIE\",\"MOVIE\",\"MOVIE\",\"MOVIE\",\"MOVIE\",\"MOVIE\",\"MOVIE\",\"MOVIE\",\"MOVIE\",\"MOVIE\",\"MOVIE\",\"MOVIE\",\"MOVIE\",\"MOVIE\",\"MOVIE\",\"MOVIE\",\"MOVIE\",\"MOVIE\",\"MOVIE\",\"MOVIE\",\"MOVIE\",\"MOVIE\",\"MOVIE\",\"MOVIE\",\"MOVIE\",\"MOVIE\",\"MOVIE\",\"MOVIE\",\"MOVIE\",\"MOVIE\",\"MOVIE\",\"MOVIE\",\"MOVIE\",\"MOVIE\",\"MOVIE\",\"MOVIE\",\"MOVIE\",\"MOVIE\",\"MOVIE\",\"MOVIE\",\"MOVIE\",\"MOVIE\",\"MOVIE\",\"MOVIE\",\"MOVIE\",\"MOVIE\",\"MOVIE\",\"MOVIE\",\"MOVIE\",\"MOVIE\",\"MOVIE\",\"MOVIE\",\"MOVIE\",\"MOVIE\",\"MOVIE\",\"MOVIE\",\"MOVIE\",\"MOVIE\",\"MOVIE\",\"MOVIE\",\"MOVIE\",\"MOVIE\",\"MOVIE\",\"MOVIE\",\"MOVIE\",\"MOVIE\",\"MOVIE\",\"MOVIE\",\"MOVIE\",\"MOVIE\",\"MOVIE\",\"MOVIE\",\"MOVIE\",\"MOVIE\",\"MOVIE\",\"MOVIE\",\"MOVIE\",\"MOVIE\",\"MOVIE\",\"MOVIE\",\"MOVIE\",\"MOVIE\",\"MOVIE\",\"MOVIE\",\"MOVIE\",\"MOVIE\",\"MOVIE\",\"MOVIE\",\"MOVIE\",\"MOVIE\",\"MOVIE\",\"MOVIE\",\"MOVIE\",\"MOVIE\",\"MOVIE\",\"MOVIE\",\"MOVIE\",\"MOVIE\",\"MOVIE\",\"MOVIE\",\"MOVIE\",\"MOVIE\",\"MOVIE\",\"MOVIE\",\"MOVIE\",\"MOVIE\",\"MOVIE\",\"MOVIE\",\"MOVIE\",\"MOVIE\",\"MOVIE\",\"MOVIE\",\"MOVIE\",\"MOVIE\",\"MOVIE\",\"MOVIE\",\"MOVIE\",\"MOVIE\",\"MOVIE\",\"MOVIE\",\"MOVIE\",\"MOVIE\",\"MOVIE\",\"MOVIE\",\"MOVIE\",\"MOVIE\",\"MOVIE\",\"MOVIE\",\"MOVIE\",\"MOVIE\",\"MOVIE\",\"MOVIE\",\"MOVIE\",\"MOVIE\",\"MOVIE\",\"MOVIE\",\"MOVIE\",\"MOVIE\",\"MOVIE\",\"MOVIE\",\"MOVIE\",\"MOVIE\",\"MOVIE\",\"MOVIE\",\"MOVIE\",\"MOVIE\",\"MOVIE\",\"MOVIE\",\"MOVIE\",\"MOVIE\",\"MOVIE\",\"MOVIE\",\"MOVIE\",\"MOVIE\",\"MOVIE\",\"MOVIE\",\"MOVIE\",\"MOVIE\",\"MOVIE\",\"MOVIE\",\"MOVIE\",\"MOVIE\",\"MOVIE\",\"MOVIE\",\"MOVIE\",\"MOVIE\",\"MOVIE\",\"MOVIE\",\"MOVIE\",\"MOVIE\",\"MOVIE\",\"MOVIE\",\"MOVIE\",\"MOVIE\",\"MOVIE\",\"MOVIE\",\"MOVIE\",\"MOVIE\",\"MOVIE\",\"MOVIE\",\"MOVIE\",\"MOVIE\",\"MOVIE\",\"MOVIE\",\"MOVIE\",\"MOVIE\",\"MOVIE\",\"MOVIE\",\"MOVIE\",\"MOVIE\",\"MOVIE\",\"MOVIE\",\"MOVIE\",\"MOVIE\",\"MOVIE\",\"MOVIE\",\"MOVIE\",\"MOVIE\",\"MOVIE\",\"MOVIE\",\"MOVIE\",\"MOVIE\",\"MOVIE\",\"MOVIE\",\"MOVIE\",\"MOVIE\",\"MOVIE\",\"MOVIE\",\"MOVIE\",\"MOVIE\",\"MOVIE\",\"MOVIE\",\"MOVIE\",\"MOVIE\",\"MOVIE\",\"MOVIE\",\"MOVIE\",\"MOVIE\",\"MOVIE\",\"MOVIE\",\"MOVIE\",\"MOVIE\",\"MOVIE\",\"MOVIE\",\"MOVIE\",\"MOVIE\",\"MOVIE\",\"MOVIE\",\"MOVIE\",\"MOVIE\",\"MOVIE\",\"MOVIE\",\"MOVIE\",\"MOVIE\",\"MOVIE\",\"MOVIE\",\"MOVIE\",\"MOVIE\",\"MOVIE\",\"MOVIE\",\"MOVIE\",\"MOVIE\",\"MOVIE\",\"MOVIE\",\"MOVIE\",\"MOVIE\",\"MOVIE\",\"MOVIE\",\"MOVIE\",\"MOVIE\",\"MOVIE\",\"MOVIE\",\"MOVIE\",\"MOVIE\",\"MOVIE\",\"MOVIE\",\"MOVIE\",\"MOVIE\",\"MOVIE\",\"MOVIE\",\"MOVIE\",\"MOVIE\",\"MOVIE\",\"MOVIE\",\"MOVIE\",\"MOVIE\",\"MOVIE\",\"MOVIE\",\"MOVIE\",\"MOVIE\",\"MOVIE\",\"MOVIE\",\"MOVIE\",\"MOVIE\",\"MOVIE\",\"MOVIE\",\"MOVIE\",\"MOVIE\",\"MOVIE\",\"MOVIE\",\"MOVIE\",\"MOVIE\",\"MOVIE\",\"MOVIE\",\"MOVIE\",\"MOVIE\",\"MOVIE\",\"MOVIE\",\"MOVIE\",\"MOVIE\",\"MOVIE\",\"MOVIE\",\"MOVIE\",\"MOVIE\",\"MOVIE\",\"MOVIE\",\"MOVIE\",\"MOVIE\",\"MOVIE\",\"MOVIE\",\"MOVIE\",\"MOVIE\",\"MOVIE\",\"MOVIE\",\"MOVIE\",\"MOVIE\",\"MOVIE\",\"MOVIE\",\"MOVIE\",\"MOVIE\",\"MOVIE\",\"MOVIE\",\"MOVIE\",\"MOVIE\",\"MOVIE\",\"MOVIE\",\"MOVIE\",\"MOVIE\",\"MOVIE\",\"MOVIE\",\"MOVIE\",\"MOVIE\",\"MOVIE\",\"MOVIE\",\"MOVIE\",\"MOVIE\",\"MOVIE\",\"MOVIE\",\"MOVIE\",\"MOVIE\",\"MOVIE\",\"MOVIE\",\"MOVIE\",\"MOVIE\",\"MOVIE\",\"MOVIE\",\"MOVIE\",\"MOVIE\",\"MOVIE\",\"MOVIE\",\"MOVIE\",\"MOVIE\",\"MOVIE\",\"MOVIE\",\"MOVIE\",\"MOVIE\",\"MOVIE\",\"MOVIE\",\"MOVIE\",\"MOVIE\",\"MOVIE\",\"MOVIE\",\"MOVIE\",\"MOVIE\",\"MOVIE\",\"MOVIE\",\"MOVIE\",\"MOVIE\",\"MOVIE\",\"MOVIE\",\"MOVIE\",\"MOVIE\",\"MOVIE\",\"MOVIE\",\"MOVIE\",\"MOVIE\",\"MOVIE\",\"MOVIE\",\"MOVIE\",\"MOVIE\",\"MOVIE\",\"MOVIE\",\"MOVIE\",\"MOVIE\",\"MOVIE\",\"MOVIE\",\"MOVIE\",\"MOVIE\",\"MOVIE\",\"MOVIE\",\"MOVIE\",\"MOVIE\",\"MOVIE\",\"MOVIE\",\"MOVIE\",\"MOVIE\",\"MOVIE\",\"MOVIE\",\"MOVIE\",\"MOVIE\",\"MOVIE\",\"MOVIE\",\"MOVIE\",\"MOVIE\",\"MOVIE\",\"MOVIE\",\"MOVIE\",\"MOVIE\",\"MOVIE\",\"MOVIE\",\"MOVIE\",\"MOVIE\",\"MOVIE\",\"MOVIE\",\"MOVIE\",\"MOVIE\",\"MOVIE\",\"MOVIE\",\"MOVIE\",\"MOVIE\",\"MOVIE\",\"MOVIE\",\"MOVIE\",\"MOVIE\",\"MOVIE\",\"MOVIE\",\"MOVIE\",\"MOVIE\",\"MOVIE\",\"MOVIE\",\"MOVIE\",\"MOVIE\",\"MOVIE\",\"MOVIE\",\"MOVIE\",\"MOVIE\",\"MOVIE\",\"MOVIE\",\"MOVIE\",\"MOVIE\",\"MOVIE\",\"MOVIE\",\"MOVIE\",\"MOVIE\",\"MOVIE\",\"MOVIE\",\"MOVIE\",\"MOVIE\",\"MOVIE\",\"MOVIE\",\"MOVIE\",\"MOVIE\",\"MOVIE\",\"MOVIE\",\"MOVIE\",\"MOVIE\",\"MOVIE\",\"MOVIE\",\"MOVIE\",\"MOVIE\",\"MOVIE\",\"MOVIE\",\"MOVIE\",\"MOVIE\",\"MOVIE\",\"MOVIE\",\"MOVIE\",\"MOVIE\",\"MOVIE\",\"MOVIE\",\"MOVIE\",\"MOVIE\",\"MOVIE\",\"MOVIE\",\"MOVIE\",\"MOVIE\",\"MOVIE\",\"MOVIE\",\"MOVIE\",\"MOVIE\",\"MOVIE\",\"MOVIE\",\"MOVIE\",\"MOVIE\",\"MOVIE\",\"MOVIE\",\"MOVIE\",\"MOVIE\",\"MOVIE\",\"MOVIE\",\"MOVIE\",\"MOVIE\",\"MOVIE\",\"MOVIE\",\"MOVIE\",\"MOVIE\",\"MOVIE\",\"MOVIE\",\"MOVIE\",\"MOVIE\",\"MOVIE\",\"MOVIE\",\"MOVIE\",\"MOVIE\",\"MOVIE\",\"MOVIE\",\"MOVIE\",\"MOVIE\",\"MOVIE\",\"MOVIE\",\"MOVIE\",\"MOVIE\",\"MOVIE\",\"MOVIE\",\"MOVIE\",\"MOVIE\",\"MOVIE\",\"MOVIE\",\"MOVIE\",\"MOVIE\",\"MOVIE\",\"MOVIE\",\"MOVIE\",\"MOVIE\",\"MOVIE\",\"MOVIE\",\"MOVIE\",\"MOVIE\",\"MOVIE\",\"MOVIE\",\"MOVIE\",\"MOVIE\",\"MOVIE\",\"MOVIE\",\"MOVIE\",\"MOVIE\",\"MOVIE\",\"MOVIE\",\"MOVIE\",\"MOVIE\",\"MOVIE\",\"MOVIE\",\"MOVIE\",\"MOVIE\",\"MOVIE\",\"MOVIE\",\"MOVIE\",\"MOVIE\",\"MOVIE\",\"MOVIE\",\"MOVIE\",\"MOVIE\",\"MOVIE\",\"MOVIE\",\"MOVIE\",\"MOVIE\",\"MOVIE\",\"MOVIE\",\"MOVIE\",\"MOVIE\",\"MOVIE\",\"MOVIE\",\"MOVIE\",\"MOVIE\",\"MOVIE\",\"MOVIE\",\"MOVIE\",\"MOVIE\",\"MOVIE\",\"MOVIE\",\"MOVIE\",\"MOVIE\",\"MOVIE\",\"MOVIE\",\"MOVIE\",\"MOVIE\",\"MOVIE\",\"MOVIE\",\"MOVIE\",\"MOVIE\",\"MOVIE\",\"MOVIE\",\"MOVIE\",\"MOVIE\",\"MOVIE\",\"MOVIE\",\"MOVIE\",\"MOVIE\",\"MOVIE\",\"MOVIE\",\"MOVIE\",\"MOVIE\",\"MOVIE\",\"MOVIE\",\"MOVIE\",\"MOVIE\",\"MOVIE\",\"MOVIE\",\"MOVIE\",\"MOVIE\",\"MOVIE\",\"MOVIE\",\"MOVIE\",\"MOVIE\",\"MOVIE\",\"MOVIE\",\"MOVIE\",\"MOVIE\",\"MOVIE\",\"MOVIE\",\"MOVIE\",\"MOVIE\",\"MOVIE\",\"MOVIE\",\"MOVIE\",\"MOVIE\",\"MOVIE\",\"MOVIE\",\"MOVIE\",\"MOVIE\",\"MOVIE\",\"MOVIE\",\"MOVIE\",\"MOVIE\",\"MOVIE\",\"MOVIE\",\"MOVIE\",\"MOVIE\",\"MOVIE\",\"MOVIE\",\"MOVIE\",\"MOVIE\",\"MOVIE\",\"MOVIE\",\"MOVIE\",\"MOVIE\",\"MOVIE\",\"MOVIE\",\"MOVIE\",\"MOVIE\",\"MOVIE\",\"MOVIE\",\"MOVIE\",\"MOVIE\",\"MOVIE\",\"MOVIE\",\"MOVIE\",\"MOVIE\",\"MOVIE\",\"MOVIE\",\"MOVIE\",\"MOVIE\",\"MOVIE\",\"MOVIE\",\"MOVIE\",\"MOVIE\",\"MOVIE\",\"MOVIE\",\"MOVIE\",\"MOVIE\",\"MOVIE\",\"MOVIE\",\"MOVIE\",\"MOVIE\",\"MOVIE\",\"MOVIE\",\"MOVIE\",\"MOVIE\",\"MOVIE\",\"MOVIE\",\"MOVIE\",\"MOVIE\",\"MOVIE\",\"MOVIE\",\"MOVIE\",\"MOVIE\",\"MOVIE\",\"MOVIE\",\"MOVIE\",\"MOVIE\",\"MOVIE\",\"MOVIE\",\"MOVIE\",\"MOVIE\",\"MOVIE\",\"MOVIE\",\"MOVIE\",\"MOVIE\",\"MOVIE\",\"MOVIE\",\"MOVIE\",\"MOVIE\",\"MOVIE\",\"MOVIE\",\"MOVIE\",\"MOVIE\",\"MOVIE\",\"MOVIE\",\"MOVIE\",\"MOVIE\",\"MOVIE\",\"MOVIE\",\"MOVIE\",\"MOVIE\",\"MOVIE\",\"MOVIE\",\"MOVIE\",\"MOVIE\",\"MOVIE\",\"MOVIE\",\"MOVIE\",\"MOVIE\",\"MOVIE\",\"MOVIE\",\"MOVIE\",\"MOVIE\",\"MOVIE\",\"MOVIE\",\"MOVIE\",\"MOVIE\",\"MOVIE\",\"MOVIE\",\"MOVIE\",\"MOVIE\",\"MOVIE\",\"MOVIE\",\"MOVIE\",\"MOVIE\",\"MOVIE\",\"MOVIE\",\"MOVIE\",\"MOVIE\",\"MOVIE\",\"MOVIE\",\"MOVIE\",\"MOVIE\",\"MOVIE\",\"MOVIE\",\"MOVIE\",\"MOVIE\",\"MOVIE\",\"MOVIE\",\"MOVIE\",\"MOVIE\",\"MOVIE\",\"MOVIE\",\"MOVIE\",\"MOVIE\",\"MOVIE\",\"MOVIE\",\"MOVIE\",\"MOVIE\",\"MOVIE\",\"MOVIE\",\"MOVIE\",\"MOVIE\",\"MOVIE\",\"MOVIE\",\"MOVIE\",\"MOVIE\",\"MOVIE\",\"MOVIE\",\"MOVIE\",\"MOVIE\",\"MOVIE\",\"MOVIE\",\"MOVIE\",\"MOVIE\",\"MOVIE\",\"MOVIE\",\"MOVIE\",\"MOVIE\",\"MOVIE\",\"MOVIE\",\"MOVIE\",\"MOVIE\",\"MOVIE\",\"MOVIE\",\"MOVIE\",\"MOVIE\",\"MOVIE\",\"MOVIE\",\"MOVIE\",\"MOVIE\",\"MOVIE\",\"MOVIE\",\"MOVIE\",\"MOVIE\",\"MOVIE\",\"MOVIE\",\"MOVIE\",\"MOVIE\",\"MOVIE\",\"MOVIE\",\"MOVIE\",\"MOVIE\",\"MOVIE\",\"MOVIE\",\"MOVIE\",\"MOVIE\",\"MOVIE\",\"MOVIE\",\"MOVIE\",\"MOVIE\",\"MOVIE\",\"MOVIE\",\"MOVIE\",\"MOVIE\",\"MOVIE\",\"MOVIE\",\"MOVIE\",\"MOVIE\",\"MOVIE\",\"MOVIE\",\"MOVIE\",\"MOVIE\",\"MOVIE\",\"MOVIE\",\"MOVIE\",\"MOVIE\",\"MOVIE\",\"MOVIE\",\"MOVIE\",\"MOVIE\",\"MOVIE\",\"MOVIE\",\"MOVIE\",\"MOVIE\",\"MOVIE\",\"MOVIE\",\"MOVIE\",\"MOVIE\",\"MOVIE\",\"MOVIE\",\"MOVIE\",\"MOVIE\",\"MOVIE\",\"MOVIE\",\"MOVIE\",\"MOVIE\",\"MOVIE\",\"MOVIE\",\"MOVIE\",\"MOVIE\",\"MOVIE\",\"MOVIE\",\"MOVIE\",\"MOVIE\",\"MOVIE\",\"MOVIE\",\"MOVIE\",\"MOVIE\",\"MOVIE\",\"MOVIE\",\"MOVIE\",\"MOVIE\",\"MOVIE\",\"MOVIE\",\"MOVIE\",\"MOVIE\",\"MOVIE\",\"MOVIE\",\"MOVIE\",\"MOVIE\",\"MOVIE\",\"MOVIE\",\"MOVIE\",\"MOVIE\",\"MOVIE\",\"MOVIE\",\"MOVIE\",\"MOVIE\",\"MOVIE\",\"MOVIE\",\"MOVIE\",\"MOVIE\",\"MOVIE\",\"MOVIE\",\"MOVIE\",\"MOVIE\",\"MOVIE\",\"MOVIE\",\"MOVIE\",\"MOVIE\",\"MOVIE\",\"MOVIE\",\"MOVIE\",\"MOVIE\",\"MOVIE\",\"MOVIE\",\"MOVIE\",\"MOVIE\",\"MOVIE\",\"MOVIE\",\"MOVIE\",\"MOVIE\",\"MOVIE\",\"MOVIE\",\"MOVIE\",\"MOVIE\",\"MOVIE\",\"MOVIE\",\"MOVIE\",\"MOVIE\",\"MOVIE\",\"MOVIE\",\"MOVIE\",\"MOVIE\",\"MOVIE\",\"MOVIE\",\"MOVIE\",\"MOVIE\",\"MOVIE\",\"MOVIE\",\"MOVIE\",\"MOVIE\",\"MOVIE\",\"MOVIE\",\"MOVIE\",\"MOVIE\",\"MOVIE\",\"MOVIE\",\"MOVIE\",\"MOVIE\",\"MOVIE\",\"MOVIE\",\"MOVIE\",\"MOVIE\",\"MOVIE\",\"MOVIE\",\"MOVIE\",\"MOVIE\",\"MOVIE\",\"MOVIE\",\"MOVIE\",\"MOVIE\",\"MOVIE\",\"MOVIE\",\"MOVIE\",\"MOVIE\",\"MOVIE\",\"MOVIE\",\"MOVIE\",\"MOVIE\",\"MOVIE\",\"MOVIE\",\"MOVIE\",\"MOVIE\",\"MOVIE\",\"MOVIE\",\"MOVIE\",\"MOVIE\",\"MOVIE\",\"MOVIE\",\"MOVIE\",\"MOVIE\",\"MOVIE\",\"MOVIE\",\"MOVIE\",\"MOVIE\",\"MOVIE\",\"MOVIE\",\"MOVIE\",\"MOVIE\",\"MOVIE\",\"MOVIE\",\"MOVIE\",\"MOVIE\",\"MOVIE\",\"MOVIE\",\"MOVIE\",\"MOVIE\",\"MOVIE\",\"MOVIE\",\"MOVIE\",\"MOVIE\",\"MOVIE\",\"MOVIE\",\"MOVIE\",\"MOVIE\",\"MOVIE\",\"MOVIE\",\"MOVIE\",\"MOVIE\",\"MOVIE\",\"MOVIE\",\"MOVIE\",\"MOVIE\",\"MOVIE\",\"MOVIE\",\"MOVIE\",\"MOVIE\",\"MOVIE\",\"MOVIE\",\"MOVIE\",\"MOVIE\",\"MOVIE\",\"MOVIE\",\"MOVIE\",\"MOVIE\",\"MOVIE\",\"MOVIE\",\"MOVIE\",\"MOVIE\",\"MOVIE\",\"MOVIE\",\"MOVIE\",\"MOVIE\",\"MOVIE\",\"MOVIE\",\"MOVIE\",\"MOVIE\",\"MOVIE\",\"MOVIE\",\"MOVIE\",\"MOVIE\",\"MOVIE\",\"MOVIE\",\"MOVIE\",\"MOVIE\",\"MOVIE\",\"MOVIE\",\"MOVIE\",\"MOVIE\",\"MOVIE\",\"MOVIE\",\"MOVIE\",\"MOVIE\",\"MOVIE\",\"MOVIE\",\"MOVIE\",\"MOVIE\",\"MOVIE\",\"MOVIE\",\"MOVIE\",\"MOVIE\",\"MOVIE\",\"MOVIE\",\"MOVIE\",\"MOVIE\",\"MOVIE\",\"MOVIE\",\"MOVIE\",\"MOVIE\",\"MOVIE\",\"MOVIE\",\"MOVIE\",\"MOVIE\",\"MOVIE\",\"MOVIE\",\"MOVIE\",\"MOVIE\",\"MOVIE\",\"MOVIE\",\"MOVIE\",\"MOVIE\",\"MOVIE\",\"MOVIE\",\"MOVIE\",\"MOVIE\",\"MOVIE\",\"MOVIE\",\"MOVIE\",\"MOVIE\",\"MOVIE\",\"MOVIE\",\"MOVIE\",\"MOVIE\",\"MOVIE\",\"MOVIE\",\"MOVIE\",\"MOVIE\",\"MOVIE\",\"MOVIE\",\"MOVIE\",\"MOVIE\",\"MOVIE\",\"MOVIE\",\"MOVIE\",\"MOVIE\",\"MOVIE\",\"MOVIE\",\"MOVIE\",\"MOVIE\",\"MOVIE\",\"MOVIE\",\"MOVIE\",\"MOVIE\",\"MOVIE\",\"MOVIE\",\"MOVIE\",\"MOVIE\",\"MOVIE\",\"MOVIE\",\"MOVIE\",\"MOVIE\",\"MOVIE\",\"MOVIE\",\"MOVIE\",\"MOVIE\",\"MOVIE\",\"MOVIE\",\"MOVIE\",\"MOVIE\",\"MOVIE\",\"MOVIE\",\"MOVIE\",\"MOVIE\",\"MOVIE\",\"MOVIE\",\"MOVIE\",\"MOVIE\",\"MOVIE\",\"MOVIE\",\"MOVIE\",\"MOVIE\",\"MOVIE\",\"MOVIE\",\"MOVIE\",\"MOVIE\",\"MOVIE\",\"MOVIE\",\"MOVIE\",\"MOVIE\",\"MOVIE\",\"MOVIE\",\"MOVIE\",\"MOVIE\",\"MOVIE\",\"MOVIE\",\"MOVIE\",\"MOVIE\",\"MOVIE\",\"MOVIE\",\"MOVIE\",\"MOVIE\",\"MOVIE\",\"MOVIE\",\"MOVIE\",\"MOVIE\",\"MOVIE\",\"MOVIE\",\"MOVIE\",\"MOVIE\",\"MOVIE\",\"MOVIE\",\"MOVIE\",\"MOVIE\",\"MOVIE\",\"MOVIE\",\"MOVIE\",\"MOVIE\",\"MOVIE\",\"MOVIE\",\"MOVIE\",\"MOVIE\",\"MOVIE\",\"MOVIE\",\"MOVIE\",\"MOVIE\",\"MOVIE\",\"MOVIE\",\"MOVIE\",\"MOVIE\",\"MOVIE\",\"MOVIE\",\"MOVIE\",\"MOVIE\",\"MOVIE\",\"MOVIE\",\"MOVIE\",\"MOVIE\",\"MOVIE\",\"MOVIE\",\"MOVIE\",\"MOVIE\",\"MOVIE\",\"MOVIE\",\"MOVIE\",\"MOVIE\",\"MOVIE\",\"MOVIE\",\"MOVIE\",\"MOVIE\",\"MOVIE\",\"MOVIE\",\"MOVIE\",\"MOVIE\",\"MOVIE\",\"MOVIE\",\"MOVIE\",\"MOVIE\",\"MOVIE\",\"MOVIE\",\"MOVIE\",\"MOVIE\",\"MOVIE\",\"MOVIE\",\"MOVIE\",\"MOVIE\",\"MOVIE\",\"MOVIE\",\"MOVIE\",\"MOVIE\",\"MOVIE\",\"MOVIE\",\"MOVIE\",\"MOVIE\",\"MOVIE\",\"MOVIE\",\"MOVIE\",\"MOVIE\",\"MOVIE\",\"MOVIE\",\"MOVIE\",\"MOVIE\",\"MOVIE\",\"MOVIE\",\"MOVIE\",\"MOVIE\",\"MOVIE\",\"MOVIE\",\"MOVIE\",\"MOVIE\",\"MOVIE\",\"MOVIE\",\"MOVIE\",\"MOVIE\",\"MOVIE\",\"MOVIE\",\"MOVIE\",\"MOVIE\",\"MOVIE\"],\"xaxis\":\"x\",\"yaxis\":\"y\",\"type\":\"histogram\"}],                        {\"template\":{\"data\":{\"histogram2dcontour\":[{\"type\":\"histogram2dcontour\",\"colorbar\":{\"outlinewidth\":0,\"ticks\":\"\"},\"colorscale\":[[0.0,\"#0d0887\"],[0.1111111111111111,\"#46039f\"],[0.2222222222222222,\"#7201a8\"],[0.3333333333333333,\"#9c179e\"],[0.4444444444444444,\"#bd3786\"],[0.5555555555555556,\"#d8576b\"],[0.6666666666666666,\"#ed7953\"],[0.7777777777777778,\"#fb9f3a\"],[0.8888888888888888,\"#fdca26\"],[1.0,\"#f0f921\"]]}],\"choropleth\":[{\"type\":\"choropleth\",\"colorbar\":{\"outlinewidth\":0,\"ticks\":\"\"}}],\"histogram2d\":[{\"type\":\"histogram2d\",\"colorbar\":{\"outlinewidth\":0,\"ticks\":\"\"},\"colorscale\":[[0.0,\"#0d0887\"],[0.1111111111111111,\"#46039f\"],[0.2222222222222222,\"#7201a8\"],[0.3333333333333333,\"#9c179e\"],[0.4444444444444444,\"#bd3786\"],[0.5555555555555556,\"#d8576b\"],[0.6666666666666666,\"#ed7953\"],[0.7777777777777778,\"#fb9f3a\"],[0.8888888888888888,\"#fdca26\"],[1.0,\"#f0f921\"]]}],\"heatmap\":[{\"type\":\"heatmap\",\"colorbar\":{\"outlinewidth\":0,\"ticks\":\"\"},\"colorscale\":[[0.0,\"#0d0887\"],[0.1111111111111111,\"#46039f\"],[0.2222222222222222,\"#7201a8\"],[0.3333333333333333,\"#9c179e\"],[0.4444444444444444,\"#bd3786\"],[0.5555555555555556,\"#d8576b\"],[0.6666666666666666,\"#ed7953\"],[0.7777777777777778,\"#fb9f3a\"],[0.8888888888888888,\"#fdca26\"],[1.0,\"#f0f921\"]]}],\"heatmapgl\":[{\"type\":\"heatmapgl\",\"colorbar\":{\"outlinewidth\":0,\"ticks\":\"\"},\"colorscale\":[[0.0,\"#0d0887\"],[0.1111111111111111,\"#46039f\"],[0.2222222222222222,\"#7201a8\"],[0.3333333333333333,\"#9c179e\"],[0.4444444444444444,\"#bd3786\"],[0.5555555555555556,\"#d8576b\"],[0.6666666666666666,\"#ed7953\"],[0.7777777777777778,\"#fb9f3a\"],[0.8888888888888888,\"#fdca26\"],[1.0,\"#f0f921\"]]}],\"contourcarpet\":[{\"type\":\"contourcarpet\",\"colorbar\":{\"outlinewidth\":0,\"ticks\":\"\"}}],\"contour\":[{\"type\":\"contour\",\"colorbar\":{\"outlinewidth\":0,\"ticks\":\"\"},\"colorscale\":[[0.0,\"#0d0887\"],[0.1111111111111111,\"#46039f\"],[0.2222222222222222,\"#7201a8\"],[0.3333333333333333,\"#9c179e\"],[0.4444444444444444,\"#bd3786\"],[0.5555555555555556,\"#d8576b\"],[0.6666666666666666,\"#ed7953\"],[0.7777777777777778,\"#fb9f3a\"],[0.8888888888888888,\"#fdca26\"],[1.0,\"#f0f921\"]]}],\"surface\":[{\"type\":\"surface\",\"colorbar\":{\"outlinewidth\":0,\"ticks\":\"\"},\"colorscale\":[[0.0,\"#0d0887\"],[0.1111111111111111,\"#46039f\"],[0.2222222222222222,\"#7201a8\"],[0.3333333333333333,\"#9c179e\"],[0.4444444444444444,\"#bd3786\"],[0.5555555555555556,\"#d8576b\"],[0.6666666666666666,\"#ed7953\"],[0.7777777777777778,\"#fb9f3a\"],[0.8888888888888888,\"#fdca26\"],[1.0,\"#f0f921\"]]}],\"mesh3d\":[{\"type\":\"mesh3d\",\"colorbar\":{\"outlinewidth\":0,\"ticks\":\"\"}}],\"scatter\":[{\"fillpattern\":{\"fillmode\":\"overlay\",\"size\":10,\"solidity\":0.2},\"type\":\"scatter\"}],\"parcoords\":[{\"type\":\"parcoords\",\"line\":{\"colorbar\":{\"outlinewidth\":0,\"ticks\":\"\"}}}],\"scatterpolargl\":[{\"type\":\"scatterpolargl\",\"marker\":{\"colorbar\":{\"outlinewidth\":0,\"ticks\":\"\"}}}],\"bar\":[{\"error_x\":{\"color\":\"#2a3f5f\"},\"error_y\":{\"color\":\"#2a3f5f\"},\"marker\":{\"line\":{\"color\":\"#E5ECF6\",\"width\":0.5},\"pattern\":{\"fillmode\":\"overlay\",\"size\":10,\"solidity\":0.2}},\"type\":\"bar\"}],\"scattergeo\":[{\"type\":\"scattergeo\",\"marker\":{\"colorbar\":{\"outlinewidth\":0,\"ticks\":\"\"}}}],\"scatterpolar\":[{\"type\":\"scatterpolar\",\"marker\":{\"colorbar\":{\"outlinewidth\":0,\"ticks\":\"\"}}}],\"histogram\":[{\"marker\":{\"pattern\":{\"fillmode\":\"overlay\",\"size\":10,\"solidity\":0.2}},\"type\":\"histogram\"}],\"scattergl\":[{\"type\":\"scattergl\",\"marker\":{\"colorbar\":{\"outlinewidth\":0,\"ticks\":\"\"}}}],\"scatter3d\":[{\"type\":\"scatter3d\",\"line\":{\"colorbar\":{\"outlinewidth\":0,\"ticks\":\"\"}},\"marker\":{\"colorbar\":{\"outlinewidth\":0,\"ticks\":\"\"}}}],\"scattermapbox\":[{\"type\":\"scattermapbox\",\"marker\":{\"colorbar\":{\"outlinewidth\":0,\"ticks\":\"\"}}}],\"scatterternary\":[{\"type\":\"scatterternary\",\"marker\":{\"colorbar\":{\"outlinewidth\":0,\"ticks\":\"\"}}}],\"scattercarpet\":[{\"type\":\"scattercarpet\",\"marker\":{\"colorbar\":{\"outlinewidth\":0,\"ticks\":\"\"}}}],\"carpet\":[{\"aaxis\":{\"endlinecolor\":\"#2a3f5f\",\"gridcolor\":\"white\",\"linecolor\":\"white\",\"minorgridcolor\":\"white\",\"startlinecolor\":\"#2a3f5f\"},\"baxis\":{\"endlinecolor\":\"#2a3f5f\",\"gridcolor\":\"white\",\"linecolor\":\"white\",\"minorgridcolor\":\"white\",\"startlinecolor\":\"#2a3f5f\"},\"type\":\"carpet\"}],\"table\":[{\"cells\":{\"fill\":{\"color\":\"#EBF0F8\"},\"line\":{\"color\":\"white\"}},\"header\":{\"fill\":{\"color\":\"#C8D4E3\"},\"line\":{\"color\":\"white\"}},\"type\":\"table\"}],\"barpolar\":[{\"marker\":{\"line\":{\"color\":\"#E5ECF6\",\"width\":0.5},\"pattern\":{\"fillmode\":\"overlay\",\"size\":10,\"solidity\":0.2}},\"type\":\"barpolar\"}],\"pie\":[{\"automargin\":true,\"type\":\"pie\"}]},\"layout\":{\"autotypenumbers\":\"strict\",\"colorway\":[\"#636efa\",\"#EF553B\",\"#00cc96\",\"#ab63fa\",\"#FFA15A\",\"#19d3f3\",\"#FF6692\",\"#B6E880\",\"#FF97FF\",\"#FECB52\"],\"font\":{\"color\":\"#2a3f5f\"},\"hovermode\":\"closest\",\"hoverlabel\":{\"align\":\"left\"},\"paper_bgcolor\":\"white\",\"plot_bgcolor\":\"#E5ECF6\",\"polar\":{\"bgcolor\":\"#E5ECF6\",\"angularaxis\":{\"gridcolor\":\"white\",\"linecolor\":\"white\",\"ticks\":\"\"},\"radialaxis\":{\"gridcolor\":\"white\",\"linecolor\":\"white\",\"ticks\":\"\"}},\"ternary\":{\"bgcolor\":\"#E5ECF6\",\"aaxis\":{\"gridcolor\":\"white\",\"linecolor\":\"white\",\"ticks\":\"\"},\"baxis\":{\"gridcolor\":\"white\",\"linecolor\":\"white\",\"ticks\":\"\"},\"caxis\":{\"gridcolor\":\"white\",\"linecolor\":\"white\",\"ticks\":\"\"}},\"coloraxis\":{\"colorbar\":{\"outlinewidth\":0,\"ticks\":\"\"}},\"colorscale\":{\"sequential\":[[0.0,\"#0d0887\"],[0.1111111111111111,\"#46039f\"],[0.2222222222222222,\"#7201a8\"],[0.3333333333333333,\"#9c179e\"],[0.4444444444444444,\"#bd3786\"],[0.5555555555555556,\"#d8576b\"],[0.6666666666666666,\"#ed7953\"],[0.7777777777777778,\"#fb9f3a\"],[0.8888888888888888,\"#fdca26\"],[1.0,\"#f0f921\"]],\"sequentialminus\":[[0.0,\"#0d0887\"],[0.1111111111111111,\"#46039f\"],[0.2222222222222222,\"#7201a8\"],[0.3333333333333333,\"#9c179e\"],[0.4444444444444444,\"#bd3786\"],[0.5555555555555556,\"#d8576b\"],[0.6666666666666666,\"#ed7953\"],[0.7777777777777778,\"#fb9f3a\"],[0.8888888888888888,\"#fdca26\"],[1.0,\"#f0f921\"]],\"diverging\":[[0,\"#8e0152\"],[0.1,\"#c51b7d\"],[0.2,\"#de77ae\"],[0.3,\"#f1b6da\"],[0.4,\"#fde0ef\"],[0.5,\"#f7f7f7\"],[0.6,\"#e6f5d0\"],[0.7,\"#b8e186\"],[0.8,\"#7fbc41\"],[0.9,\"#4d9221\"],[1,\"#276419\"]]},\"xaxis\":{\"gridcolor\":\"white\",\"linecolor\":\"white\",\"ticks\":\"\",\"title\":{\"standoff\":15},\"zerolinecolor\":\"white\",\"automargin\":true,\"zerolinewidth\":2},\"yaxis\":{\"gridcolor\":\"white\",\"linecolor\":\"white\",\"ticks\":\"\",\"title\":{\"standoff\":15},\"zerolinecolor\":\"white\",\"automargin\":true,\"zerolinewidth\":2},\"scene\":{\"xaxis\":{\"backgroundcolor\":\"#E5ECF6\",\"gridcolor\":\"white\",\"linecolor\":\"white\",\"showbackground\":true,\"ticks\":\"\",\"zerolinecolor\":\"white\",\"gridwidth\":2},\"yaxis\":{\"backgroundcolor\":\"#E5ECF6\",\"gridcolor\":\"white\",\"linecolor\":\"white\",\"showbackground\":true,\"ticks\":\"\",\"zerolinecolor\":\"white\",\"gridwidth\":2},\"zaxis\":{\"backgroundcolor\":\"#E5ECF6\",\"gridcolor\":\"white\",\"linecolor\":\"white\",\"showbackground\":true,\"ticks\":\"\",\"zerolinecolor\":\"white\",\"gridwidth\":2}},\"shapedefaults\":{\"line\":{\"color\":\"#2a3f5f\"}},\"annotationdefaults\":{\"arrowcolor\":\"#2a3f5f\",\"arrowhead\":0,\"arrowwidth\":1},\"geo\":{\"bgcolor\":\"white\",\"landcolor\":\"#E5ECF6\",\"subunitcolor\":\"white\",\"showland\":true,\"showlakes\":true,\"lakecolor\":\"white\"},\"title\":{\"x\":0.05},\"mapbox\":{\"style\":\"light\"}}},\"xaxis\":{\"anchor\":\"y\",\"domain\":[0.0,1.0],\"title\":{\"text\":\"Type\"},\"categoryorder\":\"array\",\"categoryarray\":[\"SHOW\",\"MOVIE\"]},\"yaxis\":{\"anchor\":\"x\",\"domain\":[0.0,1.0],\"title\":{\"text\":\"count\"}},\"legend\":{\"title\":{\"text\":\"Type\"},\"tracegroupgap\":0},\"margin\":{\"t\":60},\"barmode\":\"relative\"},                        {\"responsive\": true}                    ).then(function(){\n",
       "                            \n",
       "var gd = document.getElementById('6953c0e5-66ab-4893-be61-2701409a9768');\n",
       "var x = new MutationObserver(function (mutations, observer) {{\n",
       "        var display = window.getComputedStyle(gd).display;\n",
       "        if (!display || display === 'none') {{\n",
       "            console.log([gd, 'removed!']);\n",
       "            Plotly.purge(gd);\n",
       "            observer.disconnect();\n",
       "        }}\n",
       "}});\n",
       "\n",
       "// Listen for the removal of the full notebook cells\n",
       "var notebookContainer = gd.closest('#notebook-container');\n",
       "if (notebookContainer) {{\n",
       "    x.observe(notebookContainer, {childList: true});\n",
       "}}\n",
       "\n",
       "// Listen for the clearing of the current output cell\n",
       "var outputEl = gd.closest('.output');\n",
       "if (outputEl) {{\n",
       "    x.observe(outputEl, {childList: true});\n",
       "}}\n",
       "\n",
       "                        })                };                });            </script>        </div>"
      ]
     },
     "metadata": {},
     "output_type": "display_data"
    }
   ],
   "source": [
    "px.histogram(df_netflix, x=\"type\", color=\"type\", labels={\"type\": \"Type\"})"
   ]
  },
  {
   "cell_type": "code",
   "execution_count": 6,
   "id": "d09f21b0",
   "metadata": {
    "_cell_guid": "39fb94e8-e0fe-4d98-9585-03d300be031d",
    "_uuid": "61d4f4bd-b442-4dd9-b9af-5189d1b2d298",
    "collapsed": false,
    "execution": {
     "iopub.execute_input": "2023-11-29T18:44:38.467283Z",
     "iopub.status.busy": "2023-11-29T18:44:38.466430Z",
     "iopub.status.idle": "2023-11-29T18:44:38.549627Z",
     "shell.execute_reply": "2023-11-29T18:44:38.548310Z"
    },
    "jupyter": {
     "outputs_hidden": false
    },
    "papermill": {
     "duration": 0.102035,
     "end_time": "2023-11-29T18:44:38.552574",
     "exception": false,
     "start_time": "2023-11-29T18:44:38.450539",
     "status": "completed"
    },
    "tags": []
   },
   "outputs": [
    {
     "data": {
      "text/html": [
       "<div>                            <div id=\"cc499f41-cd74-41dc-89c0-40f74ec90e5f\" class=\"plotly-graph-div\" style=\"height:525px; width:100%;\"></div>            <script type=\"text/javascript\">                require([\"plotly\"], function(Plotly) {                    window.PLOTLYENV=window.PLOTLYENV || {};                                    if (document.getElementById(\"cc499f41-cd74-41dc-89c0-40f74ec90e5f\")) {                    Plotly.newPlot(                        \"cc499f41-cd74-41dc-89c0-40f74ec90e5f\",                        [{\"mode\":\"lines+markers\",\"name\":\"Movies + Shows\",\"x\":[1945,1953,1954,1956,1958,1959,1960,1961,1962,1963,1964,1966,1967,1968,1969,1971,1972,1973,1974,1975,1976,1977,1978,1979,1980,1981,1982,1983,1984,1985,1986,1987,1988,1989,1990,1991,1992,1993,1994,1995,1996,1997,1998,1999,2000,2001,2002,2003,2004,2005,2006,2007,2008,2009,2010,2011,2012,2013,2014,2015,2016,2017,2018,2019,2020,2021,2022],\"y\":[0,1,2,1,1,1,1,1,1,1,1,2,1,1,2,2,2,2,1,2,3,1,1,7,4,3,8,3,5,1,6,6,7,9,7,10,3,21,13,12,8,15,25,12,13,23,20,31,29,36,48,49,60,60,71,97,105,134,151,226,351,555,733,749,657,687,182],\"type\":\"scatter\"},{\"mode\":\"lines+markers\",\"name\":\"Movies\",\"x\":[1953,1954,1956,1958,1959,1960,1961,1962,1963,1964,1966,1967,1968,1969,1971,1972,1973,1974,1975,1976,1977,1978,1979,1980,1981,1982,1983,1984,1985,1986,1987,1988,1989,1990,1991,1992,1993,1994,1995,1996,1997,1998,1999,2000,2001,2002,2003,2004,2005,2006,2007,2008,2009,2010,2011,2012,2013,2014,2015,2016,2017,2018,2019,2020,2021,2022],\"y\":[1,2,1,1,1,1,1,1,1,1,2,1,1,1,2,1,2,1,2,3,1,1,7,4,2,7,2,4,1,6,5,6,6,7,10,2,17,10,10,7,13,20,9,8,17,13,22,25,26,36,39,47,43,51,68,74,97,108,134,213,378,447,469,407,411,90],\"type\":\"scatter\"},{\"mode\":\"lines+markers\",\"name\":\"Shows\",\"x\":[1945,1969,1972,1981,1982,1983,1984,1987,1988,1989,1991,1992,1993,1994,1995,1996,1997,1998,1999,2000,2001,2002,2003,2004,2005,2006,2007,2008,2009,2010,2011,2012,2013,2014,2015,2016,2017,2018,2019,2020,2021,2022],\"y\":[0,1,1,1,1,1,1,1,1,3,0,1,4,3,2,1,2,5,3,5,6,7,9,4,10,12,10,13,17,20,29,31,37,43,92,138,177,286,280,250,276,92],\"type\":\"scatter\"}],                        {\"template\":{\"data\":{\"histogram2dcontour\":[{\"type\":\"histogram2dcontour\",\"colorbar\":{\"outlinewidth\":0,\"ticks\":\"\"},\"colorscale\":[[0.0,\"#0d0887\"],[0.1111111111111111,\"#46039f\"],[0.2222222222222222,\"#7201a8\"],[0.3333333333333333,\"#9c179e\"],[0.4444444444444444,\"#bd3786\"],[0.5555555555555556,\"#d8576b\"],[0.6666666666666666,\"#ed7953\"],[0.7777777777777778,\"#fb9f3a\"],[0.8888888888888888,\"#fdca26\"],[1.0,\"#f0f921\"]]}],\"choropleth\":[{\"type\":\"choropleth\",\"colorbar\":{\"outlinewidth\":0,\"ticks\":\"\"}}],\"histogram2d\":[{\"type\":\"histogram2d\",\"colorbar\":{\"outlinewidth\":0,\"ticks\":\"\"},\"colorscale\":[[0.0,\"#0d0887\"],[0.1111111111111111,\"#46039f\"],[0.2222222222222222,\"#7201a8\"],[0.3333333333333333,\"#9c179e\"],[0.4444444444444444,\"#bd3786\"],[0.5555555555555556,\"#d8576b\"],[0.6666666666666666,\"#ed7953\"],[0.7777777777777778,\"#fb9f3a\"],[0.8888888888888888,\"#fdca26\"],[1.0,\"#f0f921\"]]}],\"heatmap\":[{\"type\":\"heatmap\",\"colorbar\":{\"outlinewidth\":0,\"ticks\":\"\"},\"colorscale\":[[0.0,\"#0d0887\"],[0.1111111111111111,\"#46039f\"],[0.2222222222222222,\"#7201a8\"],[0.3333333333333333,\"#9c179e\"],[0.4444444444444444,\"#bd3786\"],[0.5555555555555556,\"#d8576b\"],[0.6666666666666666,\"#ed7953\"],[0.7777777777777778,\"#fb9f3a\"],[0.8888888888888888,\"#fdca26\"],[1.0,\"#f0f921\"]]}],\"heatmapgl\":[{\"type\":\"heatmapgl\",\"colorbar\":{\"outlinewidth\":0,\"ticks\":\"\"},\"colorscale\":[[0.0,\"#0d0887\"],[0.1111111111111111,\"#46039f\"],[0.2222222222222222,\"#7201a8\"],[0.3333333333333333,\"#9c179e\"],[0.4444444444444444,\"#bd3786\"],[0.5555555555555556,\"#d8576b\"],[0.6666666666666666,\"#ed7953\"],[0.7777777777777778,\"#fb9f3a\"],[0.8888888888888888,\"#fdca26\"],[1.0,\"#f0f921\"]]}],\"contourcarpet\":[{\"type\":\"contourcarpet\",\"colorbar\":{\"outlinewidth\":0,\"ticks\":\"\"}}],\"contour\":[{\"type\":\"contour\",\"colorbar\":{\"outlinewidth\":0,\"ticks\":\"\"},\"colorscale\":[[0.0,\"#0d0887\"],[0.1111111111111111,\"#46039f\"],[0.2222222222222222,\"#7201a8\"],[0.3333333333333333,\"#9c179e\"],[0.4444444444444444,\"#bd3786\"],[0.5555555555555556,\"#d8576b\"],[0.6666666666666666,\"#ed7953\"],[0.7777777777777778,\"#fb9f3a\"],[0.8888888888888888,\"#fdca26\"],[1.0,\"#f0f921\"]]}],\"surface\":[{\"type\":\"surface\",\"colorbar\":{\"outlinewidth\":0,\"ticks\":\"\"},\"colorscale\":[[0.0,\"#0d0887\"],[0.1111111111111111,\"#46039f\"],[0.2222222222222222,\"#7201a8\"],[0.3333333333333333,\"#9c179e\"],[0.4444444444444444,\"#bd3786\"],[0.5555555555555556,\"#d8576b\"],[0.6666666666666666,\"#ed7953\"],[0.7777777777777778,\"#fb9f3a\"],[0.8888888888888888,\"#fdca26\"],[1.0,\"#f0f921\"]]}],\"mesh3d\":[{\"type\":\"mesh3d\",\"colorbar\":{\"outlinewidth\":0,\"ticks\":\"\"}}],\"scatter\":[{\"fillpattern\":{\"fillmode\":\"overlay\",\"size\":10,\"solidity\":0.2},\"type\":\"scatter\"}],\"parcoords\":[{\"type\":\"parcoords\",\"line\":{\"colorbar\":{\"outlinewidth\":0,\"ticks\":\"\"}}}],\"scatterpolargl\":[{\"type\":\"scatterpolargl\",\"marker\":{\"colorbar\":{\"outlinewidth\":0,\"ticks\":\"\"}}}],\"bar\":[{\"error_x\":{\"color\":\"#2a3f5f\"},\"error_y\":{\"color\":\"#2a3f5f\"},\"marker\":{\"line\":{\"color\":\"#E5ECF6\",\"width\":0.5},\"pattern\":{\"fillmode\":\"overlay\",\"size\":10,\"solidity\":0.2}},\"type\":\"bar\"}],\"scattergeo\":[{\"type\":\"scattergeo\",\"marker\":{\"colorbar\":{\"outlinewidth\":0,\"ticks\":\"\"}}}],\"scatterpolar\":[{\"type\":\"scatterpolar\",\"marker\":{\"colorbar\":{\"outlinewidth\":0,\"ticks\":\"\"}}}],\"histogram\":[{\"marker\":{\"pattern\":{\"fillmode\":\"overlay\",\"size\":10,\"solidity\":0.2}},\"type\":\"histogram\"}],\"scattergl\":[{\"type\":\"scattergl\",\"marker\":{\"colorbar\":{\"outlinewidth\":0,\"ticks\":\"\"}}}],\"scatter3d\":[{\"type\":\"scatter3d\",\"line\":{\"colorbar\":{\"outlinewidth\":0,\"ticks\":\"\"}},\"marker\":{\"colorbar\":{\"outlinewidth\":0,\"ticks\":\"\"}}}],\"scattermapbox\":[{\"type\":\"scattermapbox\",\"marker\":{\"colorbar\":{\"outlinewidth\":0,\"ticks\":\"\"}}}],\"scatterternary\":[{\"type\":\"scatterternary\",\"marker\":{\"colorbar\":{\"outlinewidth\":0,\"ticks\":\"\"}}}],\"scattercarpet\":[{\"type\":\"scattercarpet\",\"marker\":{\"colorbar\":{\"outlinewidth\":0,\"ticks\":\"\"}}}],\"carpet\":[{\"aaxis\":{\"endlinecolor\":\"#2a3f5f\",\"gridcolor\":\"white\",\"linecolor\":\"white\",\"minorgridcolor\":\"white\",\"startlinecolor\":\"#2a3f5f\"},\"baxis\":{\"endlinecolor\":\"#2a3f5f\",\"gridcolor\":\"white\",\"linecolor\":\"white\",\"minorgridcolor\":\"white\",\"startlinecolor\":\"#2a3f5f\"},\"type\":\"carpet\"}],\"table\":[{\"cells\":{\"fill\":{\"color\":\"#EBF0F8\"},\"line\":{\"color\":\"white\"}},\"header\":{\"fill\":{\"color\":\"#C8D4E3\"},\"line\":{\"color\":\"white\"}},\"type\":\"table\"}],\"barpolar\":[{\"marker\":{\"line\":{\"color\":\"#E5ECF6\",\"width\":0.5},\"pattern\":{\"fillmode\":\"overlay\",\"size\":10,\"solidity\":0.2}},\"type\":\"barpolar\"}],\"pie\":[{\"automargin\":true,\"type\":\"pie\"}]},\"layout\":{\"autotypenumbers\":\"strict\",\"colorway\":[\"#636efa\",\"#EF553B\",\"#00cc96\",\"#ab63fa\",\"#FFA15A\",\"#19d3f3\",\"#FF6692\",\"#B6E880\",\"#FF97FF\",\"#FECB52\"],\"font\":{\"color\":\"#2a3f5f\"},\"hovermode\":\"closest\",\"hoverlabel\":{\"align\":\"left\"},\"paper_bgcolor\":\"white\",\"plot_bgcolor\":\"#E5ECF6\",\"polar\":{\"bgcolor\":\"#E5ECF6\",\"angularaxis\":{\"gridcolor\":\"white\",\"linecolor\":\"white\",\"ticks\":\"\"},\"radialaxis\":{\"gridcolor\":\"white\",\"linecolor\":\"white\",\"ticks\":\"\"}},\"ternary\":{\"bgcolor\":\"#E5ECF6\",\"aaxis\":{\"gridcolor\":\"white\",\"linecolor\":\"white\",\"ticks\":\"\"},\"baxis\":{\"gridcolor\":\"white\",\"linecolor\":\"white\",\"ticks\":\"\"},\"caxis\":{\"gridcolor\":\"white\",\"linecolor\":\"white\",\"ticks\":\"\"}},\"coloraxis\":{\"colorbar\":{\"outlinewidth\":0,\"ticks\":\"\"}},\"colorscale\":{\"sequential\":[[0.0,\"#0d0887\"],[0.1111111111111111,\"#46039f\"],[0.2222222222222222,\"#7201a8\"],[0.3333333333333333,\"#9c179e\"],[0.4444444444444444,\"#bd3786\"],[0.5555555555555556,\"#d8576b\"],[0.6666666666666666,\"#ed7953\"],[0.7777777777777778,\"#fb9f3a\"],[0.8888888888888888,\"#fdca26\"],[1.0,\"#f0f921\"]],\"sequentialminus\":[[0.0,\"#0d0887\"],[0.1111111111111111,\"#46039f\"],[0.2222222222222222,\"#7201a8\"],[0.3333333333333333,\"#9c179e\"],[0.4444444444444444,\"#bd3786\"],[0.5555555555555556,\"#d8576b\"],[0.6666666666666666,\"#ed7953\"],[0.7777777777777778,\"#fb9f3a\"],[0.8888888888888888,\"#fdca26\"],[1.0,\"#f0f921\"]],\"diverging\":[[0,\"#8e0152\"],[0.1,\"#c51b7d\"],[0.2,\"#de77ae\"],[0.3,\"#f1b6da\"],[0.4,\"#fde0ef\"],[0.5,\"#f7f7f7\"],[0.6,\"#e6f5d0\"],[0.7,\"#b8e186\"],[0.8,\"#7fbc41\"],[0.9,\"#4d9221\"],[1,\"#276419\"]]},\"xaxis\":{\"gridcolor\":\"white\",\"linecolor\":\"white\",\"ticks\":\"\",\"title\":{\"standoff\":15},\"zerolinecolor\":\"white\",\"automargin\":true,\"zerolinewidth\":2},\"yaxis\":{\"gridcolor\":\"white\",\"linecolor\":\"white\",\"ticks\":\"\",\"title\":{\"standoff\":15},\"zerolinecolor\":\"white\",\"automargin\":true,\"zerolinewidth\":2},\"scene\":{\"xaxis\":{\"backgroundcolor\":\"#E5ECF6\",\"gridcolor\":\"white\",\"linecolor\":\"white\",\"showbackground\":true,\"ticks\":\"\",\"zerolinecolor\":\"white\",\"gridwidth\":2},\"yaxis\":{\"backgroundcolor\":\"#E5ECF6\",\"gridcolor\":\"white\",\"linecolor\":\"white\",\"showbackground\":true,\"ticks\":\"\",\"zerolinecolor\":\"white\",\"gridwidth\":2},\"zaxis\":{\"backgroundcolor\":\"#E5ECF6\",\"gridcolor\":\"white\",\"linecolor\":\"white\",\"showbackground\":true,\"ticks\":\"\",\"zerolinecolor\":\"white\",\"gridwidth\":2}},\"shapedefaults\":{\"line\":{\"color\":\"#2a3f5f\"}},\"annotationdefaults\":{\"arrowcolor\":\"#2a3f5f\",\"arrowhead\":0,\"arrowwidth\":1},\"geo\":{\"bgcolor\":\"white\",\"landcolor\":\"#E5ECF6\",\"subunitcolor\":\"white\",\"showland\":true,\"showlakes\":true,\"lakecolor\":\"white\"},\"title\":{\"x\":0.05},\"mapbox\":{\"style\":\"light\"}}},\"title\":{\"text\":\"Shows and movies released over the years\"},\"xaxis\":{\"title\":{\"text\":\"Release Year\"}},\"yaxis\":{\"title\":{\"text\":\"Count\"}},\"legend\":{\"title\":{\"text\":\"Legend\"}}},                        {\"responsive\": true}                    ).then(function(){\n",
       "                            \n",
       "var gd = document.getElementById('cc499f41-cd74-41dc-89c0-40f74ec90e5f');\n",
       "var x = new MutationObserver(function (mutations, observer) {{\n",
       "        var display = window.getComputedStyle(gd).display;\n",
       "        if (!display || display === 'none') {{\n",
       "            console.log([gd, 'removed!']);\n",
       "            Plotly.purge(gd);\n",
       "            observer.disconnect();\n",
       "        }}\n",
       "}});\n",
       "\n",
       "// Listen for the removal of the full notebook cells\n",
       "var notebookContainer = gd.closest('#notebook-container');\n",
       "if (notebookContainer) {{\n",
       "    x.observe(notebookContainer, {childList: true});\n",
       "}}\n",
       "\n",
       "// Listen for the clearing of the current output cell\n",
       "var outputEl = gd.closest('.output');\n",
       "if (outputEl) {{\n",
       "    x.observe(outputEl, {childList: true});\n",
       "}}\n",
       "\n",
       "                        })                };                });            </script>        </div>"
      ]
     },
     "metadata": {},
     "output_type": "display_data"
    }
   ],
   "source": [
    "fig = go.Figure()\n",
    "\n",
    "fig.add_trace(\n",
    "    go.Scatter(\n",
    "        x=df_netflix[\"release_year\"].unique(),\n",
    "        y=df_netflix.groupby(\"release_year\").count()[\"imdb_score\"],\n",
    "        name=\"Movies + Shows\",\n",
    "        mode=\"lines+markers\",\n",
    "    )\n",
    ")\n",
    "\n",
    "fig.add_trace(\n",
    "    go.Scatter(\n",
    "        x=df_netflix.query(\"type == 'MOVIE'\")[\"release_year\"].unique(),\n",
    "        y=df_netflix.groupby([\"release_year\", \"type\"])\n",
    "        .count()\n",
    "        .reset_index()\n",
    "        .query(\"type == 'MOVIE'\")[\"imdb_score\"],\n",
    "        name=\"Movies\",\n",
    "        mode=\"lines+markers\",\n",
    "    )\n",
    ")\n",
    "\n",
    "fig.add_trace(\n",
    "    go.Scatter(\n",
    "        x=df_netflix.query(\"type == 'SHOW'\")[\"release_year\"].unique(),\n",
    "        y=df_netflix.groupby([\"release_year\", \"type\"])\n",
    "        .count()\n",
    "        .reset_index()\n",
    "        .query(\"type == 'SHOW'\")[\"imdb_score\"],\n",
    "        name=\"Shows\",\n",
    "        mode=\"lines+markers\",\n",
    "    )\n",
    ")\n",
    "\n",
    "fig.update_layout(\n",
    "    title=\"Shows and movies released over the years\",\n",
    "    xaxis_title=\"Release Year\",\n",
    "    yaxis_title=\"Count\",\n",
    "    legend_title=\"Legend\",\n",
    ")\n",
    "fig.show()"
   ]
  },
  {
   "cell_type": "markdown",
   "id": "d974e205",
   "metadata": {
    "_cell_guid": "ab75ca2c-04dc-4263-91ce-f84ca1208689",
    "_uuid": "fd32d9b8-7758-404c-a8fc-c9d3dfdcf4a7",
    "papermill": {
     "duration": 0.013099,
     "end_time": "2023-11-29T18:44:38.578949",
     "exception": false,
     "start_time": "2023-11-29T18:44:38.565850",
     "status": "completed"
    },
    "tags": []
   },
   "source": [
    "2019 is the year with the most **movies and shows** released, and it is the same\n",
    "year with the most **movies** released. However, for **shows** it falls just\n",
    "short of 2018 by 8 shows released."
   ]
  },
  {
   "cell_type": "markdown",
   "id": "edcb7c97",
   "metadata": {
    "_cell_guid": "1e557f62-a470-44a0-aa0f-351504554e77",
    "_uuid": "65689e39-b577-4a66-af59-91250d027e9f",
    "papermill": {
     "duration": 0.013925,
     "end_time": "2023-11-29T18:44:38.607475",
     "exception": false,
     "start_time": "2023-11-29T18:44:38.593550",
     "status": "completed"
    },
    "tags": []
   },
   "source": [
    "# Separating Movies and Shows into two different dataframes"
   ]
  },
  {
   "cell_type": "code",
   "execution_count": 7,
   "id": "af3ca5f3",
   "metadata": {
    "_cell_guid": "1d33fb24-5aa4-47c2-986d-2ed23881d98a",
    "_uuid": "4ba52cf2-0ec7-4728-94a2-5b724b2b1367",
    "collapsed": false,
    "execution": {
     "iopub.execute_input": "2023-11-29T18:44:38.636401Z",
     "iopub.status.busy": "2023-11-29T18:44:38.635978Z",
     "iopub.status.idle": "2023-11-29T18:44:38.653660Z",
     "shell.execute_reply": "2023-11-29T18:44:38.652373Z"
    },
    "jupyter": {
     "outputs_hidden": false
    },
    "papermill": {
     "duration": 0.037476,
     "end_time": "2023-11-29T18:44:38.658222",
     "exception": false,
     "start_time": "2023-11-29T18:44:38.620746",
     "status": "completed"
    },
    "tags": []
   },
   "outputs": [],
   "source": [
    "df_shows = df_netflix.loc[df_netflix[\"type\"] == \"SHOW\"].drop(columns=\"type\")\n",
    "df_movies = df_netflix.loc[df_netflix[\"type\"] == \"MOVIE\"].drop(columns=\"type\")"
   ]
  },
  {
   "cell_type": "markdown",
   "id": "4f6601ab",
   "metadata": {
    "_cell_guid": "3abed68d-9f3e-4ec1-9da4-63dfa815ad4a",
    "_uuid": "a33973e9-e003-4458-beda-ca90b4979536",
    "papermill": {
     "duration": 0.013441,
     "end_time": "2023-11-29T18:44:38.686048",
     "exception": false,
     "start_time": "2023-11-29T18:44:38.672607",
     "status": "completed"
    },
    "tags": []
   },
   "source": [
    "## Distribution of the age rating of Shows and Movies in 2019"
   ]
  },
  {
   "cell_type": "code",
   "execution_count": 8,
   "id": "2074512e",
   "metadata": {
    "_cell_guid": "87fc3b58-2243-46b4-8c97-f9e559a2e53e",
    "_uuid": "0266a132-5047-4dde-8158-267aeac908fe",
    "collapsed": false,
    "execution": {
     "iopub.execute_input": "2023-11-29T18:44:38.718871Z",
     "iopub.status.busy": "2023-11-29T18:44:38.718407Z",
     "iopub.status.idle": "2023-11-29T18:44:38.820957Z",
     "shell.execute_reply": "2023-11-29T18:44:38.819435Z"
    },
    "jupyter": {
     "outputs_hidden": false
    },
    "papermill": {
     "duration": 0.123449,
     "end_time": "2023-11-29T18:44:38.824234",
     "exception": false,
     "start_time": "2023-11-29T18:44:38.700785",
     "status": "completed"
    },
    "tags": []
   },
   "outputs": [
    {
     "data": {
      "text/html": [
       "<div>                            <div id=\"3d935a08-4c7c-421f-aa28-6abadd88c6df\" class=\"plotly-graph-div\" style=\"height:525px; width:100%;\"></div>            <script type=\"text/javascript\">                require([\"plotly\"], function(Plotly) {                    window.PLOTLYENV=window.PLOTLYENV || {};                                    if (document.getElementById(\"3d935a08-4c7c-421f-aa28-6abadd88c6df\")) {                    Plotly.newPlot(                        \"3d935a08-4c7c-421f-aa28-6abadd88c6df\",                        [{\"alignmentgroup\":\"True\",\"bingroup\":\"x\",\"hovertemplate\":\"age certification=%{x}\\u003cbr\\u003ecount=%{y}\\u003cextra\\u003e\\u003c\\u002fextra\\u003e\",\"legendgroup\":\"G\",\"marker\":{\"color\":\"#636efa\",\"pattern\":{\"shape\":\"\"}},\"name\":\"G\",\"offsetgroup\":\"G\",\"orientation\":\"v\",\"showlegend\":true,\"x\":[\"G\",\"G\",\"G\",\"G\",\"G\",\"G\",\"G\",\"G\",\"G\",\"G\",\"G\",\"G\",\"G\",\"G\"],\"xaxis\":\"x\",\"yaxis\":\"y\",\"type\":\"histogram\"},{\"alignmentgroup\":\"True\",\"bingroup\":\"x\",\"hovertemplate\":\"age certification=%{x}\\u003cbr\\u003ecount=%{y}\\u003cextra\\u003e\\u003c\\u002fextra\\u003e\",\"legendgroup\":\"PG\",\"marker\":{\"color\":\"#EF553B\",\"pattern\":{\"shape\":\"\"}},\"name\":\"PG\",\"offsetgroup\":\"PG\",\"orientation\":\"v\",\"showlegend\":true,\"x\":[\"PG\",\"PG\",\"PG\",\"PG\",\"PG\",\"PG\",\"PG\",\"PG\",\"PG\",\"PG\",\"PG\",\"PG\",\"PG\",\"PG\",\"PG\",\"PG\",\"PG\",\"PG\",\"PG\",\"PG\"],\"xaxis\":\"x\",\"yaxis\":\"y\",\"type\":\"histogram\"},{\"alignmentgroup\":\"True\",\"bingroup\":\"x\",\"hovertemplate\":\"age certification=%{x}\\u003cbr\\u003ecount=%{y}\\u003cextra\\u003e\\u003c\\u002fextra\\u003e\",\"legendgroup\":\"PG-13\",\"marker\":{\"color\":\"#00cc96\",\"pattern\":{\"shape\":\"\"}},\"name\":\"PG-13\",\"offsetgroup\":\"PG-13\",\"orientation\":\"v\",\"showlegend\":true,\"x\":[\"PG-13\",\"PG-13\",\"PG-13\",\"PG-13\",\"PG-13\",\"PG-13\",\"PG-13\",\"PG-13\",\"PG-13\",\"PG-13\",\"PG-13\",\"PG-13\",\"PG-13\",\"PG-13\",\"PG-13\",\"PG-13\",\"PG-13\",\"PG-13\",\"PG-13\",\"PG-13\",\"PG-13\",\"PG-13\",\"PG-13\",\"PG-13\",\"PG-13\",\"PG-13\",\"PG-13\",\"PG-13\",\"PG-13\",\"PG-13\",\"PG-13\",\"PG-13\",\"PG-13\",\"PG-13\",\"PG-13\",\"PG-13\",\"PG-13\",\"PG-13\",\"PG-13\",\"PG-13\",\"PG-13\",\"PG-13\"],\"xaxis\":\"x\",\"yaxis\":\"y\",\"type\":\"histogram\"},{\"alignmentgroup\":\"True\",\"bingroup\":\"x\",\"hovertemplate\":\"age certification=%{x}\\u003cbr\\u003ecount=%{y}\\u003cextra\\u003e\\u003c\\u002fextra\\u003e\",\"legendgroup\":\"R\",\"marker\":{\"color\":\"#ab63fa\",\"pattern\":{\"shape\":\"\"}},\"name\":\"R\",\"offsetgroup\":\"R\",\"orientation\":\"v\",\"showlegend\":true,\"x\":[\"R\",\"R\",\"R\",\"R\",\"R\",\"R\",\"R\",\"R\",\"R\",\"R\",\"R\",\"R\",\"R\",\"R\",\"R\",\"R\",\"R\",\"R\",\"R\",\"R\",\"R\",\"R\",\"R\",\"R\",\"R\",\"R\",\"R\",\"R\",\"R\",\"R\",\"R\",\"R\",\"R\",\"R\",\"R\",\"R\",\"R\",\"R\",\"R\",\"R\",\"R\",\"R\",\"R\",\"R\",\"R\",\"R\",\"R\",\"R\",\"R\",\"R\",\"R\",\"R\"],\"xaxis\":\"x\",\"yaxis\":\"y\",\"type\":\"histogram\"},{\"alignmentgroup\":\"True\",\"bingroup\":\"x\",\"hovertemplate\":\"age certification=%{x}\\u003cbr\\u003ecount=%{y}\\u003cextra\\u003e\\u003c\\u002fextra\\u003e\",\"legendgroup\":\"NC-17\",\"marker\":{\"color\":\"#FFA15A\",\"pattern\":{\"shape\":\"\"}},\"name\":\"NC-17\",\"offsetgroup\":\"NC-17\",\"orientation\":\"v\",\"showlegend\":true,\"x\":[\"NC-17\"],\"xaxis\":\"x\",\"yaxis\":\"y\",\"type\":\"histogram\"}],                        {\"template\":{\"data\":{\"histogram2dcontour\":[{\"type\":\"histogram2dcontour\",\"colorbar\":{\"outlinewidth\":0,\"ticks\":\"\"},\"colorscale\":[[0.0,\"#0d0887\"],[0.1111111111111111,\"#46039f\"],[0.2222222222222222,\"#7201a8\"],[0.3333333333333333,\"#9c179e\"],[0.4444444444444444,\"#bd3786\"],[0.5555555555555556,\"#d8576b\"],[0.6666666666666666,\"#ed7953\"],[0.7777777777777778,\"#fb9f3a\"],[0.8888888888888888,\"#fdca26\"],[1.0,\"#f0f921\"]]}],\"choropleth\":[{\"type\":\"choropleth\",\"colorbar\":{\"outlinewidth\":0,\"ticks\":\"\"}}],\"histogram2d\":[{\"type\":\"histogram2d\",\"colorbar\":{\"outlinewidth\":0,\"ticks\":\"\"},\"colorscale\":[[0.0,\"#0d0887\"],[0.1111111111111111,\"#46039f\"],[0.2222222222222222,\"#7201a8\"],[0.3333333333333333,\"#9c179e\"],[0.4444444444444444,\"#bd3786\"],[0.5555555555555556,\"#d8576b\"],[0.6666666666666666,\"#ed7953\"],[0.7777777777777778,\"#fb9f3a\"],[0.8888888888888888,\"#fdca26\"],[1.0,\"#f0f921\"]]}],\"heatmap\":[{\"type\":\"heatmap\",\"colorbar\":{\"outlinewidth\":0,\"ticks\":\"\"},\"colorscale\":[[0.0,\"#0d0887\"],[0.1111111111111111,\"#46039f\"],[0.2222222222222222,\"#7201a8\"],[0.3333333333333333,\"#9c179e\"],[0.4444444444444444,\"#bd3786\"],[0.5555555555555556,\"#d8576b\"],[0.6666666666666666,\"#ed7953\"],[0.7777777777777778,\"#fb9f3a\"],[0.8888888888888888,\"#fdca26\"],[1.0,\"#f0f921\"]]}],\"heatmapgl\":[{\"type\":\"heatmapgl\",\"colorbar\":{\"outlinewidth\":0,\"ticks\":\"\"},\"colorscale\":[[0.0,\"#0d0887\"],[0.1111111111111111,\"#46039f\"],[0.2222222222222222,\"#7201a8\"],[0.3333333333333333,\"#9c179e\"],[0.4444444444444444,\"#bd3786\"],[0.5555555555555556,\"#d8576b\"],[0.6666666666666666,\"#ed7953\"],[0.7777777777777778,\"#fb9f3a\"],[0.8888888888888888,\"#fdca26\"],[1.0,\"#f0f921\"]]}],\"contourcarpet\":[{\"type\":\"contourcarpet\",\"colorbar\":{\"outlinewidth\":0,\"ticks\":\"\"}}],\"contour\":[{\"type\":\"contour\",\"colorbar\":{\"outlinewidth\":0,\"ticks\":\"\"},\"colorscale\":[[0.0,\"#0d0887\"],[0.1111111111111111,\"#46039f\"],[0.2222222222222222,\"#7201a8\"],[0.3333333333333333,\"#9c179e\"],[0.4444444444444444,\"#bd3786\"],[0.5555555555555556,\"#d8576b\"],[0.6666666666666666,\"#ed7953\"],[0.7777777777777778,\"#fb9f3a\"],[0.8888888888888888,\"#fdca26\"],[1.0,\"#f0f921\"]]}],\"surface\":[{\"type\":\"surface\",\"colorbar\":{\"outlinewidth\":0,\"ticks\":\"\"},\"colorscale\":[[0.0,\"#0d0887\"],[0.1111111111111111,\"#46039f\"],[0.2222222222222222,\"#7201a8\"],[0.3333333333333333,\"#9c179e\"],[0.4444444444444444,\"#bd3786\"],[0.5555555555555556,\"#d8576b\"],[0.6666666666666666,\"#ed7953\"],[0.7777777777777778,\"#fb9f3a\"],[0.8888888888888888,\"#fdca26\"],[1.0,\"#f0f921\"]]}],\"mesh3d\":[{\"type\":\"mesh3d\",\"colorbar\":{\"outlinewidth\":0,\"ticks\":\"\"}}],\"scatter\":[{\"fillpattern\":{\"fillmode\":\"overlay\",\"size\":10,\"solidity\":0.2},\"type\":\"scatter\"}],\"parcoords\":[{\"type\":\"parcoords\",\"line\":{\"colorbar\":{\"outlinewidth\":0,\"ticks\":\"\"}}}],\"scatterpolargl\":[{\"type\":\"scatterpolargl\",\"marker\":{\"colorbar\":{\"outlinewidth\":0,\"ticks\":\"\"}}}],\"bar\":[{\"error_x\":{\"color\":\"#2a3f5f\"},\"error_y\":{\"color\":\"#2a3f5f\"},\"marker\":{\"line\":{\"color\":\"#E5ECF6\",\"width\":0.5},\"pattern\":{\"fillmode\":\"overlay\",\"size\":10,\"solidity\":0.2}},\"type\":\"bar\"}],\"scattergeo\":[{\"type\":\"scattergeo\",\"marker\":{\"colorbar\":{\"outlinewidth\":0,\"ticks\":\"\"}}}],\"scatterpolar\":[{\"type\":\"scatterpolar\",\"marker\":{\"colorbar\":{\"outlinewidth\":0,\"ticks\":\"\"}}}],\"histogram\":[{\"marker\":{\"pattern\":{\"fillmode\":\"overlay\",\"size\":10,\"solidity\":0.2}},\"type\":\"histogram\"}],\"scattergl\":[{\"type\":\"scattergl\",\"marker\":{\"colorbar\":{\"outlinewidth\":0,\"ticks\":\"\"}}}],\"scatter3d\":[{\"type\":\"scatter3d\",\"line\":{\"colorbar\":{\"outlinewidth\":0,\"ticks\":\"\"}},\"marker\":{\"colorbar\":{\"outlinewidth\":0,\"ticks\":\"\"}}}],\"scattermapbox\":[{\"type\":\"scattermapbox\",\"marker\":{\"colorbar\":{\"outlinewidth\":0,\"ticks\":\"\"}}}],\"scatterternary\":[{\"type\":\"scatterternary\",\"marker\":{\"colorbar\":{\"outlinewidth\":0,\"ticks\":\"\"}}}],\"scattercarpet\":[{\"type\":\"scattercarpet\",\"marker\":{\"colorbar\":{\"outlinewidth\":0,\"ticks\":\"\"}}}],\"carpet\":[{\"aaxis\":{\"endlinecolor\":\"#2a3f5f\",\"gridcolor\":\"white\",\"linecolor\":\"white\",\"minorgridcolor\":\"white\",\"startlinecolor\":\"#2a3f5f\"},\"baxis\":{\"endlinecolor\":\"#2a3f5f\",\"gridcolor\":\"white\",\"linecolor\":\"white\",\"minorgridcolor\":\"white\",\"startlinecolor\":\"#2a3f5f\"},\"type\":\"carpet\"}],\"table\":[{\"cells\":{\"fill\":{\"color\":\"#EBF0F8\"},\"line\":{\"color\":\"white\"}},\"header\":{\"fill\":{\"color\":\"#C8D4E3\"},\"line\":{\"color\":\"white\"}},\"type\":\"table\"}],\"barpolar\":[{\"marker\":{\"line\":{\"color\":\"#E5ECF6\",\"width\":0.5},\"pattern\":{\"fillmode\":\"overlay\",\"size\":10,\"solidity\":0.2}},\"type\":\"barpolar\"}],\"pie\":[{\"automargin\":true,\"type\":\"pie\"}]},\"layout\":{\"autotypenumbers\":\"strict\",\"colorway\":[\"#636efa\",\"#EF553B\",\"#00cc96\",\"#ab63fa\",\"#FFA15A\",\"#19d3f3\",\"#FF6692\",\"#B6E880\",\"#FF97FF\",\"#FECB52\"],\"font\":{\"color\":\"#2a3f5f\"},\"hovermode\":\"closest\",\"hoverlabel\":{\"align\":\"left\"},\"paper_bgcolor\":\"white\",\"plot_bgcolor\":\"#E5ECF6\",\"polar\":{\"bgcolor\":\"#E5ECF6\",\"angularaxis\":{\"gridcolor\":\"white\",\"linecolor\":\"white\",\"ticks\":\"\"},\"radialaxis\":{\"gridcolor\":\"white\",\"linecolor\":\"white\",\"ticks\":\"\"}},\"ternary\":{\"bgcolor\":\"#E5ECF6\",\"aaxis\":{\"gridcolor\":\"white\",\"linecolor\":\"white\",\"ticks\":\"\"},\"baxis\":{\"gridcolor\":\"white\",\"linecolor\":\"white\",\"ticks\":\"\"},\"caxis\":{\"gridcolor\":\"white\",\"linecolor\":\"white\",\"ticks\":\"\"}},\"coloraxis\":{\"colorbar\":{\"outlinewidth\":0,\"ticks\":\"\"}},\"colorscale\":{\"sequential\":[[0.0,\"#0d0887\"],[0.1111111111111111,\"#46039f\"],[0.2222222222222222,\"#7201a8\"],[0.3333333333333333,\"#9c179e\"],[0.4444444444444444,\"#bd3786\"],[0.5555555555555556,\"#d8576b\"],[0.6666666666666666,\"#ed7953\"],[0.7777777777777778,\"#fb9f3a\"],[0.8888888888888888,\"#fdca26\"],[1.0,\"#f0f921\"]],\"sequentialminus\":[[0.0,\"#0d0887\"],[0.1111111111111111,\"#46039f\"],[0.2222222222222222,\"#7201a8\"],[0.3333333333333333,\"#9c179e\"],[0.4444444444444444,\"#bd3786\"],[0.5555555555555556,\"#d8576b\"],[0.6666666666666666,\"#ed7953\"],[0.7777777777777778,\"#fb9f3a\"],[0.8888888888888888,\"#fdca26\"],[1.0,\"#f0f921\"]],\"diverging\":[[0,\"#8e0152\"],[0.1,\"#c51b7d\"],[0.2,\"#de77ae\"],[0.3,\"#f1b6da\"],[0.4,\"#fde0ef\"],[0.5,\"#f7f7f7\"],[0.6,\"#e6f5d0\"],[0.7,\"#b8e186\"],[0.8,\"#7fbc41\"],[0.9,\"#4d9221\"],[1,\"#276419\"]]},\"xaxis\":{\"gridcolor\":\"white\",\"linecolor\":\"white\",\"ticks\":\"\",\"title\":{\"standoff\":15},\"zerolinecolor\":\"white\",\"automargin\":true,\"zerolinewidth\":2},\"yaxis\":{\"gridcolor\":\"white\",\"linecolor\":\"white\",\"ticks\":\"\",\"title\":{\"standoff\":15},\"zerolinecolor\":\"white\",\"automargin\":true,\"zerolinewidth\":2},\"scene\":{\"xaxis\":{\"backgroundcolor\":\"#E5ECF6\",\"gridcolor\":\"white\",\"linecolor\":\"white\",\"showbackground\":true,\"ticks\":\"\",\"zerolinecolor\":\"white\",\"gridwidth\":2},\"yaxis\":{\"backgroundcolor\":\"#E5ECF6\",\"gridcolor\":\"white\",\"linecolor\":\"white\",\"showbackground\":true,\"ticks\":\"\",\"zerolinecolor\":\"white\",\"gridwidth\":2},\"zaxis\":{\"backgroundcolor\":\"#E5ECF6\",\"gridcolor\":\"white\",\"linecolor\":\"white\",\"showbackground\":true,\"ticks\":\"\",\"zerolinecolor\":\"white\",\"gridwidth\":2}},\"shapedefaults\":{\"line\":{\"color\":\"#2a3f5f\"}},\"annotationdefaults\":{\"arrowcolor\":\"#2a3f5f\",\"arrowhead\":0,\"arrowwidth\":1},\"geo\":{\"bgcolor\":\"white\",\"landcolor\":\"#E5ECF6\",\"subunitcolor\":\"white\",\"showland\":true,\"showlakes\":true,\"lakecolor\":\"white\"},\"title\":{\"x\":0.05},\"mapbox\":{\"style\":\"light\"}}},\"xaxis\":{\"anchor\":\"y\",\"domain\":[0.0,1.0],\"title\":{\"text\":\"age certification\"},\"categoryorder\":\"array\",\"categoryarray\":[\"G\",\"PG\",\"PG-13\",\"R\",\"NC-17\",null]},\"yaxis\":{\"anchor\":\"x\",\"domain\":[0.0,1.0],\"title\":{\"text\":\"count\"}},\"legend\":{\"title\":{\"text\":\"age certification\"},\"tracegroupgap\":0},\"title\":{\"text\":\"Movies in 2019 by age certification\"},\"barmode\":\"relative\"},                        {\"responsive\": true}                    ).then(function(){\n",
       "                            \n",
       "var gd = document.getElementById('3d935a08-4c7c-421f-aa28-6abadd88c6df');\n",
       "var x = new MutationObserver(function (mutations, observer) {{\n",
       "        var display = window.getComputedStyle(gd).display;\n",
       "        if (!display || display === 'none') {{\n",
       "            console.log([gd, 'removed!']);\n",
       "            Plotly.purge(gd);\n",
       "            observer.disconnect();\n",
       "        }}\n",
       "}});\n",
       "\n",
       "// Listen for the removal of the full notebook cells\n",
       "var notebookContainer = gd.closest('#notebook-container');\n",
       "if (notebookContainer) {{\n",
       "    x.observe(notebookContainer, {childList: true});\n",
       "}}\n",
       "\n",
       "// Listen for the clearing of the current output cell\n",
       "var outputEl = gd.closest('.output');\n",
       "if (outputEl) {{\n",
       "    x.observe(outputEl, {childList: true});\n",
       "}}\n",
       "\n",
       "                        })                };                });            </script>        </div>"
      ]
     },
     "metadata": {},
     "output_type": "display_data"
    }
   ],
   "source": [
    "px.histogram(\n",
    "    df_movies.loc[df_movies[\"release_year\"] == 2019],\n",
    "    x=\"age_certification\",\n",
    "    category_orders={\"age_certification\": [\"G\", \"PG\", \"PG-13\", \"R\", \"NC-17\"]},\n",
    "    title=\"Movies in 2019 by age certification\",\n",
    "    labels={\"age_certification\": \"age certification\"},\n",
    "    color=\"age_certification\",\n",
    ")"
   ]
  },
  {
   "cell_type": "code",
   "execution_count": 9,
   "id": "72f532e8",
   "metadata": {
    "_cell_guid": "593b3288-2019-4849-a8bf-eabfebd5872d",
    "_uuid": "3f685cdb-7153-4577-b7bf-d870da07f885",
    "collapsed": false,
    "execution": {
     "iopub.execute_input": "2023-11-29T18:44:38.856655Z",
     "iopub.status.busy": "2023-11-29T18:44:38.856171Z",
     "iopub.status.idle": "2023-11-29T18:44:38.967893Z",
     "shell.execute_reply": "2023-11-29T18:44:38.966120Z"
    },
    "jupyter": {
     "outputs_hidden": false
    },
    "papermill": {
     "duration": 0.131949,
     "end_time": "2023-11-29T18:44:38.970898",
     "exception": false,
     "start_time": "2023-11-29T18:44:38.838949",
     "status": "completed"
    },
    "tags": []
   },
   "outputs": [
    {
     "data": {
      "text/html": [
       "<div>                            <div id=\"4c4dd67a-d7b3-48e2-8046-36a62aa2d385\" class=\"plotly-graph-div\" style=\"height:525px; width:100%;\"></div>            <script type=\"text/javascript\">                require([\"plotly\"], function(Plotly) {                    window.PLOTLYENV=window.PLOTLYENV || {};                                    if (document.getElementById(\"4c4dd67a-d7b3-48e2-8046-36a62aa2d385\")) {                    Plotly.newPlot(                        \"4c4dd67a-d7b3-48e2-8046-36a62aa2d385\",                        [{\"alignmentgroup\":\"True\",\"bingroup\":\"x\",\"hovertemplate\":\"age certification=%{x}\\u003cbr\\u003ecount=%{y}\\u003cextra\\u003e\\u003c\\u002fextra\\u003e\",\"legendgroup\":\"TV-Y\",\"marker\":{\"color\":\"#636efa\",\"pattern\":{\"shape\":\"\"}},\"name\":\"TV-Y\",\"offsetgroup\":\"TV-Y\",\"orientation\":\"v\",\"showlegend\":true,\"x\":[\"TV-Y\",\"TV-Y\",\"TV-Y\",\"TV-Y\",\"TV-Y\",\"TV-Y\",\"TV-Y\",\"TV-Y\"],\"xaxis\":\"x\",\"yaxis\":\"y\",\"type\":\"histogram\"},{\"alignmentgroup\":\"True\",\"bingroup\":\"x\",\"hovertemplate\":\"age certification=%{x}\\u003cbr\\u003ecount=%{y}\\u003cextra\\u003e\\u003c\\u002fextra\\u003e\",\"legendgroup\":\"TV-Y7\",\"marker\":{\"color\":\"#EF553B\",\"pattern\":{\"shape\":\"\"}},\"name\":\"TV-Y7\",\"offsetgroup\":\"TV-Y7\",\"orientation\":\"v\",\"showlegend\":true,\"x\":[\"TV-Y7\",\"TV-Y7\",\"TV-Y7\",\"TV-Y7\",\"TV-Y7\",\"TV-Y7\",\"TV-Y7\",\"TV-Y7\",\"TV-Y7\",\"TV-Y7\",\"TV-Y7\"],\"xaxis\":\"x\",\"yaxis\":\"y\",\"type\":\"histogram\"},{\"alignmentgroup\":\"True\",\"bingroup\":\"x\",\"hovertemplate\":\"age certification=%{x}\\u003cbr\\u003ecount=%{y}\\u003cextra\\u003e\\u003c\\u002fextra\\u003e\",\"legendgroup\":\"TV-G\",\"marker\":{\"color\":\"#00cc96\",\"pattern\":{\"shape\":\"\"}},\"name\":\"TV-G\",\"offsetgroup\":\"TV-G\",\"orientation\":\"v\",\"showlegend\":true,\"x\":[\"TV-G\",\"TV-G\",\"TV-G\",\"TV-G\",\"TV-G\",\"TV-G\"],\"xaxis\":\"x\",\"yaxis\":\"y\",\"type\":\"histogram\"},{\"alignmentgroup\":\"True\",\"bingroup\":\"x\",\"hovertemplate\":\"age certification=%{x}\\u003cbr\\u003ecount=%{y}\\u003cextra\\u003e\\u003c\\u002fextra\\u003e\",\"legendgroup\":\"TV-PG\",\"marker\":{\"color\":\"#ab63fa\",\"pattern\":{\"shape\":\"\"}},\"name\":\"TV-PG\",\"offsetgroup\":\"TV-PG\",\"orientation\":\"v\",\"showlegend\":true,\"x\":[\"TV-PG\",\"TV-PG\",\"TV-PG\",\"TV-PG\",\"TV-PG\",\"TV-PG\",\"TV-PG\",\"TV-PG\",\"TV-PG\",\"TV-PG\",\"TV-PG\",\"TV-PG\",\"TV-PG\",\"TV-PG\",\"TV-PG\",\"TV-PG\",\"TV-PG\",\"TV-PG\",\"TV-PG\",\"TV-PG\",\"TV-PG\",\"TV-PG\",\"TV-PG\",\"TV-PG\",\"TV-PG\",\"TV-PG\",\"TV-PG\",\"TV-PG\",\"TV-PG\"],\"xaxis\":\"x\",\"yaxis\":\"y\",\"type\":\"histogram\"},{\"alignmentgroup\":\"True\",\"bingroup\":\"x\",\"hovertemplate\":\"age certification=%{x}\\u003cbr\\u003ecount=%{y}\\u003cextra\\u003e\\u003c\\u002fextra\\u003e\",\"legendgroup\":\"TV-14\",\"marker\":{\"color\":\"#FFA15A\",\"pattern\":{\"shape\":\"\"}},\"name\":\"TV-14\",\"offsetgroup\":\"TV-14\",\"orientation\":\"v\",\"showlegend\":true,\"x\":[\"TV-14\",\"TV-14\",\"TV-14\",\"TV-14\",\"TV-14\",\"TV-14\",\"TV-14\",\"TV-14\",\"TV-14\",\"TV-14\",\"TV-14\",\"TV-14\",\"TV-14\",\"TV-14\",\"TV-14\",\"TV-14\",\"TV-14\",\"TV-14\",\"TV-14\",\"TV-14\",\"TV-14\",\"TV-14\",\"TV-14\",\"TV-14\",\"TV-14\",\"TV-14\",\"TV-14\",\"TV-14\",\"TV-14\",\"TV-14\",\"TV-14\",\"TV-14\",\"TV-14\",\"TV-14\",\"TV-14\",\"TV-14\",\"TV-14\",\"TV-14\",\"TV-14\",\"TV-14\",\"TV-14\",\"TV-14\",\"TV-14\",\"TV-14\",\"TV-14\",\"TV-14\",\"TV-14\",\"TV-14\",\"TV-14\",\"TV-14\",\"TV-14\",\"TV-14\"],\"xaxis\":\"x\",\"yaxis\":\"y\",\"type\":\"histogram\"},{\"alignmentgroup\":\"True\",\"bingroup\":\"x\",\"hovertemplate\":\"age certification=%{x}\\u003cbr\\u003ecount=%{y}\\u003cextra\\u003e\\u003c\\u002fextra\\u003e\",\"legendgroup\":\"TV-MA\",\"marker\":{\"color\":\"#19d3f3\",\"pattern\":{\"shape\":\"\"}},\"name\":\"TV-MA\",\"offsetgroup\":\"TV-MA\",\"orientation\":\"v\",\"showlegend\":true,\"x\":[\"TV-MA\",\"TV-MA\",\"TV-MA\",\"TV-MA\",\"TV-MA\",\"TV-MA\",\"TV-MA\",\"TV-MA\",\"TV-MA\",\"TV-MA\",\"TV-MA\",\"TV-MA\",\"TV-MA\",\"TV-MA\",\"TV-MA\",\"TV-MA\",\"TV-MA\",\"TV-MA\",\"TV-MA\",\"TV-MA\",\"TV-MA\",\"TV-MA\",\"TV-MA\",\"TV-MA\",\"TV-MA\",\"TV-MA\",\"TV-MA\",\"TV-MA\",\"TV-MA\",\"TV-MA\",\"TV-MA\",\"TV-MA\",\"TV-MA\",\"TV-MA\",\"TV-MA\",\"TV-MA\",\"TV-MA\",\"TV-MA\",\"TV-MA\",\"TV-MA\",\"TV-MA\",\"TV-MA\",\"TV-MA\",\"TV-MA\",\"TV-MA\",\"TV-MA\",\"TV-MA\",\"TV-MA\",\"TV-MA\",\"TV-MA\",\"TV-MA\",\"TV-MA\",\"TV-MA\",\"TV-MA\",\"TV-MA\",\"TV-MA\",\"TV-MA\",\"TV-MA\",\"TV-MA\",\"TV-MA\",\"TV-MA\",\"TV-MA\",\"TV-MA\",\"TV-MA\",\"TV-MA\",\"TV-MA\",\"TV-MA\",\"TV-MA\",\"TV-MA\",\"TV-MA\",\"TV-MA\",\"TV-MA\",\"TV-MA\",\"TV-MA\",\"TV-MA\",\"TV-MA\",\"TV-MA\",\"TV-MA\",\"TV-MA\",\"TV-MA\",\"TV-MA\",\"TV-MA\",\"TV-MA\",\"TV-MA\",\"TV-MA\",\"TV-MA\",\"TV-MA\",\"TV-MA\",\"TV-MA\",\"TV-MA\",\"TV-MA\",\"TV-MA\",\"TV-MA\",\"TV-MA\",\"TV-MA\",\"TV-MA\",\"TV-MA\",\"TV-MA\",\"TV-MA\",\"TV-MA\",\"TV-MA\",\"TV-MA\",\"TV-MA\",\"TV-MA\",\"TV-MA\",\"TV-MA\",\"TV-MA\",\"TV-MA\",\"TV-MA\",\"TV-MA\",\"TV-MA\",\"TV-MA\",\"TV-MA\",\"TV-MA\",\"TV-MA\",\"TV-MA\",\"TV-MA\",\"TV-MA\",\"TV-MA\",\"TV-MA\",\"TV-MA\",\"TV-MA\",\"TV-MA\",\"TV-MA\",\"TV-MA\",\"TV-MA\",\"TV-MA\",\"TV-MA\",\"TV-MA\",\"TV-MA\",\"TV-MA\",\"TV-MA\",\"TV-MA\",\"TV-MA\",\"TV-MA\",\"TV-MA\",\"TV-MA\",\"TV-MA\",\"TV-MA\",\"TV-MA\",\"TV-MA\",\"TV-MA\",\"TV-MA\",\"TV-MA\",\"TV-MA\",\"TV-MA\",\"TV-MA\"],\"xaxis\":\"x\",\"yaxis\":\"y\",\"type\":\"histogram\"}],                        {\"template\":{\"data\":{\"histogram2dcontour\":[{\"type\":\"histogram2dcontour\",\"colorbar\":{\"outlinewidth\":0,\"ticks\":\"\"},\"colorscale\":[[0.0,\"#0d0887\"],[0.1111111111111111,\"#46039f\"],[0.2222222222222222,\"#7201a8\"],[0.3333333333333333,\"#9c179e\"],[0.4444444444444444,\"#bd3786\"],[0.5555555555555556,\"#d8576b\"],[0.6666666666666666,\"#ed7953\"],[0.7777777777777778,\"#fb9f3a\"],[0.8888888888888888,\"#fdca26\"],[1.0,\"#f0f921\"]]}],\"choropleth\":[{\"type\":\"choropleth\",\"colorbar\":{\"outlinewidth\":0,\"ticks\":\"\"}}],\"histogram2d\":[{\"type\":\"histogram2d\",\"colorbar\":{\"outlinewidth\":0,\"ticks\":\"\"},\"colorscale\":[[0.0,\"#0d0887\"],[0.1111111111111111,\"#46039f\"],[0.2222222222222222,\"#7201a8\"],[0.3333333333333333,\"#9c179e\"],[0.4444444444444444,\"#bd3786\"],[0.5555555555555556,\"#d8576b\"],[0.6666666666666666,\"#ed7953\"],[0.7777777777777778,\"#fb9f3a\"],[0.8888888888888888,\"#fdca26\"],[1.0,\"#f0f921\"]]}],\"heatmap\":[{\"type\":\"heatmap\",\"colorbar\":{\"outlinewidth\":0,\"ticks\":\"\"},\"colorscale\":[[0.0,\"#0d0887\"],[0.1111111111111111,\"#46039f\"],[0.2222222222222222,\"#7201a8\"],[0.3333333333333333,\"#9c179e\"],[0.4444444444444444,\"#bd3786\"],[0.5555555555555556,\"#d8576b\"],[0.6666666666666666,\"#ed7953\"],[0.7777777777777778,\"#fb9f3a\"],[0.8888888888888888,\"#fdca26\"],[1.0,\"#f0f921\"]]}],\"heatmapgl\":[{\"type\":\"heatmapgl\",\"colorbar\":{\"outlinewidth\":0,\"ticks\":\"\"},\"colorscale\":[[0.0,\"#0d0887\"],[0.1111111111111111,\"#46039f\"],[0.2222222222222222,\"#7201a8\"],[0.3333333333333333,\"#9c179e\"],[0.4444444444444444,\"#bd3786\"],[0.5555555555555556,\"#d8576b\"],[0.6666666666666666,\"#ed7953\"],[0.7777777777777778,\"#fb9f3a\"],[0.8888888888888888,\"#fdca26\"],[1.0,\"#f0f921\"]]}],\"contourcarpet\":[{\"type\":\"contourcarpet\",\"colorbar\":{\"outlinewidth\":0,\"ticks\":\"\"}}],\"contour\":[{\"type\":\"contour\",\"colorbar\":{\"outlinewidth\":0,\"ticks\":\"\"},\"colorscale\":[[0.0,\"#0d0887\"],[0.1111111111111111,\"#46039f\"],[0.2222222222222222,\"#7201a8\"],[0.3333333333333333,\"#9c179e\"],[0.4444444444444444,\"#bd3786\"],[0.5555555555555556,\"#d8576b\"],[0.6666666666666666,\"#ed7953\"],[0.7777777777777778,\"#fb9f3a\"],[0.8888888888888888,\"#fdca26\"],[1.0,\"#f0f921\"]]}],\"surface\":[{\"type\":\"surface\",\"colorbar\":{\"outlinewidth\":0,\"ticks\":\"\"},\"colorscale\":[[0.0,\"#0d0887\"],[0.1111111111111111,\"#46039f\"],[0.2222222222222222,\"#7201a8\"],[0.3333333333333333,\"#9c179e\"],[0.4444444444444444,\"#bd3786\"],[0.5555555555555556,\"#d8576b\"],[0.6666666666666666,\"#ed7953\"],[0.7777777777777778,\"#fb9f3a\"],[0.8888888888888888,\"#fdca26\"],[1.0,\"#f0f921\"]]}],\"mesh3d\":[{\"type\":\"mesh3d\",\"colorbar\":{\"outlinewidth\":0,\"ticks\":\"\"}}],\"scatter\":[{\"fillpattern\":{\"fillmode\":\"overlay\",\"size\":10,\"solidity\":0.2},\"type\":\"scatter\"}],\"parcoords\":[{\"type\":\"parcoords\",\"line\":{\"colorbar\":{\"outlinewidth\":0,\"ticks\":\"\"}}}],\"scatterpolargl\":[{\"type\":\"scatterpolargl\",\"marker\":{\"colorbar\":{\"outlinewidth\":0,\"ticks\":\"\"}}}],\"bar\":[{\"error_x\":{\"color\":\"#2a3f5f\"},\"error_y\":{\"color\":\"#2a3f5f\"},\"marker\":{\"line\":{\"color\":\"#E5ECF6\",\"width\":0.5},\"pattern\":{\"fillmode\":\"overlay\",\"size\":10,\"solidity\":0.2}},\"type\":\"bar\"}],\"scattergeo\":[{\"type\":\"scattergeo\",\"marker\":{\"colorbar\":{\"outlinewidth\":0,\"ticks\":\"\"}}}],\"scatterpolar\":[{\"type\":\"scatterpolar\",\"marker\":{\"colorbar\":{\"outlinewidth\":0,\"ticks\":\"\"}}}],\"histogram\":[{\"marker\":{\"pattern\":{\"fillmode\":\"overlay\",\"size\":10,\"solidity\":0.2}},\"type\":\"histogram\"}],\"scattergl\":[{\"type\":\"scattergl\",\"marker\":{\"colorbar\":{\"outlinewidth\":0,\"ticks\":\"\"}}}],\"scatter3d\":[{\"type\":\"scatter3d\",\"line\":{\"colorbar\":{\"outlinewidth\":0,\"ticks\":\"\"}},\"marker\":{\"colorbar\":{\"outlinewidth\":0,\"ticks\":\"\"}}}],\"scattermapbox\":[{\"type\":\"scattermapbox\",\"marker\":{\"colorbar\":{\"outlinewidth\":0,\"ticks\":\"\"}}}],\"scatterternary\":[{\"type\":\"scatterternary\",\"marker\":{\"colorbar\":{\"outlinewidth\":0,\"ticks\":\"\"}}}],\"scattercarpet\":[{\"type\":\"scattercarpet\",\"marker\":{\"colorbar\":{\"outlinewidth\":0,\"ticks\":\"\"}}}],\"carpet\":[{\"aaxis\":{\"endlinecolor\":\"#2a3f5f\",\"gridcolor\":\"white\",\"linecolor\":\"white\",\"minorgridcolor\":\"white\",\"startlinecolor\":\"#2a3f5f\"},\"baxis\":{\"endlinecolor\":\"#2a3f5f\",\"gridcolor\":\"white\",\"linecolor\":\"white\",\"minorgridcolor\":\"white\",\"startlinecolor\":\"#2a3f5f\"},\"type\":\"carpet\"}],\"table\":[{\"cells\":{\"fill\":{\"color\":\"#EBF0F8\"},\"line\":{\"color\":\"white\"}},\"header\":{\"fill\":{\"color\":\"#C8D4E3\"},\"line\":{\"color\":\"white\"}},\"type\":\"table\"}],\"barpolar\":[{\"marker\":{\"line\":{\"color\":\"#E5ECF6\",\"width\":0.5},\"pattern\":{\"fillmode\":\"overlay\",\"size\":10,\"solidity\":0.2}},\"type\":\"barpolar\"}],\"pie\":[{\"automargin\":true,\"type\":\"pie\"}]},\"layout\":{\"autotypenumbers\":\"strict\",\"colorway\":[\"#636efa\",\"#EF553B\",\"#00cc96\",\"#ab63fa\",\"#FFA15A\",\"#19d3f3\",\"#FF6692\",\"#B6E880\",\"#FF97FF\",\"#FECB52\"],\"font\":{\"color\":\"#2a3f5f\"},\"hovermode\":\"closest\",\"hoverlabel\":{\"align\":\"left\"},\"paper_bgcolor\":\"white\",\"plot_bgcolor\":\"#E5ECF6\",\"polar\":{\"bgcolor\":\"#E5ECF6\",\"angularaxis\":{\"gridcolor\":\"white\",\"linecolor\":\"white\",\"ticks\":\"\"},\"radialaxis\":{\"gridcolor\":\"white\",\"linecolor\":\"white\",\"ticks\":\"\"}},\"ternary\":{\"bgcolor\":\"#E5ECF6\",\"aaxis\":{\"gridcolor\":\"white\",\"linecolor\":\"white\",\"ticks\":\"\"},\"baxis\":{\"gridcolor\":\"white\",\"linecolor\":\"white\",\"ticks\":\"\"},\"caxis\":{\"gridcolor\":\"white\",\"linecolor\":\"white\",\"ticks\":\"\"}},\"coloraxis\":{\"colorbar\":{\"outlinewidth\":0,\"ticks\":\"\"}},\"colorscale\":{\"sequential\":[[0.0,\"#0d0887\"],[0.1111111111111111,\"#46039f\"],[0.2222222222222222,\"#7201a8\"],[0.3333333333333333,\"#9c179e\"],[0.4444444444444444,\"#bd3786\"],[0.5555555555555556,\"#d8576b\"],[0.6666666666666666,\"#ed7953\"],[0.7777777777777778,\"#fb9f3a\"],[0.8888888888888888,\"#fdca26\"],[1.0,\"#f0f921\"]],\"sequentialminus\":[[0.0,\"#0d0887\"],[0.1111111111111111,\"#46039f\"],[0.2222222222222222,\"#7201a8\"],[0.3333333333333333,\"#9c179e\"],[0.4444444444444444,\"#bd3786\"],[0.5555555555555556,\"#d8576b\"],[0.6666666666666666,\"#ed7953\"],[0.7777777777777778,\"#fb9f3a\"],[0.8888888888888888,\"#fdca26\"],[1.0,\"#f0f921\"]],\"diverging\":[[0,\"#8e0152\"],[0.1,\"#c51b7d\"],[0.2,\"#de77ae\"],[0.3,\"#f1b6da\"],[0.4,\"#fde0ef\"],[0.5,\"#f7f7f7\"],[0.6,\"#e6f5d0\"],[0.7,\"#b8e186\"],[0.8,\"#7fbc41\"],[0.9,\"#4d9221\"],[1,\"#276419\"]]},\"xaxis\":{\"gridcolor\":\"white\",\"linecolor\":\"white\",\"ticks\":\"\",\"title\":{\"standoff\":15},\"zerolinecolor\":\"white\",\"automargin\":true,\"zerolinewidth\":2},\"yaxis\":{\"gridcolor\":\"white\",\"linecolor\":\"white\",\"ticks\":\"\",\"title\":{\"standoff\":15},\"zerolinecolor\":\"white\",\"automargin\":true,\"zerolinewidth\":2},\"scene\":{\"xaxis\":{\"backgroundcolor\":\"#E5ECF6\",\"gridcolor\":\"white\",\"linecolor\":\"white\",\"showbackground\":true,\"ticks\":\"\",\"zerolinecolor\":\"white\",\"gridwidth\":2},\"yaxis\":{\"backgroundcolor\":\"#E5ECF6\",\"gridcolor\":\"white\",\"linecolor\":\"white\",\"showbackground\":true,\"ticks\":\"\",\"zerolinecolor\":\"white\",\"gridwidth\":2},\"zaxis\":{\"backgroundcolor\":\"#E5ECF6\",\"gridcolor\":\"white\",\"linecolor\":\"white\",\"showbackground\":true,\"ticks\":\"\",\"zerolinecolor\":\"white\",\"gridwidth\":2}},\"shapedefaults\":{\"line\":{\"color\":\"#2a3f5f\"}},\"annotationdefaults\":{\"arrowcolor\":\"#2a3f5f\",\"arrowhead\":0,\"arrowwidth\":1},\"geo\":{\"bgcolor\":\"white\",\"landcolor\":\"#E5ECF6\",\"subunitcolor\":\"white\",\"showland\":true,\"showlakes\":true,\"lakecolor\":\"white\"},\"title\":{\"x\":0.05},\"mapbox\":{\"style\":\"light\"}}},\"xaxis\":{\"anchor\":\"y\",\"domain\":[0.0,1.0],\"title\":{\"text\":\"age certification\"},\"categoryorder\":\"array\",\"categoryarray\":[\"TV-Y\",\"TV-Y7\",\"TV-G\",\"TV-PG\",\"TV-14\",\"TV-MA\",null]},\"yaxis\":{\"anchor\":\"x\",\"domain\":[0.0,1.0],\"title\":{\"text\":\"count\"}},\"legend\":{\"title\":{\"text\":\"age certification\"},\"tracegroupgap\":0},\"title\":{\"text\":\"Shows in 2019 by age certification\"},\"barmode\":\"relative\"},                        {\"responsive\": true}                    ).then(function(){\n",
       "                            \n",
       "var gd = document.getElementById('4c4dd67a-d7b3-48e2-8046-36a62aa2d385');\n",
       "var x = new MutationObserver(function (mutations, observer) {{\n",
       "        var display = window.getComputedStyle(gd).display;\n",
       "        if (!display || display === 'none') {{\n",
       "            console.log([gd, 'removed!']);\n",
       "            Plotly.purge(gd);\n",
       "            observer.disconnect();\n",
       "        }}\n",
       "}});\n",
       "\n",
       "// Listen for the removal of the full notebook cells\n",
       "var notebookContainer = gd.closest('#notebook-container');\n",
       "if (notebookContainer) {{\n",
       "    x.observe(notebookContainer, {childList: true});\n",
       "}}\n",
       "\n",
       "// Listen for the clearing of the current output cell\n",
       "var outputEl = gd.closest('.output');\n",
       "if (outputEl) {{\n",
       "    x.observe(outputEl, {childList: true});\n",
       "}}\n",
       "\n",
       "                        })                };                });            </script>        </div>"
      ]
     },
     "metadata": {},
     "output_type": "display_data"
    }
   ],
   "source": [
    "px.histogram(\n",
    "    df_shows.loc[df_shows[\"release_year\"] == 2019],\n",
    "    x=\"age_certification\",\n",
    "    category_orders={\n",
    "        \"age_certification\": [\"TV-Y\", \"TV-Y7\", \"TV-G\", \"TV-PG\", \"TV-14\", \"TV-MA\"]\n",
    "    },\n",
    "    color=\"age_certification\",\n",
    "    title=\"Shows in 2019 by age certification\",\n",
    "    labels={\"age_certification\": \"age certification\"},\n",
    ")"
   ]
  },
  {
   "cell_type": "code",
   "execution_count": 10,
   "id": "33cb1889",
   "metadata": {
    "_cell_guid": "c95fd993-9d02-4683-bcca-336a92e1c789",
    "_uuid": "7f105852-7a50-4bd5-8b99-571a18350bcf",
    "collapsed": false,
    "execution": {
     "iopub.execute_input": "2023-11-29T18:44:39.001657Z",
     "iopub.status.busy": "2023-11-29T18:44:39.001222Z",
     "iopub.status.idle": "2023-11-29T18:44:39.077232Z",
     "shell.execute_reply": "2023-11-29T18:44:39.076070Z"
    },
    "jupyter": {
     "outputs_hidden": false
    },
    "papermill": {
     "duration": 0.095462,
     "end_time": "2023-11-29T18:44:39.080372",
     "exception": false,
     "start_time": "2023-11-29T18:44:38.984910",
     "status": "completed"
    },
    "tags": []
   },
   "outputs": [
    {
     "data": {
      "text/html": [
       "<div>                            <div id=\"7fffc92d-5ac1-46ef-8600-85f8f63593fb\" class=\"plotly-graph-div\" style=\"height:525px; width:100%;\"></div>            <script type=\"text/javascript\">                require([\"plotly\"], function(Plotly) {                    window.PLOTLYENV=window.PLOTLYENV || {};                                    if (document.getElementById(\"7fffc92d-5ac1-46ef-8600-85f8f63593fb\")) {                    Plotly.newPlot(                        \"7fffc92d-5ac1-46ef-8600-85f8f63593fb\",                        [{\"mode\":\"lines+markers\",\"name\":\"Maximum IMDB rating\",\"x\":[1953,1954,1956,1958,1959,1960,1961,1962,1963,1964,1966,1967,1968,1969,1971,1972,1973,1974,1975,1976,1977,1978,1979,1980,1981,1982,1983,1984,1985,1986,1987,1988,1989,1990,1991,1992,1993,1994,1995,1996,1997,1998,1999,2000,2001,2002,2003,2004,2005,2006,2007,2008,2009,2010,2011,2012,2013,2014,2015,2016,2017,2018,2019,2020,2021,2022],\"y\":[6.8,7.5,6.7,7.5,6.7,6.4,7.5,6.8,7.6,7.8,7.3,7.7,7.2,6.9,7.7,6.2,8.1,6.5,8.2,8.3,7.5,4.2,9.0,7.8,7.2,8.7,6.7,8.3,8.0,8.1,8.3,7.3,8.1,7.8,7.2,7.2,8.5,8.8,8.1,7.9,8.0,8.6,8.2,7.3,8.3,8.4,8.7,8.4,7.6,8.7,8.3,8.0,8.4,8.8,9.0,8.4,8.6,8.3,8.6,8.4,8.3,9.0,8.7,9.0,8.7,8.0],\"type\":\"scatter\"},{\"customdata\":[[null,1.0],[0.05,2.0],[null,1.0],[null,1.0],[null,1.0],[null,1.0],[null,1.0],[null,1.0],[null,1.0],[null,1.0],[0.3,2.0],[null,1.0],[null,1.0],[null,1.0],[0.75,2.0],[null,1.0],[1.5,2.0],[null,1.0],[0.85,2.0],[1.1,3.0],[null,1.0],[null,1.0],[0.39,7.0],[1.25,4.0],[1.15,2.0],[0.33,7.0],[0.2,2.0],[0.52,4.0],[null,1.0],[0.4,6.0],[0.6,5.0],[0.35,6.0],[0.4,6.0],[0.32,7.0],[0.3,10.0],[0.35,2.0],[0.26,17.0],[0.52,10.0],[0.4,10.0],[0.42,7.0],[0.32,13.0],[0.24,20.0],[0.36,9.0],[0.19,8.0],[0.27,17.0],[0.26,13.0],[0.25,22.0],[0.22,25.0],[0.15,26.0],[0.18,36.0],[0.17,39.0],[0.15,47.0],[0.2,43.0],[0.14,51.0],[0.13,68.0],[0.15,74.0],[0.13,97.0],[0.1,108.0],[0.1,134.0],[0.08,213.0],[0.05,378.0],[0.05,447.0],[0.05,469.0],[0.06,407.0],[0.06,411.0],[0.11,90.0]],\"error_y\":{\"array\":[null,0.05,null,null,null,null,null,null,null,null,0.3,null,null,null,0.75,null,1.5,null,0.85,1.1,null,null,0.39,1.25,1.15,0.33,0.2,0.52,null,0.4,0.6,0.35,0.4,0.32,0.3,0.35,0.26,0.52,0.4,0.42,0.32,0.24,0.36,0.19,0.27,0.26,0.25,0.22,0.15,0.18,0.17,0.15,0.2,0.14,0.13,0.15,0.13,0.1,0.1,0.08,0.05,0.05,0.05,0.06,0.06,0.11],\"type\":\"data\",\"visible\":true},\"hovertemplate\":\"Year: %{x}\\u003cbr\\u003eRating: %{y:.2f} +- %{customdata[0]:.2f}\\u003cbr\\u003eCount: %{customdata[1]}\",\"mode\":\"lines+markers\",\"name\":\"Average IMDB rating\",\"x\":[1953,1954,1956,1958,1959,1960,1961,1962,1963,1964,1966,1967,1968,1969,1971,1972,1973,1974,1975,1976,1977,1978,1979,1980,1981,1982,1983,1984,1985,1986,1987,1988,1989,1990,1991,1992,1993,1994,1995,1996,1997,1998,1999,2000,2001,2002,2003,2004,2005,2006,2007,2008,2009,2010,2011,2012,2013,2014,2015,2016,2017,2018,2019,2020,2021,2022],\"y\":[6.8,7.45,6.7,7.5,6.7,6.4,7.5,6.8,7.6,7.8,7.0,7.7,7.2,6.9,6.95,6.2,6.6,6.5,7.35,6.7,7.5,4.2,7.47,5.65,6.05,7.29,6.5,7.0,8.0,6.67,6.84,6.33,6.9,6.61,5.99,6.85,6.53,6.33,6.2,6.44,6.6,6.74,6.6,6.5,6.84,6.86,6.81,6.68,6.47,6.57,6.7,6.58,6.38,6.72,6.47,6.43,6.45,6.59,6.25,6.24,6.24,6.21,6.24,6.06,6.03,5.97],\"type\":\"scatter\"},{\"mode\":\"lines+markers\",\"name\":\"Minimum IMDB rating\",\"x\":[1953,1954,1956,1958,1959,1960,1961,1962,1963,1964,1966,1967,1968,1969,1971,1972,1973,1974,1975,1976,1977,1978,1979,1980,1981,1982,1983,1984,1985,1986,1987,1988,1989,1990,1991,1992,1993,1994,1995,1996,1997,1998,1999,2000,2001,2002,2003,2004,2005,2006,2007,2008,2009,2010,2011,2012,2013,2014,2015,2016,2017,2018,2019,2020,2021,2022],\"y\":[6.8,7.4,6.7,7.5,6.7,6.4,7.5,6.8,7.6,7.8,6.7,7.7,7.2,6.9,6.2,6.2,5.1,6.5,6.5,4.6,7.5,4.2,6.2,2.1,4.9,6.3,6.3,6.1,8.0,5.2,4.8,5.1,5.4,5.6,4.5,6.5,4.7,3.6,4.0,4.5,4.7,4.7,4.6,5.8,4.8,5.1,4.0,4.8,4.7,2.9,3.6,3.4,2.9,4.8,3.3,2.0,1.7,3.8,2.8,1.5,2.2,2.3,2.5,1.7,2.2,2.5],\"type\":\"scatter\"}],                        {\"template\":{\"data\":{\"histogram2dcontour\":[{\"type\":\"histogram2dcontour\",\"colorbar\":{\"outlinewidth\":0,\"ticks\":\"\"},\"colorscale\":[[0.0,\"#0d0887\"],[0.1111111111111111,\"#46039f\"],[0.2222222222222222,\"#7201a8\"],[0.3333333333333333,\"#9c179e\"],[0.4444444444444444,\"#bd3786\"],[0.5555555555555556,\"#d8576b\"],[0.6666666666666666,\"#ed7953\"],[0.7777777777777778,\"#fb9f3a\"],[0.8888888888888888,\"#fdca26\"],[1.0,\"#f0f921\"]]}],\"choropleth\":[{\"type\":\"choropleth\",\"colorbar\":{\"outlinewidth\":0,\"ticks\":\"\"}}],\"histogram2d\":[{\"type\":\"histogram2d\",\"colorbar\":{\"outlinewidth\":0,\"ticks\":\"\"},\"colorscale\":[[0.0,\"#0d0887\"],[0.1111111111111111,\"#46039f\"],[0.2222222222222222,\"#7201a8\"],[0.3333333333333333,\"#9c179e\"],[0.4444444444444444,\"#bd3786\"],[0.5555555555555556,\"#d8576b\"],[0.6666666666666666,\"#ed7953\"],[0.7777777777777778,\"#fb9f3a\"],[0.8888888888888888,\"#fdca26\"],[1.0,\"#f0f921\"]]}],\"heatmap\":[{\"type\":\"heatmap\",\"colorbar\":{\"outlinewidth\":0,\"ticks\":\"\"},\"colorscale\":[[0.0,\"#0d0887\"],[0.1111111111111111,\"#46039f\"],[0.2222222222222222,\"#7201a8\"],[0.3333333333333333,\"#9c179e\"],[0.4444444444444444,\"#bd3786\"],[0.5555555555555556,\"#d8576b\"],[0.6666666666666666,\"#ed7953\"],[0.7777777777777778,\"#fb9f3a\"],[0.8888888888888888,\"#fdca26\"],[1.0,\"#f0f921\"]]}],\"heatmapgl\":[{\"type\":\"heatmapgl\",\"colorbar\":{\"outlinewidth\":0,\"ticks\":\"\"},\"colorscale\":[[0.0,\"#0d0887\"],[0.1111111111111111,\"#46039f\"],[0.2222222222222222,\"#7201a8\"],[0.3333333333333333,\"#9c179e\"],[0.4444444444444444,\"#bd3786\"],[0.5555555555555556,\"#d8576b\"],[0.6666666666666666,\"#ed7953\"],[0.7777777777777778,\"#fb9f3a\"],[0.8888888888888888,\"#fdca26\"],[1.0,\"#f0f921\"]]}],\"contourcarpet\":[{\"type\":\"contourcarpet\",\"colorbar\":{\"outlinewidth\":0,\"ticks\":\"\"}}],\"contour\":[{\"type\":\"contour\",\"colorbar\":{\"outlinewidth\":0,\"ticks\":\"\"},\"colorscale\":[[0.0,\"#0d0887\"],[0.1111111111111111,\"#46039f\"],[0.2222222222222222,\"#7201a8\"],[0.3333333333333333,\"#9c179e\"],[0.4444444444444444,\"#bd3786\"],[0.5555555555555556,\"#d8576b\"],[0.6666666666666666,\"#ed7953\"],[0.7777777777777778,\"#fb9f3a\"],[0.8888888888888888,\"#fdca26\"],[1.0,\"#f0f921\"]]}],\"surface\":[{\"type\":\"surface\",\"colorbar\":{\"outlinewidth\":0,\"ticks\":\"\"},\"colorscale\":[[0.0,\"#0d0887\"],[0.1111111111111111,\"#46039f\"],[0.2222222222222222,\"#7201a8\"],[0.3333333333333333,\"#9c179e\"],[0.4444444444444444,\"#bd3786\"],[0.5555555555555556,\"#d8576b\"],[0.6666666666666666,\"#ed7953\"],[0.7777777777777778,\"#fb9f3a\"],[0.8888888888888888,\"#fdca26\"],[1.0,\"#f0f921\"]]}],\"mesh3d\":[{\"type\":\"mesh3d\",\"colorbar\":{\"outlinewidth\":0,\"ticks\":\"\"}}],\"scatter\":[{\"fillpattern\":{\"fillmode\":\"overlay\",\"size\":10,\"solidity\":0.2},\"type\":\"scatter\"}],\"parcoords\":[{\"type\":\"parcoords\",\"line\":{\"colorbar\":{\"outlinewidth\":0,\"ticks\":\"\"}}}],\"scatterpolargl\":[{\"type\":\"scatterpolargl\",\"marker\":{\"colorbar\":{\"outlinewidth\":0,\"ticks\":\"\"}}}],\"bar\":[{\"error_x\":{\"color\":\"#2a3f5f\"},\"error_y\":{\"color\":\"#2a3f5f\"},\"marker\":{\"line\":{\"color\":\"#E5ECF6\",\"width\":0.5},\"pattern\":{\"fillmode\":\"overlay\",\"size\":10,\"solidity\":0.2}},\"type\":\"bar\"}],\"scattergeo\":[{\"type\":\"scattergeo\",\"marker\":{\"colorbar\":{\"outlinewidth\":0,\"ticks\":\"\"}}}],\"scatterpolar\":[{\"type\":\"scatterpolar\",\"marker\":{\"colorbar\":{\"outlinewidth\":0,\"ticks\":\"\"}}}],\"histogram\":[{\"marker\":{\"pattern\":{\"fillmode\":\"overlay\",\"size\":10,\"solidity\":0.2}},\"type\":\"histogram\"}],\"scattergl\":[{\"type\":\"scattergl\",\"marker\":{\"colorbar\":{\"outlinewidth\":0,\"ticks\":\"\"}}}],\"scatter3d\":[{\"type\":\"scatter3d\",\"line\":{\"colorbar\":{\"outlinewidth\":0,\"ticks\":\"\"}},\"marker\":{\"colorbar\":{\"outlinewidth\":0,\"ticks\":\"\"}}}],\"scattermapbox\":[{\"type\":\"scattermapbox\",\"marker\":{\"colorbar\":{\"outlinewidth\":0,\"ticks\":\"\"}}}],\"scatterternary\":[{\"type\":\"scatterternary\",\"marker\":{\"colorbar\":{\"outlinewidth\":0,\"ticks\":\"\"}}}],\"scattercarpet\":[{\"type\":\"scattercarpet\",\"marker\":{\"colorbar\":{\"outlinewidth\":0,\"ticks\":\"\"}}}],\"carpet\":[{\"aaxis\":{\"endlinecolor\":\"#2a3f5f\",\"gridcolor\":\"white\",\"linecolor\":\"white\",\"minorgridcolor\":\"white\",\"startlinecolor\":\"#2a3f5f\"},\"baxis\":{\"endlinecolor\":\"#2a3f5f\",\"gridcolor\":\"white\",\"linecolor\":\"white\",\"minorgridcolor\":\"white\",\"startlinecolor\":\"#2a3f5f\"},\"type\":\"carpet\"}],\"table\":[{\"cells\":{\"fill\":{\"color\":\"#EBF0F8\"},\"line\":{\"color\":\"white\"}},\"header\":{\"fill\":{\"color\":\"#C8D4E3\"},\"line\":{\"color\":\"white\"}},\"type\":\"table\"}],\"barpolar\":[{\"marker\":{\"line\":{\"color\":\"#E5ECF6\",\"width\":0.5},\"pattern\":{\"fillmode\":\"overlay\",\"size\":10,\"solidity\":0.2}},\"type\":\"barpolar\"}],\"pie\":[{\"automargin\":true,\"type\":\"pie\"}]},\"layout\":{\"autotypenumbers\":\"strict\",\"colorway\":[\"#636efa\",\"#EF553B\",\"#00cc96\",\"#ab63fa\",\"#FFA15A\",\"#19d3f3\",\"#FF6692\",\"#B6E880\",\"#FF97FF\",\"#FECB52\"],\"font\":{\"color\":\"#2a3f5f\"},\"hovermode\":\"closest\",\"hoverlabel\":{\"align\":\"left\"},\"paper_bgcolor\":\"white\",\"plot_bgcolor\":\"#E5ECF6\",\"polar\":{\"bgcolor\":\"#E5ECF6\",\"angularaxis\":{\"gridcolor\":\"white\",\"linecolor\":\"white\",\"ticks\":\"\"},\"radialaxis\":{\"gridcolor\":\"white\",\"linecolor\":\"white\",\"ticks\":\"\"}},\"ternary\":{\"bgcolor\":\"#E5ECF6\",\"aaxis\":{\"gridcolor\":\"white\",\"linecolor\":\"white\",\"ticks\":\"\"},\"baxis\":{\"gridcolor\":\"white\",\"linecolor\":\"white\",\"ticks\":\"\"},\"caxis\":{\"gridcolor\":\"white\",\"linecolor\":\"white\",\"ticks\":\"\"}},\"coloraxis\":{\"colorbar\":{\"outlinewidth\":0,\"ticks\":\"\"}},\"colorscale\":{\"sequential\":[[0.0,\"#0d0887\"],[0.1111111111111111,\"#46039f\"],[0.2222222222222222,\"#7201a8\"],[0.3333333333333333,\"#9c179e\"],[0.4444444444444444,\"#bd3786\"],[0.5555555555555556,\"#d8576b\"],[0.6666666666666666,\"#ed7953\"],[0.7777777777777778,\"#fb9f3a\"],[0.8888888888888888,\"#fdca26\"],[1.0,\"#f0f921\"]],\"sequentialminus\":[[0.0,\"#0d0887\"],[0.1111111111111111,\"#46039f\"],[0.2222222222222222,\"#7201a8\"],[0.3333333333333333,\"#9c179e\"],[0.4444444444444444,\"#bd3786\"],[0.5555555555555556,\"#d8576b\"],[0.6666666666666666,\"#ed7953\"],[0.7777777777777778,\"#fb9f3a\"],[0.8888888888888888,\"#fdca26\"],[1.0,\"#f0f921\"]],\"diverging\":[[0,\"#8e0152\"],[0.1,\"#c51b7d\"],[0.2,\"#de77ae\"],[0.3,\"#f1b6da\"],[0.4,\"#fde0ef\"],[0.5,\"#f7f7f7\"],[0.6,\"#e6f5d0\"],[0.7,\"#b8e186\"],[0.8,\"#7fbc41\"],[0.9,\"#4d9221\"],[1,\"#276419\"]]},\"xaxis\":{\"gridcolor\":\"white\",\"linecolor\":\"white\",\"ticks\":\"\",\"title\":{\"standoff\":15},\"zerolinecolor\":\"white\",\"automargin\":true,\"zerolinewidth\":2},\"yaxis\":{\"gridcolor\":\"white\",\"linecolor\":\"white\",\"ticks\":\"\",\"title\":{\"standoff\":15},\"zerolinecolor\":\"white\",\"automargin\":true,\"zerolinewidth\":2},\"scene\":{\"xaxis\":{\"backgroundcolor\":\"#E5ECF6\",\"gridcolor\":\"white\",\"linecolor\":\"white\",\"showbackground\":true,\"ticks\":\"\",\"zerolinecolor\":\"white\",\"gridwidth\":2},\"yaxis\":{\"backgroundcolor\":\"#E5ECF6\",\"gridcolor\":\"white\",\"linecolor\":\"white\",\"showbackground\":true,\"ticks\":\"\",\"zerolinecolor\":\"white\",\"gridwidth\":2},\"zaxis\":{\"backgroundcolor\":\"#E5ECF6\",\"gridcolor\":\"white\",\"linecolor\":\"white\",\"showbackground\":true,\"ticks\":\"\",\"zerolinecolor\":\"white\",\"gridwidth\":2}},\"shapedefaults\":{\"line\":{\"color\":\"#2a3f5f\"}},\"annotationdefaults\":{\"arrowcolor\":\"#2a3f5f\",\"arrowhead\":0,\"arrowwidth\":1},\"geo\":{\"bgcolor\":\"white\",\"landcolor\":\"#E5ECF6\",\"subunitcolor\":\"white\",\"showland\":true,\"showlakes\":true,\"lakecolor\":\"white\"},\"title\":{\"x\":0.05},\"mapbox\":{\"style\":\"light\"}}},\"yaxis\":{\"range\":[0,10],\"title\":{\"text\":\"Rating\"}},\"title\":{\"text\":\"Movie ratings across the years\"},\"xaxis\":{\"title\":{\"text\":\"Release Year\"}},\"legend\":{\"title\":{\"text\":\"Legend\"}}},                        {\"responsive\": true}                    ).then(function(){\n",
       "                            \n",
       "var gd = document.getElementById('7fffc92d-5ac1-46ef-8600-85f8f63593fb');\n",
       "var x = new MutationObserver(function (mutations, observer) {{\n",
       "        var display = window.getComputedStyle(gd).display;\n",
       "        if (!display || display === 'none') {{\n",
       "            console.log([gd, 'removed!']);\n",
       "            Plotly.purge(gd);\n",
       "            observer.disconnect();\n",
       "        }}\n",
       "}});\n",
       "\n",
       "// Listen for the removal of the full notebook cells\n",
       "var notebookContainer = gd.closest('#notebook-container');\n",
       "if (notebookContainer) {{\n",
       "    x.observe(notebookContainer, {childList: true});\n",
       "}}\n",
       "\n",
       "// Listen for the clearing of the current output cell\n",
       "var outputEl = gd.closest('.output');\n",
       "if (outputEl) {{\n",
       "    x.observe(outputEl, {childList: true});\n",
       "}}\n",
       "\n",
       "                        })                };                });            </script>        </div>"
      ]
     },
     "metadata": {},
     "output_type": "display_data"
    }
   ],
   "source": [
    "fig = go.Figure()\n",
    "\n",
    "x = df_movies.dropna(subset=\"imdb_score\")[\"release_year\"].unique()\n",
    "df_movies_year_rating = df_movies.dropna(subset=\"imdb_score\").groupby(\"release_year\")[\n",
    "    \"imdb_score\"\n",
    "]\n",
    "\n",
    "fig.add_trace(\n",
    "    go.Scatter(\n",
    "        x=x,\n",
    "        y=df_movies_year_rating.max(),\n",
    "        mode=\"lines+markers\",\n",
    "        name=\"Maximum IMDB rating\",\n",
    "    )\n",
    ")\n",
    "\n",
    "y_err = df_movies.groupby(\"release_year\")[\"imdb_score\"].sem().round(2)\n",
    "fig.add_trace(\n",
    "    go.Scatter(\n",
    "        x=x,\n",
    "        y=df_movies_year_rating.mean().round(2),\n",
    "        mode=\"lines+markers\",\n",
    "        name=\"Average IMDB rating\",\n",
    "        error_y=dict(\n",
    "            type=\"data\",\n",
    "            array=y_err,\n",
    "            visible=True,\n",
    "        ),\n",
    "        hovertemplate=\"Year: %{x}\"\n",
    "        + \"<br>Rating: %{y:.2f} +- %{customdata[0]:.2f}\"\n",
    "        + \"<br>Count: %{customdata[1]}\",\n",
    "        customdata=np.stack((y_err, df_movies_year_rating.count().values), axis=-1),\n",
    "    )\n",
    ")\n",
    "\n",
    "fig.add_trace(\n",
    "    go.Scatter(\n",
    "        x=x,\n",
    "        y=df_movies_year_rating.min(),\n",
    "        mode=\"lines+markers\",\n",
    "        name=\"Minimum IMDB rating\",\n",
    "    )\n",
    ")\n",
    "\n",
    "fig.update_yaxes(range=[0, 10])\n",
    "\n",
    "fig.update_layout(\n",
    "    title=\"Movie ratings across the years\",\n",
    "    xaxis_title=\"Release Year\",\n",
    "    yaxis_title=\"Rating\",\n",
    "    legend_title=\"Legend\",\n",
    ")"
   ]
  },
  {
   "cell_type": "code",
   "execution_count": 11,
   "id": "e40c72fe",
   "metadata": {
    "_cell_guid": "38595afc-81f6-4724-82fe-e464d38e849b",
    "_uuid": "9d2671d5-775c-4ca0-9a98-47c64fa431ba",
    "collapsed": false,
    "execution": {
     "iopub.execute_input": "2023-11-29T18:44:39.113554Z",
     "iopub.status.busy": "2023-11-29T18:44:39.113085Z",
     "iopub.status.idle": "2023-11-29T18:44:39.150669Z",
     "shell.execute_reply": "2023-11-29T18:44:39.149731Z"
    },
    "jupyter": {
     "outputs_hidden": false
    },
    "papermill": {
     "duration": 0.059169,
     "end_time": "2023-11-29T18:44:39.154240",
     "exception": false,
     "start_time": "2023-11-29T18:44:39.095071",
     "status": "completed"
    },
    "tags": []
   },
   "outputs": [
    {
     "data": {
      "text/html": [
       "<div>                            <div id=\"719ea468-7624-4b6c-b9fe-7b6f713726bc\" class=\"plotly-graph-div\" style=\"height:525px; width:100%;\"></div>            <script type=\"text/javascript\">                require([\"plotly\"], function(Plotly) {                    window.PLOTLYENV=window.PLOTLYENV || {};                                    if (document.getElementById(\"719ea468-7624-4b6c-b9fe-7b6f713726bc\")) {                    Plotly.newPlot(                        \"719ea468-7624-4b6c-b9fe-7b6f713726bc\",                        [{\"hovertemplate\":\"Year: %{x}\\u003cbr\\u003e Max: %{y}\",\"mode\":\"lines+markers\",\"name\":\"Maximum IMDB rating\",\"x\":[1969,1972,1981,1982,1983,1984,1987,1988,1989,1992,1993,1994,1995,1996,1997,1998,1999,2000,2001,2002,2003,2004,2005,2006,2007,2008,2009,2010,2011,2012,2013,2014,2015,2016,2017,2018,2019,2020,2021,2022],\"y\":[8.8,8.1,7.4,6.9,6.7,6.5,6.1,3.8,8.9,3.8,8.1,7.8,8.5,5.7,8.4,8.9,8.8,9.0,8.6,8.9,8.8,7.8,9.6,9.0,8.4,9.5,8.6,8.7,9.0,8.5,9.0,9.0,9.2,9.0,8.9,9.6,9.3,9.1,9.1,9.2],\"type\":\"scatter\"},{\"customdata\":[[null,1.0],[null,1.0],[null,1.0],[null,1.0],[null,1.0],[null,1.0],[null,1.0],[null,1.0],[0.74,3.0],[null,1.0],[0.42,4.0],[0.53,3.0],[0.45,2.0],[null,1.0],[0.4,2.0],[0.3,5.0],[0.59,3.0],[0.32,5.0],[0.23,6.0],[0.34,7.0],[0.36,9.0],[0.4,4.0],[0.57,10.0],[0.26,12.0],[0.43,10.0],[0.37,13.0],[0.24,17.0],[0.25,20.0],[0.21,29.0],[0.14,31.0],[0.2,37.0],[0.16,43.0],[0.11,92.0],[0.08,138.0],[0.08,177.0],[0.06,286.0],[0.06,280.0],[0.07,250.0],[0.06,276.0],[0.13,92.0]],\"error_y\":{\"array\":[null,null,null,null,null,null,null,null,0.74,null,0.42,0.53,0.45,null,0.4,0.3,0.59,0.32,0.23,0.34,0.36,0.4,0.57,0.26,0.43,0.37,0.24,0.25,0.21,0.14,0.2,0.16,0.11,0.08,0.08,0.06,0.06,0.07,0.06,0.13],\"type\":\"data\",\"visible\":true},\"hovertemplate\":\"Year: %{x}\\u003cbr\\u003eRating: %{y:.2f} +- %{customdata[0]:.2f}\\u003cbr\\u003eCount: %{customdata[1]}\",\"mode\":\"lines+markers\",\"name\":\"Average IMDB rating\",\"x\":[1969,1972,1981,1982,1983,1984,1987,1988,1989,1992,1993,1994,1995,1996,1997,1998,1999,2000,2001,2002,2003,2004,2005,2006,2007,2008,2009,2010,2011,2012,2013,2014,2015,2016,2017,2018,2019,2020,2021,2022],\"y\":[8.8,8.1,7.4,6.9,6.7,6.5,6.1,3.8,7.47,3.8,6.98,7.27,8.05,5.7,8.0,7.86,7.67,7.94,7.52,7.83,7.21,6.88,7.25,7.96,6.97,7.39,7.26,7.31,7.24,7.45,7.11,7.29,7.37,7.26,7.14,7.03,7.01,6.8,6.75,6.55],\"type\":\"scatter\"},{\"hovertemplate\":\"Year: %{x}\\u003cbr\\u003e Min: %{y}\",\"mode\":\"lines+markers\",\"name\":\"Minimum IMDB rating\",\"x\":[1969,1972,1981,1982,1983,1984,1987,1988,1989,1992,1993,1994,1995,1996,1997,1998,1999,2000,2001,2002,2003,2004,2005,2006,2007,2008,2009,2010,2011,2012,2013,2014,2015,2016,2017,2018,2019,2020,2021,2022],\"y\":[8.8,8.1,7.4,6.9,6.7,6.5,6.1,3.8,6.4,3.8,6.2,6.2,7.6,5.7,7.6,7.2,6.8,7.2,7.0,6.5,5.6,6.2,3.9,6.3,4.1,4.1,5.3,4.2,4.5,5.9,4.6,4.3,3.1,3.8,2.3,3.4,3.5,2.5,1.7,1.6],\"type\":\"scatter\"}],                        {\"template\":{\"data\":{\"histogram2dcontour\":[{\"type\":\"histogram2dcontour\",\"colorbar\":{\"outlinewidth\":0,\"ticks\":\"\"},\"colorscale\":[[0.0,\"#0d0887\"],[0.1111111111111111,\"#46039f\"],[0.2222222222222222,\"#7201a8\"],[0.3333333333333333,\"#9c179e\"],[0.4444444444444444,\"#bd3786\"],[0.5555555555555556,\"#d8576b\"],[0.6666666666666666,\"#ed7953\"],[0.7777777777777778,\"#fb9f3a\"],[0.8888888888888888,\"#fdca26\"],[1.0,\"#f0f921\"]]}],\"choropleth\":[{\"type\":\"choropleth\",\"colorbar\":{\"outlinewidth\":0,\"ticks\":\"\"}}],\"histogram2d\":[{\"type\":\"histogram2d\",\"colorbar\":{\"outlinewidth\":0,\"ticks\":\"\"},\"colorscale\":[[0.0,\"#0d0887\"],[0.1111111111111111,\"#46039f\"],[0.2222222222222222,\"#7201a8\"],[0.3333333333333333,\"#9c179e\"],[0.4444444444444444,\"#bd3786\"],[0.5555555555555556,\"#d8576b\"],[0.6666666666666666,\"#ed7953\"],[0.7777777777777778,\"#fb9f3a\"],[0.8888888888888888,\"#fdca26\"],[1.0,\"#f0f921\"]]}],\"heatmap\":[{\"type\":\"heatmap\",\"colorbar\":{\"outlinewidth\":0,\"ticks\":\"\"},\"colorscale\":[[0.0,\"#0d0887\"],[0.1111111111111111,\"#46039f\"],[0.2222222222222222,\"#7201a8\"],[0.3333333333333333,\"#9c179e\"],[0.4444444444444444,\"#bd3786\"],[0.5555555555555556,\"#d8576b\"],[0.6666666666666666,\"#ed7953\"],[0.7777777777777778,\"#fb9f3a\"],[0.8888888888888888,\"#fdca26\"],[1.0,\"#f0f921\"]]}],\"heatmapgl\":[{\"type\":\"heatmapgl\",\"colorbar\":{\"outlinewidth\":0,\"ticks\":\"\"},\"colorscale\":[[0.0,\"#0d0887\"],[0.1111111111111111,\"#46039f\"],[0.2222222222222222,\"#7201a8\"],[0.3333333333333333,\"#9c179e\"],[0.4444444444444444,\"#bd3786\"],[0.5555555555555556,\"#d8576b\"],[0.6666666666666666,\"#ed7953\"],[0.7777777777777778,\"#fb9f3a\"],[0.8888888888888888,\"#fdca26\"],[1.0,\"#f0f921\"]]}],\"contourcarpet\":[{\"type\":\"contourcarpet\",\"colorbar\":{\"outlinewidth\":0,\"ticks\":\"\"}}],\"contour\":[{\"type\":\"contour\",\"colorbar\":{\"outlinewidth\":0,\"ticks\":\"\"},\"colorscale\":[[0.0,\"#0d0887\"],[0.1111111111111111,\"#46039f\"],[0.2222222222222222,\"#7201a8\"],[0.3333333333333333,\"#9c179e\"],[0.4444444444444444,\"#bd3786\"],[0.5555555555555556,\"#d8576b\"],[0.6666666666666666,\"#ed7953\"],[0.7777777777777778,\"#fb9f3a\"],[0.8888888888888888,\"#fdca26\"],[1.0,\"#f0f921\"]]}],\"surface\":[{\"type\":\"surface\",\"colorbar\":{\"outlinewidth\":0,\"ticks\":\"\"},\"colorscale\":[[0.0,\"#0d0887\"],[0.1111111111111111,\"#46039f\"],[0.2222222222222222,\"#7201a8\"],[0.3333333333333333,\"#9c179e\"],[0.4444444444444444,\"#bd3786\"],[0.5555555555555556,\"#d8576b\"],[0.6666666666666666,\"#ed7953\"],[0.7777777777777778,\"#fb9f3a\"],[0.8888888888888888,\"#fdca26\"],[1.0,\"#f0f921\"]]}],\"mesh3d\":[{\"type\":\"mesh3d\",\"colorbar\":{\"outlinewidth\":0,\"ticks\":\"\"}}],\"scatter\":[{\"fillpattern\":{\"fillmode\":\"overlay\",\"size\":10,\"solidity\":0.2},\"type\":\"scatter\"}],\"parcoords\":[{\"type\":\"parcoords\",\"line\":{\"colorbar\":{\"outlinewidth\":0,\"ticks\":\"\"}}}],\"scatterpolargl\":[{\"type\":\"scatterpolargl\",\"marker\":{\"colorbar\":{\"outlinewidth\":0,\"ticks\":\"\"}}}],\"bar\":[{\"error_x\":{\"color\":\"#2a3f5f\"},\"error_y\":{\"color\":\"#2a3f5f\"},\"marker\":{\"line\":{\"color\":\"#E5ECF6\",\"width\":0.5},\"pattern\":{\"fillmode\":\"overlay\",\"size\":10,\"solidity\":0.2}},\"type\":\"bar\"}],\"scattergeo\":[{\"type\":\"scattergeo\",\"marker\":{\"colorbar\":{\"outlinewidth\":0,\"ticks\":\"\"}}}],\"scatterpolar\":[{\"type\":\"scatterpolar\",\"marker\":{\"colorbar\":{\"outlinewidth\":0,\"ticks\":\"\"}}}],\"histogram\":[{\"marker\":{\"pattern\":{\"fillmode\":\"overlay\",\"size\":10,\"solidity\":0.2}},\"type\":\"histogram\"}],\"scattergl\":[{\"type\":\"scattergl\",\"marker\":{\"colorbar\":{\"outlinewidth\":0,\"ticks\":\"\"}}}],\"scatter3d\":[{\"type\":\"scatter3d\",\"line\":{\"colorbar\":{\"outlinewidth\":0,\"ticks\":\"\"}},\"marker\":{\"colorbar\":{\"outlinewidth\":0,\"ticks\":\"\"}}}],\"scattermapbox\":[{\"type\":\"scattermapbox\",\"marker\":{\"colorbar\":{\"outlinewidth\":0,\"ticks\":\"\"}}}],\"scatterternary\":[{\"type\":\"scatterternary\",\"marker\":{\"colorbar\":{\"outlinewidth\":0,\"ticks\":\"\"}}}],\"scattercarpet\":[{\"type\":\"scattercarpet\",\"marker\":{\"colorbar\":{\"outlinewidth\":0,\"ticks\":\"\"}}}],\"carpet\":[{\"aaxis\":{\"endlinecolor\":\"#2a3f5f\",\"gridcolor\":\"white\",\"linecolor\":\"white\",\"minorgridcolor\":\"white\",\"startlinecolor\":\"#2a3f5f\"},\"baxis\":{\"endlinecolor\":\"#2a3f5f\",\"gridcolor\":\"white\",\"linecolor\":\"white\",\"minorgridcolor\":\"white\",\"startlinecolor\":\"#2a3f5f\"},\"type\":\"carpet\"}],\"table\":[{\"cells\":{\"fill\":{\"color\":\"#EBF0F8\"},\"line\":{\"color\":\"white\"}},\"header\":{\"fill\":{\"color\":\"#C8D4E3\"},\"line\":{\"color\":\"white\"}},\"type\":\"table\"}],\"barpolar\":[{\"marker\":{\"line\":{\"color\":\"#E5ECF6\",\"width\":0.5},\"pattern\":{\"fillmode\":\"overlay\",\"size\":10,\"solidity\":0.2}},\"type\":\"barpolar\"}],\"pie\":[{\"automargin\":true,\"type\":\"pie\"}]},\"layout\":{\"autotypenumbers\":\"strict\",\"colorway\":[\"#636efa\",\"#EF553B\",\"#00cc96\",\"#ab63fa\",\"#FFA15A\",\"#19d3f3\",\"#FF6692\",\"#B6E880\",\"#FF97FF\",\"#FECB52\"],\"font\":{\"color\":\"#2a3f5f\"},\"hovermode\":\"closest\",\"hoverlabel\":{\"align\":\"left\"},\"paper_bgcolor\":\"white\",\"plot_bgcolor\":\"#E5ECF6\",\"polar\":{\"bgcolor\":\"#E5ECF6\",\"angularaxis\":{\"gridcolor\":\"white\",\"linecolor\":\"white\",\"ticks\":\"\"},\"radialaxis\":{\"gridcolor\":\"white\",\"linecolor\":\"white\",\"ticks\":\"\"}},\"ternary\":{\"bgcolor\":\"#E5ECF6\",\"aaxis\":{\"gridcolor\":\"white\",\"linecolor\":\"white\",\"ticks\":\"\"},\"baxis\":{\"gridcolor\":\"white\",\"linecolor\":\"white\",\"ticks\":\"\"},\"caxis\":{\"gridcolor\":\"white\",\"linecolor\":\"white\",\"ticks\":\"\"}},\"coloraxis\":{\"colorbar\":{\"outlinewidth\":0,\"ticks\":\"\"}},\"colorscale\":{\"sequential\":[[0.0,\"#0d0887\"],[0.1111111111111111,\"#46039f\"],[0.2222222222222222,\"#7201a8\"],[0.3333333333333333,\"#9c179e\"],[0.4444444444444444,\"#bd3786\"],[0.5555555555555556,\"#d8576b\"],[0.6666666666666666,\"#ed7953\"],[0.7777777777777778,\"#fb9f3a\"],[0.8888888888888888,\"#fdca26\"],[1.0,\"#f0f921\"]],\"sequentialminus\":[[0.0,\"#0d0887\"],[0.1111111111111111,\"#46039f\"],[0.2222222222222222,\"#7201a8\"],[0.3333333333333333,\"#9c179e\"],[0.4444444444444444,\"#bd3786\"],[0.5555555555555556,\"#d8576b\"],[0.6666666666666666,\"#ed7953\"],[0.7777777777777778,\"#fb9f3a\"],[0.8888888888888888,\"#fdca26\"],[1.0,\"#f0f921\"]],\"diverging\":[[0,\"#8e0152\"],[0.1,\"#c51b7d\"],[0.2,\"#de77ae\"],[0.3,\"#f1b6da\"],[0.4,\"#fde0ef\"],[0.5,\"#f7f7f7\"],[0.6,\"#e6f5d0\"],[0.7,\"#b8e186\"],[0.8,\"#7fbc41\"],[0.9,\"#4d9221\"],[1,\"#276419\"]]},\"xaxis\":{\"gridcolor\":\"white\",\"linecolor\":\"white\",\"ticks\":\"\",\"title\":{\"standoff\":15},\"zerolinecolor\":\"white\",\"automargin\":true,\"zerolinewidth\":2},\"yaxis\":{\"gridcolor\":\"white\",\"linecolor\":\"white\",\"ticks\":\"\",\"title\":{\"standoff\":15},\"zerolinecolor\":\"white\",\"automargin\":true,\"zerolinewidth\":2},\"scene\":{\"xaxis\":{\"backgroundcolor\":\"#E5ECF6\",\"gridcolor\":\"white\",\"linecolor\":\"white\",\"showbackground\":true,\"ticks\":\"\",\"zerolinecolor\":\"white\",\"gridwidth\":2},\"yaxis\":{\"backgroundcolor\":\"#E5ECF6\",\"gridcolor\":\"white\",\"linecolor\":\"white\",\"showbackground\":true,\"ticks\":\"\",\"zerolinecolor\":\"white\",\"gridwidth\":2},\"zaxis\":{\"backgroundcolor\":\"#E5ECF6\",\"gridcolor\":\"white\",\"linecolor\":\"white\",\"showbackground\":true,\"ticks\":\"\",\"zerolinecolor\":\"white\",\"gridwidth\":2}},\"shapedefaults\":{\"line\":{\"color\":\"#2a3f5f\"}},\"annotationdefaults\":{\"arrowcolor\":\"#2a3f5f\",\"arrowhead\":0,\"arrowwidth\":1},\"geo\":{\"bgcolor\":\"white\",\"landcolor\":\"#E5ECF6\",\"subunitcolor\":\"white\",\"showland\":true,\"showlakes\":true,\"lakecolor\":\"white\"},\"title\":{\"x\":0.05},\"mapbox\":{\"style\":\"light\"}}},\"yaxis\":{\"range\":[0,10],\"title\":{\"text\":\"Rating\"}},\"title\":{\"text\":\"Show ratings across the years\"},\"xaxis\":{\"title\":{\"text\":\"Release Year\"}},\"legend\":{\"title\":{\"text\":\"Legend\"}}},                        {\"responsive\": true}                    ).then(function(){\n",
       "                            \n",
       "var gd = document.getElementById('719ea468-7624-4b6c-b9fe-7b6f713726bc');\n",
       "var x = new MutationObserver(function (mutations, observer) {{\n",
       "        var display = window.getComputedStyle(gd).display;\n",
       "        if (!display || display === 'none') {{\n",
       "            console.log([gd, 'removed!']);\n",
       "            Plotly.purge(gd);\n",
       "            observer.disconnect();\n",
       "        }}\n",
       "}});\n",
       "\n",
       "// Listen for the removal of the full notebook cells\n",
       "var notebookContainer = gd.closest('#notebook-container');\n",
       "if (notebookContainer) {{\n",
       "    x.observe(notebookContainer, {childList: true});\n",
       "}}\n",
       "\n",
       "// Listen for the clearing of the current output cell\n",
       "var outputEl = gd.closest('.output');\n",
       "if (outputEl) {{\n",
       "    x.observe(outputEl, {childList: true});\n",
       "}}\n",
       "\n",
       "                        })                };                });            </script>        </div>"
      ]
     },
     "metadata": {},
     "output_type": "display_data"
    }
   ],
   "source": [
    "fig = go.Figure()\n",
    "\n",
    "x = df_shows.dropna(subset=\"imdb_score\")[\"release_year\"].unique()\n",
    "\n",
    "df_shows_year_rating = df_shows.dropna(subset=\"imdb_score\").groupby(\"release_year\")[\n",
    "    \"imdb_score\"\n",
    "]\n",
    "fig.add_trace(\n",
    "    go.Scatter(\n",
    "        x=x,\n",
    "        y=df_shows_year_rating.max(),\n",
    "        mode=\"lines+markers\",\n",
    "        name=\"Maximum IMDB rating\",\n",
    "        hovertemplate=\"Year: %{x}\" + \"<br> Max: %{y}\",\n",
    "    )\n",
    ")\n",
    "\n",
    "y_err = df_shows_year_rating.sem().round(2)\n",
    "fig.add_trace(\n",
    "    go.Scatter(\n",
    "        x=x,\n",
    "        y=df_shows_year_rating.mean().round(2),\n",
    "        mode=\"lines+markers\",\n",
    "        name=\"Average IMDB rating\",\n",
    "        error_y=dict(\n",
    "            type=\"data\",\n",
    "            array=y_err,\n",
    "            visible=True,\n",
    "        ),\n",
    "        hovertemplate=\"Year: %{x}\"\n",
    "        + \"<br>Rating: %{y:.2f} +- %{customdata[0]:.2f}\"\n",
    "        + \"<br>Count: %{customdata[1]}\",\n",
    "        customdata=np.stack((y_err, df_shows_year_rating.count().values), axis=-1),\n",
    "    )\n",
    ")\n",
    "\n",
    "fig.add_trace(\n",
    "    go.Scatter(\n",
    "        x=x,\n",
    "        y=df_shows_year_rating.min(),\n",
    "        mode=\"lines+markers\",\n",
    "        name=\"Minimum IMDB rating\",\n",
    "        hovertemplate=\"Year: %{x}\" + \"<br> Min: %{y}\",\n",
    "    )\n",
    ")\n",
    "\n",
    "fig.update_yaxes(range=[0, 10])\n",
    "\n",
    "fig.update_layout(\n",
    "    title=\"Show ratings across the years\",\n",
    "    xaxis_title=\"Release Year\",\n",
    "    yaxis_title=\"Rating\",\n",
    "    legend_title=\"Legend\",\n",
    ")"
   ]
  },
  {
   "cell_type": "markdown",
   "id": "0caadd7a",
   "metadata": {
    "_cell_guid": "8b4d0bcf-5989-4a91-a16b-bfc210895b51",
    "_uuid": "44171518-67c3-4e9f-9cbe-c582357a4844",
    "papermill": {
     "duration": 0.015841,
     "end_time": "2023-11-29T18:44:39.186099",
     "exception": false,
     "start_time": "2023-11-29T18:44:39.170258",
     "status": "completed"
    },
    "tags": []
   },
   "source": [
    "It seems that from 2000 onwards we see a strong decrease in the 'worst'\n",
    "rating given to productions across both movies and shows.\n",
    "\n",
    "df_netflix"
   ]
  },
  {
   "cell_type": "code",
   "execution_count": 12,
   "id": "0ae2da09",
   "metadata": {
    "_cell_guid": "46d30a47-5694-44f8-b6d2-bf9079e3d021",
    "_uuid": "019f1978-f62d-44ce-825f-ce76d14553f3",
    "collapsed": false,
    "execution": {
     "iopub.execute_input": "2023-11-29T18:44:39.219957Z",
     "iopub.status.busy": "2023-11-29T18:44:39.219026Z",
     "iopub.status.idle": "2023-11-29T18:44:39.417288Z",
     "shell.execute_reply": "2023-11-29T18:44:39.416049Z"
    },
    "jupyter": {
     "outputs_hidden": false
    },
    "papermill": {
     "duration": 0.21903,
     "end_time": "2023-11-29T18:44:39.420355",
     "exception": false,
     "start_time": "2023-11-29T18:44:39.201325",
     "status": "completed"
    },
    "tags": []
   },
   "outputs": [
    {
     "data": {
      "text/html": [
       "<div>                            <div id=\"35eef717-8bf6-4d21-8b90-8369d4537f9f\" class=\"plotly-graph-div\" style=\"height:525px; width:100%;\"></div>            <script type=\"text/javascript\">                require([\"plotly\"], function(Plotly) {                    window.PLOTLYENV=window.PLOTLYENV || {};                                    if (document.getElementById(\"35eef717-8bf6-4d21-8b90-8369d4537f9f\")) {                    Plotly.newPlot(                        \"35eef717-8bf6-4d21-8b90-8369d4537f9f\",                        [{\"alignmentgroup\":\"True\",\"bingroup\":\"x\",\"hovertemplate\":\"x=%{x}\\u003cbr\\u003ecount=%{y}\\u003cextra\\u003e\\u003c\\u002fextra\\u003e\",\"legendgroup\":\"\",\"marker\":{\"color\":\"#636efa\",\"pattern\":{\"shape\":\"\"}},\"name\":\"\",\"offsetgroup\":\"\",\"orientation\":\"v\",\"showlegend\":false,\"x\":[1,1,1,1,1,1,1,1,2,1,1,1,1,1,1,1,1,1,1,1,0,1,1,1,1,1,1,1,1,1,2,1,1,1,3,2,1,1,1,1,1,1,1,1,1,3,1,1,1,1,1,2,1,1,1,1,1,1,1,1,1,1,1,1,1,2,1,1,1,1,1,1,1,1,1,1,1,1,1,2,1,1,1,1,1,1,1,1,1,1,2,1,1,1,1,1,1,1,1,1,2,1,1,1,2,1,1,1,1,4,1,1,1,2,1,1,1,1,1,1,1,1,5,2,2,1,1,1,1,1,3,1,1,1,1,1,1,1,1,2,1,1,1,1,2,1,1,1,1,1,2,2,1,1,1,1,1,1,1,1,1,1,2,2,1,1,1,2,1,1,1,4,1,1,1,1,1,1,2,1,1,2,1,2,1,2,1,1,3,1,1,1,1,2,1,0,1,1,1,1,1,1,1,1,1,1,1,1,1,4,4,1,1,1,1,1,1,1,1,1,2,2,1,1,1,1,1,2,1,1,1,1,1,1,1,1,1,1,1,1,1,2,2,1,2,1,1,1,1,1,2,2,1,1,1,1,1,1,2,1,1,1,1,1,1,1,1,1,1,2,1,0,1,1,4,1,1,1,1,1,1,1,1,1,0,1,1,1,1,1,1,3,1,1,1,2,1,1,1,1,1,1,1,1,1,1,2,1,1,1,1,1,1,1,1,1,1,1,1,2,3,1,1,2,2,1,1,1,1,1,1,1,1,4,1,2,2,1,1,1,1,1,1,1,1,1,1,1,0,1,1,1,1,0,1,1,3,2,1,1,1,1,1,1,1,1,3,2,2,1,3,1,1,2,1,1,1,2,2,1,1,1,1,1,1,0,3,1,5,1,1,1,1,1,2,2,2,1,1,1,1,1,1,1,1,2,1,1,1,1,1,1,1,1,1,1,1,1,2,1,1,1,2,3,1,1,1,1,1,1,1,1,1,1,1,1,1,1,1,5,1,1,1,1,1,1,1,1,1,1,1,1,6,2,1,1,1,1,1,1,1,1,4,3,1,1,1,1,1,1,1,1,3,1,1,1,2,1,1,1,1,1,1,1,1,2,1,1,1,3,1,1,1,1,1,1,1,1,1,1,1,1,1,1,1,1,1,1,1,1,0,1,1,1,1,1,1,1,2,1,1,1,1,1,2,5,1,1,1,1,1,1,1,1,1,2,1,2,1,1,1,1,0,1,2,1,1,1,1,1,1,1,1,1,2,1,1,2,1,2,1,1,1,0,1,1,1,1,1,1,1,1,1,1,4,1,1,1,3,1,1,1,1,1,1,1,1,1,1,4,1,1,1,1,1,1,1,1,1,1,1,1,1,1,1,1,1,1,1,1,1,1,1,1,1,1,4,1,1,1,1,1,1,2,1,3,1,1,1,1,1,1,1,1,2,0,1,1,1,1,1,2,1,1,1,2,1,1,1,1,1,1,1,2,1,1,1,1,1,1,1,2,1,1,2,1,1,1,1,1,1,3,1,1,1,1,1,1,1,1,1,1,1,1,1,1,1,1,1,1,1,1,2,1,3,1,1,1,1,1,3,1,1,1,1,1,1,2,1,1,1,1,1,1,1,1,1,1,1,1,1,1,2,1,1,1,2,1,1,2,1,1,1,1,1,1,1,1,0,1,4,1,1,1,1,1,1,0,1,1,1,1,1,2,1,1,1,1,1,1,1,1,1,1,1,1,1,1,1,1,1,1,3,1,2,1,1,1,1,1,1,1,3,2,1,1,3,1,2,3,1,2,1,1,1,1,1,1,1,1,2,2,1,1,1,1,1,1,1,1,1,1,1,1,1,1,1,1,1,1,2,1,1,1,1,1,2,1,3,1,1,1,1,1,1,1,1,1,1,1,1,1,1,1,1,1,1,1,1,1,1,2,1,1,1,1,1,1,1,0,2,2,1,1,1,1,1,1,1,1,1,1,1,1,1,1,1,1,1,1,1,1,1,1,1,1,1,1,1,1,1,1,2,2,1,1,1,1,1,1,1,1,1,1,1,1,1,1,1,1,1,1,1,1,1,1,2,1,1,1,1,1,1,1,1,1,1,1,1,1,1,1,1,1,1,1,3,1,1,1,1,2,1,1,1,1,1,1,1,2,2,1,1,1,1,1,3,1,1,1,2,1,1,1,1,1,0,1,1,1,1,1,1,1,0,2,1,1,1,1,0,1,0,1,1,1,1,1,1,1,1,1,1,1,1,1,1,1,1,1,1,1,2,1,1,1,1,1,1,1,3,1,1,1,3,1,1,1,1,1,1,1,1,2,1,1,1,1,1,1,3,1,1,1,1,1,1,1,1,1,1,1,1,1,3,1,1,1,1,1,1,1,1,1,1,2,1,1,1,1,1,1,1,1,1,1,1,1,3,1,2,1,1,1,1,1,1,5,1,1,1,1,1,1,1,1,1,1,1,1,1,1,1,2,1,1,1,4,1,1,1,1,2,1,1,0,1,1,1,1,1,1,1,1,1,1,1,1,1,1,1,1,1,1,1,1,2,1,1,1,1,1,1,1,1,1,1,1,4,1,1,1,1,2,1,1,1,1,1,1,1,1,1,2,1,1,1,1,1,1,1,1,1,1,2,1,2,1,2,1,2,1,1,1,1,1,1,1,1,1,1,1,1,1,1,1,1,1,1,7,1,1,1,1,1,1,1,1,1,1,1,1,1,1,1,1,1,1,1,1,1,1,1,1,1,1,1,1,1,1,1,1,1,1,1,1,1,1,1,1,1,1,1,0,1,2,1,1,1,1,1,1,1,1,2,1,1,1,1,1,1,6,1,1,1,1,1,1,1,1,1,1,1,1,2,1,1,5,2,1,1,1,1,1,1,1,1,1,1,1,3,2,1,1,1,1,1,1,1,2,1,1,1,1,2,1,1,1,1,1,1,1,1,1,1,0,1,1,1,1,1,1,1,1,1,1,1,1,1,1,1,1,1,3,2,1,0,1,1,0,1,1,1,1,1,1,1,3,1,1,1,1,1,1,1,1,1,1,1,2,1,1,1,1,1,1,1,1,1,1,1,1,1,1,1,1,1,1,2,1,1,5,1,1,1,1,1,1,1,1,1,3,1,1,2,1,2,2,1,2,1,1,1,1,1,1,1,1,1,1,2,1,1,1,1,1,1,1,3,1,1,1,1,1,1,1,3,1,1,1,2,5,1,1,1,2,1,1,1,1,1,1,1,1,1,1,1,1,1,1,2,1,3,1,1,1,1,1,1,1,1,1,1,1,1,1,1,1,1,1,1,1,1,1,1,1,1,1,1,1,1,2,1,1,2,1,3,2,1,2,1,1,1,1,1,1,1,1,1,1,1,1,1,1,1,1,1,2,1,1,1,1,1,1,2,1,1,1,1,1,1,1,1,3,1,1,1,1,1,1,1,1,1,1,1,1,1,1,1,1,1,1,1,1,1,1,1,1,1,1,1,1,2,1,2,2,1,1,1,1,0,1,1,1,1,1,1,1,1,1,1,1,1,1,1,2,1,1,1,2,1,1,3,1,1,1,1,1,1,1,1,1,1,1,1,1,1,1,1,2,1,1,1,1,1,1,1,1,1,1,1,1,1,1,1,2,1,1,1,1,1,1,1,1,1,1,1,1,1,1,1,1,1,1,1,1,1,1,2,1,1,1,1,3,1,1,1,1,1,1,1,1,1,1,1,1,1,2,1,2,1,1,1,2,1,1,1,1,1,1,1,1,1,1,1,1,1,1,1,1,1,1,1,1,2,2,1,1,1,1,1,1,1,3,1,1,1,1,1,1,1,1,1,1,1,1,1,1,1,1,1,1,1,1,1,1,1,1,3,2,2,1,2,1,1,1,1,1,1,1,2,1,1,1,1,1,1,1,1,1,1,1,1,1,1,1,1,2,1,1,1,1,1,1,1,1,1,1,1,2,1,1,1,1,1,1,1,1,1,1,1,1,1,2,1,1,1,2,1,1,2,1,1,3,1,1,1,1,1,1,1,1,1,1,1,1,1,1,4,1,1,1,1,1,1,1,2,1,1,1,1,1,2,1,4,1,1,1,2,1,1,1,1,1,1,1,1,1,2,1,1,1,1,1,2,1,1,1,1,1,1,3,1,1,1,1,1,1,1,1,1,1,1,1,1,1,1,1,1,1,1,1,1,1,2,1,1,1,1,1,1,1,2,1,1,1,1,1,2,0,1,2,1,1,1,1,1,1,1,1,1,1,1,1,1,1,1,1,1,1,1,1,1,1,1,1,1,1,1,1,1,1,1,1,1,1,1,1,1,1,1,1,1,1,1,1,1,1,4,1,1,1,1,1,1,1,1,1,1,1,1,1,1,1,1,1,1,1,1,1,1,2,1,1,1,1,1,3,1,1,3,2,1,1,1,1,1,1,1,1,1,1,1,2,1,1,1,0,1,1,1,1,1,1,1,2,1,1,1,1,1,1,1,1,1,1,1,1,1,1,1,1,2,1,1,1,2,1,1,1,1,1,1,1,1,1,1,1,1,1,1,1,1,1,1,1,1,1,1,2,1,1,2,2,1,1,1,1,1,1,2,1,1,1,1,1,1,0,2,1,1,1,1,2,1,1,1,1,1,2,1,2,1,1,1,1,1,1,2,1,1,1,1,1,1,1,1,1,1,1,1,1,5,1,3,1,1,4,1,1,1,2,1,2,1,1,3,1,1,1,1,1,1,1,2,1,1,1,1,1,3,6,1,1,1,1,1,1,1,1,1,3,1,1,1,1,2,0,1,1,1,1,1,1,1,2,1,1,1,1,1,1,3,1,1,2,1,1,2,1,2,1,1,1,1,1,1,1,1,1,1,1,1,1,1,1,0,1,1,1,1,1,1,1,1,1,1,1,1,1,1,1,1,1,1,1,1,1,1,1,1,1,2,1,1,3,1,1,1,1,1,1,1,1,1,1,1,1,1,1,3,1,1,1,1,1,1,1,1,1,1,1,1,0,1,1,1,1,1,1,1,1,1,1,1,1,1,2,1,1,1,1,1,1,2,4,2,1,0,1,3,1,1,6,1,0,1,1,1,1,1,1,1,1,1,1,2,1,1,1,1,1,1,1,1,1,1,1,1,2,1,3,1,1,1,1,1,1,1,3,1,1,1,1,1,1,1,1,1,1,1,1,1,1,1,1,1,1,1,1,1,2,1,1,1,2,1,2,1,1,1,1,1,2,1,1,1,1,2,1,0,1,1,1,1,1,1,1,1,1,1,1,1,1,1,1,1,1,1,1,1,1,1,1,1,1,6,1,1,4,1,3,3,3,3,1,3,1,1,1,1,1,2,1,2,1,2,1,1,1,1,1,1,2,1,1,1,1,1,1,1,1,1,2,1,1,1,1,1,1,1,1,1,1,1,1,1,1,1,1,1,1,1,1,0,0,1,1,0,1,1,1,1,1,2,1,1,1,1,1,2,1,1,1,1,2,1,1,1,1,1,1,1,1,1,1,4,1,0,1,1,1,1,1,1,1,1,1,3,4,1,1,1,1,1,1,1,1,1,1,1,1,0,1,1,1,0,1,1,1,1,1,1,1,1,1,1,1,1,1,1,1,1,0,1,3,1,1,1,1,1,1,1,1,1,1,1,1,1,1,1,1,1,1,1,2,1,1,1,1,1,1,1,1,1,1,1,1,1,0,1,1,0,1,1,1,1,1,1,1,1,1,1,1,0,1,1,1,1,1,1,1,0,1,1,1,2,1,1,1,1,1,1,1,0,0,1,1,1,1,1,1,1,1,1,1,1,2,1,1,1,2,1,1,2,1,1,1,1,1,1,1,1,1,3,1,1,1,1,1,1,0,1,1,1,1,2,1,1,1,1,1,1,2,1,1,2,1,1,1,2,1,1,1,1,1,1,1,1,1,1,1,1,1,1,4,1,1,1,1,1,1,0,1,1,1,1,1,1,1,1,1,1,1,1,1,1,3,3,1,1,1,1,1,0,0,1,1,1,3,0,1,1,1,1,1,1,1,1,2,1,1,1,0,1,1,1,1,1,1,1,1,1,1,1,3,1,1,1,1,1,1,1,1,1,1,1,1,1,1,1,1,2,1,1,1,1,1,1,1,1,1,2,2,1,1,1,1,1,1,1,1,1,1,1,1,1,2,1,2,1,2,1,1,1,1,1,1,1,1,3,1,1,1,1,1,1,3,1,1,1,1,1,1,1,1,1,1,1,1,1,1,1,1,1,1,1,2,1,1,1,1,1,1,2,1,3,3,1,1,1,1,1,1,1,1,1,1,1,1,0,1,1,1,1,2,1,1,1,1,1,1,1,1,1,1,5,2,1,1,3,1,1,2,1,1,1,3,1,1,1,1,1,1,1,1,1,1,1,1,2,1,1,1,1,1,1,1,1,1,2,1,1,1,1,1,1,1,1,1,1,1,1,1,1,1,1,1,1,1,1,1,1,2,2,1,1,1,1,1,1,1,1,1,1,1,1,2,1,1,0,2,1,1,1,1,1,1,1,3,1,1,2,1,1,3,1,1,3,1,1,1,1,2,1,1,1,1,3,1,1,3,1,1,1,1,1,1,2,1,4,1,1,1,2,1,1,1,1,1,1,1,1,1,1,1,1,1,1,1,1,2,5,1,1,1,1,1,1,3,1,1,1,1,1,1,1,1,1,1,1,1,1,1,1,1,3,0,1,1,1,1,1,1,1,1,1,1,1,1,1,1,1,1,1,1,1,2,1,1,1,1,1,0,1,1,2,1,1,1,1,1,1,1,1,1,1,1,1,1,2,1,1,1,1,1,1,2,1,1,1,3,1,1,1,1,3,1,2,1,1,2,2,1,1,2,1,1,1,1,1,1,1,1,1,2,1,1,1,1,1,1,1,1,0,2,1,2,1,1,1,1,1,2,1,1,3,1,1,1,1,1,1,1,1,1,1,3,2,2,1,1,1,1,1,1,1,1,1,1,1,1,1,1,2,2,1,1,1,1,1,1,1,1,1,1,1,1,1,1,1,2,1,1,1,1,1,1,2,1,0,1,1,1,1,1,1,1,1,1,2,3,1,1,1,1,1,1,1,1,1,1,1,1,1,0,1,1,1,1,1,1,4,1,1,1,1,2,1,1,1,1,1,1,2,1,1,1,2,1,1,1,1,1,1,1,1,1,0,1,1,1,1,3,1,1,1,1,1,1,1,1,1,1,1,2,1,1,1,1,1,1,1,1,1,2,3,1,1,1,0,1,1,1,0,1,1,1,1,2,1,1,1,1,1,1,2,1,1,1,1,2,1,1,1,0,2,1,2,1,1,1,2,1,1,1,1,1,1,1,1,1,1,1,1,1,1,1,1,1,1,2,1,1,1,1,0,0,1,1,1,1,1,1,1,1,1,1,0,1,1,1,1,1,1,0,2,1,1,2,1,1,1,1,1,1,1,0,1,1,1,2,1,1,1,1,1,1,1,0,2,1,1,1,2,1,1,1,1,1,1,2,1,1,1,1,1,1,1,1,1,1,1,0,1,0,1,1,1,1,1,1,1,1,0,1,1,1,1,4,1,1,1,1,1,1,1,1,2,1,1,1,1,1,4,1,1,1,1,1,0,2,1,1,1,2,1,1,1,1,1,1,1,1,1,3,1,1,1,1,1,1,3,1,1,3,1,1,1,1,1,1,1,1,1,1,0,1,1,1,2,2,1,1,2,1,3,1,1,1,3,1,1,1,1,1,1,1,1,1,1,1,1,1,1,1,1,1,1,1,1,1,1,1,1,1,1,1,1,1,1,1,1,1,1,1,2,1,1,1,1,1,1,0,1,1,1,1,0,1,0,1,1,1,1,1,1,1,1,1,1,1,1,1,1,1,1,1,1,1,1,1,2,1,2,1,2,1,1,1,1,1,0,1,2,1,1,3,1,3,1,3,1,1,1,1,1,1,1,1,1,1,1,1,1,0,1,1,1,1,1,1,1,0,4,1,1,1,1,1,1,0,1,1,1,1,1,1,0,1,1,1,2,1,1,1,1,0,1,1,1,1,0,1,0,1,1,1,0,0,1,1,1,1,0,0,1,1,1,1,1,1,1,1,1,1,0,1,1,1,1,1,1,1,1,1,1,1,0,1,1,1,0,1,1,1,1,1,1,1,1,2,1,1,4,1,1,1,3,1,1,1,0,1,1,1,1,1,1,1,1,1,1,1,1,1,2,1,1,1,1,1,0,1,1,1,1,1,0,1,1,1,0,1,1,2,1,2,1,1,1,1,1,1,1,1,1,1,1,1,1,1,1,1,1,1,1,1,1,1,2,1,1,1,1,1,0,1,1,1,1,0,1,1,1,1,1,1,1,0,2,1,1,3,1,3,1,4,1,2,0,1,1,1,1,1,1,1,1,1,1,2,1,1,1,1,1,1,1,1,1,0,1,1,1,0,0,1,1,1,1,1,0,1,1,0,1,1,1,1,1,1,1,1,1,1,1,1,1,1,2,1,0,1,1,1,7,1,1,1,1,2,1,1,1,1,1,1,1,1,1,1,1,1,1,1,1,1,1,1,1,1,3,1,2,1,1,1,1,1,1,1,1,1,1,1,1,1,1,1,1,1,2,1,1,1,3,1,2,1,1,1,3,1,1,1,1,1,1,1,1,1,1,3,1,1,1,1,1,1,1,1,1,1,1,1,1,1,1,1,1,1,4,1,1,1,1,1,1,1,1,1,1,1,1,1,1,1,3,2,1,1,1,1,1,1,1,2,1,1,1,1,1,1,3,1,1,1,1,1,1,1,1,2,1,1,1,1,1,1,1,1,1,1,1,1,1,1,3,2,1,1,1,2,3,1,1,1,1,1,1,2,1,1,0,1,1,1,1,1,1,1,2,1,1,1,1,2,1,1,1,4,1,1,2,1,1,1,1,1,1,1,1,1,1,1,2,1,1,1,2,1,1,2,1,1,1,1,1,1,1,1,1,1,2,1,1,1,1,1,1,1,1,1,1,1,1,1,1,1,1,2,1,1,1,1,1,1,1,2,1,1,1,1,1,1,2,1,2,1,1,1,1,2,1,1,2,2,1,1,2,1,1,1,1,1,1,1,1,1,3,0,1,1,1,1,1,1,1,1,1,1,1,1,0,1,1,1,1,1,1,2,1,1,3,1,1,1,2,1,1,1,1,1,1,1,1,1,1,1,0,1,1,1,1,1,1,1,1,1,1,1,1,1,1,2,0,1,1,1,1,1,1,1,1,1,1,1,1,1,1,1,1,0,1,1,1,1,1,0,1,1,1,1,1,2,1,1,1,2,1,1,1,1,1,1,1,1,0,1,1,1,1,1,0,1,1,1,0,1,1,1,1,0,1,1,1,1,1,1,1,1,1,1,0,1,1,1,0,1,1,1,1,0,1,1,1,1,2,1,1,1,1,1,1,1,1,1,3,1,2,1,1,3,1,1,1,2,1,0,1,0,1,1,1,1,1,1,1,0,1,1,1,1,1,1,1,0,1,1,1,1,1,1,1,1,1,1,1,1,1,1,1,1,1,1,1,1,0,2,1,1,1,1,1,1,1,1,1,1,1,1,0,1,0,1,0,1,1,1,1,1,1,1,1,1,1,1,1,1,1,3,1,1,1,1,1,1,1,0,1,1,1,1,0,1,1,1,1,1,1,0,1,1,0,1,1,1,1,1,1,1,1,1,1,1,2,0,0,0,1,1,1,1,0,0,1,1,1,1,1,1,1,1,1,1,1,1,1,1,1,1,2,1,1,1,1,1,0,1,1,1,1,1,1,1,1,1,1,1,2,2,1,1,3,0,1,1,1,1,1,1,0,1,0,1,1,1,1,2,1,1,1,0,1,1,1,1,1,1,1,1,1,1,1,1,1,1,1,3,0,1,1,1,1,1,1,1,1,1,0,1,0,1,1,1,1,1,1,1,0,1,1,1,1,1,1,1,1,1,1,1,1,0,1,1,1,2,2,1,1,1,1,1,1,1,1,1,2,1,1,1,1,1,1,1,1,1,1,0,1,1,1,1,1,2,1,1,1,1,1,1,1,2,1,1,1,1,1,1,0,1,1,1,1,1,1,1,2,1,1,3,1,1,1,1,0,1,1,1,5,1,1,1,1,1,1,1,1,1,1,1,1,1,1,1,1,1,1,1,1,1,1,1,1,1,1,1,1,1,4,0,2,1,1,1,2,1,1,1,1,1,1,2,1,1,1,1,1,1,1,1,1,1,1,1,1,1,1,0,1,1,1,1,1,1,2,1,1,1,1,1,1,1,0,1,1,1,1,1,1,1,1,1,2,1,1,3,1,1,1,1,1,1,1,2,1,1,1,1,1,1,1,1,1,0,1,2,1,1,1,1,1,1,0,1,1,1,1,1,2,1,2,1,1,1,1,1,1,1,1,1,1,1,1,1,1,2,1,1,1,1,3,1,1,1,1,2,1,0,1,1,1,1,1,1,1,1,1,1,1,1,1,1,2,1,1,1,5,1,1,1,1,1,1,1,1,1,2,1,1,1,1,1,3,1,2,0,1,1,0,1,1,1,1,1,2,1,1,1,1,2,1,0,2,1,1,1,1,1,1,1,1,2,1,1,1,1,1,1,1,1,1,1,1,1,0,1,0,1,1,2,1,0,1,1,1,1,1,1,0,1,1,1,1,1,2,2,2,2,1,3,1,1,1,1,1,1,1,1,2,2,1,1,1,1,1,1,1,2,1,1,1,2,1,1,1,1,1,2,1,2,1,1,1,1,1,1,1,2,1,1,1,1,2,1,1,1,2,1,1,1,1,1,1,1,1,2,2,1,1,2,1,1,3,1,1,1,1,1,1,1,1,1,1,1,1,1,1,1,1,1,1,1,1,1,1,1,1,1,1,1,1,1,1,1,1,1,1,1,1,1,1,1,1,1,1,1,1,1,1,1,1,1,1,1,1,1,1,1,1,1,1,0,1,1,1,1,1,1,1,1,1,1,1,1,1,1,1,1,1,1,2,1,1,2,2,1,1,2,1,0,1,2,1,1,1,1,0,1,1,1,0,1,2,0,1,2,1,1,1,1,1,1,1,1,1,1,1,1,2,1,1,1,0,1,1,0,1,0,1,1,1,1,1,1,1,1,1,1,1,1,1,0,1,1,1,1,1,1,1,1,1,1,1,1,2,2,1,1,1,1,1,1,1,1,1,1,1,1,1,2,1,0,1,1,1,1,1,2,1,1,1,1,1,2,1,1,1,1,2,1,1,1,1,1,1,1,1,1,1,1,1,1,1,1,1,1,1,0,1,1,0,0,1,1,1,1,1,2,1,1,1,1,1,1,1,1,1,1,2,1,1,1,1,1,1,1,1,1,1,1,1,2,1,1,1,1,1,1,1,1,1,1,1,1,1,1,1,1,1,0,1,1,1,1,1,1,1,1,1,0,1,1,1,1,1,0,1,0,2,1,1,1,1,1,1,1,1,1,1,1,2,1,0,0,1,1,1,1,1,1,1,1,1,1,1,2,1,1,1,1,1,1,1,2,1,0,1,0,1,1,1,1,1,2,1,1,1,1,1,0,1,1,2,1,1,1,1,1,1,1,1,1,1,0,2,1,0,1,1,1,1,1,1,1,0,1,1,1,1,1,1,1,1,1,0,1,1,1,1,1,0,1,0,1,2,1,2,1,1,1,1,1,1,1,1,1,1,1,1,1,1,1,1,1,0,1,1,1,1,1,1,2,1,1,1,1,1,1,2,1,1,1,1,1,1,1,0,1,2,1,1,1,1,1,1,1,1,1,1,2,1,1,2,1,1,2,1,1,1,1,1,0,1,1,0,1,1,1,1,1,1,0,1,0,1,1,0,1,1,1,1,1,1,1,1,1,1,1,1,1,1,1,1,1,1,1,1,0,1,1,1,1,1,1,0,1,1,1,1,0,1,1,2,2,1,1,2,1,2,1,1,1,1,0,1,1,1,2,0,1,1,1,1,1,2,1,1,1,1,3,1,1,1,1,2,1,1,1,1,1,1,1,1,2,1,1,1,1,1,1,4,1,1,1,2,1,0,1,0,1,1,1,1,1,1,1,1,1,1,1,1,1,1,1,1,3,1,2,1,1,1,2,1,2,1,1,1,1,1,2,1,1,1,1,1,1,1,3,1,1,1,1,1,2,1,1,1,3,1,2,3,1,2,1,1,1,0,1,1,0,5,1,1,1,1,1,2,1,3,1,1,1,1,1,1,3,1,1,2,1,1,1,1,1,2,1,1,1,1,1,1,1,1,1,1,1,1,1,3,7,1,1,1,2,2,1,1,1,1,1,1,2,1,1,1,1,1,1,3,3,1,2,1,1,1,1,1,0,1,0,1,1,1,1,1,1,1,1,1,1,1,1,1,1,2,1,0,1,1,0,1,1,1,3,1,1,1,1,1,1,2,1,2,1,0,3,1,1,0,0,1,1,1,1,1,1,1,1,1,1,1,1,3,1,2,0,1,1,1,1,1,1,1,1,1,1,1,1,1,1,2,1,1,1,1,1,1,1,1,1,1,1,1,1,1,1,1,1,1,1,2,1,1,1,1,1,1,1,0,2,1,1,1,1,1,1,1,1,1,1,1,1,1,1,1,1,1,1,1,1,1,1,2,1,1,1,1,1,1,1,1,1,1,1,1,1,1,1,0,1,1,1,1,0,1,1,1,1,1,1,1,1,1,1,1,1,0,1,1,1,1,1,1,1,1,1,1,1,1,1,1,1,1,1,1,1,1,2,1,1,1,1,1,2,0,1,2,2,1,1,1,1,1,0,2,1,1,1,1,1,1,1,1,1,1,1,1,1,1,1,1,1,1,1,1,1,0,0,1,1,1,1,0,0,1,1,1,1,1,1,1,1,1,1,1,1,1,1,1,0,1,1,1,1,0,2,1,1,1,1,1,1,1,1,1,1,1,1,1,1,1,1,1,1,1,2,1,1,1,2,1,1,2,0,1,1,1,1,1,1,2,1,1,1,1,0,1,1,1,1,1,1,1,0,1,1,1,2,1,1,1,1,1,1,1,1,1,1,1,1,2,1,1,1,1,2,1,0,1,1,1,1,1,1,1,1,1,1,1,1,0,1,1,1],\"xaxis\":\"x\",\"yaxis\":\"y\",\"type\":\"histogram\"}],                        {\"template\":{\"data\":{\"histogram2dcontour\":[{\"type\":\"histogram2dcontour\",\"colorbar\":{\"outlinewidth\":0,\"ticks\":\"\"},\"colorscale\":[[0.0,\"#0d0887\"],[0.1111111111111111,\"#46039f\"],[0.2222222222222222,\"#7201a8\"],[0.3333333333333333,\"#9c179e\"],[0.4444444444444444,\"#bd3786\"],[0.5555555555555556,\"#d8576b\"],[0.6666666666666666,\"#ed7953\"],[0.7777777777777778,\"#fb9f3a\"],[0.8888888888888888,\"#fdca26\"],[1.0,\"#f0f921\"]]}],\"choropleth\":[{\"type\":\"choropleth\",\"colorbar\":{\"outlinewidth\":0,\"ticks\":\"\"}}],\"histogram2d\":[{\"type\":\"histogram2d\",\"colorbar\":{\"outlinewidth\":0,\"ticks\":\"\"},\"colorscale\":[[0.0,\"#0d0887\"],[0.1111111111111111,\"#46039f\"],[0.2222222222222222,\"#7201a8\"],[0.3333333333333333,\"#9c179e\"],[0.4444444444444444,\"#bd3786\"],[0.5555555555555556,\"#d8576b\"],[0.6666666666666666,\"#ed7953\"],[0.7777777777777778,\"#fb9f3a\"],[0.8888888888888888,\"#fdca26\"],[1.0,\"#f0f921\"]]}],\"heatmap\":[{\"type\":\"heatmap\",\"colorbar\":{\"outlinewidth\":0,\"ticks\":\"\"},\"colorscale\":[[0.0,\"#0d0887\"],[0.1111111111111111,\"#46039f\"],[0.2222222222222222,\"#7201a8\"],[0.3333333333333333,\"#9c179e\"],[0.4444444444444444,\"#bd3786\"],[0.5555555555555556,\"#d8576b\"],[0.6666666666666666,\"#ed7953\"],[0.7777777777777778,\"#fb9f3a\"],[0.8888888888888888,\"#fdca26\"],[1.0,\"#f0f921\"]]}],\"heatmapgl\":[{\"type\":\"heatmapgl\",\"colorbar\":{\"outlinewidth\":0,\"ticks\":\"\"},\"colorscale\":[[0.0,\"#0d0887\"],[0.1111111111111111,\"#46039f\"],[0.2222222222222222,\"#7201a8\"],[0.3333333333333333,\"#9c179e\"],[0.4444444444444444,\"#bd3786\"],[0.5555555555555556,\"#d8576b\"],[0.6666666666666666,\"#ed7953\"],[0.7777777777777778,\"#fb9f3a\"],[0.8888888888888888,\"#fdca26\"],[1.0,\"#f0f921\"]]}],\"contourcarpet\":[{\"type\":\"contourcarpet\",\"colorbar\":{\"outlinewidth\":0,\"ticks\":\"\"}}],\"contour\":[{\"type\":\"contour\",\"colorbar\":{\"outlinewidth\":0,\"ticks\":\"\"},\"colorscale\":[[0.0,\"#0d0887\"],[0.1111111111111111,\"#46039f\"],[0.2222222222222222,\"#7201a8\"],[0.3333333333333333,\"#9c179e\"],[0.4444444444444444,\"#bd3786\"],[0.5555555555555556,\"#d8576b\"],[0.6666666666666666,\"#ed7953\"],[0.7777777777777778,\"#fb9f3a\"],[0.8888888888888888,\"#fdca26\"],[1.0,\"#f0f921\"]]}],\"surface\":[{\"type\":\"surface\",\"colorbar\":{\"outlinewidth\":0,\"ticks\":\"\"},\"colorscale\":[[0.0,\"#0d0887\"],[0.1111111111111111,\"#46039f\"],[0.2222222222222222,\"#7201a8\"],[0.3333333333333333,\"#9c179e\"],[0.4444444444444444,\"#bd3786\"],[0.5555555555555556,\"#d8576b\"],[0.6666666666666666,\"#ed7953\"],[0.7777777777777778,\"#fb9f3a\"],[0.8888888888888888,\"#fdca26\"],[1.0,\"#f0f921\"]]}],\"mesh3d\":[{\"type\":\"mesh3d\",\"colorbar\":{\"outlinewidth\":0,\"ticks\":\"\"}}],\"scatter\":[{\"fillpattern\":{\"fillmode\":\"overlay\",\"size\":10,\"solidity\":0.2},\"type\":\"scatter\"}],\"parcoords\":[{\"type\":\"parcoords\",\"line\":{\"colorbar\":{\"outlinewidth\":0,\"ticks\":\"\"}}}],\"scatterpolargl\":[{\"type\":\"scatterpolargl\",\"marker\":{\"colorbar\":{\"outlinewidth\":0,\"ticks\":\"\"}}}],\"bar\":[{\"error_x\":{\"color\":\"#2a3f5f\"},\"error_y\":{\"color\":\"#2a3f5f\"},\"marker\":{\"line\":{\"color\":\"#E5ECF6\",\"width\":0.5},\"pattern\":{\"fillmode\":\"overlay\",\"size\":10,\"solidity\":0.2}},\"type\":\"bar\"}],\"scattergeo\":[{\"type\":\"scattergeo\",\"marker\":{\"colorbar\":{\"outlinewidth\":0,\"ticks\":\"\"}}}],\"scatterpolar\":[{\"type\":\"scatterpolar\",\"marker\":{\"colorbar\":{\"outlinewidth\":0,\"ticks\":\"\"}}}],\"histogram\":[{\"marker\":{\"pattern\":{\"fillmode\":\"overlay\",\"size\":10,\"solidity\":0.2}},\"type\":\"histogram\"}],\"scattergl\":[{\"type\":\"scattergl\",\"marker\":{\"colorbar\":{\"outlinewidth\":0,\"ticks\":\"\"}}}],\"scatter3d\":[{\"type\":\"scatter3d\",\"line\":{\"colorbar\":{\"outlinewidth\":0,\"ticks\":\"\"}},\"marker\":{\"colorbar\":{\"outlinewidth\":0,\"ticks\":\"\"}}}],\"scattermapbox\":[{\"type\":\"scattermapbox\",\"marker\":{\"colorbar\":{\"outlinewidth\":0,\"ticks\":\"\"}}}],\"scatterternary\":[{\"type\":\"scatterternary\",\"marker\":{\"colorbar\":{\"outlinewidth\":0,\"ticks\":\"\"}}}],\"scattercarpet\":[{\"type\":\"scattercarpet\",\"marker\":{\"colorbar\":{\"outlinewidth\":0,\"ticks\":\"\"}}}],\"carpet\":[{\"aaxis\":{\"endlinecolor\":\"#2a3f5f\",\"gridcolor\":\"white\",\"linecolor\":\"white\",\"minorgridcolor\":\"white\",\"startlinecolor\":\"#2a3f5f\"},\"baxis\":{\"endlinecolor\":\"#2a3f5f\",\"gridcolor\":\"white\",\"linecolor\":\"white\",\"minorgridcolor\":\"white\",\"startlinecolor\":\"#2a3f5f\"},\"type\":\"carpet\"}],\"table\":[{\"cells\":{\"fill\":{\"color\":\"#EBF0F8\"},\"line\":{\"color\":\"white\"}},\"header\":{\"fill\":{\"color\":\"#C8D4E3\"},\"line\":{\"color\":\"white\"}},\"type\":\"table\"}],\"barpolar\":[{\"marker\":{\"line\":{\"color\":\"#E5ECF6\",\"width\":0.5},\"pattern\":{\"fillmode\":\"overlay\",\"size\":10,\"solidity\":0.2}},\"type\":\"barpolar\"}],\"pie\":[{\"automargin\":true,\"type\":\"pie\"}]},\"layout\":{\"autotypenumbers\":\"strict\",\"colorway\":[\"#636efa\",\"#EF553B\",\"#00cc96\",\"#ab63fa\",\"#FFA15A\",\"#19d3f3\",\"#FF6692\",\"#B6E880\",\"#FF97FF\",\"#FECB52\"],\"font\":{\"color\":\"#2a3f5f\"},\"hovermode\":\"closest\",\"hoverlabel\":{\"align\":\"left\"},\"paper_bgcolor\":\"white\",\"plot_bgcolor\":\"#E5ECF6\",\"polar\":{\"bgcolor\":\"#E5ECF6\",\"angularaxis\":{\"gridcolor\":\"white\",\"linecolor\":\"white\",\"ticks\":\"\"},\"radialaxis\":{\"gridcolor\":\"white\",\"linecolor\":\"white\",\"ticks\":\"\"}},\"ternary\":{\"bgcolor\":\"#E5ECF6\",\"aaxis\":{\"gridcolor\":\"white\",\"linecolor\":\"white\",\"ticks\":\"\"},\"baxis\":{\"gridcolor\":\"white\",\"linecolor\":\"white\",\"ticks\":\"\"},\"caxis\":{\"gridcolor\":\"white\",\"linecolor\":\"white\",\"ticks\":\"\"}},\"coloraxis\":{\"colorbar\":{\"outlinewidth\":0,\"ticks\":\"\"}},\"colorscale\":{\"sequential\":[[0.0,\"#0d0887\"],[0.1111111111111111,\"#46039f\"],[0.2222222222222222,\"#7201a8\"],[0.3333333333333333,\"#9c179e\"],[0.4444444444444444,\"#bd3786\"],[0.5555555555555556,\"#d8576b\"],[0.6666666666666666,\"#ed7953\"],[0.7777777777777778,\"#fb9f3a\"],[0.8888888888888888,\"#fdca26\"],[1.0,\"#f0f921\"]],\"sequentialminus\":[[0.0,\"#0d0887\"],[0.1111111111111111,\"#46039f\"],[0.2222222222222222,\"#7201a8\"],[0.3333333333333333,\"#9c179e\"],[0.4444444444444444,\"#bd3786\"],[0.5555555555555556,\"#d8576b\"],[0.6666666666666666,\"#ed7953\"],[0.7777777777777778,\"#fb9f3a\"],[0.8888888888888888,\"#fdca26\"],[1.0,\"#f0f921\"]],\"diverging\":[[0,\"#8e0152\"],[0.1,\"#c51b7d\"],[0.2,\"#de77ae\"],[0.3,\"#f1b6da\"],[0.4,\"#fde0ef\"],[0.5,\"#f7f7f7\"],[0.6,\"#e6f5d0\"],[0.7,\"#b8e186\"],[0.8,\"#7fbc41\"],[0.9,\"#4d9221\"],[1,\"#276419\"]]},\"xaxis\":{\"gridcolor\":\"white\",\"linecolor\":\"white\",\"ticks\":\"\",\"title\":{\"standoff\":15},\"zerolinecolor\":\"white\",\"automargin\":true,\"zerolinewidth\":2},\"yaxis\":{\"gridcolor\":\"white\",\"linecolor\":\"white\",\"ticks\":\"\",\"title\":{\"standoff\":15},\"zerolinecolor\":\"white\",\"automargin\":true,\"zerolinewidth\":2},\"scene\":{\"xaxis\":{\"backgroundcolor\":\"#E5ECF6\",\"gridcolor\":\"white\",\"linecolor\":\"white\",\"showbackground\":true,\"ticks\":\"\",\"zerolinecolor\":\"white\",\"gridwidth\":2},\"yaxis\":{\"backgroundcolor\":\"#E5ECF6\",\"gridcolor\":\"white\",\"linecolor\":\"white\",\"showbackground\":true,\"ticks\":\"\",\"zerolinecolor\":\"white\",\"gridwidth\":2},\"zaxis\":{\"backgroundcolor\":\"#E5ECF6\",\"gridcolor\":\"white\",\"linecolor\":\"white\",\"showbackground\":true,\"ticks\":\"\",\"zerolinecolor\":\"white\",\"gridwidth\":2}},\"shapedefaults\":{\"line\":{\"color\":\"#2a3f5f\"}},\"annotationdefaults\":{\"arrowcolor\":\"#2a3f5f\",\"arrowhead\":0,\"arrowwidth\":1},\"geo\":{\"bgcolor\":\"white\",\"landcolor\":\"#E5ECF6\",\"subunitcolor\":\"white\",\"showland\":true,\"showlakes\":true,\"lakecolor\":\"white\"},\"title\":{\"x\":0.05},\"mapbox\":{\"style\":\"light\"}}},\"xaxis\":{\"anchor\":\"y\",\"domain\":[0.0,1.0],\"title\":{\"text\":\"x\"}},\"yaxis\":{\"anchor\":\"x\",\"domain\":[0.0,1.0],\"title\":{\"text\":\"count\"}},\"legend\":{\"tracegroupgap\":0},\"margin\":{\"t\":60},\"barmode\":\"relative\"},                        {\"responsive\": true}                    ).then(function(){\n",
       "                            \n",
       "var gd = document.getElementById('35eef717-8bf6-4d21-8b90-8369d4537f9f');\n",
       "var x = new MutationObserver(function (mutations, observer) {{\n",
       "        var display = window.getComputedStyle(gd).display;\n",
       "        if (!display || display === 'none') {{\n",
       "            console.log([gd, 'removed!']);\n",
       "            Plotly.purge(gd);\n",
       "            observer.disconnect();\n",
       "        }}\n",
       "}});\n",
       "\n",
       "// Listen for the removal of the full notebook cells\n",
       "var notebookContainer = gd.closest('#notebook-container');\n",
       "if (notebookContainer) {{\n",
       "    x.observe(notebookContainer, {childList: true});\n",
       "}}\n",
       "\n",
       "// Listen for the clearing of the current output cell\n",
       "var outputEl = gd.closest('.output');\n",
       "if (outputEl) {{\n",
       "    x.observe(outputEl, {childList: true});\n",
       "}}\n",
       "\n",
       "                        })                };                });            </script>        </div>"
      ]
     },
     "metadata": {},
     "output_type": "display_data"
    }
   ],
   "source": [
    "px.histogram(x=df_netflix[\"production_countries\"].str.len())"
   ]
  },
  {
   "cell_type": "markdown",
   "id": "282174c0",
   "metadata": {
    "_cell_guid": "bf02c0da-f4ad-49b1-8a49-22229ea468bb",
    "_uuid": "74a07c1d-9d94-4c3c-80fb-fd1c23854f40",
    "papermill": {
     "duration": 0.016071,
     "end_time": "2023-11-29T18:44:39.451989",
     "exception": false,
     "start_time": "2023-11-29T18:44:39.435918",
     "status": "completed"
    },
    "tags": []
   },
   "source": [
    "Entries with 0 production countries are removed as they are probably\n",
    "faulty data."
   ]
  },
  {
   "cell_type": "code",
   "execution_count": 13,
   "id": "168ee967",
   "metadata": {
    "_cell_guid": "b22f9e21-a64e-405b-bc42-4f340e443f7a",
    "_uuid": "13d2336d-b47d-46b3-bd87-d5341acf454d",
    "collapsed": false,
    "execution": {
     "iopub.execute_input": "2023-11-29T18:44:39.484161Z",
     "iopub.status.busy": "2023-11-29T18:44:39.483686Z",
     "iopub.status.idle": "2023-11-29T18:44:39.497440Z",
     "shell.execute_reply": "2023-11-29T18:44:39.496238Z"
    },
    "jupyter": {
     "outputs_hidden": false
    },
    "papermill": {
     "duration": 0.033289,
     "end_time": "2023-11-29T18:44:39.500320",
     "exception": false,
     "start_time": "2023-11-29T18:44:39.467031",
     "status": "completed"
    },
    "tags": []
   },
   "outputs": [],
   "source": [
    "df_production = df_netflix.loc[df_netflix[\"production_countries\"].str.len() > 0]"
   ]
  },
  {
   "cell_type": "code",
   "execution_count": 14,
   "id": "dac66549",
   "metadata": {
    "_cell_guid": "05353733-d72a-4b9d-8f75-5acf4578f858",
    "_uuid": "814c654b-fd15-4e25-809d-54a11cd31377",
    "collapsed": false,
    "execution": {
     "iopub.execute_input": "2023-11-29T18:44:39.539401Z",
     "iopub.status.busy": "2023-11-29T18:44:39.538084Z",
     "iopub.status.idle": "2023-11-29T18:44:39.641786Z",
     "shell.execute_reply": "2023-11-29T18:44:39.640538Z"
    },
    "jupyter": {
     "outputs_hidden": false
    },
    "papermill": {
     "duration": 0.126543,
     "end_time": "2023-11-29T18:44:39.644570",
     "exception": false,
     "start_time": "2023-11-29T18:44:39.518027",
     "status": "completed"
    },
    "tags": []
   },
   "outputs": [
    {
     "data": {
      "text/html": [
       "<div>                            <div id=\"ebb37690-927f-42cf-9d29-b3e88a3cc96b\" class=\"plotly-graph-div\" style=\"height:525px; width:100%;\"></div>            <script type=\"text/javascript\">                require([\"plotly\"], function(Plotly) {                    window.PLOTLYENV=window.PLOTLYENV || {};                                    if (document.getElementById(\"ebb37690-927f-42cf-9d29-b3e88a3cc96b\")) {                    Plotly.newPlot(                        \"ebb37690-927f-42cf-9d29-b3e88a3cc96b\",                        [{\"alignmentgroup\":\"True\",\"bingroup\":\"x\",\"histnorm\":\"percent\",\"hovertemplate\":\"type=SHOW\\u003cbr\\u003ex=%{x}\\u003cbr\\u003epercent=%{y}\\u003cextra\\u003e\\u003c\\u002fextra\\u003e\",\"legendgroup\":\"SHOW\",\"marker\":{\"color\":\"#636efa\",\"pattern\":{\"shape\":\"\"}},\"name\":\"SHOW\",\"offsetgroup\":\"SHOW\",\"orientation\":\"v\",\"showlegend\":true,\"x\":[1,1,1,1,1,1,1,1,1,1,1,1,1,1,1,1,1,1,2,1,1,1,2,1,2,1,1,1,1,1,1,1,1,1,1,1,1,1,1,2,1,1,1,2,1,1,1,1,1,1,1,1,1,1,1,1,1,1,1,1,1,1,2,1,1,1,1,1,2,2,1,1,1,1,2,1,1,2,1,1,1,1,1,1,1,1,1,1,1,1,1,1,1,1,1,1,1,1,1,1,1,1,1,1,1,1,1,1,1,1,1,1,1,1,1,1,1,1,1,1,1,1,1,1,1,1,1,1,1,1,1,1,1,1,1,1,1,1,1,2,1,1,1,1,1,1,1,1,1,1,1,1,1,1,1,1,1,1,1,1,1,1,1,1,1,1,1,1,1,1,1,1,1,3,1,1,1,1,1,2,1,1,1,1,1,1,1,1,1,1,1,1,1,1,1,1,1,1,1,1,1,1,1,1,1,1,1,2,1,1,1,1,1,1,1,1,1,1,1,1,1,1,3,1,1,1,1,1,1,1,1,1,1,1,1,1,1,1,1,1,1,1,3,1,1,1,1,1,2,1,1,1,1,1,1,1,1,1,1,1,1,1,1,1,1,1,1,1,1,1,1,1,1,1,1,1,1,1,1,1,1,1,1,1,1,1,1,1,1,1,1,1,1,1,1,1,1,1,1,1,1,1,1,1,1,1,1,1,1,1,1,1,1,1,1,1,1,1,1,1,3,2,1,1,1,1,1,1,1,1,1,1,1,3,1,1,2,1,1,1,1,1,1,1,1,2,1,1,1,1,1,1,1,1,1,1,1,1,1,1,1,1,1,1,1,1,1,1,1,1,1,1,1,1,1,1,1,1,1,1,1,1,1,1,1,1,1,1,1,1,1,1,2,3,2,1,1,1,2,1,1,1,1,1,1,1,1,1,1,2,1,1,1,1,1,1,1,1,1,1,1,1,1,1,1,1,1,1,1,1,1,1,1,1,1,1,1,1,1,1,1,1,1,1,1,1,1,1,1,1,1,1,1,1,1,1,1,1,1,1,1,1,1,1,1,1,1,1,1,1,1,1,1,1,1,1,1,2,1,1,1,1,1,1,1,1,1,1,1,1,1,1,1,1,1,1,1,1,1,1,1,1,1,1,1,1,1,1,1,1,1,1,1,1,1,1,1,1,2,1,1,1,1,1,1,1,2,1,1,1,1,1,1,1,1,1,1,1,1,2,1,1,1,1,1,1,1,1,1,1,1,1,1,1,1,1,1,1,1,1,1,1,1,1,1,1,1,1,1,1,1,1,1,1,1,1,1,1,1,1,1,1,1,1,1,1,1,1,1,1,2,1,1,1,1,3,1,1,1,1,1,1,1,1,1,1,1,1,1,1,1,1,1,1,1,1,1,1,1,1,1,1,1,1,1,1,1,1,1,1,1,1,1,1,1,1,1,1,1,1,1,1,1,1,1,1,1,1,1,1,1,1,1,1,1,1,1,1,1,1,1,1,1,1,1,1,1,1,1,1,2,1,1,1,1,1,1,1,1,1,1,1,1,1,1,1,1,1,1,1,1,1,1,1,1,1,1,1,1,1,1,1,1,1,1,1,1,1,1,1,1,1,1,1,1,1,1,1,1,1,1,1,1,1,1,1,1,1,1,1,1,1,1,1,1,1,1,1,1,1,1,1,1,1,1,1,1,1,1,1,1,1,1,1,1,1,1,1,1,1,1,2,1,1,1,1,1,1,1,1,1,1,1,1,1,1,1,1,1,1,1,1,1,1,1,1,1,1,1,1,1,1,1,1,1,1,1,1,1,1,1,1,1,1,1,1,1,1,1,1,1,1,1,1,1,1,1,1,1,1,1,1,1,1,1,1,1,1,1,1,1,1,1,1,1,1,1,1,1,1,1,1,1,1,1,1,1,1,1,1,1,1,1,1,1,1,1,1,1,1,1,1,1,1,1,1,1,1,1,1,1,1,1,1,1,1,1,1,1,1,1,1,1,1,1,1,1,1,1,1,1,1,1,1,1,1,1,1,1,1,1,1,1,1,1,1,1,1,1,1,1,1,1,1,1,1,1,1,1,1,1,1,1,1,1,1,1,1,1,2,1,1,1,1,2,1,1,1,3,1,1,1,1,1,2,1,1,1,1,1,1,1,1,1,2,1,1,1,1,1,1,1,1,1,1,1,1,1,1,2,1,1,1,1,1,1,1,1,1,1,1,1,1,1,1,1,1,1,1,2,1,1,1,1,1,1,1,1,1,1,1,1,1,1,1,1,1,1,1,1,1,1,1,1,2,1,1,1,1,1,1,1,1,1,1,1,1,1,1,1,1,1,1,1,2,1,1,1,1,1,1,1,1,1,1,1,1,1,1,1,1,1,1,1,1,1,1,1,1,2,1,1,1,2,1,1,1,1,1,1,1,1,1,1,1,1,1,1,1,1,1,1,3,1,1,1,1,1,1,1,1,1,1,1,1,1,1,1,1,1,1,1,1,1,1,1,1,1,1,1,1,1,1,1,1,1,1,1,1,1,1,1,1,1,1,1,1,1,1,1,1,1,1,1,1,1,1,1,1,1,1,1,1,1,1,1,1,1,1,1,1,1,1,1,1,1,1,1,1,1,1,1,1,1,1,1,1,1,1,1,1,1,1,1,1,1,1,1,1,1,1,1,1,2,1,1,1,1,1,1,1,1,1,1,1,1,1,1,1,1,1,1,1,1,1,1,1,1,1,1,1,1,1,1,1,1,1,1,1,1,1,1,1,1,1,1,1,1,1,1,1,1,2,1,1,1,1,1,1,1,1,1,1,1,1,1,1,1,1,1,1,1,1,1,1,1,1,1,1,1,1,1,1,1,1,1,1,1,1,1,1,1,1,1,1,1,1,1,1,2,2,1,1,2,1,1,1,1,1,1,1,1,1,1,1,1,1,1,1,1,1,1,1,1,1,1,1,1,1,1,1,1,1,1,1,1,1,1,1,1,1,1,1,1,1,1,1,1,1,1,1,1,1,1,1,1,1,2,1,1,1,1,1,1,1,1,1,1,1,1,1,1,1,1,1,1,1,1,1,1,1,1,1,1,1,1,1,1,1,1,1,1,1,1,1,1,1,1,1,1,1,1,1,1,1,1,1,1,1,1,1,1,1,1,1,1,1,1,1,1,1,1,1,1,1,1,1,1,1,1,1,1,1,1,1,1,2,1,1,1,1,1,1,1,1,1,1,1,1,1,1,1,2,1,1,1,1,1,1,1,1,1,2,1,1,1,1,1,1,1,1,1,1,1,1,1,1,1,1,1,1,1,1,2,1,1,1,1,1,1,1,1,1,1,1,1,1,1,1,1,1,1,1,1,1,1,1,1,1,1,1,1,1,1,1,1,1,1,1,1,1,1,1,1,1,1,1,1,1,1,1,1,1,1,1,1,1,1,1,1,1,1,1,1,1,1,1,1,1,1,1,1,1,1,1,1,1,1,1,2,1,1,2,1,1,1,1,1,1,1,1,2,1,1,1,1,1,1,2,1,1,1,1,1,1,1,1,1,1,1,1,1,1,1,1,1,1,1,1,1,1,1,1,1,1,1,1,1,1,1,1,1,2,1,1,2,1,1,1,1,1,1,1,1,1,1,1,1,1,1,1,1,1,1,1,1,1,1,1,1,1,1,1,1,1,1,1,1,1,1,1,1,1,1,1,1,1,1,1,1,1,1,1,1,1,1,1,1,1,1,1,2,1,1,1,1,1,1,1,1,1,1,1,1,1,1,1,1,1,1,1,1,1,1,1,1,1,1,1,1,1,1,1,1,1,1,1,1,1,1,1,1,1,1,1,1,1,2,1,1,1,1,1,1,1,1,1,1,1,1,1,1,1,1,1,1,1,1,1,1,1,1,1,1,2,1,1,1,1,1,1,1,1,1,1,1,1,1,1,1,1,1,1,1,1,1,1,1,1,1,1,1,1,1,1,1,1,1,2,1,1,1,1,1,1,1,1,1,1,1,1,1,1,1,1,1,1,1,1,1,1,1,1,1,1,1,1,1,1,1,1,1,1,1,1,1,1,1,1,1,1,1,1,1,1,1,1,1,1,1,1,1,1,1,1,1,1,1,1,1,1,1,1,2,1,1,1,1,1,1,1,1,1,1,1,1,1,1,1,1,1,1,1,1,1,1,1,1,1,1,1,1,1,1,1,1,1,1,1,1,1,1,1,1,1,1,1,1,1,1,1,1,1,1,1,1,1,1,1,1,1,1,1,1,1,1,1,1,1,1,1,1,1,1,2,1,2,1,1,1,1,1,1,1,1,1,1,1,1,1,1,1,1,1,1,1,1,1,1,1,1,1,1,1,2,1,1,1,1,1,1,1,1,1,1,1,1,1,1,1,1,1,1,1,1,1,1,1,1,1,1,1,1,1,1,1,1,1,1,1,1,2,1,1,1,1,1],\"xaxis\":\"x\",\"yaxis\":\"y\",\"type\":\"histogram\"},{\"alignmentgroup\":\"True\",\"bingroup\":\"x\",\"histnorm\":\"percent\",\"hovertemplate\":\"type=MOVIE\\u003cbr\\u003ex=%{x}\\u003cbr\\u003epercent=%{y}\\u003cextra\\u003e\\u003c\\u002fextra\\u003e\",\"legendgroup\":\"MOVIE\",\"marker\":{\"color\":\"#EF553B\",\"pattern\":{\"shape\":\"\"}},\"name\":\"MOVIE\",\"offsetgroup\":\"MOVIE\",\"orientation\":\"v\",\"showlegend\":true,\"x\":[1,1,1,1,1,1,1,2,1,1,1,1,1,1,1,1,1,1,1,1,1,1,1,1,1,1,1,2,1,1,1,3,2,1,1,1,1,1,1,1,1,1,3,1,1,1,1,2,1,1,1,1,1,1,1,1,1,1,2,1,1,1,1,1,1,1,1,1,1,1,1,2,1,1,1,1,1,1,1,1,2,1,1,1,1,1,1,1,2,1,1,1,2,1,1,1,4,1,1,1,2,1,1,1,1,1,1,5,2,2,1,1,1,1,3,1,1,1,1,1,1,1,2,1,1,1,1,1,2,2,1,1,1,1,1,1,1,1,1,2,1,1,1,2,1,1,1,4,1,1,1,1,1,2,1,1,2,1,1,2,1,3,1,1,1,1,2,1,1,1,1,1,1,1,1,1,1,1,4,4,1,1,1,1,1,1,1,2,2,1,1,1,1,2,1,1,1,1,1,1,2,2,1,2,1,1,1,1,1,2,1,1,1,1,1,1,1,1,1,1,1,1,2,1,1,4,1,1,1,1,1,1,1,1,1,1,3,1,1,2,1,1,1,1,1,1,2,1,1,1,1,1,1,1,1,2,3,1,2,2,1,1,1,1,1,1,1,1,4,2,1,1,1,1,1,1,1,1,1,1,1,1,1,1,1,3,2,1,1,1,1,1,3,2,1,3,1,1,1,2,2,1,1,1,1,1,3,1,5,1,1,1,1,2,2,1,1,1,1,1,1,1,1,1,1,1,1,1,1,1,1,1,2,1,1,1,2,3,1,1,1,1,1,1,1,1,1,1,1,5,1,1,1,1,1,1,6,2,1,1,1,1,1,1,1,4,3,1,1,1,1,1,1,1,1,3,1,2,1,1,1,1,1,2,1,1,3,1,1,1,1,1,1,1,1,1,1,1,1,1,1,1,1,1,1,1,1,1,2,1,1,1,1,2,5,1,1,1,1,1,1,1,2,2,1,1,1,1,2,1,1,1,1,1,2,1,1,2,1,2,1,1,1,1,1,1,1,1,4,1,1,1,3,1,1,1,1,1,1,1,4,1,1,1,1,1,1,1,1,1,1,1,1,1,1,1,1,1,4,1,1,1,1,1,2,3,1,1,1,1,1,1,2,1,1,1,1,2,1,1,2,1,1,1,1,2,1,1,1,1,1,1,1,2,1,3,1,1,1,1,1,1,1,1,1,1,1,1,1,1,1,1,2,1,3,1,1,1,3,1,1,1,1,1,2,1,1,1,1,1,1,1,1,1,2,1,1,2,1,2,1,1,1,1,1,1,1,4,1,1,1,1,1,1,1,2,1,1,1,1,1,1,1,1,1,1,1,1,1,1,3,1,2,1,1,1,1,3,2,1,1,2,3,2,1,1,1,1,2,1,1,1,1,1,1,1,1,1,1,1,1,1,1,2,1,1,1,1,2,1,3,1,1,1,1,1,1,1,1,1,1,1,1,1,1,1,1,2,1,1,1,2,2,1,1,1,1,1,1,1,1,1,1,1,1,1,1,1,1,1,1,2,1,1,1,1,1,1,1,1,1,1,1,1,1,1,1,1,2,1,1,1,1,1,1,1,1,1,1,1,1,1,1,1,1,1,3,1,1,2,1,1,1,1,1,2,2,1,1,1,1,1,2,1,1,1,1,1,1,1,1,1,1,1,2,1,1,1,1,1,1,1,1,1,1,1,1,1,1,1,1,1,1,1,1,1,1,2,1,1,1,1,1,1,1,3,1,1,3,1,1,1,1,1,2,1,3,1,1,1,1,1,1,1,1,1,1,1,1,1,1,1,1,1,1,1,3,1,2,1,1,1,1,5,1,1,1,1,1,1,1,1,1,1,2,1,4,1,1,1,1,2,1,1,1,1,1,1,1,1,1,1,1,1,1,1,1,1,1,2,1,1,1,1,4,1,1,1,2,1,1,1,1,1,1,1,1,1,2,1,1,1,1,1,1,2,2,1,2,1,2,1,1,1,1,1,1,1,1,1,1,1,1,1,7,1,1,1,1,1,1,1,1,1,1,1,1,1,1,1,1,1,1,1,1,1,1,1,1,1,1,1,1,1,2,1,1,1,1,1,1,2,1,1,1,1,6,1,1,1,1,2,5,2,1,1,1,1,1,1,1,1,1,1,1,1,2,1,1,2,1,1,1,1,1,1,1,1,1,1,1,1,1,1,1,1,1,1,1,2,1,1,1,1,1,1,1,1,1,3,1,1,1,1,1,1,1,1,1,1,1,1,1,1,1,1,1,1,1,1,1,1,1,1,1,2,1,1,5,1,1,1,1,1,1,3,2,2,2,1,1,1,1,2,1,3,1,3,1,1,2,5,2,1,1,1,1,1,2,3,1,1,1,1,1,1,1,1,1,1,1,1,1,1,1,1,1,2,1,1,1,2,1,1,1,1,1,1,1,1,1,1,1,1,1,1,1,1,1,2,1,1,1,1,1,1,3,1,1,1,1,1,1,1,1,1,1,1,1,1,1,1,1,1,1,1,1,1,1,1,2,1,2,1,1,1,1,1,1,1,1,1,1,1,2,1,2,1,1,3,1,1,1,1,1,1,1,2,1,1,1,1,1,1,1,1,2,1,1,1,1,1,1,1,1,1,1,1,1,1,2,1,1,1,3,1,1,1,1,1,1,2,1,2,1,2,1,1,1,1,1,1,1,1,1,1,2,2,1,1,1,1,1,3,1,1,1,1,1,1,1,1,1,1,1,1,1,1,3,2,2,1,1,2,1,1,1,1,1,1,1,2,1,1,1,1,2,1,1,1,1,2,1,2,1,1,2,1,1,3,1,1,1,1,1,1,1,1,1,4,1,1,1,1,1,1,2,1,4,1,2,1,1,1,1,1,1,1,1,1,2,1,1,1,1,1,3,1,1,1,1,1,1,1,1,1,1,1,1,1,1,1,1,1,1,1,2,1,1,1,1,1,2,2,1,1,1,1,1,1,1,1,1,1,1,1,1,1,1,1,1,1,1,1,1,1,1,1,1,1,1,1,1,1,1,1,1,1,4,1,1,1,1,1,1,1,1,1,1,1,1,1,1,2,1,1,1,1,1,3,1,1,3,2,1,1,1,1,1,1,2,1,1,1,1,1,1,2,1,1,1,1,1,1,1,1,2,1,2,1,1,1,1,1,1,1,1,1,1,1,1,1,1,1,1,1,2,1,1,2,2,1,1,1,1,1,2,1,1,1,1,1,2,1,1,1,1,1,1,1,1,2,1,2,1,1,1,1,2,1,1,1,1,1,1,1,1,1,1,1,5,1,1,1,4,1,1,2,1,2,1,1,3,1,1,1,2,1,1,1,3,6,1,1,1,1,1,1,1,3,1,1,1,1,2,1,1,2,1,1,1,1,1,3,1,1,2,1,2,2,1,1,1,1,1,1,1,1,1,1,1,1,1,1,1,1,1,1,1,1,1,1,1,2,1,3,1,1,1,1,1,1,1,1,1,3,1,1,1,1,1,1,1,1,1,1,1,1,1,2,1,1,1,2,4,2,1,1,3,6,1,1,1,1,1,1,1,1,2,1,1,1,1,1,1,1,1,2,3,1,1,1,1,1,1,3,1,1,1,1,1,1,1,1,1,1,1,1,1,1,1,2,1,2,1,1,1,2,1,1,1,2,1,1,1,1,1,1,1,1,1,1,1,6,1,4,1,3,3,3,3,3,1,1,2,1,2,1,2,1,1,2,1,1,1,2,1,1,1,1,1,1,1,1,1,1,1,1,1,1,1,1,1,2,1,1,1,1,2,1,1,1,1,2,1,1,1,1,1,1,1,1,4,1,1,1,1,1,1,1,1,1,3,4,1,1,1,1,1,1,1,1,1,1,1,1,1,1,1,1,1,1,1,1,1,1,1,1,1,1,3,1,1,1,1,1,1,1,1,1,1,1,1,1,2,1,1,1,1,1,1,1,1,1,1,1,1,1,1,1,1,1,1,1,1,1,1,1,1,1,1,1,1,1,1,1,1,1,2,1,1,1,1,1,1,1,1,1,1,1,1,1,1,2,1,1,2,1,1,2,1,1,1,1,1,1,1,1,1,3,1,1,1,1,1,1,1,1,2,1,1,1,1,1,2,1,1,2,1,1,1,2,1,1,1,1,1,1,1,1,1,1,1,4,1,1,1,1,1,1,1,1,1,1,1,1,1,1,3,3,1,1,1,1,1,1,1,1,3,1,1,1,1,1,1,2,1,1,1,1,1,1,1,1,1,1,1,1,3,1,1,1,1,1,1,1,1,1,1,1,1,2,2,1,1,2,1,2,2,1,1,3,1,1,1,3,1,1,1,2,1,1,1,1,2,3,3,1,1,1,1,1,2,1,1,5,2,3,2,1,3,1,1,1,1,1,1,2,1,1,1,1,2,1,1,1,1,2,2,1,1,1,1,1,1,2,1,2,1,1,1,3,1,1,2,1,1,3,3,1,1,1,1,2,1,1,3,3,2,4,1,1,1,2,1,1,1,1,1,1,1,1,1,1,1,2,5,1,1,1,1,1,3,1,1,1,1,1,1,1,3,1,1,1,1,1,1,1,1,1,1,2,1,1,1,1,1,1,2,1,1,1,1,1,1,1,1,1,1,1,2,1,1,2,1,3,1,1,3,1,2,1,1,2,2,1,2,1,1,1,1,1,1,1,1,2,1,1,1,2,1,1,1,1,1,1,3,2,1,1,1,1,1,2,1,1,1,1,1,1,2,1,1,1,1,1,1,1,2,3,1,1,1,1,1,1,1,1,1,4,1,2,1,1,1,1,1,1,2,1,1,1,1,1,1,1,1,3,1,1,1,1,1,1,1,2,1,1,1,1,2,3,1,1,1,1,1,2,1,1,1,1,2,1,1,1,2,1,1,1,2,2,1,1,1,1,1,1,1,1,1,1,1,1,1,1,1,1,2,1,1,1,1,1,1,1,1,1,1,2,1,2,1,1,1,1,1,1,1,1,1,2,1,1,1,1,1,1,1,2,1,1,1,2,1,1,1,1,1,1,1,1,1,1,1,1,4,1,1,1,2,1,1,1,1,4,1,1,1,1,1,1,1,1,3,1,1,3,3,1,1,1,1,1,1,2,2,1,1,2,1,3,1,1,1,1,1,1,1,1,1,1,1,1,1,1,1,1,2,1,1,1,1,1,1,1,1,1,1,1,1,1,1,1,1,1,1,1,1,1,1,1,1,1,2,1,2,1,2,1,1,1,1,1,1,2,1,1,3,1,3,1,3,1,1,1,1,1,1,1,1,1,1,1,1,1,1,4,1,1,1,1,1,1,1,1,1,1,1,1,2,1,1,1,1,1,1,1,1,1,1,1,1,1,1,1,1,1,1,1,1,1,1,1,1,1,1,1,1,1,1,1,1,1,1,1,1,1,1,1,1,2,1,1,4,1,1,1,3,1,1,1,1,1,1,1,1,1,1,1,1,2,1,1,1,1,1,1,1,1,1,1,2,2,1,1,1,1,1,1,1,1,1,1,1,1,1,1,1,1,1,1,1,1,2,1,1,1,1,1,1,1,1,1,1,1,1,2,1,1,3,1,3,4,2,1,1,1,1,1,1,1,1,1,2,1,1,1,1,1,1,1,1,1,1,1,1,1,1,1,1,1,1,1,1,1,2,1,7,1,2,1,1,1,1,1,1,1,1,1,1,1,3,1,2,1,1,1,1,1,1,1,1,1,1,3,2,1,3,1,1,1,1,1,3,1,1,1,1,1,1,1,1,1,4,1,1,1,1,1,1,1,3,2,1,1,1,2,1,1,3,1,1,1,2,1,1,1,1,1,1,3,2,1,1,3,1,1,1,2,1,1,1,1,1,2,1,1,2,1,1,1,4,1,2,1,1,1,1,2,1,2,1,2,1,1,1,2,1,1,1,1,1,1,1,1,2,1,1,2,1,1,2,1,2,1,1,1,1,2,1,1,1,1,3,1,1,1,1,1,1,1,1,1,1,1,1,1,1,1,2,3,1,1,1,2,1,1,1,1,1,1,1,1,1,1,1,1,1,1,2,1,1,1,1,1,1,1,1,1,1,1,1,1,1,2,1,1,1,2,1,1,1,1,1,1,1,1,1,1,1,1,1,1,1,1,1,1,1,1,1,1,1,2,1,1,1,1,1,1,1,3,1,1,1,3,1,1,1,2,1,1,1,1,1,1,1,1,1,1,1,1,1,1,1,1,1,1,1,1,2,1,1,1,1,1,1,1,1,1,1,1,1,1,1,3,1,1,1,1,1,1,1,1,1,1,1,1,1,1,1,1,1,1,1,1,1,1,1,1,2,1,1,1,1,1,1,1,1,1,1,1,1,1,2,1,1,1,1,1,1,1,1,1,2,2,1,3,1,1,1,1,1,1,1,1,2,1,1,1,1,1,1,1,3,1,1,1,1,1,1,1,1,1,1,1,1,1,1,1,1,1,1,1,2,1,1,1,2,1,1,1,1,1,1,1,1,1,1,2,1,1,1,1,1,1,1,1,1,3,1,1,1,5,1,1,1,1,1,1,1,1,1,1,1,1,1,4,1,2,1,1,1,1,2,1,1,1,1,1,1,1,1,1,1,1,2,1,1,1,1,1,2,1,3,1,1,1,1,2,1,1,1,1,1,1,1,2,1,1,1,1,2,1,2,1,1,1,1,1,1,1,1,1,2,1,1,1,3,1,1,2,1,1,1,1,1,1,1,2,1,1,1,5,1,1,1,1,1,1,1,1,2,1,1,1,1,3,1,2,1,1,1,1,2,1,1,2,2,1,1,1,1,1,1,1,2,1,1,1,1,1,1,1,1,2,1,1,1,1,1,1,1,1,2,2,2,1,3,1,1,1,1,1,1,2,2,1,1,2,1,1,1,1,1,2,1,1,1,1,1,2,1,1,1,2,1,1,2,1,1,1,1,1,1,1,2,1,1,2,1,1,3,1,1,1,1,1,1,1,1,1,1,1,1,1,1,1,1,1,1,1,1,1,1,1,1,1,1,1,1,1,1,1,1,1,1,1,1,1,1,1,1,1,1,1,1,2,2,1,1,2,1,1,1,1,1,1,1,2,1,2,1,1,1,1,1,2,1,1,1,1,1,1,1,1,1,1,1,1,1,1,1,1,1,2,2,1,1,1,1,1,1,1,2,1,1,2,1,1,2,1,1,1,2,1,1,1,1,1,1,1,1,1,1,1,1,1,1,1,2,1,1,1,1,1,1,2,1,1,1,1,1,1,1,1,1,1,1,1,1,1,1,1,1,1,1,1,2,1,1,1,1,1,1,1,1,1,1,1,2,1,1,1,1,1,1,1,1,1,1,1,2,1,1,1,1,2,1,1,1,2,1,1,1,1,1,1,2,1,1,1,1,1,1,1,2,1,1,1,1,1,1,1,1,1,1,1,1,1,1,1,1,1,1,2,1,2,1,1,1,1,1,1,1,1,1,1,1,1,1,1,1,1,1,2,1,1,1,1,1,1,1,1,1,1,1,1,2,1,1,1,1,1,2,1,2,1,2,1,1,1,1,1,1,1,1,1,1,1,1,1,1,1,1,1,1,1,1,1,1,1,1,1,1,1,1,1,1,1,1,1,1,1,1,1,1,2,2,1,1,2,1,2,1,1,2,1,1,1,1,1,3,1,1,2,1,1,1,1,1,2,1,1,1,4,2,1,1,1,1,1,1,1,1,1,3,1,2,1,1,2,2,1,2,1,1,1,3,1,1,1,3,2,3,1,2,1,1,5,1,1,2,3,1,1,3,1,2,1,1,1,2,1,1,1,1,3,7,1,1,2,2,1,1,2,1,3,3,2,1,1,1,1,1,1,1,1,1,1,2,1,1,3,1,1,1,2,2,1,3,1,1,1,1,1,1,1,3,1,1,1,1,1,2,1,1,1,1,1,2,1,1,1,2,1,1,1,1,1,1,1,1,1,1,1,2,1,1,1,1,1,1,1,1,1,1,1,1,1,1,1,1,1,1,1,1,1,1,1,2,1,2,1,2,1,1,1,1,1,1,1,1,1,1,1,1,1,1,1,1,1,1,1,1,1,1,1,1,1,1,1,1,2,1,2,2,1,2,1,1,1,1,1,1,2,1,1,1,1,1,1,1,1,2,1,1,1,1,1,1,1,1,1,1,1,1],\"xaxis\":\"x\",\"yaxis\":\"y\",\"type\":\"histogram\"}],                        {\"template\":{\"data\":{\"histogram2dcontour\":[{\"type\":\"histogram2dcontour\",\"colorbar\":{\"outlinewidth\":0,\"ticks\":\"\"},\"colorscale\":[[0.0,\"#0d0887\"],[0.1111111111111111,\"#46039f\"],[0.2222222222222222,\"#7201a8\"],[0.3333333333333333,\"#9c179e\"],[0.4444444444444444,\"#bd3786\"],[0.5555555555555556,\"#d8576b\"],[0.6666666666666666,\"#ed7953\"],[0.7777777777777778,\"#fb9f3a\"],[0.8888888888888888,\"#fdca26\"],[1.0,\"#f0f921\"]]}],\"choropleth\":[{\"type\":\"choropleth\",\"colorbar\":{\"outlinewidth\":0,\"ticks\":\"\"}}],\"histogram2d\":[{\"type\":\"histogram2d\",\"colorbar\":{\"outlinewidth\":0,\"ticks\":\"\"},\"colorscale\":[[0.0,\"#0d0887\"],[0.1111111111111111,\"#46039f\"],[0.2222222222222222,\"#7201a8\"],[0.3333333333333333,\"#9c179e\"],[0.4444444444444444,\"#bd3786\"],[0.5555555555555556,\"#d8576b\"],[0.6666666666666666,\"#ed7953\"],[0.7777777777777778,\"#fb9f3a\"],[0.8888888888888888,\"#fdca26\"],[1.0,\"#f0f921\"]]}],\"heatmap\":[{\"type\":\"heatmap\",\"colorbar\":{\"outlinewidth\":0,\"ticks\":\"\"},\"colorscale\":[[0.0,\"#0d0887\"],[0.1111111111111111,\"#46039f\"],[0.2222222222222222,\"#7201a8\"],[0.3333333333333333,\"#9c179e\"],[0.4444444444444444,\"#bd3786\"],[0.5555555555555556,\"#d8576b\"],[0.6666666666666666,\"#ed7953\"],[0.7777777777777778,\"#fb9f3a\"],[0.8888888888888888,\"#fdca26\"],[1.0,\"#f0f921\"]]}],\"heatmapgl\":[{\"type\":\"heatmapgl\",\"colorbar\":{\"outlinewidth\":0,\"ticks\":\"\"},\"colorscale\":[[0.0,\"#0d0887\"],[0.1111111111111111,\"#46039f\"],[0.2222222222222222,\"#7201a8\"],[0.3333333333333333,\"#9c179e\"],[0.4444444444444444,\"#bd3786\"],[0.5555555555555556,\"#d8576b\"],[0.6666666666666666,\"#ed7953\"],[0.7777777777777778,\"#fb9f3a\"],[0.8888888888888888,\"#fdca26\"],[1.0,\"#f0f921\"]]}],\"contourcarpet\":[{\"type\":\"contourcarpet\",\"colorbar\":{\"outlinewidth\":0,\"ticks\":\"\"}}],\"contour\":[{\"type\":\"contour\",\"colorbar\":{\"outlinewidth\":0,\"ticks\":\"\"},\"colorscale\":[[0.0,\"#0d0887\"],[0.1111111111111111,\"#46039f\"],[0.2222222222222222,\"#7201a8\"],[0.3333333333333333,\"#9c179e\"],[0.4444444444444444,\"#bd3786\"],[0.5555555555555556,\"#d8576b\"],[0.6666666666666666,\"#ed7953\"],[0.7777777777777778,\"#fb9f3a\"],[0.8888888888888888,\"#fdca26\"],[1.0,\"#f0f921\"]]}],\"surface\":[{\"type\":\"surface\",\"colorbar\":{\"outlinewidth\":0,\"ticks\":\"\"},\"colorscale\":[[0.0,\"#0d0887\"],[0.1111111111111111,\"#46039f\"],[0.2222222222222222,\"#7201a8\"],[0.3333333333333333,\"#9c179e\"],[0.4444444444444444,\"#bd3786\"],[0.5555555555555556,\"#d8576b\"],[0.6666666666666666,\"#ed7953\"],[0.7777777777777778,\"#fb9f3a\"],[0.8888888888888888,\"#fdca26\"],[1.0,\"#f0f921\"]]}],\"mesh3d\":[{\"type\":\"mesh3d\",\"colorbar\":{\"outlinewidth\":0,\"ticks\":\"\"}}],\"scatter\":[{\"fillpattern\":{\"fillmode\":\"overlay\",\"size\":10,\"solidity\":0.2},\"type\":\"scatter\"}],\"parcoords\":[{\"type\":\"parcoords\",\"line\":{\"colorbar\":{\"outlinewidth\":0,\"ticks\":\"\"}}}],\"scatterpolargl\":[{\"type\":\"scatterpolargl\",\"marker\":{\"colorbar\":{\"outlinewidth\":0,\"ticks\":\"\"}}}],\"bar\":[{\"error_x\":{\"color\":\"#2a3f5f\"},\"error_y\":{\"color\":\"#2a3f5f\"},\"marker\":{\"line\":{\"color\":\"#E5ECF6\",\"width\":0.5},\"pattern\":{\"fillmode\":\"overlay\",\"size\":10,\"solidity\":0.2}},\"type\":\"bar\"}],\"scattergeo\":[{\"type\":\"scattergeo\",\"marker\":{\"colorbar\":{\"outlinewidth\":0,\"ticks\":\"\"}}}],\"scatterpolar\":[{\"type\":\"scatterpolar\",\"marker\":{\"colorbar\":{\"outlinewidth\":0,\"ticks\":\"\"}}}],\"histogram\":[{\"marker\":{\"pattern\":{\"fillmode\":\"overlay\",\"size\":10,\"solidity\":0.2}},\"type\":\"histogram\"}],\"scattergl\":[{\"type\":\"scattergl\",\"marker\":{\"colorbar\":{\"outlinewidth\":0,\"ticks\":\"\"}}}],\"scatter3d\":[{\"type\":\"scatter3d\",\"line\":{\"colorbar\":{\"outlinewidth\":0,\"ticks\":\"\"}},\"marker\":{\"colorbar\":{\"outlinewidth\":0,\"ticks\":\"\"}}}],\"scattermapbox\":[{\"type\":\"scattermapbox\",\"marker\":{\"colorbar\":{\"outlinewidth\":0,\"ticks\":\"\"}}}],\"scatterternary\":[{\"type\":\"scatterternary\",\"marker\":{\"colorbar\":{\"outlinewidth\":0,\"ticks\":\"\"}}}],\"scattercarpet\":[{\"type\":\"scattercarpet\",\"marker\":{\"colorbar\":{\"outlinewidth\":0,\"ticks\":\"\"}}}],\"carpet\":[{\"aaxis\":{\"endlinecolor\":\"#2a3f5f\",\"gridcolor\":\"white\",\"linecolor\":\"white\",\"minorgridcolor\":\"white\",\"startlinecolor\":\"#2a3f5f\"},\"baxis\":{\"endlinecolor\":\"#2a3f5f\",\"gridcolor\":\"white\",\"linecolor\":\"white\",\"minorgridcolor\":\"white\",\"startlinecolor\":\"#2a3f5f\"},\"type\":\"carpet\"}],\"table\":[{\"cells\":{\"fill\":{\"color\":\"#EBF0F8\"},\"line\":{\"color\":\"white\"}},\"header\":{\"fill\":{\"color\":\"#C8D4E3\"},\"line\":{\"color\":\"white\"}},\"type\":\"table\"}],\"barpolar\":[{\"marker\":{\"line\":{\"color\":\"#E5ECF6\",\"width\":0.5},\"pattern\":{\"fillmode\":\"overlay\",\"size\":10,\"solidity\":0.2}},\"type\":\"barpolar\"}],\"pie\":[{\"automargin\":true,\"type\":\"pie\"}]},\"layout\":{\"autotypenumbers\":\"strict\",\"colorway\":[\"#636efa\",\"#EF553B\",\"#00cc96\",\"#ab63fa\",\"#FFA15A\",\"#19d3f3\",\"#FF6692\",\"#B6E880\",\"#FF97FF\",\"#FECB52\"],\"font\":{\"color\":\"#2a3f5f\"},\"hovermode\":\"closest\",\"hoverlabel\":{\"align\":\"left\"},\"paper_bgcolor\":\"white\",\"plot_bgcolor\":\"#E5ECF6\",\"polar\":{\"bgcolor\":\"#E5ECF6\",\"angularaxis\":{\"gridcolor\":\"white\",\"linecolor\":\"white\",\"ticks\":\"\"},\"radialaxis\":{\"gridcolor\":\"white\",\"linecolor\":\"white\",\"ticks\":\"\"}},\"ternary\":{\"bgcolor\":\"#E5ECF6\",\"aaxis\":{\"gridcolor\":\"white\",\"linecolor\":\"white\",\"ticks\":\"\"},\"baxis\":{\"gridcolor\":\"white\",\"linecolor\":\"white\",\"ticks\":\"\"},\"caxis\":{\"gridcolor\":\"white\",\"linecolor\":\"white\",\"ticks\":\"\"}},\"coloraxis\":{\"colorbar\":{\"outlinewidth\":0,\"ticks\":\"\"}},\"colorscale\":{\"sequential\":[[0.0,\"#0d0887\"],[0.1111111111111111,\"#46039f\"],[0.2222222222222222,\"#7201a8\"],[0.3333333333333333,\"#9c179e\"],[0.4444444444444444,\"#bd3786\"],[0.5555555555555556,\"#d8576b\"],[0.6666666666666666,\"#ed7953\"],[0.7777777777777778,\"#fb9f3a\"],[0.8888888888888888,\"#fdca26\"],[1.0,\"#f0f921\"]],\"sequentialminus\":[[0.0,\"#0d0887\"],[0.1111111111111111,\"#46039f\"],[0.2222222222222222,\"#7201a8\"],[0.3333333333333333,\"#9c179e\"],[0.4444444444444444,\"#bd3786\"],[0.5555555555555556,\"#d8576b\"],[0.6666666666666666,\"#ed7953\"],[0.7777777777777778,\"#fb9f3a\"],[0.8888888888888888,\"#fdca26\"],[1.0,\"#f0f921\"]],\"diverging\":[[0,\"#8e0152\"],[0.1,\"#c51b7d\"],[0.2,\"#de77ae\"],[0.3,\"#f1b6da\"],[0.4,\"#fde0ef\"],[0.5,\"#f7f7f7\"],[0.6,\"#e6f5d0\"],[0.7,\"#b8e186\"],[0.8,\"#7fbc41\"],[0.9,\"#4d9221\"],[1,\"#276419\"]]},\"xaxis\":{\"gridcolor\":\"white\",\"linecolor\":\"white\",\"ticks\":\"\",\"title\":{\"standoff\":15},\"zerolinecolor\":\"white\",\"automargin\":true,\"zerolinewidth\":2},\"yaxis\":{\"gridcolor\":\"white\",\"linecolor\":\"white\",\"ticks\":\"\",\"title\":{\"standoff\":15},\"zerolinecolor\":\"white\",\"automargin\":true,\"zerolinewidth\":2},\"scene\":{\"xaxis\":{\"backgroundcolor\":\"#E5ECF6\",\"gridcolor\":\"white\",\"linecolor\":\"white\",\"showbackground\":true,\"ticks\":\"\",\"zerolinecolor\":\"white\",\"gridwidth\":2},\"yaxis\":{\"backgroundcolor\":\"#E5ECF6\",\"gridcolor\":\"white\",\"linecolor\":\"white\",\"showbackground\":true,\"ticks\":\"\",\"zerolinecolor\":\"white\",\"gridwidth\":2},\"zaxis\":{\"backgroundcolor\":\"#E5ECF6\",\"gridcolor\":\"white\",\"linecolor\":\"white\",\"showbackground\":true,\"ticks\":\"\",\"zerolinecolor\":\"white\",\"gridwidth\":2}},\"shapedefaults\":{\"line\":{\"color\":\"#2a3f5f\"}},\"annotationdefaults\":{\"arrowcolor\":\"#2a3f5f\",\"arrowhead\":0,\"arrowwidth\":1},\"geo\":{\"bgcolor\":\"white\",\"landcolor\":\"#E5ECF6\",\"subunitcolor\":\"white\",\"showland\":true,\"showlakes\":true,\"lakecolor\":\"white\"},\"title\":{\"x\":0.05},\"mapbox\":{\"style\":\"light\"}}},\"xaxis\":{\"anchor\":\"y\",\"domain\":[0.0,1.0],\"title\":{\"text\":\"Number of Production Countries\"},\"tickmode\":\"linear\",\"tick0\":1,\"dtick\":1},\"yaxis\":{\"anchor\":\"x\",\"domain\":[0.0,1.0],\"title\":{\"text\":\"percent\"}},\"legend\":{\"title\":{\"text\":\"type\"},\"tracegroupgap\":0},\"title\":{\"text\":\"Number of Production Countries per Entry\"},\"barmode\":\"group\"},                        {\"responsive\": true}                    ).then(function(){\n",
       "                            \n",
       "var gd = document.getElementById('ebb37690-927f-42cf-9d29-b3e88a3cc96b');\n",
       "var x = new MutationObserver(function (mutations, observer) {{\n",
       "        var display = window.getComputedStyle(gd).display;\n",
       "        if (!display || display === 'none') {{\n",
       "            console.log([gd, 'removed!']);\n",
       "            Plotly.purge(gd);\n",
       "            observer.disconnect();\n",
       "        }}\n",
       "}});\n",
       "\n",
       "// Listen for the removal of the full notebook cells\n",
       "var notebookContainer = gd.closest('#notebook-container');\n",
       "if (notebookContainer) {{\n",
       "    x.observe(notebookContainer, {childList: true});\n",
       "}}\n",
       "\n",
       "// Listen for the clearing of the current output cell\n",
       "var outputEl = gd.closest('.output');\n",
       "if (outputEl) {{\n",
       "    x.observe(outputEl, {childList: true});\n",
       "}}\n",
       "\n",
       "                        })                };                });            </script>        </div>"
      ]
     },
     "metadata": {},
     "output_type": "display_data"
    }
   ],
   "source": [
    "\n",
    "# Separate by country production number and count productions per country.\n",
    "fig = px.histogram(\n",
    "    df_production,\n",
    "    x=df_production.production_countries.str.len(),\n",
    "    title=\"Number of Production Countries per Entry\",\n",
    "    color=\"type\",\n",
    "    barmode=\"group\",\n",
    "    histnorm=\"percent\",\n",
    ")\n",
    "\n",
    "fig.update_layout(\n",
    "    xaxis=dict(\n",
    "        tickmode=\"linear\", tick0=1, dtick=1, title=\"Number of Production Countries\"\n",
    "    )\n",
    ")"
   ]
  },
  {
   "cell_type": "markdown",
   "id": "f59b1b5d",
   "metadata": {
    "_cell_guid": "6745989e-5f38-4856-8675-b6353cf5095e",
    "_uuid": "e4791712-d9da-4474-9499-1bf2f0313e3e",
    "papermill": {
     "duration": 0.015725,
     "end_time": "2023-11-29T18:44:39.675487",
     "exception": false,
     "start_time": "2023-11-29T18:44:39.659762",
     "status": "completed"
    },
    "tags": []
   },
   "source": [
    "Almost all shows, ca. 96%, are produced in 1 country. Wherease for movies\n",
    "there is a sizeable amount, ca. 15%, that is produced in more than\n",
    "one country."
   ]
  },
  {
   "cell_type": "code",
   "execution_count": 15,
   "id": "180dd2f7",
   "metadata": {
    "_cell_guid": "af3fe214-47b3-439b-9b52-2f660dd317f5",
    "_uuid": "b66204de-e615-4114-ac41-4393a2a04a36",
    "collapsed": false,
    "execution": {
     "iopub.execute_input": "2023-11-29T18:44:39.710680Z",
     "iopub.status.busy": "2023-11-29T18:44:39.710223Z",
     "iopub.status.idle": "2023-11-29T18:44:39.722877Z",
     "shell.execute_reply": "2023-11-29T18:44:39.721382Z"
    },
    "jupyter": {
     "outputs_hidden": false
    },
    "papermill": {
     "duration": 0.034343,
     "end_time": "2023-11-29T18:44:39.725714",
     "exception": false,
     "start_time": "2023-11-29T18:44:39.691371",
     "status": "completed"
    },
    "tags": []
   },
   "outputs": [
    {
     "data": {
      "text/plain": [
       "0       [US]\n",
       "24      [EG]\n",
       "28      [EG]\n",
       "15      [US]\n",
       "22      [EG]\n",
       "        ... \n",
       "5439    [TR]\n",
       "5096    [US]\n",
       "5654    [PL]\n",
       "5225    [US]\n",
       "5284    [IN]\n",
       "Name: production_countries, Length: 5574, dtype: object"
      ]
     },
     "execution_count": 15,
     "metadata": {},
     "output_type": "execute_result"
    }
   ],
   "source": [
    "\n",
    "df_production[\"production_countries\"]"
   ]
  },
  {
   "cell_type": "code",
   "execution_count": 16,
   "id": "0e5d4074",
   "metadata": {
    "_cell_guid": "515dc774-91cb-4cce-b454-d8f19a1e1a9c",
    "_uuid": "ccace0aa-dddf-448b-a6ca-f6ad06460bc6",
    "collapsed": false,
    "execution": {
     "iopub.execute_input": "2023-11-29T18:44:39.761785Z",
     "iopub.status.busy": "2023-11-29T18:44:39.760894Z",
     "iopub.status.idle": "2023-11-29T18:44:39.774197Z",
     "shell.execute_reply": "2023-11-29T18:44:39.772638Z"
    },
    "jupyter": {
     "outputs_hidden": false
    },
    "papermill": {
     "duration": 0.03483,
     "end_time": "2023-11-29T18:44:39.777550",
     "exception": false,
     "start_time": "2023-11-29T18:44:39.742720",
     "status": "completed"
    },
    "tags": []
   },
   "outputs": [
    {
     "name": "stdout",
     "output_type": "stream",
     "text": [
      "Lebanon\n"
     ]
    }
   ],
   "source": [
    "\n",
    "# get a set of unique countries\n",
    "\n",
    "set_of_countries = set()\n",
    "df_production[\"production_countries\"].apply(lambda x: set_of_countries.update(x))\n",
    "\n",
    "# Check for integrity of all country ISO codes\n",
    "for x in set_of_countries:\n",
    "    if len(x) > 2:\n",
    "        print(x)"
   ]
  },
  {
   "cell_type": "markdown",
   "id": "df1da418",
   "metadata": {
    "_cell_guid": "a60227b7-0c4c-4d88-bb95-13d27501d3d5",
    "_uuid": "d6ebaca4-fe05-4a97-a840-1f0143df9a13",
    "papermill": {
     "duration": 0.016833,
     "end_time": "2023-11-29T18:44:39.811110",
     "exception": false,
     "start_time": "2023-11-29T18:44:39.794277",
     "status": "completed"
    },
    "tags": []
   },
   "source": [
    "It seems that Lebanon has been labeled twice, once in its full name and one in\n",
    "its ISO country code 'LB'."
   ]
  },
  {
   "cell_type": "code",
   "execution_count": 17,
   "id": "362eac3e",
   "metadata": {
    "_cell_guid": "12ae7b22-7cf7-406f-85d0-8dee45b255b3",
    "_uuid": "b0456873-4408-4c81-96aa-ac506c8f31bd",
    "collapsed": false,
    "execution": {
     "iopub.execute_input": "2023-11-29T18:44:39.850272Z",
     "iopub.status.busy": "2023-11-29T18:44:39.848482Z",
     "iopub.status.idle": "2023-11-29T18:44:39.863425Z",
     "shell.execute_reply": "2023-11-29T18:44:39.861890Z"
    },
    "jupyter": {
     "outputs_hidden": false
    },
    "papermill": {
     "duration": 0.038426,
     "end_time": "2023-11-29T18:44:39.866662",
     "exception": false,
     "start_time": "2023-11-29T18:44:39.828236",
     "status": "completed"
    },
    "tags": []
   },
   "outputs": [
    {
     "data": {
      "text/plain": [
       "Index([649], dtype='int64')"
      ]
     },
     "execution_count": 17,
     "metadata": {},
     "output_type": "execute_result"
    }
   ],
   "source": [
    "\n",
    "# Find and change that to LB\n",
    "df_production.loc[\n",
    "    df_production[\"production_countries\"].apply(lambda x: \"Lebanon\" in x)\n",
    "].index"
   ]
  },
  {
   "cell_type": "code",
   "execution_count": 18,
   "id": "497f6523",
   "metadata": {
    "_cell_guid": "701999bd-6282-4f3a-9b68-d4ced3b7d2c9",
    "_uuid": "c01895c5-171e-4e86-96c8-3940da478ca2",
    "collapsed": false,
    "execution": {
     "iopub.execute_input": "2023-11-29T18:44:39.969802Z",
     "iopub.status.busy": "2023-11-29T18:44:39.969335Z",
     "iopub.status.idle": "2023-11-29T18:44:39.976462Z",
     "shell.execute_reply": "2023-11-29T18:44:39.975123Z"
    },
    "jupyter": {
     "outputs_hidden": false
    },
    "papermill": {
     "duration": 0.096198,
     "end_time": "2023-11-29T18:44:39.979374",
     "exception": false,
     "start_time": "2023-11-29T18:44:39.883176",
     "status": "completed"
    },
    "tags": []
   },
   "outputs": [],
   "source": [
    "df_production.loc[649, \"production_countries\"] = [\"LB\"]"
   ]
  },
  {
   "cell_type": "code",
   "execution_count": 19,
   "id": "7618dc27",
   "metadata": {
    "_cell_guid": "ee0fbcda-9bc7-4992-9f0d-4ad0aa7e3f90",
    "_uuid": "d016f60f-4396-4acb-b470-3dbff512b190",
    "collapsed": false,
    "execution": {
     "iopub.execute_input": "2023-11-29T18:44:40.014978Z",
     "iopub.status.busy": "2023-11-29T18:44:40.014529Z",
     "iopub.status.idle": "2023-11-29T18:44:40.030409Z",
     "shell.execute_reply": "2023-11-29T18:44:40.028196Z"
    },
    "jupyter": {
     "outputs_hidden": false
    },
    "papermill": {
     "duration": 0.038598,
     "end_time": "2023-11-29T18:44:40.033892",
     "exception": false,
     "start_time": "2023-11-29T18:44:39.995294",
     "status": "completed"
    },
    "tags": []
   },
   "outputs": [
    {
     "data": {
      "text/plain": [
       "106"
      ]
     },
     "execution_count": 19,
     "metadata": {},
     "output_type": "execute_result"
    }
   ],
   "source": [
    "set_of_countries = set()\n",
    "df_production[\"production_countries\"].apply(lambda x: set_of_countries.update(x))\n",
    "len(set_of_countries)"
   ]
  },
  {
   "cell_type": "code",
   "execution_count": 20,
   "id": "ebe2526e",
   "metadata": {
    "execution": {
     "iopub.execute_input": "2023-11-29T18:44:40.074669Z",
     "iopub.status.busy": "2023-11-29T18:44:40.074242Z",
     "iopub.status.idle": "2023-11-29T18:44:40.083813Z",
     "shell.execute_reply": "2023-11-29T18:44:40.082328Z"
    },
    "papermill": {
     "duration": 0.034068,
     "end_time": "2023-11-29T18:44:40.087452",
     "exception": false,
     "start_time": "2023-11-29T18:44:40.053384",
     "status": "completed"
    },
    "tags": []
   },
   "outputs": [
    {
     "data": {
      "text/plain": [
       "['US']"
      ]
     },
     "execution_count": 20,
     "metadata": {},
     "output_type": "execute_result"
    }
   ],
   "source": [
    "df_production[\"production_countries\"][0]"
   ]
  },
  {
   "cell_type": "markdown",
   "id": "41d8a7f0",
   "metadata": {
    "_cell_guid": "421a6bda-8ff2-4697-a49f-b444d13e48bc",
    "_uuid": "3fb5583c-a450-495a-82d3-81bc03a18a12",
    "papermill": {
     "duration": 0.017386,
     "end_time": "2023-11-29T18:44:40.122415",
     "exception": false,
     "start_time": "2023-11-29T18:44:40.105029",
     "status": "completed"
    },
    "tags": []
   },
   "source": [
    "There are 106 countries in which production took place."
   ]
  },
  {
   "cell_type": "code",
   "execution_count": 21,
   "id": "5c1e3048",
   "metadata": {
    "_cell_guid": "4de591a7-ef30-4ea5-94a4-b8056220236d",
    "_uuid": "950218f0-70d9-4549-9e1b-85a155b6dee8",
    "collapsed": false,
    "execution": {
     "iopub.execute_input": "2023-11-29T18:44:40.160913Z",
     "iopub.status.busy": "2023-11-29T18:44:40.159887Z",
     "iopub.status.idle": "2023-11-29T18:44:40.167796Z",
     "shell.execute_reply": "2023-11-29T18:44:40.166357Z"
    },
    "jupyter": {
     "outputs_hidden": false
    },
    "papermill": {
     "duration": 0.030576,
     "end_time": "2023-11-29T18:44:40.171317",
     "exception": false,
     "start_time": "2023-11-29T18:44:40.140741",
     "status": "completed"
    },
    "tags": []
   },
   "outputs": [],
   "source": [
    "\n",
    "\n",
    "def productions_per_country(series: pd.Series, set_of_countries: Set) -> pd.DataFrame:\n",
    "    p_per_c = dict(zip(set_of_countries, np.zeros(len(set_of_countries))))\n",
    "    for list_of_countries in series:\n",
    "        for country in list_of_countries:\n",
    "            p_per_c[country] += 1\n",
    "\n",
    "    return pd.DataFrame(dict(country=p_per_c.keys(), n_productions=p_per_c.values()))"
   ]
  },
  {
   "cell_type": "code",
   "execution_count": 22,
   "id": "e589e1f8",
   "metadata": {
    "_cell_guid": "b951598d-9fdd-40ab-b760-1ace71dc8836",
    "_uuid": "dd709157-081f-42fb-9adf-812d622228e6",
    "collapsed": false,
    "execution": {
     "iopub.execute_input": "2023-11-29T18:44:40.207017Z",
     "iopub.status.busy": "2023-11-29T18:44:40.205862Z",
     "iopub.status.idle": "2023-11-29T18:44:40.226255Z",
     "shell.execute_reply": "2023-11-29T18:44:40.224789Z"
    },
    "jupyter": {
     "outputs_hidden": false
    },
    "papermill": {
     "duration": 0.041737,
     "end_time": "2023-11-29T18:44:40.229444",
     "exception": false,
     "start_time": "2023-11-29T18:44:40.187707",
     "status": "completed"
    },
    "tags": []
   },
   "outputs": [
    {
     "data": {
      "text/html": [
       "<div>\n",
       "<style scoped>\n",
       "    .dataframe tbody tr th:only-of-type {\n",
       "        vertical-align: middle;\n",
       "    }\n",
       "\n",
       "    .dataframe tbody tr th {\n",
       "        vertical-align: top;\n",
       "    }\n",
       "\n",
       "    .dataframe thead th {\n",
       "        text-align: right;\n",
       "    }\n",
       "</style>\n",
       "<table border=\"1\" class=\"dataframe\">\n",
       "  <thead>\n",
       "    <tr style=\"text-align: right;\">\n",
       "      <th></th>\n",
       "      <th>country</th>\n",
       "      <th>n_productions</th>\n",
       "    </tr>\n",
       "  </thead>\n",
       "  <tbody>\n",
       "    <tr>\n",
       "      <th>0</th>\n",
       "      <td>RU</td>\n",
       "      <td>15.0</td>\n",
       "    </tr>\n",
       "    <tr>\n",
       "      <th>1</th>\n",
       "      <td>IT</td>\n",
       "      <td>81.0</td>\n",
       "    </tr>\n",
       "    <tr>\n",
       "      <th>2</th>\n",
       "      <td>TR</td>\n",
       "      <td>80.0</td>\n",
       "    </tr>\n",
       "    <tr>\n",
       "      <th>3</th>\n",
       "      <td>GR</td>\n",
       "      <td>3.0</td>\n",
       "    </tr>\n",
       "    <tr>\n",
       "      <th>4</th>\n",
       "      <td>MU</td>\n",
       "      <td>1.0</td>\n",
       "    </tr>\n",
       "  </tbody>\n",
       "</table>\n",
       "</div>"
      ],
      "text/plain": [
       "  country  n_productions\n",
       "0      RU           15.0\n",
       "1      IT           81.0\n",
       "2      TR           80.0\n",
       "3      GR            3.0\n",
       "4      MU            1.0"
      ]
     },
     "execution_count": 22,
     "metadata": {},
     "output_type": "execute_result"
    }
   ],
   "source": [
    "df_productions_per_country = productions_per_country(\n",
    "    series=df_production[\"production_countries\"],\n",
    "    set_of_countries=set_of_countries,\n",
    ")\n",
    "df_productions_per_country.head()"
   ]
  },
  {
   "cell_type": "code",
   "execution_count": 23,
   "id": "aa0793cc",
   "metadata": {
    "_cell_guid": "fc67d1de-dd53-4f66-8e30-bb1da0fb4c8b",
    "_uuid": "1ce6f280-f590-4d85-aea7-b2e6074b0921",
    "collapsed": false,
    "execution": {
     "iopub.execute_input": "2023-11-29T18:44:40.270123Z",
     "iopub.status.busy": "2023-11-29T18:44:40.269681Z",
     "iopub.status.idle": "2023-11-29T18:44:40.383544Z",
     "shell.execute_reply": "2023-11-29T18:44:40.382095Z"
    },
    "jupyter": {
     "outputs_hidden": false
    },
    "papermill": {
     "duration": 0.137314,
     "end_time": "2023-11-29T18:44:40.386363",
     "exception": false,
     "start_time": "2023-11-29T18:44:40.249049",
     "status": "completed"
    },
    "tags": []
   },
   "outputs": [
    {
     "data": {
      "text/html": [
       "<div>                            <div id=\"d572fc74-c0cf-4f14-bd3b-19d9d6deaa69\" class=\"plotly-graph-div\" style=\"height:525px; width:1800px;\"></div>            <script type=\"text/javascript\">                require([\"plotly\"], function(Plotly) {                    window.PLOTLYENV=window.PLOTLYENV || {};                                    if (document.getElementById(\"d572fc74-c0cf-4f14-bd3b-19d9d6deaa69\")) {                    Plotly.newPlot(                        \"d572fc74-c0cf-4f14-bd3b-19d9d6deaa69\",                        [{\"alignmentgroup\":\"True\",\"hovertemplate\":\"\\u003cb\\u003e%{hovertext}\\u003c\\u002fb\\u003e\\u003cbr\\u003e\\u003cbr\\u003en_productions=%{y}\\u003cextra\\u003e\\u003c\\u002fextra\\u003e\",\"hovertext\":[\"US\",\"IN\",\"GB\",\"JP\",\"FR\",\"CA\",\"KR\",\"ES\",\"DE\",\"MX\",\"CN\",\"BR\",\"PH\",\"AU\",\"IT\",\"TR\",\"NG\",\"AR\",\"TW\",\"ID\",\"EG\",\"BE\",\"CO\",\"PL\",\"ZA\",\"HK\",\"TH\",\"NL\",\"LB\",\"SE\",\"DK\",\"SG\",\"XX\",\"NO\",\"PS\",\"AE\",\"CL\",\"MY\",\"IE\",\"IL\",\"RU\",\"SA\",\"AT\",\"CH\",\"NZ\",\"PE\",\"QA\",\"IS\",\"KW\",\"CZ\",\"BG\",\"FI\",\"UY\",\"LU\",\"HU\",\"RO\",\"JO\",\"PT\",\"MA\",\"GH\",\"TZ\",\"UA\",\"BD\",\"GR\",\"SY\",\"KH\",\"VN\",\"IO\",\"PK\",\"RS\",\"PR\",\"KE\",\"CM\",\"CD\",\"LT\",\"SU\",\"SN\",\"GE\",\"AL\",\"IR\",\"IQ\",\"AF\",\"CY\",\"MU\",\"VA\",\"NP\",\"VE\",\"BS\",\"ZW\",\"BY\",\"HR\",\"AO\",\"KG\",\"GT\",\"CU\",\"GL\",\"PY\",\"MW\",\"BF\",\"MZ\",\"FO\",\"LK\",\"SK\",\"NA\",\"DZ\",\"TN\"],\"legendgroup\":\"\",\"marker\":{\"color\":\"#636efa\",\"pattern\":{\"shape\":\"\"}},\"name\":\"\",\"offsetgroup\":\"\",\"orientation\":\"v\",\"showlegend\":false,\"textposition\":\"auto\",\"x\":[\"US\",\"IN\",\"GB\",\"JP\",\"FR\",\"CA\",\"KR\",\"ES\",\"DE\",\"MX\",\"CN\",\"BR\",\"PH\",\"AU\",\"IT\",\"TR\",\"NG\",\"AR\",\"TW\",\"ID\",\"EG\",\"BE\",\"CO\",\"PL\",\"ZA\",\"HK\",\"TH\",\"NL\",\"LB\",\"SE\",\"DK\",\"SG\",\"XX\",\"NO\",\"PS\",\"AE\",\"CL\",\"MY\",\"IE\",\"IL\",\"RU\",\"SA\",\"AT\",\"CH\",\"NZ\",\"PE\",\"QA\",\"IS\",\"KW\",\"CZ\",\"BG\",\"FI\",\"UY\",\"LU\",\"HU\",\"RO\",\"JO\",\"PT\",\"MA\",\"GH\",\"TZ\",\"UA\",\"BD\",\"GR\",\"SY\",\"KH\",\"VN\",\"IO\",\"PK\",\"RS\",\"PR\",\"KE\",\"CM\",\"CD\",\"LT\",\"SU\",\"SN\",\"GE\",\"AL\",\"IR\",\"IQ\",\"AF\",\"CY\",\"MU\",\"VA\",\"NP\",\"VE\",\"BS\",\"ZW\",\"BY\",\"HR\",\"AO\",\"KG\",\"GT\",\"CU\",\"GL\",\"PY\",\"MW\",\"BF\",\"MZ\",\"FO\",\"LK\",\"SK\",\"NA\",\"DZ\",\"TN\"],\"xaxis\":\"x\",\"y\":[2327.0,629.0,406.0,291.0,248.0,216.0,216.0,212.0,139.0,123.0,104.0,98.0,85.0,83.0,81.0,80.0,75.0,71.0,61.0,58.0,49.0,49.0,45.0,42.0,42.0,41.0,38.0,38.0,37.0,30.0,29.0,28.0,25.0,22.0,21.0,21.0,20.0,19.0,18.0,16.0,15.0,15.0,13.0,13.0,12.0,12.0,11.0,11.0,9.0,9.0,8.0,7.0,7.0,7.0,7.0,6.0,6.0,5.0,5.0,4.0,4.0,4.0,3.0,3.0,3.0,3.0,3.0,3.0,3.0,2.0,2.0,2.0,2.0,2.0,2.0,2.0,2.0,2.0,2.0,2.0,2.0,2.0,1.0,1.0,1.0,1.0,1.0,1.0,1.0,1.0,1.0,1.0,1.0,1.0,1.0,1.0,1.0,1.0,1.0,1.0,1.0,1.0,1.0,1.0,1.0,1.0],\"yaxis\":\"y\",\"type\":\"bar\"}],                        {\"template\":{\"data\":{\"histogram2dcontour\":[{\"type\":\"histogram2dcontour\",\"colorbar\":{\"outlinewidth\":0,\"ticks\":\"\"},\"colorscale\":[[0.0,\"#0d0887\"],[0.1111111111111111,\"#46039f\"],[0.2222222222222222,\"#7201a8\"],[0.3333333333333333,\"#9c179e\"],[0.4444444444444444,\"#bd3786\"],[0.5555555555555556,\"#d8576b\"],[0.6666666666666666,\"#ed7953\"],[0.7777777777777778,\"#fb9f3a\"],[0.8888888888888888,\"#fdca26\"],[1.0,\"#f0f921\"]]}],\"choropleth\":[{\"type\":\"choropleth\",\"colorbar\":{\"outlinewidth\":0,\"ticks\":\"\"}}],\"histogram2d\":[{\"type\":\"histogram2d\",\"colorbar\":{\"outlinewidth\":0,\"ticks\":\"\"},\"colorscale\":[[0.0,\"#0d0887\"],[0.1111111111111111,\"#46039f\"],[0.2222222222222222,\"#7201a8\"],[0.3333333333333333,\"#9c179e\"],[0.4444444444444444,\"#bd3786\"],[0.5555555555555556,\"#d8576b\"],[0.6666666666666666,\"#ed7953\"],[0.7777777777777778,\"#fb9f3a\"],[0.8888888888888888,\"#fdca26\"],[1.0,\"#f0f921\"]]}],\"heatmap\":[{\"type\":\"heatmap\",\"colorbar\":{\"outlinewidth\":0,\"ticks\":\"\"},\"colorscale\":[[0.0,\"#0d0887\"],[0.1111111111111111,\"#46039f\"],[0.2222222222222222,\"#7201a8\"],[0.3333333333333333,\"#9c179e\"],[0.4444444444444444,\"#bd3786\"],[0.5555555555555556,\"#d8576b\"],[0.6666666666666666,\"#ed7953\"],[0.7777777777777778,\"#fb9f3a\"],[0.8888888888888888,\"#fdca26\"],[1.0,\"#f0f921\"]]}],\"heatmapgl\":[{\"type\":\"heatmapgl\",\"colorbar\":{\"outlinewidth\":0,\"ticks\":\"\"},\"colorscale\":[[0.0,\"#0d0887\"],[0.1111111111111111,\"#46039f\"],[0.2222222222222222,\"#7201a8\"],[0.3333333333333333,\"#9c179e\"],[0.4444444444444444,\"#bd3786\"],[0.5555555555555556,\"#d8576b\"],[0.6666666666666666,\"#ed7953\"],[0.7777777777777778,\"#fb9f3a\"],[0.8888888888888888,\"#fdca26\"],[1.0,\"#f0f921\"]]}],\"contourcarpet\":[{\"type\":\"contourcarpet\",\"colorbar\":{\"outlinewidth\":0,\"ticks\":\"\"}}],\"contour\":[{\"type\":\"contour\",\"colorbar\":{\"outlinewidth\":0,\"ticks\":\"\"},\"colorscale\":[[0.0,\"#0d0887\"],[0.1111111111111111,\"#46039f\"],[0.2222222222222222,\"#7201a8\"],[0.3333333333333333,\"#9c179e\"],[0.4444444444444444,\"#bd3786\"],[0.5555555555555556,\"#d8576b\"],[0.6666666666666666,\"#ed7953\"],[0.7777777777777778,\"#fb9f3a\"],[0.8888888888888888,\"#fdca26\"],[1.0,\"#f0f921\"]]}],\"surface\":[{\"type\":\"surface\",\"colorbar\":{\"outlinewidth\":0,\"ticks\":\"\"},\"colorscale\":[[0.0,\"#0d0887\"],[0.1111111111111111,\"#46039f\"],[0.2222222222222222,\"#7201a8\"],[0.3333333333333333,\"#9c179e\"],[0.4444444444444444,\"#bd3786\"],[0.5555555555555556,\"#d8576b\"],[0.6666666666666666,\"#ed7953\"],[0.7777777777777778,\"#fb9f3a\"],[0.8888888888888888,\"#fdca26\"],[1.0,\"#f0f921\"]]}],\"mesh3d\":[{\"type\":\"mesh3d\",\"colorbar\":{\"outlinewidth\":0,\"ticks\":\"\"}}],\"scatter\":[{\"fillpattern\":{\"fillmode\":\"overlay\",\"size\":10,\"solidity\":0.2},\"type\":\"scatter\"}],\"parcoords\":[{\"type\":\"parcoords\",\"line\":{\"colorbar\":{\"outlinewidth\":0,\"ticks\":\"\"}}}],\"scatterpolargl\":[{\"type\":\"scatterpolargl\",\"marker\":{\"colorbar\":{\"outlinewidth\":0,\"ticks\":\"\"}}}],\"bar\":[{\"error_x\":{\"color\":\"#2a3f5f\"},\"error_y\":{\"color\":\"#2a3f5f\"},\"marker\":{\"line\":{\"color\":\"#E5ECF6\",\"width\":0.5},\"pattern\":{\"fillmode\":\"overlay\",\"size\":10,\"solidity\":0.2}},\"type\":\"bar\"}],\"scattergeo\":[{\"type\":\"scattergeo\",\"marker\":{\"colorbar\":{\"outlinewidth\":0,\"ticks\":\"\"}}}],\"scatterpolar\":[{\"type\":\"scatterpolar\",\"marker\":{\"colorbar\":{\"outlinewidth\":0,\"ticks\":\"\"}}}],\"histogram\":[{\"marker\":{\"pattern\":{\"fillmode\":\"overlay\",\"size\":10,\"solidity\":0.2}},\"type\":\"histogram\"}],\"scattergl\":[{\"type\":\"scattergl\",\"marker\":{\"colorbar\":{\"outlinewidth\":0,\"ticks\":\"\"}}}],\"scatter3d\":[{\"type\":\"scatter3d\",\"line\":{\"colorbar\":{\"outlinewidth\":0,\"ticks\":\"\"}},\"marker\":{\"colorbar\":{\"outlinewidth\":0,\"ticks\":\"\"}}}],\"scattermapbox\":[{\"type\":\"scattermapbox\",\"marker\":{\"colorbar\":{\"outlinewidth\":0,\"ticks\":\"\"}}}],\"scatterternary\":[{\"type\":\"scatterternary\",\"marker\":{\"colorbar\":{\"outlinewidth\":0,\"ticks\":\"\"}}}],\"scattercarpet\":[{\"type\":\"scattercarpet\",\"marker\":{\"colorbar\":{\"outlinewidth\":0,\"ticks\":\"\"}}}],\"carpet\":[{\"aaxis\":{\"endlinecolor\":\"#2a3f5f\",\"gridcolor\":\"white\",\"linecolor\":\"white\",\"minorgridcolor\":\"white\",\"startlinecolor\":\"#2a3f5f\"},\"baxis\":{\"endlinecolor\":\"#2a3f5f\",\"gridcolor\":\"white\",\"linecolor\":\"white\",\"minorgridcolor\":\"white\",\"startlinecolor\":\"#2a3f5f\"},\"type\":\"carpet\"}],\"table\":[{\"cells\":{\"fill\":{\"color\":\"#EBF0F8\"},\"line\":{\"color\":\"white\"}},\"header\":{\"fill\":{\"color\":\"#C8D4E3\"},\"line\":{\"color\":\"white\"}},\"type\":\"table\"}],\"barpolar\":[{\"marker\":{\"line\":{\"color\":\"#E5ECF6\",\"width\":0.5},\"pattern\":{\"fillmode\":\"overlay\",\"size\":10,\"solidity\":0.2}},\"type\":\"barpolar\"}],\"pie\":[{\"automargin\":true,\"type\":\"pie\"}]},\"layout\":{\"autotypenumbers\":\"strict\",\"colorway\":[\"#636efa\",\"#EF553B\",\"#00cc96\",\"#ab63fa\",\"#FFA15A\",\"#19d3f3\",\"#FF6692\",\"#B6E880\",\"#FF97FF\",\"#FECB52\"],\"font\":{\"color\":\"#2a3f5f\"},\"hovermode\":\"closest\",\"hoverlabel\":{\"align\":\"left\"},\"paper_bgcolor\":\"white\",\"plot_bgcolor\":\"#E5ECF6\",\"polar\":{\"bgcolor\":\"#E5ECF6\",\"angularaxis\":{\"gridcolor\":\"white\",\"linecolor\":\"white\",\"ticks\":\"\"},\"radialaxis\":{\"gridcolor\":\"white\",\"linecolor\":\"white\",\"ticks\":\"\"}},\"ternary\":{\"bgcolor\":\"#E5ECF6\",\"aaxis\":{\"gridcolor\":\"white\",\"linecolor\":\"white\",\"ticks\":\"\"},\"baxis\":{\"gridcolor\":\"white\",\"linecolor\":\"white\",\"ticks\":\"\"},\"caxis\":{\"gridcolor\":\"white\",\"linecolor\":\"white\",\"ticks\":\"\"}},\"coloraxis\":{\"colorbar\":{\"outlinewidth\":0,\"ticks\":\"\"}},\"colorscale\":{\"sequential\":[[0.0,\"#0d0887\"],[0.1111111111111111,\"#46039f\"],[0.2222222222222222,\"#7201a8\"],[0.3333333333333333,\"#9c179e\"],[0.4444444444444444,\"#bd3786\"],[0.5555555555555556,\"#d8576b\"],[0.6666666666666666,\"#ed7953\"],[0.7777777777777778,\"#fb9f3a\"],[0.8888888888888888,\"#fdca26\"],[1.0,\"#f0f921\"]],\"sequentialminus\":[[0.0,\"#0d0887\"],[0.1111111111111111,\"#46039f\"],[0.2222222222222222,\"#7201a8\"],[0.3333333333333333,\"#9c179e\"],[0.4444444444444444,\"#bd3786\"],[0.5555555555555556,\"#d8576b\"],[0.6666666666666666,\"#ed7953\"],[0.7777777777777778,\"#fb9f3a\"],[0.8888888888888888,\"#fdca26\"],[1.0,\"#f0f921\"]],\"diverging\":[[0,\"#8e0152\"],[0.1,\"#c51b7d\"],[0.2,\"#de77ae\"],[0.3,\"#f1b6da\"],[0.4,\"#fde0ef\"],[0.5,\"#f7f7f7\"],[0.6,\"#e6f5d0\"],[0.7,\"#b8e186\"],[0.8,\"#7fbc41\"],[0.9,\"#4d9221\"],[1,\"#276419\"]]},\"xaxis\":{\"gridcolor\":\"white\",\"linecolor\":\"white\",\"ticks\":\"\",\"title\":{\"standoff\":15},\"zerolinecolor\":\"white\",\"automargin\":true,\"zerolinewidth\":2},\"yaxis\":{\"gridcolor\":\"white\",\"linecolor\":\"white\",\"ticks\":\"\",\"title\":{\"standoff\":15},\"zerolinecolor\":\"white\",\"automargin\":true,\"zerolinewidth\":2},\"scene\":{\"xaxis\":{\"backgroundcolor\":\"#E5ECF6\",\"gridcolor\":\"white\",\"linecolor\":\"white\",\"showbackground\":true,\"ticks\":\"\",\"zerolinecolor\":\"white\",\"gridwidth\":2},\"yaxis\":{\"backgroundcolor\":\"#E5ECF6\",\"gridcolor\":\"white\",\"linecolor\":\"white\",\"showbackground\":true,\"ticks\":\"\",\"zerolinecolor\":\"white\",\"gridwidth\":2},\"zaxis\":{\"backgroundcolor\":\"#E5ECF6\",\"gridcolor\":\"white\",\"linecolor\":\"white\",\"showbackground\":true,\"ticks\":\"\",\"zerolinecolor\":\"white\",\"gridwidth\":2}},\"shapedefaults\":{\"line\":{\"color\":\"#2a3f5f\"}},\"annotationdefaults\":{\"arrowcolor\":\"#2a3f5f\",\"arrowhead\":0,\"arrowwidth\":1},\"geo\":{\"bgcolor\":\"white\",\"landcolor\":\"#E5ECF6\",\"subunitcolor\":\"white\",\"showland\":true,\"showlakes\":true,\"lakecolor\":\"white\"},\"title\":{\"x\":0.05},\"mapbox\":{\"style\":\"light\"}}},\"xaxis\":{\"anchor\":\"y\",\"domain\":[0.0,1.0],\"title\":{\"text\":\"Country (ISO Code)\"}},\"yaxis\":{\"anchor\":\"x\",\"domain\":[0.0,1.0],\"title\":{\"text\":\"Number of Productions; log scale\"},\"type\":\"log\"},\"legend\":{\"tracegroupgap\":0},\"margin\":{\"t\":60},\"barmode\":\"relative\",\"width\":1800,\"title\":{\"text\":\"Number of Productions per Country\"}},                        {\"responsive\": true}                    ).then(function(){\n",
       "                            \n",
       "var gd = document.getElementById('d572fc74-c0cf-4f14-bd3b-19d9d6deaa69');\n",
       "var x = new MutationObserver(function (mutations, observer) {{\n",
       "        var display = window.getComputedStyle(gd).display;\n",
       "        if (!display || display === 'none') {{\n",
       "            console.log([gd, 'removed!']);\n",
       "            Plotly.purge(gd);\n",
       "            observer.disconnect();\n",
       "        }}\n",
       "}});\n",
       "\n",
       "// Listen for the removal of the full notebook cells\n",
       "var notebookContainer = gd.closest('#notebook-container');\n",
       "if (notebookContainer) {{\n",
       "    x.observe(notebookContainer, {childList: true});\n",
       "}}\n",
       "\n",
       "// Listen for the clearing of the current output cell\n",
       "var outputEl = gd.closest('.output');\n",
       "if (outputEl) {{\n",
       "    x.observe(outputEl, {childList: true});\n",
       "}}\n",
       "\n",
       "                        })                };                });            </script>        </div>"
      ]
     },
     "metadata": {},
     "output_type": "display_data"
    }
   ],
   "source": [
    "fig = px.bar(\n",
    "    df_productions_per_country.sort_values(\"n_productions\", ascending=False),\n",
    "    x=\"country\",\n",
    "    y=\"n_productions\",\n",
    "    log_y=True,\n",
    "    hover_name=\"country\",\n",
    "    hover_data={\"country\": False, \"n_productions\": True},\n",
    "    width=1800,\n",
    ")\n",
    "\n",
    "fig.update_layout(\n",
    "    title=\"Number of Productions per Country\",\n",
    "    xaxis_title=\"Country (ISO Code)\",\n",
    "    yaxis_title=\"Number of Productions; log scale\",\n",
    ")\n",
    "fig.show()"
   ]
  },
  {
   "cell_type": "code",
   "execution_count": null,
   "id": "9d80810d",
   "metadata": {
    "papermill": {
     "duration": 0.018451,
     "end_time": "2023-11-29T18:44:40.423344",
     "exception": false,
     "start_time": "2023-11-29T18:44:40.404893",
     "status": "completed"
    },
    "tags": []
   },
   "outputs": [],
   "source": []
  }
 ],
 "metadata": {
  "kaggle": {
   "accelerator": "none",
   "dataSources": [
    {
     "datasetId": 4026921,
     "sourceId": 7004629,
     "sourceType": "datasetVersion"
    }
   ],
   "isGpuEnabled": false,
   "isInternetEnabled": false,
   "language": "python",
   "sourceType": "notebook"
  },
  "kernelspec": {
   "display_name": "Python 3",
   "language": "python",
   "name": "python3"
  },
  "language_info": {
   "codemirror_mode": {
    "name": "ipython",
    "version": 3
   },
   "file_extension": ".py",
   "mimetype": "text/x-python",
   "name": "python",
   "nbconvert_exporter": "python",
   "pygments_lexer": "ipython3",
   "version": "3.10.12"
  },
  "papermill": {
   "default_parameters": {},
   "duration": 13.328975,
   "end_time": "2023-11-29T18:44:41.265196",
   "environment_variables": {},
   "exception": null,
   "input_path": "__notebook__.ipynb",
   "output_path": "__notebook__.ipynb",
   "parameters": {},
   "start_time": "2023-11-29T18:44:27.936221",
   "version": "2.4.0"
  }
 },
 "nbformat": 4,
 "nbformat_minor": 5
}
