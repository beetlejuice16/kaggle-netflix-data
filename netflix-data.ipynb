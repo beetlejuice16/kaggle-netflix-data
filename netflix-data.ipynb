{
 "cells": [
  {
   "cell_type": "code",
   "execution_count": 1,
   "id": "db8ad957",
   "metadata": {
    "_cell_guid": "368997bb-41fb-424d-a857-7c80b411261f",
    "_uuid": "ff04f9d5-eebd-4524-a05b-4fc8f7d6a26b",
    "collapsed": false,
    "execution": {
     "iopub.execute_input": "2023-11-27T14:28:26.519667Z",
     "iopub.status.busy": "2023-11-27T14:28:26.518963Z",
     "iopub.status.idle": "2023-11-27T14:28:27.951586Z",
     "shell.execute_reply": "2023-11-27T14:28:27.950461Z"
    },
    "jupyter": {
     "outputs_hidden": false
    },
    "papermill": {
     "duration": 1.444544,
     "end_time": "2023-11-27T14:28:27.954123",
     "exception": false,
     "start_time": "2023-11-27T14:28:26.509579",
     "status": "completed"
    },
    "tags": []
   },
   "outputs": [
    {
     "name": "stdout",
     "output_type": "stream",
     "text": [
      "/kaggle/input/netflix-movies-and-shows/imdb_movies_shows.csv\n"
     ]
    }
   ],
   "source": [
    "import pandas as pd\n",
    "import numpy as np\n",
    "import plotly.express as px\n",
    "import plotly.graph_objects as go\n",
    "import json\n",
    "\n",
    "\n",
    "import os\n",
    "for dirname, _, filenames in os.walk('/kaggle/input'):\n",
    "    for filename in filenames:\n",
    "        print(os.path.join(dirname, filename))"
   ]
  },
  {
   "cell_type": "markdown",
   "id": "4c756c14",
   "metadata": {
    "_cell_guid": "7f141574-7517-429d-a2e4-dbbc3fea09b6",
    "_uuid": "43f07af3-d9a9-4cb1-a701-612df1b14b0c",
    "papermill": {
     "duration": 0.007553,
     "end_time": "2023-11-27T14:28:27.970541",
     "exception": false,
     "start_time": "2023-11-27T14:28:27.962988",
     "status": "completed"
    },
    "tags": []
   },
   "source": [
    "# Netflix Movies and Shows:\n",
    "## Decoding Trends in Entertainment: A Deep Dive into Netflix's Content Library"
   ]
  },
  {
   "cell_type": "code",
   "execution_count": 2,
   "id": "683067d8",
   "metadata": {
    "_cell_guid": "86f5e844-bd5f-4b42-beaa-732618f28786",
    "_uuid": "7eebfc43-cbcc-4e8b-8251-9f46abcf24d0",
    "collapsed": false,
    "execution": {
     "iopub.execute_input": "2023-11-27T14:28:27.990974Z",
     "iopub.status.busy": "2023-11-27T14:28:27.989717Z",
     "iopub.status.idle": "2023-11-27T14:28:28.055834Z",
     "shell.execute_reply": "2023-11-27T14:28:28.054616Z"
    },
    "jupyter": {
     "outputs_hidden": false
    },
    "papermill": {
     "duration": 0.08079,
     "end_time": "2023-11-27T14:28:28.059159",
     "exception": false,
     "start_time": "2023-11-27T14:28:27.978369",
     "status": "completed"
    },
    "tags": []
   },
   "outputs": [],
   "source": [
    "df_netflix = pd.read_csv(\"/kaggle/input/netflix-movies-and-shows/imdb_movies_shows.csv\").sort_values(\"release_year\")"
   ]
  },
  {
   "cell_type": "code",
   "execution_count": 3,
   "id": "ad700285",
   "metadata": {
    "_cell_guid": "6a67b7e3-4e8d-4acf-b4e8-8207fda7a3c8",
    "_uuid": "d9df7139-cd82-43d8-8c60-20d9fe1921c9",
    "collapsed": false,
    "execution": {
     "iopub.execute_input": "2023-11-27T14:28:28.075392Z",
     "iopub.status.busy": "2023-11-27T14:28:28.074611Z",
     "iopub.status.idle": "2023-11-27T14:28:28.100920Z",
     "shell.execute_reply": "2023-11-27T14:28:28.099243Z"
    },
    "jupyter": {
     "outputs_hidden": false
    },
    "papermill": {
     "duration": 0.037739,
     "end_time": "2023-11-27T14:28:28.103790",
     "exception": false,
     "start_time": "2023-11-27T14:28:28.066051",
     "status": "completed"
    },
    "tags": []
   },
   "outputs": [
    {
     "data": {
      "text/html": [
       "<div>\n",
       "<style scoped>\n",
       "    .dataframe tbody tr th:only-of-type {\n",
       "        vertical-align: middle;\n",
       "    }\n",
       "\n",
       "    .dataframe tbody tr th {\n",
       "        vertical-align: top;\n",
       "    }\n",
       "\n",
       "    .dataframe thead th {\n",
       "        text-align: right;\n",
       "    }\n",
       "</style>\n",
       "<table border=\"1\" class=\"dataframe\">\n",
       "  <thead>\n",
       "    <tr style=\"text-align: right;\">\n",
       "      <th></th>\n",
       "      <th>title</th>\n",
       "      <th>type</th>\n",
       "      <th>release_year</th>\n",
       "      <th>age_certification</th>\n",
       "      <th>runtime</th>\n",
       "      <th>genres</th>\n",
       "      <th>production_countries</th>\n",
       "      <th>seasons</th>\n",
       "      <th>imdb_id</th>\n",
       "      <th>imdb_score</th>\n",
       "      <th>imdb_votes</th>\n",
       "    </tr>\n",
       "  </thead>\n",
       "  <tbody>\n",
       "    <tr>\n",
       "      <th>0</th>\n",
       "      <td>Five Came Back: The Reference Films</td>\n",
       "      <td>SHOW</td>\n",
       "      <td>1945</td>\n",
       "      <td>TV-MA</td>\n",
       "      <td>48</td>\n",
       "      <td>['documentation']</td>\n",
       "      <td>['US']</td>\n",
       "      <td>1.0</td>\n",
       "      <td>NaN</td>\n",
       "      <td>NaN</td>\n",
       "      <td>NaN</td>\n",
       "    </tr>\n",
       "    <tr>\n",
       "      <th>24</th>\n",
       "      <td>Raya and Sakina</td>\n",
       "      <td>MOVIE</td>\n",
       "      <td>1953</td>\n",
       "      <td>NaN</td>\n",
       "      <td>105</td>\n",
       "      <td>['drama', 'thriller', 'crime', 'history']</td>\n",
       "      <td>['EG']</td>\n",
       "      <td>NaN</td>\n",
       "      <td>tt0316472</td>\n",
       "      <td>6.8</td>\n",
       "      <td>231.0</td>\n",
       "    </tr>\n",
       "    <tr>\n",
       "      <th>28</th>\n",
       "      <td>The Blazing Sun</td>\n",
       "      <td>MOVIE</td>\n",
       "      <td>1954</td>\n",
       "      <td>NaN</td>\n",
       "      <td>100</td>\n",
       "      <td>['romance', 'crime', 'drama']</td>\n",
       "      <td>['EG']</td>\n",
       "      <td>NaN</td>\n",
       "      <td>tt0044429</td>\n",
       "      <td>7.4</td>\n",
       "      <td>1219.0</td>\n",
       "    </tr>\n",
       "    <tr>\n",
       "      <th>15</th>\n",
       "      <td>White Christmas</td>\n",
       "      <td>MOVIE</td>\n",
       "      <td>1954</td>\n",
       "      <td>NaN</td>\n",
       "      <td>115</td>\n",
       "      <td>['romance', 'comedy', 'music']</td>\n",
       "      <td>['US']</td>\n",
       "      <td>NaN</td>\n",
       "      <td>tt0047673</td>\n",
       "      <td>7.5</td>\n",
       "      <td>42373.0</td>\n",
       "    </tr>\n",
       "    <tr>\n",
       "      <th>22</th>\n",
       "      <td>Dark Waters</td>\n",
       "      <td>MOVIE</td>\n",
       "      <td>1956</td>\n",
       "      <td>NaN</td>\n",
       "      <td>120</td>\n",
       "      <td>['drama', 'action', 'romance', 'thriller']</td>\n",
       "      <td>['EG']</td>\n",
       "      <td>NaN</td>\n",
       "      <td>tt0049761</td>\n",
       "      <td>6.7</td>\n",
       "      <td>590.0</td>\n",
       "    </tr>\n",
       "  </tbody>\n",
       "</table>\n",
       "</div>"
      ],
      "text/plain": [
       "                                  title   type  release_year  \\\n",
       "0   Five Came Back: The Reference Films   SHOW          1945   \n",
       "24                      Raya and Sakina  MOVIE          1953   \n",
       "28                      The Blazing Sun  MOVIE          1954   \n",
       "15                      White Christmas  MOVIE          1954   \n",
       "22                          Dark Waters  MOVIE          1956   \n",
       "\n",
       "   age_certification  runtime                                      genres  \\\n",
       "0              TV-MA       48                           ['documentation']   \n",
       "24               NaN      105   ['drama', 'thriller', 'crime', 'history']   \n",
       "28               NaN      100               ['romance', 'crime', 'drama']   \n",
       "15               NaN      115              ['romance', 'comedy', 'music']   \n",
       "22               NaN      120  ['drama', 'action', 'romance', 'thriller']   \n",
       "\n",
       "   production_countries  seasons    imdb_id  imdb_score  imdb_votes  \n",
       "0                ['US']      1.0        NaN         NaN         NaN  \n",
       "24               ['EG']      NaN  tt0316472         6.8       231.0  \n",
       "28               ['EG']      NaN  tt0044429         7.4      1219.0  \n",
       "15               ['US']      NaN  tt0047673         7.5     42373.0  \n",
       "22               ['EG']      NaN  tt0049761         6.7       590.0  "
      ]
     },
     "execution_count": 3,
     "metadata": {},
     "output_type": "execute_result"
    }
   ],
   "source": [
    "df_netflix.head()"
   ]
  },
  {
   "cell_type": "code",
   "execution_count": 4,
   "id": "2f2acd77",
   "metadata": {
    "_cell_guid": "80c603b2-a157-4063-9f18-3506b7902fe7",
    "_uuid": "9bf4314e-6372-4323-9100-0f8a3a592231",
    "collapsed": false,
    "execution": {
     "iopub.execute_input": "2023-11-27T14:28:28.119767Z",
     "iopub.status.busy": "2023-11-27T14:28:28.119297Z",
     "iopub.status.idle": "2023-11-27T14:28:30.273491Z",
     "shell.execute_reply": "2023-11-27T14:28:30.271960Z"
    },
    "jupyter": {
     "outputs_hidden": false
    },
    "papermill": {
     "duration": 2.166313,
     "end_time": "2023-11-27T14:28:30.276986",
     "exception": false,
     "start_time": "2023-11-27T14:28:28.110673",
     "status": "completed"
    },
    "tags": []
   },
   "outputs": [
    {
     "data": {
      "text/html": [
       "        <script type=\"text/javascript\">\n",
       "        window.PlotlyConfig = {MathJaxConfig: 'local'};\n",
       "        if (window.MathJax && window.MathJax.Hub && window.MathJax.Hub.Config) {window.MathJax.Hub.Config({SVG: {font: \"STIX-Web\"}});}\n",
       "        if (typeof require !== 'undefined') {\n",
       "        require.undef(\"plotly\");\n",
       "        requirejs.config({\n",
       "            paths: {\n",
       "                'plotly': ['https://cdn.plot.ly/plotly-2.25.2.min']\n",
       "            }\n",
       "        });\n",
       "        require(['plotly'], function(Plotly) {\n",
       "            window._Plotly = Plotly;\n",
       "        });\n",
       "        }\n",
       "        </script>\n",
       "        "
      ]
     },
     "metadata": {},
     "output_type": "display_data"
    },
    {
     "data": {
      "text/html": [
       "<div>                            <div id=\"1b16b413-2b8b-4b94-90f8-6f04e504c001\" class=\"plotly-graph-div\" style=\"height:525px; width:100%;\"></div>            <script type=\"text/javascript\">                require([\"plotly\"], function(Plotly) {                    window.PLOTLYENV=window.PLOTLYENV || {};                                    if (document.getElementById(\"1b16b413-2b8b-4b94-90f8-6f04e504c001\")) {                    Plotly.newPlot(                        \"1b16b413-2b8b-4b94-90f8-6f04e504c001\",                        [{\"alignmentgroup\":\"True\",\"bingroup\":\"x\",\"hovertemplate\":\"Type=%{x}\\u003cbr\\u003ecount=%{y}\\u003cextra\\u003e\\u003c\\u002fextra\\u003e\",\"legendgroup\":\"SHOW\",\"marker\":{\"color\":\"#636efa\",\"pattern\":{\"shape\":\"\"}},\"name\":\"SHOW\",\"offsetgroup\":\"SHOW\",\"orientation\":\"v\",\"showlegend\":true,\"x\":[\"SHOW\",\"SHOW\",\"SHOW\",\"SHOW\",\"SHOW\",\"SHOW\",\"SHOW\",\"SHOW\",\"SHOW\",\"SHOW\",\"SHOW\",\"SHOW\",\"SHOW\",\"SHOW\",\"SHOW\",\"SHOW\",\"SHOW\",\"SHOW\",\"SHOW\",\"SHOW\",\"SHOW\",\"SHOW\",\"SHOW\",\"SHOW\",\"SHOW\",\"SHOW\",\"SHOW\",\"SHOW\",\"SHOW\",\"SHOW\",\"SHOW\",\"SHOW\",\"SHOW\",\"SHOW\",\"SHOW\",\"SHOW\",\"SHOW\",\"SHOW\",\"SHOW\",\"SHOW\",\"SHOW\",\"SHOW\",\"SHOW\",\"SHOW\",\"SHOW\",\"SHOW\",\"SHOW\",\"SHOW\",\"SHOW\",\"SHOW\",\"SHOW\",\"SHOW\",\"SHOW\",\"SHOW\",\"SHOW\",\"SHOW\",\"SHOW\",\"SHOW\",\"SHOW\",\"SHOW\",\"SHOW\",\"SHOW\",\"SHOW\",\"SHOW\",\"SHOW\",\"SHOW\",\"SHOW\",\"SHOW\",\"SHOW\",\"SHOW\",\"SHOW\",\"SHOW\",\"SHOW\",\"SHOW\",\"SHOW\",\"SHOW\",\"SHOW\",\"SHOW\",\"SHOW\",\"SHOW\",\"SHOW\",\"SHOW\",\"SHOW\",\"SHOW\",\"SHOW\",\"SHOW\",\"SHOW\",\"SHOW\",\"SHOW\",\"SHOW\",\"SHOW\",\"SHOW\",\"SHOW\",\"SHOW\",\"SHOW\",\"SHOW\",\"SHOW\",\"SHOW\",\"SHOW\",\"SHOW\",\"SHOW\",\"SHOW\",\"SHOW\",\"SHOW\",\"SHOW\",\"SHOW\",\"SHOW\",\"SHOW\",\"SHOW\",\"SHOW\",\"SHOW\",\"SHOW\",\"SHOW\",\"SHOW\",\"SHOW\",\"SHOW\",\"SHOW\",\"SHOW\",\"SHOW\",\"SHOW\",\"SHOW\",\"SHOW\",\"SHOW\",\"SHOW\",\"SHOW\",\"SHOW\",\"SHOW\",\"SHOW\",\"SHOW\",\"SHOW\",\"SHOW\",\"SHOW\",\"SHOW\",\"SHOW\",\"SHOW\",\"SHOW\",\"SHOW\",\"SHOW\",\"SHOW\",\"SHOW\",\"SHOW\",\"SHOW\",\"SHOW\",\"SHOW\",\"SHOW\",\"SHOW\",\"SHOW\",\"SHOW\",\"SHOW\",\"SHOW\",\"SHOW\",\"SHOW\",\"SHOW\",\"SHOW\",\"SHOW\",\"SHOW\",\"SHOW\",\"SHOW\",\"SHOW\",\"SHOW\",\"SHOW\",\"SHOW\",\"SHOW\",\"SHOW\",\"SHOW\",\"SHOW\",\"SHOW\",\"SHOW\",\"SHOW\",\"SHOW\",\"SHOW\",\"SHOW\",\"SHOW\",\"SHOW\",\"SHOW\",\"SHOW\",\"SHOW\",\"SHOW\",\"SHOW\",\"SHOW\",\"SHOW\",\"SHOW\",\"SHOW\",\"SHOW\",\"SHOW\",\"SHOW\",\"SHOW\",\"SHOW\",\"SHOW\",\"SHOW\",\"SHOW\",\"SHOW\",\"SHOW\",\"SHOW\",\"SHOW\",\"SHOW\",\"SHOW\",\"SHOW\",\"SHOW\",\"SHOW\",\"SHOW\",\"SHOW\",\"SHOW\",\"SHOW\",\"SHOW\",\"SHOW\",\"SHOW\",\"SHOW\",\"SHOW\",\"SHOW\",\"SHOW\",\"SHOW\",\"SHOW\",\"SHOW\",\"SHOW\",\"SHOW\",\"SHOW\",\"SHOW\",\"SHOW\",\"SHOW\",\"SHOW\",\"SHOW\",\"SHOW\",\"SHOW\",\"SHOW\",\"SHOW\",\"SHOW\",\"SHOW\",\"SHOW\",\"SHOW\",\"SHOW\",\"SHOW\",\"SHOW\",\"SHOW\",\"SHOW\",\"SHOW\",\"SHOW\",\"SHOW\",\"SHOW\",\"SHOW\",\"SHOW\",\"SHOW\",\"SHOW\",\"SHOW\",\"SHOW\",\"SHOW\",\"SHOW\",\"SHOW\",\"SHOW\",\"SHOW\",\"SHOW\",\"SHOW\",\"SHOW\",\"SHOW\",\"SHOW\",\"SHOW\",\"SHOW\",\"SHOW\",\"SHOW\",\"SHOW\",\"SHOW\",\"SHOW\",\"SHOW\",\"SHOW\",\"SHOW\",\"SHOW\",\"SHOW\",\"SHOW\",\"SHOW\",\"SHOW\",\"SHOW\",\"SHOW\",\"SHOW\",\"SHOW\",\"SHOW\",\"SHOW\",\"SHOW\",\"SHOW\",\"SHOW\",\"SHOW\",\"SHOW\",\"SHOW\",\"SHOW\",\"SHOW\",\"SHOW\",\"SHOW\",\"SHOW\",\"SHOW\",\"SHOW\",\"SHOW\",\"SHOW\",\"SHOW\",\"SHOW\",\"SHOW\",\"SHOW\",\"SHOW\",\"SHOW\",\"SHOW\",\"SHOW\",\"SHOW\",\"SHOW\",\"SHOW\",\"SHOW\",\"SHOW\",\"SHOW\",\"SHOW\",\"SHOW\",\"SHOW\",\"SHOW\",\"SHOW\",\"SHOW\",\"SHOW\",\"SHOW\",\"SHOW\",\"SHOW\",\"SHOW\",\"SHOW\",\"SHOW\",\"SHOW\",\"SHOW\",\"SHOW\",\"SHOW\",\"SHOW\",\"SHOW\",\"SHOW\",\"SHOW\",\"SHOW\",\"SHOW\",\"SHOW\",\"SHOW\",\"SHOW\",\"SHOW\",\"SHOW\",\"SHOW\",\"SHOW\",\"SHOW\",\"SHOW\",\"SHOW\",\"SHOW\",\"SHOW\",\"SHOW\",\"SHOW\",\"SHOW\",\"SHOW\",\"SHOW\",\"SHOW\",\"SHOW\",\"SHOW\",\"SHOW\",\"SHOW\",\"SHOW\",\"SHOW\",\"SHOW\",\"SHOW\",\"SHOW\",\"SHOW\",\"SHOW\",\"SHOW\",\"SHOW\",\"SHOW\",\"SHOW\",\"SHOW\",\"SHOW\",\"SHOW\",\"SHOW\",\"SHOW\",\"SHOW\",\"SHOW\",\"SHOW\",\"SHOW\",\"SHOW\",\"SHOW\",\"SHOW\",\"SHOW\",\"SHOW\",\"SHOW\",\"SHOW\",\"SHOW\",\"SHOW\",\"SHOW\",\"SHOW\",\"SHOW\",\"SHOW\",\"SHOW\",\"SHOW\",\"SHOW\",\"SHOW\",\"SHOW\",\"SHOW\",\"SHOW\",\"SHOW\",\"SHOW\",\"SHOW\",\"SHOW\",\"SHOW\",\"SHOW\",\"SHOW\",\"SHOW\",\"SHOW\",\"SHOW\",\"SHOW\",\"SHOW\",\"SHOW\",\"SHOW\",\"SHOW\",\"SHOW\",\"SHOW\",\"SHOW\",\"SHOW\",\"SHOW\",\"SHOW\",\"SHOW\",\"SHOW\",\"SHOW\",\"SHOW\",\"SHOW\",\"SHOW\",\"SHOW\",\"SHOW\",\"SHOW\",\"SHOW\",\"SHOW\",\"SHOW\",\"SHOW\",\"SHOW\",\"SHOW\",\"SHOW\",\"SHOW\",\"SHOW\",\"SHOW\",\"SHOW\",\"SHOW\",\"SHOW\",\"SHOW\",\"SHOW\",\"SHOW\",\"SHOW\",\"SHOW\",\"SHOW\",\"SHOW\",\"SHOW\",\"SHOW\",\"SHOW\",\"SHOW\",\"SHOW\",\"SHOW\",\"SHOW\",\"SHOW\",\"SHOW\",\"SHOW\",\"SHOW\",\"SHOW\",\"SHOW\",\"SHOW\",\"SHOW\",\"SHOW\",\"SHOW\",\"SHOW\",\"SHOW\",\"SHOW\",\"SHOW\",\"SHOW\",\"SHOW\",\"SHOW\",\"SHOW\",\"SHOW\",\"SHOW\",\"SHOW\",\"SHOW\",\"SHOW\",\"SHOW\",\"SHOW\",\"SHOW\",\"SHOW\",\"SHOW\",\"SHOW\",\"SHOW\",\"SHOW\",\"SHOW\",\"SHOW\",\"SHOW\",\"SHOW\",\"SHOW\",\"SHOW\",\"SHOW\",\"SHOW\",\"SHOW\",\"SHOW\",\"SHOW\",\"SHOW\",\"SHOW\",\"SHOW\",\"SHOW\",\"SHOW\",\"SHOW\",\"SHOW\",\"SHOW\",\"SHOW\",\"SHOW\",\"SHOW\",\"SHOW\",\"SHOW\",\"SHOW\",\"SHOW\",\"SHOW\",\"SHOW\",\"SHOW\",\"SHOW\",\"SHOW\",\"SHOW\",\"SHOW\",\"SHOW\",\"SHOW\",\"SHOW\",\"SHOW\",\"SHOW\",\"SHOW\",\"SHOW\",\"SHOW\",\"SHOW\",\"SHOW\",\"SHOW\",\"SHOW\",\"SHOW\",\"SHOW\",\"SHOW\",\"SHOW\",\"SHOW\",\"SHOW\",\"SHOW\",\"SHOW\",\"SHOW\",\"SHOW\",\"SHOW\",\"SHOW\",\"SHOW\",\"SHOW\",\"SHOW\",\"SHOW\",\"SHOW\",\"SHOW\",\"SHOW\",\"SHOW\",\"SHOW\",\"SHOW\",\"SHOW\",\"SHOW\",\"SHOW\",\"SHOW\",\"SHOW\",\"SHOW\",\"SHOW\",\"SHOW\",\"SHOW\",\"SHOW\",\"SHOW\",\"SHOW\",\"SHOW\",\"SHOW\",\"SHOW\",\"SHOW\",\"SHOW\",\"SHOW\",\"SHOW\",\"SHOW\",\"SHOW\",\"SHOW\",\"SHOW\",\"SHOW\",\"SHOW\",\"SHOW\",\"SHOW\",\"SHOW\",\"SHOW\",\"SHOW\",\"SHOW\",\"SHOW\",\"SHOW\",\"SHOW\",\"SHOW\",\"SHOW\",\"SHOW\",\"SHOW\",\"SHOW\",\"SHOW\",\"SHOW\",\"SHOW\",\"SHOW\",\"SHOW\",\"SHOW\",\"SHOW\",\"SHOW\",\"SHOW\",\"SHOW\",\"SHOW\",\"SHOW\",\"SHOW\",\"SHOW\",\"SHOW\",\"SHOW\",\"SHOW\",\"SHOW\",\"SHOW\",\"SHOW\",\"SHOW\",\"SHOW\",\"SHOW\",\"SHOW\",\"SHOW\",\"SHOW\",\"SHOW\",\"SHOW\",\"SHOW\",\"SHOW\",\"SHOW\",\"SHOW\",\"SHOW\",\"SHOW\",\"SHOW\",\"SHOW\",\"SHOW\",\"SHOW\",\"SHOW\",\"SHOW\",\"SHOW\",\"SHOW\",\"SHOW\",\"SHOW\",\"SHOW\",\"SHOW\",\"SHOW\",\"SHOW\",\"SHOW\",\"SHOW\",\"SHOW\",\"SHOW\",\"SHOW\",\"SHOW\",\"SHOW\",\"SHOW\",\"SHOW\",\"SHOW\",\"SHOW\",\"SHOW\",\"SHOW\",\"SHOW\",\"SHOW\",\"SHOW\",\"SHOW\",\"SHOW\",\"SHOW\",\"SHOW\",\"SHOW\",\"SHOW\",\"SHOW\",\"SHOW\",\"SHOW\",\"SHOW\",\"SHOW\",\"SHOW\",\"SHOW\",\"SHOW\",\"SHOW\",\"SHOW\",\"SHOW\",\"SHOW\",\"SHOW\",\"SHOW\",\"SHOW\",\"SHOW\",\"SHOW\",\"SHOW\",\"SHOW\",\"SHOW\",\"SHOW\",\"SHOW\",\"SHOW\",\"SHOW\",\"SHOW\",\"SHOW\",\"SHOW\",\"SHOW\",\"SHOW\",\"SHOW\",\"SHOW\",\"SHOW\",\"SHOW\",\"SHOW\",\"SHOW\",\"SHOW\",\"SHOW\",\"SHOW\",\"SHOW\",\"SHOW\",\"SHOW\",\"SHOW\",\"SHOW\",\"SHOW\",\"SHOW\",\"SHOW\",\"SHOW\",\"SHOW\",\"SHOW\",\"SHOW\",\"SHOW\",\"SHOW\",\"SHOW\",\"SHOW\",\"SHOW\",\"SHOW\",\"SHOW\",\"SHOW\",\"SHOW\",\"SHOW\",\"SHOW\",\"SHOW\",\"SHOW\",\"SHOW\",\"SHOW\",\"SHOW\",\"SHOW\",\"SHOW\",\"SHOW\",\"SHOW\",\"SHOW\",\"SHOW\",\"SHOW\",\"SHOW\",\"SHOW\",\"SHOW\",\"SHOW\",\"SHOW\",\"SHOW\",\"SHOW\",\"SHOW\",\"SHOW\",\"SHOW\",\"SHOW\",\"SHOW\",\"SHOW\",\"SHOW\",\"SHOW\",\"SHOW\",\"SHOW\",\"SHOW\",\"SHOW\",\"SHOW\",\"SHOW\",\"SHOW\",\"SHOW\",\"SHOW\",\"SHOW\",\"SHOW\",\"SHOW\",\"SHOW\",\"SHOW\",\"SHOW\",\"SHOW\",\"SHOW\",\"SHOW\",\"SHOW\",\"SHOW\",\"SHOW\",\"SHOW\",\"SHOW\",\"SHOW\",\"SHOW\",\"SHOW\",\"SHOW\",\"SHOW\",\"SHOW\",\"SHOW\",\"SHOW\",\"SHOW\",\"SHOW\",\"SHOW\",\"SHOW\",\"SHOW\",\"SHOW\",\"SHOW\",\"SHOW\",\"SHOW\",\"SHOW\",\"SHOW\",\"SHOW\",\"SHOW\",\"SHOW\",\"SHOW\",\"SHOW\",\"SHOW\",\"SHOW\",\"SHOW\",\"SHOW\",\"SHOW\",\"SHOW\",\"SHOW\",\"SHOW\",\"SHOW\",\"SHOW\",\"SHOW\",\"SHOW\",\"SHOW\",\"SHOW\",\"SHOW\",\"SHOW\",\"SHOW\",\"SHOW\",\"SHOW\",\"SHOW\",\"SHOW\",\"SHOW\",\"SHOW\",\"SHOW\",\"SHOW\",\"SHOW\",\"SHOW\",\"SHOW\",\"SHOW\",\"SHOW\",\"SHOW\",\"SHOW\",\"SHOW\",\"SHOW\",\"SHOW\",\"SHOW\",\"SHOW\",\"SHOW\",\"SHOW\",\"SHOW\",\"SHOW\",\"SHOW\",\"SHOW\",\"SHOW\",\"SHOW\",\"SHOW\",\"SHOW\",\"SHOW\",\"SHOW\",\"SHOW\",\"SHOW\",\"SHOW\",\"SHOW\",\"SHOW\",\"SHOW\",\"SHOW\",\"SHOW\",\"SHOW\",\"SHOW\",\"SHOW\",\"SHOW\",\"SHOW\",\"SHOW\",\"SHOW\",\"SHOW\",\"SHOW\",\"SHOW\",\"SHOW\",\"SHOW\",\"SHOW\",\"SHOW\",\"SHOW\",\"SHOW\",\"SHOW\",\"SHOW\",\"SHOW\",\"SHOW\",\"SHOW\",\"SHOW\",\"SHOW\",\"SHOW\",\"SHOW\",\"SHOW\",\"SHOW\",\"SHOW\",\"SHOW\",\"SHOW\",\"SHOW\",\"SHOW\",\"SHOW\",\"SHOW\",\"SHOW\",\"SHOW\",\"SHOW\",\"SHOW\",\"SHOW\",\"SHOW\",\"SHOW\",\"SHOW\",\"SHOW\",\"SHOW\",\"SHOW\",\"SHOW\",\"SHOW\",\"SHOW\",\"SHOW\",\"SHOW\",\"SHOW\",\"SHOW\",\"SHOW\",\"SHOW\",\"SHOW\",\"SHOW\",\"SHOW\",\"SHOW\",\"SHOW\",\"SHOW\",\"SHOW\",\"SHOW\",\"SHOW\",\"SHOW\",\"SHOW\",\"SHOW\",\"SHOW\",\"SHOW\",\"SHOW\",\"SHOW\",\"SHOW\",\"SHOW\",\"SHOW\",\"SHOW\",\"SHOW\",\"SHOW\",\"SHOW\",\"SHOW\",\"SHOW\",\"SHOW\",\"SHOW\",\"SHOW\",\"SHOW\",\"SHOW\",\"SHOW\",\"SHOW\",\"SHOW\",\"SHOW\",\"SHOW\",\"SHOW\",\"SHOW\",\"SHOW\",\"SHOW\",\"SHOW\",\"SHOW\",\"SHOW\",\"SHOW\",\"SHOW\",\"SHOW\",\"SHOW\",\"SHOW\",\"SHOW\",\"SHOW\",\"SHOW\",\"SHOW\",\"SHOW\",\"SHOW\",\"SHOW\",\"SHOW\",\"SHOW\",\"SHOW\",\"SHOW\",\"SHOW\",\"SHOW\",\"SHOW\",\"SHOW\",\"SHOW\",\"SHOW\",\"SHOW\",\"SHOW\",\"SHOW\",\"SHOW\",\"SHOW\",\"SHOW\",\"SHOW\",\"SHOW\",\"SHOW\",\"SHOW\",\"SHOW\",\"SHOW\",\"SHOW\",\"SHOW\",\"SHOW\",\"SHOW\",\"SHOW\",\"SHOW\",\"SHOW\",\"SHOW\",\"SHOW\",\"SHOW\",\"SHOW\",\"SHOW\",\"SHOW\",\"SHOW\",\"SHOW\",\"SHOW\",\"SHOW\",\"SHOW\",\"SHOW\",\"SHOW\",\"SHOW\",\"SHOW\",\"SHOW\",\"SHOW\",\"SHOW\",\"SHOW\",\"SHOW\",\"SHOW\",\"SHOW\",\"SHOW\",\"SHOW\",\"SHOW\",\"SHOW\",\"SHOW\",\"SHOW\",\"SHOW\",\"SHOW\",\"SHOW\",\"SHOW\",\"SHOW\",\"SHOW\",\"SHOW\",\"SHOW\",\"SHOW\",\"SHOW\",\"SHOW\",\"SHOW\",\"SHOW\",\"SHOW\",\"SHOW\",\"SHOW\",\"SHOW\",\"SHOW\",\"SHOW\",\"SHOW\",\"SHOW\",\"SHOW\",\"SHOW\",\"SHOW\",\"SHOW\",\"SHOW\",\"SHOW\",\"SHOW\",\"SHOW\",\"SHOW\",\"SHOW\",\"SHOW\",\"SHOW\",\"SHOW\",\"SHOW\",\"SHOW\",\"SHOW\",\"SHOW\",\"SHOW\",\"SHOW\",\"SHOW\",\"SHOW\",\"SHOW\",\"SHOW\",\"SHOW\",\"SHOW\",\"SHOW\",\"SHOW\",\"SHOW\",\"SHOW\",\"SHOW\",\"SHOW\",\"SHOW\",\"SHOW\",\"SHOW\",\"SHOW\",\"SHOW\",\"SHOW\",\"SHOW\",\"SHOW\",\"SHOW\",\"SHOW\",\"SHOW\",\"SHOW\",\"SHOW\",\"SHOW\",\"SHOW\",\"SHOW\",\"SHOW\",\"SHOW\",\"SHOW\",\"SHOW\",\"SHOW\",\"SHOW\",\"SHOW\",\"SHOW\",\"SHOW\",\"SHOW\",\"SHOW\",\"SHOW\",\"SHOW\",\"SHOW\",\"SHOW\",\"SHOW\",\"SHOW\",\"SHOW\",\"SHOW\",\"SHOW\",\"SHOW\",\"SHOW\",\"SHOW\",\"SHOW\",\"SHOW\",\"SHOW\",\"SHOW\",\"SHOW\",\"SHOW\",\"SHOW\",\"SHOW\",\"SHOW\",\"SHOW\",\"SHOW\",\"SHOW\",\"SHOW\",\"SHOW\",\"SHOW\",\"SHOW\",\"SHOW\",\"SHOW\",\"SHOW\",\"SHOW\",\"SHOW\",\"SHOW\",\"SHOW\",\"SHOW\",\"SHOW\",\"SHOW\",\"SHOW\",\"SHOW\",\"SHOW\",\"SHOW\",\"SHOW\",\"SHOW\",\"SHOW\",\"SHOW\",\"SHOW\",\"SHOW\",\"SHOW\",\"SHOW\",\"SHOW\",\"SHOW\",\"SHOW\",\"SHOW\",\"SHOW\",\"SHOW\",\"SHOW\",\"SHOW\",\"SHOW\",\"SHOW\",\"SHOW\",\"SHOW\",\"SHOW\",\"SHOW\",\"SHOW\",\"SHOW\",\"SHOW\",\"SHOW\",\"SHOW\",\"SHOW\",\"SHOW\",\"SHOW\",\"SHOW\",\"SHOW\",\"SHOW\",\"SHOW\",\"SHOW\",\"SHOW\",\"SHOW\",\"SHOW\",\"SHOW\",\"SHOW\",\"SHOW\",\"SHOW\",\"SHOW\",\"SHOW\",\"SHOW\",\"SHOW\",\"SHOW\",\"SHOW\",\"SHOW\",\"SHOW\",\"SHOW\",\"SHOW\",\"SHOW\",\"SHOW\",\"SHOW\",\"SHOW\",\"SHOW\",\"SHOW\",\"SHOW\",\"SHOW\",\"SHOW\",\"SHOW\",\"SHOW\",\"SHOW\",\"SHOW\",\"SHOW\",\"SHOW\",\"SHOW\",\"SHOW\",\"SHOW\",\"SHOW\",\"SHOW\",\"SHOW\",\"SHOW\",\"SHOW\",\"SHOW\",\"SHOW\",\"SHOW\",\"SHOW\",\"SHOW\",\"SHOW\",\"SHOW\",\"SHOW\",\"SHOW\",\"SHOW\",\"SHOW\",\"SHOW\",\"SHOW\",\"SHOW\",\"SHOW\",\"SHOW\",\"SHOW\",\"SHOW\",\"SHOW\",\"SHOW\",\"SHOW\",\"SHOW\",\"SHOW\",\"SHOW\",\"SHOW\",\"SHOW\",\"SHOW\",\"SHOW\",\"SHOW\",\"SHOW\",\"SHOW\",\"SHOW\",\"SHOW\",\"SHOW\",\"SHOW\",\"SHOW\",\"SHOW\",\"SHOW\",\"SHOW\",\"SHOW\",\"SHOW\",\"SHOW\",\"SHOW\",\"SHOW\",\"SHOW\",\"SHOW\",\"SHOW\",\"SHOW\",\"SHOW\",\"SHOW\",\"SHOW\",\"SHOW\",\"SHOW\",\"SHOW\",\"SHOW\",\"SHOW\",\"SHOW\",\"SHOW\",\"SHOW\",\"SHOW\",\"SHOW\",\"SHOW\",\"SHOW\",\"SHOW\",\"SHOW\",\"SHOW\",\"SHOW\",\"SHOW\",\"SHOW\",\"SHOW\",\"SHOW\",\"SHOW\",\"SHOW\",\"SHOW\",\"SHOW\",\"SHOW\",\"SHOW\",\"SHOW\",\"SHOW\",\"SHOW\",\"SHOW\",\"SHOW\",\"SHOW\",\"SHOW\",\"SHOW\",\"SHOW\",\"SHOW\",\"SHOW\",\"SHOW\",\"SHOW\",\"SHOW\",\"SHOW\",\"SHOW\",\"SHOW\",\"SHOW\",\"SHOW\",\"SHOW\",\"SHOW\",\"SHOW\",\"SHOW\",\"SHOW\",\"SHOW\",\"SHOW\",\"SHOW\",\"SHOW\",\"SHOW\",\"SHOW\",\"SHOW\",\"SHOW\",\"SHOW\",\"SHOW\",\"SHOW\",\"SHOW\",\"SHOW\",\"SHOW\",\"SHOW\",\"SHOW\",\"SHOW\",\"SHOW\",\"SHOW\",\"SHOW\",\"SHOW\",\"SHOW\",\"SHOW\",\"SHOW\",\"SHOW\",\"SHOW\",\"SHOW\",\"SHOW\",\"SHOW\",\"SHOW\",\"SHOW\",\"SHOW\",\"SHOW\",\"SHOW\",\"SHOW\",\"SHOW\",\"SHOW\",\"SHOW\",\"SHOW\",\"SHOW\",\"SHOW\",\"SHOW\",\"SHOW\",\"SHOW\",\"SHOW\",\"SHOW\",\"SHOW\",\"SHOW\",\"SHOW\",\"SHOW\",\"SHOW\",\"SHOW\",\"SHOW\",\"SHOW\",\"SHOW\",\"SHOW\",\"SHOW\",\"SHOW\",\"SHOW\",\"SHOW\",\"SHOW\",\"SHOW\",\"SHOW\",\"SHOW\",\"SHOW\",\"SHOW\",\"SHOW\",\"SHOW\",\"SHOW\",\"SHOW\",\"SHOW\",\"SHOW\",\"SHOW\",\"SHOW\",\"SHOW\",\"SHOW\",\"SHOW\",\"SHOW\",\"SHOW\",\"SHOW\",\"SHOW\",\"SHOW\",\"SHOW\",\"SHOW\",\"SHOW\",\"SHOW\",\"SHOW\",\"SHOW\",\"SHOW\",\"SHOW\",\"SHOW\",\"SHOW\",\"SHOW\",\"SHOW\",\"SHOW\",\"SHOW\",\"SHOW\",\"SHOW\",\"SHOW\",\"SHOW\",\"SHOW\",\"SHOW\",\"SHOW\",\"SHOW\",\"SHOW\",\"SHOW\",\"SHOW\",\"SHOW\",\"SHOW\",\"SHOW\",\"SHOW\",\"SHOW\",\"SHOW\",\"SHOW\",\"SHOW\",\"SHOW\",\"SHOW\",\"SHOW\",\"SHOW\",\"SHOW\",\"SHOW\",\"SHOW\",\"SHOW\",\"SHOW\",\"SHOW\",\"SHOW\",\"SHOW\",\"SHOW\",\"SHOW\",\"SHOW\",\"SHOW\",\"SHOW\",\"SHOW\",\"SHOW\",\"SHOW\",\"SHOW\",\"SHOW\",\"SHOW\",\"SHOW\",\"SHOW\",\"SHOW\",\"SHOW\",\"SHOW\",\"SHOW\",\"SHOW\",\"SHOW\",\"SHOW\",\"SHOW\",\"SHOW\",\"SHOW\",\"SHOW\",\"SHOW\",\"SHOW\",\"SHOW\",\"SHOW\",\"SHOW\",\"SHOW\",\"SHOW\",\"SHOW\",\"SHOW\",\"SHOW\",\"SHOW\",\"SHOW\",\"SHOW\",\"SHOW\",\"SHOW\",\"SHOW\",\"SHOW\",\"SHOW\",\"SHOW\",\"SHOW\",\"SHOW\",\"SHOW\",\"SHOW\",\"SHOW\",\"SHOW\",\"SHOW\",\"SHOW\",\"SHOW\",\"SHOW\",\"SHOW\",\"SHOW\",\"SHOW\",\"SHOW\",\"SHOW\",\"SHOW\",\"SHOW\",\"SHOW\",\"SHOW\",\"SHOW\",\"SHOW\",\"SHOW\",\"SHOW\",\"SHOW\",\"SHOW\",\"SHOW\",\"SHOW\",\"SHOW\",\"SHOW\",\"SHOW\",\"SHOW\",\"SHOW\",\"SHOW\",\"SHOW\",\"SHOW\",\"SHOW\",\"SHOW\",\"SHOW\",\"SHOW\",\"SHOW\",\"SHOW\",\"SHOW\",\"SHOW\",\"SHOW\",\"SHOW\",\"SHOW\",\"SHOW\",\"SHOW\",\"SHOW\",\"SHOW\",\"SHOW\",\"SHOW\",\"SHOW\",\"SHOW\",\"SHOW\",\"SHOW\",\"SHOW\",\"SHOW\",\"SHOW\",\"SHOW\",\"SHOW\",\"SHOW\",\"SHOW\",\"SHOW\",\"SHOW\",\"SHOW\",\"SHOW\",\"SHOW\",\"SHOW\",\"SHOW\",\"SHOW\",\"SHOW\",\"SHOW\",\"SHOW\",\"SHOW\",\"SHOW\",\"SHOW\",\"SHOW\",\"SHOW\",\"SHOW\",\"SHOW\",\"SHOW\",\"SHOW\",\"SHOW\",\"SHOW\",\"SHOW\",\"SHOW\",\"SHOW\",\"SHOW\",\"SHOW\",\"SHOW\",\"SHOW\",\"SHOW\",\"SHOW\",\"SHOW\",\"SHOW\",\"SHOW\",\"SHOW\",\"SHOW\",\"SHOW\",\"SHOW\",\"SHOW\",\"SHOW\",\"SHOW\",\"SHOW\",\"SHOW\",\"SHOW\",\"SHOW\",\"SHOW\",\"SHOW\",\"SHOW\",\"SHOW\",\"SHOW\",\"SHOW\",\"SHOW\",\"SHOW\",\"SHOW\",\"SHOW\",\"SHOW\",\"SHOW\",\"SHOW\",\"SHOW\",\"SHOW\",\"SHOW\",\"SHOW\",\"SHOW\",\"SHOW\",\"SHOW\",\"SHOW\",\"SHOW\",\"SHOW\",\"SHOW\",\"SHOW\",\"SHOW\",\"SHOW\",\"SHOW\",\"SHOW\",\"SHOW\",\"SHOW\",\"SHOW\",\"SHOW\",\"SHOW\",\"SHOW\",\"SHOW\",\"SHOW\",\"SHOW\",\"SHOW\",\"SHOW\",\"SHOW\",\"SHOW\",\"SHOW\",\"SHOW\",\"SHOW\",\"SHOW\",\"SHOW\",\"SHOW\",\"SHOW\",\"SHOW\",\"SHOW\",\"SHOW\",\"SHOW\",\"SHOW\",\"SHOW\",\"SHOW\",\"SHOW\",\"SHOW\",\"SHOW\",\"SHOW\",\"SHOW\",\"SHOW\",\"SHOW\",\"SHOW\",\"SHOW\",\"SHOW\",\"SHOW\",\"SHOW\",\"SHOW\",\"SHOW\",\"SHOW\",\"SHOW\",\"SHOW\",\"SHOW\",\"SHOW\",\"SHOW\",\"SHOW\",\"SHOW\",\"SHOW\",\"SHOW\",\"SHOW\",\"SHOW\",\"SHOW\",\"SHOW\",\"SHOW\",\"SHOW\",\"SHOW\",\"SHOW\",\"SHOW\",\"SHOW\",\"SHOW\",\"SHOW\",\"SHOW\",\"SHOW\",\"SHOW\",\"SHOW\",\"SHOW\",\"SHOW\",\"SHOW\",\"SHOW\",\"SHOW\",\"SHOW\",\"SHOW\",\"SHOW\",\"SHOW\",\"SHOW\",\"SHOW\",\"SHOW\",\"SHOW\",\"SHOW\",\"SHOW\",\"SHOW\",\"SHOW\",\"SHOW\",\"SHOW\",\"SHOW\",\"SHOW\",\"SHOW\",\"SHOW\",\"SHOW\",\"SHOW\",\"SHOW\",\"SHOW\",\"SHOW\",\"SHOW\",\"SHOW\",\"SHOW\",\"SHOW\",\"SHOW\",\"SHOW\",\"SHOW\",\"SHOW\",\"SHOW\",\"SHOW\",\"SHOW\",\"SHOW\",\"SHOW\",\"SHOW\",\"SHOW\",\"SHOW\",\"SHOW\",\"SHOW\",\"SHOW\",\"SHOW\",\"SHOW\",\"SHOW\",\"SHOW\",\"SHOW\",\"SHOW\",\"SHOW\",\"SHOW\",\"SHOW\",\"SHOW\",\"SHOW\",\"SHOW\",\"SHOW\",\"SHOW\",\"SHOW\",\"SHOW\",\"SHOW\",\"SHOW\",\"SHOW\",\"SHOW\",\"SHOW\",\"SHOW\",\"SHOW\",\"SHOW\",\"SHOW\",\"SHOW\",\"SHOW\",\"SHOW\",\"SHOW\",\"SHOW\",\"SHOW\",\"SHOW\",\"SHOW\",\"SHOW\",\"SHOW\",\"SHOW\",\"SHOW\",\"SHOW\",\"SHOW\",\"SHOW\",\"SHOW\",\"SHOW\",\"SHOW\",\"SHOW\",\"SHOW\",\"SHOW\",\"SHOW\",\"SHOW\",\"SHOW\",\"SHOW\",\"SHOW\",\"SHOW\",\"SHOW\",\"SHOW\",\"SHOW\",\"SHOW\",\"SHOW\",\"SHOW\",\"SHOW\",\"SHOW\",\"SHOW\",\"SHOW\",\"SHOW\",\"SHOW\",\"SHOW\",\"SHOW\",\"SHOW\",\"SHOW\",\"SHOW\",\"SHOW\",\"SHOW\",\"SHOW\",\"SHOW\",\"SHOW\",\"SHOW\",\"SHOW\",\"SHOW\",\"SHOW\",\"SHOW\",\"SHOW\",\"SHOW\",\"SHOW\",\"SHOW\",\"SHOW\",\"SHOW\",\"SHOW\",\"SHOW\",\"SHOW\",\"SHOW\",\"SHOW\",\"SHOW\",\"SHOW\",\"SHOW\",\"SHOW\",\"SHOW\",\"SHOW\",\"SHOW\",\"SHOW\",\"SHOW\",\"SHOW\",\"SHOW\",\"SHOW\",\"SHOW\",\"SHOW\",\"SHOW\",\"SHOW\",\"SHOW\",\"SHOW\",\"SHOW\",\"SHOW\",\"SHOW\",\"SHOW\",\"SHOW\",\"SHOW\",\"SHOW\",\"SHOW\",\"SHOW\",\"SHOW\",\"SHOW\",\"SHOW\",\"SHOW\",\"SHOW\",\"SHOW\",\"SHOW\",\"SHOW\",\"SHOW\",\"SHOW\",\"SHOW\",\"SHOW\",\"SHOW\",\"SHOW\",\"SHOW\",\"SHOW\",\"SHOW\",\"SHOW\",\"SHOW\",\"SHOW\",\"SHOW\",\"SHOW\",\"SHOW\",\"SHOW\",\"SHOW\",\"SHOW\",\"SHOW\",\"SHOW\",\"SHOW\",\"SHOW\",\"SHOW\",\"SHOW\",\"SHOW\",\"SHOW\",\"SHOW\",\"SHOW\",\"SHOW\",\"SHOW\",\"SHOW\",\"SHOW\",\"SHOW\",\"SHOW\",\"SHOW\",\"SHOW\",\"SHOW\",\"SHOW\",\"SHOW\",\"SHOW\",\"SHOW\",\"SHOW\",\"SHOW\",\"SHOW\",\"SHOW\",\"SHOW\",\"SHOW\",\"SHOW\",\"SHOW\",\"SHOW\",\"SHOW\",\"SHOW\",\"SHOW\",\"SHOW\",\"SHOW\",\"SHOW\",\"SHOW\",\"SHOW\",\"SHOW\",\"SHOW\",\"SHOW\",\"SHOW\",\"SHOW\",\"SHOW\",\"SHOW\",\"SHOW\",\"SHOW\",\"SHOW\",\"SHOW\",\"SHOW\",\"SHOW\",\"SHOW\",\"SHOW\",\"SHOW\",\"SHOW\",\"SHOW\",\"SHOW\",\"SHOW\",\"SHOW\",\"SHOW\",\"SHOW\",\"SHOW\",\"SHOW\",\"SHOW\",\"SHOW\",\"SHOW\",\"SHOW\",\"SHOW\",\"SHOW\",\"SHOW\",\"SHOW\",\"SHOW\",\"SHOW\",\"SHOW\",\"SHOW\",\"SHOW\",\"SHOW\",\"SHOW\",\"SHOW\",\"SHOW\",\"SHOW\",\"SHOW\",\"SHOW\",\"SHOW\",\"SHOW\",\"SHOW\",\"SHOW\",\"SHOW\",\"SHOW\",\"SHOW\",\"SHOW\",\"SHOW\",\"SHOW\",\"SHOW\",\"SHOW\",\"SHOW\",\"SHOW\",\"SHOW\",\"SHOW\",\"SHOW\",\"SHOW\",\"SHOW\",\"SHOW\",\"SHOW\",\"SHOW\",\"SHOW\",\"SHOW\",\"SHOW\",\"SHOW\",\"SHOW\",\"SHOW\",\"SHOW\",\"SHOW\",\"SHOW\",\"SHOW\",\"SHOW\",\"SHOW\",\"SHOW\",\"SHOW\",\"SHOW\",\"SHOW\",\"SHOW\",\"SHOW\",\"SHOW\",\"SHOW\",\"SHOW\",\"SHOW\",\"SHOW\",\"SHOW\",\"SHOW\",\"SHOW\",\"SHOW\",\"SHOW\",\"SHOW\",\"SHOW\",\"SHOW\",\"SHOW\",\"SHOW\",\"SHOW\",\"SHOW\",\"SHOW\",\"SHOW\",\"SHOW\",\"SHOW\",\"SHOW\",\"SHOW\",\"SHOW\",\"SHOW\",\"SHOW\",\"SHOW\",\"SHOW\",\"SHOW\",\"SHOW\",\"SHOW\",\"SHOW\",\"SHOW\",\"SHOW\",\"SHOW\",\"SHOW\",\"SHOW\",\"SHOW\",\"SHOW\",\"SHOW\",\"SHOW\",\"SHOW\",\"SHOW\",\"SHOW\",\"SHOW\",\"SHOW\",\"SHOW\",\"SHOW\",\"SHOW\",\"SHOW\"],\"xaxis\":\"x\",\"yaxis\":\"y\",\"type\":\"histogram\"},{\"alignmentgroup\":\"True\",\"bingroup\":\"x\",\"hovertemplate\":\"Type=%{x}\\u003cbr\\u003ecount=%{y}\\u003cextra\\u003e\\u003c\\u002fextra\\u003e\",\"legendgroup\":\"MOVIE\",\"marker\":{\"color\":\"#EF553B\",\"pattern\":{\"shape\":\"\"}},\"name\":\"MOVIE\",\"offsetgroup\":\"MOVIE\",\"orientation\":\"v\",\"showlegend\":true,\"x\":[\"MOVIE\",\"MOVIE\",\"MOVIE\",\"MOVIE\",\"MOVIE\",\"MOVIE\",\"MOVIE\",\"MOVIE\",\"MOVIE\",\"MOVIE\",\"MOVIE\",\"MOVIE\",\"MOVIE\",\"MOVIE\",\"MOVIE\",\"MOVIE\",\"MOVIE\",\"MOVIE\",\"MOVIE\",\"MOVIE\",\"MOVIE\",\"MOVIE\",\"MOVIE\",\"MOVIE\",\"MOVIE\",\"MOVIE\",\"MOVIE\",\"MOVIE\",\"MOVIE\",\"MOVIE\",\"MOVIE\",\"MOVIE\",\"MOVIE\",\"MOVIE\",\"MOVIE\",\"MOVIE\",\"MOVIE\",\"MOVIE\",\"MOVIE\",\"MOVIE\",\"MOVIE\",\"MOVIE\",\"MOVIE\",\"MOVIE\",\"MOVIE\",\"MOVIE\",\"MOVIE\",\"MOVIE\",\"MOVIE\",\"MOVIE\",\"MOVIE\",\"MOVIE\",\"MOVIE\",\"MOVIE\",\"MOVIE\",\"MOVIE\",\"MOVIE\",\"MOVIE\",\"MOVIE\",\"MOVIE\",\"MOVIE\",\"MOVIE\",\"MOVIE\",\"MOVIE\",\"MOVIE\",\"MOVIE\",\"MOVIE\",\"MOVIE\",\"MOVIE\",\"MOVIE\",\"MOVIE\",\"MOVIE\",\"MOVIE\",\"MOVIE\",\"MOVIE\",\"MOVIE\",\"MOVIE\",\"MOVIE\",\"MOVIE\",\"MOVIE\",\"MOVIE\",\"MOVIE\",\"MOVIE\",\"MOVIE\",\"MOVIE\",\"MOVIE\",\"MOVIE\",\"MOVIE\",\"MOVIE\",\"MOVIE\",\"MOVIE\",\"MOVIE\",\"MOVIE\",\"MOVIE\",\"MOVIE\",\"MOVIE\",\"MOVIE\",\"MOVIE\",\"MOVIE\",\"MOVIE\",\"MOVIE\",\"MOVIE\",\"MOVIE\",\"MOVIE\",\"MOVIE\",\"MOVIE\",\"MOVIE\",\"MOVIE\",\"MOVIE\",\"MOVIE\",\"MOVIE\",\"MOVIE\",\"MOVIE\",\"MOVIE\",\"MOVIE\",\"MOVIE\",\"MOVIE\",\"MOVIE\",\"MOVIE\",\"MOVIE\",\"MOVIE\",\"MOVIE\",\"MOVIE\",\"MOVIE\",\"MOVIE\",\"MOVIE\",\"MOVIE\",\"MOVIE\",\"MOVIE\",\"MOVIE\",\"MOVIE\",\"MOVIE\",\"MOVIE\",\"MOVIE\",\"MOVIE\",\"MOVIE\",\"MOVIE\",\"MOVIE\",\"MOVIE\",\"MOVIE\",\"MOVIE\",\"MOVIE\",\"MOVIE\",\"MOVIE\",\"MOVIE\",\"MOVIE\",\"MOVIE\",\"MOVIE\",\"MOVIE\",\"MOVIE\",\"MOVIE\",\"MOVIE\",\"MOVIE\",\"MOVIE\",\"MOVIE\",\"MOVIE\",\"MOVIE\",\"MOVIE\",\"MOVIE\",\"MOVIE\",\"MOVIE\",\"MOVIE\",\"MOVIE\",\"MOVIE\",\"MOVIE\",\"MOVIE\",\"MOVIE\",\"MOVIE\",\"MOVIE\",\"MOVIE\",\"MOVIE\",\"MOVIE\",\"MOVIE\",\"MOVIE\",\"MOVIE\",\"MOVIE\",\"MOVIE\",\"MOVIE\",\"MOVIE\",\"MOVIE\",\"MOVIE\",\"MOVIE\",\"MOVIE\",\"MOVIE\",\"MOVIE\",\"MOVIE\",\"MOVIE\",\"MOVIE\",\"MOVIE\",\"MOVIE\",\"MOVIE\",\"MOVIE\",\"MOVIE\",\"MOVIE\",\"MOVIE\",\"MOVIE\",\"MOVIE\",\"MOVIE\",\"MOVIE\",\"MOVIE\",\"MOVIE\",\"MOVIE\",\"MOVIE\",\"MOVIE\",\"MOVIE\",\"MOVIE\",\"MOVIE\",\"MOVIE\",\"MOVIE\",\"MOVIE\",\"MOVIE\",\"MOVIE\",\"MOVIE\",\"MOVIE\",\"MOVIE\",\"MOVIE\",\"MOVIE\",\"MOVIE\",\"MOVIE\",\"MOVIE\",\"MOVIE\",\"MOVIE\",\"MOVIE\",\"MOVIE\",\"MOVIE\",\"MOVIE\",\"MOVIE\",\"MOVIE\",\"MOVIE\",\"MOVIE\",\"MOVIE\",\"MOVIE\",\"MOVIE\",\"MOVIE\",\"MOVIE\",\"MOVIE\",\"MOVIE\",\"MOVIE\",\"MOVIE\",\"MOVIE\",\"MOVIE\",\"MOVIE\",\"MOVIE\",\"MOVIE\",\"MOVIE\",\"MOVIE\",\"MOVIE\",\"MOVIE\",\"MOVIE\",\"MOVIE\",\"MOVIE\",\"MOVIE\",\"MOVIE\",\"MOVIE\",\"MOVIE\",\"MOVIE\",\"MOVIE\",\"MOVIE\",\"MOVIE\",\"MOVIE\",\"MOVIE\",\"MOVIE\",\"MOVIE\",\"MOVIE\",\"MOVIE\",\"MOVIE\",\"MOVIE\",\"MOVIE\",\"MOVIE\",\"MOVIE\",\"MOVIE\",\"MOVIE\",\"MOVIE\",\"MOVIE\",\"MOVIE\",\"MOVIE\",\"MOVIE\",\"MOVIE\",\"MOVIE\",\"MOVIE\",\"MOVIE\",\"MOVIE\",\"MOVIE\",\"MOVIE\",\"MOVIE\",\"MOVIE\",\"MOVIE\",\"MOVIE\",\"MOVIE\",\"MOVIE\",\"MOVIE\",\"MOVIE\",\"MOVIE\",\"MOVIE\",\"MOVIE\",\"MOVIE\",\"MOVIE\",\"MOVIE\",\"MOVIE\",\"MOVIE\",\"MOVIE\",\"MOVIE\",\"MOVIE\",\"MOVIE\",\"MOVIE\",\"MOVIE\",\"MOVIE\",\"MOVIE\",\"MOVIE\",\"MOVIE\",\"MOVIE\",\"MOVIE\",\"MOVIE\",\"MOVIE\",\"MOVIE\",\"MOVIE\",\"MOVIE\",\"MOVIE\",\"MOVIE\",\"MOVIE\",\"MOVIE\",\"MOVIE\",\"MOVIE\",\"MOVIE\",\"MOVIE\",\"MOVIE\",\"MOVIE\",\"MOVIE\",\"MOVIE\",\"MOVIE\",\"MOVIE\",\"MOVIE\",\"MOVIE\",\"MOVIE\",\"MOVIE\",\"MOVIE\",\"MOVIE\",\"MOVIE\",\"MOVIE\",\"MOVIE\",\"MOVIE\",\"MOVIE\",\"MOVIE\",\"MOVIE\",\"MOVIE\",\"MOVIE\",\"MOVIE\",\"MOVIE\",\"MOVIE\",\"MOVIE\",\"MOVIE\",\"MOVIE\",\"MOVIE\",\"MOVIE\",\"MOVIE\",\"MOVIE\",\"MOVIE\",\"MOVIE\",\"MOVIE\",\"MOVIE\",\"MOVIE\",\"MOVIE\",\"MOVIE\",\"MOVIE\",\"MOVIE\",\"MOVIE\",\"MOVIE\",\"MOVIE\",\"MOVIE\",\"MOVIE\",\"MOVIE\",\"MOVIE\",\"MOVIE\",\"MOVIE\",\"MOVIE\",\"MOVIE\",\"MOVIE\",\"MOVIE\",\"MOVIE\",\"MOVIE\",\"MOVIE\",\"MOVIE\",\"MOVIE\",\"MOVIE\",\"MOVIE\",\"MOVIE\",\"MOVIE\",\"MOVIE\",\"MOVIE\",\"MOVIE\",\"MOVIE\",\"MOVIE\",\"MOVIE\",\"MOVIE\",\"MOVIE\",\"MOVIE\",\"MOVIE\",\"MOVIE\",\"MOVIE\",\"MOVIE\",\"MOVIE\",\"MOVIE\",\"MOVIE\",\"MOVIE\",\"MOVIE\",\"MOVIE\",\"MOVIE\",\"MOVIE\",\"MOVIE\",\"MOVIE\",\"MOVIE\",\"MOVIE\",\"MOVIE\",\"MOVIE\",\"MOVIE\",\"MOVIE\",\"MOVIE\",\"MOVIE\",\"MOVIE\",\"MOVIE\",\"MOVIE\",\"MOVIE\",\"MOVIE\",\"MOVIE\",\"MOVIE\",\"MOVIE\",\"MOVIE\",\"MOVIE\",\"MOVIE\",\"MOVIE\",\"MOVIE\",\"MOVIE\",\"MOVIE\",\"MOVIE\",\"MOVIE\",\"MOVIE\",\"MOVIE\",\"MOVIE\",\"MOVIE\",\"MOVIE\",\"MOVIE\",\"MOVIE\",\"MOVIE\",\"MOVIE\",\"MOVIE\",\"MOVIE\",\"MOVIE\",\"MOVIE\",\"MOVIE\",\"MOVIE\",\"MOVIE\",\"MOVIE\",\"MOVIE\",\"MOVIE\",\"MOVIE\",\"MOVIE\",\"MOVIE\",\"MOVIE\",\"MOVIE\",\"MOVIE\",\"MOVIE\",\"MOVIE\",\"MOVIE\",\"MOVIE\",\"MOVIE\",\"MOVIE\",\"MOVIE\",\"MOVIE\",\"MOVIE\",\"MOVIE\",\"MOVIE\",\"MOVIE\",\"MOVIE\",\"MOVIE\",\"MOVIE\",\"MOVIE\",\"MOVIE\",\"MOVIE\",\"MOVIE\",\"MOVIE\",\"MOVIE\",\"MOVIE\",\"MOVIE\",\"MOVIE\",\"MOVIE\",\"MOVIE\",\"MOVIE\",\"MOVIE\",\"MOVIE\",\"MOVIE\",\"MOVIE\",\"MOVIE\",\"MOVIE\",\"MOVIE\",\"MOVIE\",\"MOVIE\",\"MOVIE\",\"MOVIE\",\"MOVIE\",\"MOVIE\",\"MOVIE\",\"MOVIE\",\"MOVIE\",\"MOVIE\",\"MOVIE\",\"MOVIE\",\"MOVIE\",\"MOVIE\",\"MOVIE\",\"MOVIE\",\"MOVIE\",\"MOVIE\",\"MOVIE\",\"MOVIE\",\"MOVIE\",\"MOVIE\",\"MOVIE\",\"MOVIE\",\"MOVIE\",\"MOVIE\",\"MOVIE\",\"MOVIE\",\"MOVIE\",\"MOVIE\",\"MOVIE\",\"MOVIE\",\"MOVIE\",\"MOVIE\",\"MOVIE\",\"MOVIE\",\"MOVIE\",\"MOVIE\",\"MOVIE\",\"MOVIE\",\"MOVIE\",\"MOVIE\",\"MOVIE\",\"MOVIE\",\"MOVIE\",\"MOVIE\",\"MOVIE\",\"MOVIE\",\"MOVIE\",\"MOVIE\",\"MOVIE\",\"MOVIE\",\"MOVIE\",\"MOVIE\",\"MOVIE\",\"MOVIE\",\"MOVIE\",\"MOVIE\",\"MOVIE\",\"MOVIE\",\"MOVIE\",\"MOVIE\",\"MOVIE\",\"MOVIE\",\"MOVIE\",\"MOVIE\",\"MOVIE\",\"MOVIE\",\"MOVIE\",\"MOVIE\",\"MOVIE\",\"MOVIE\",\"MOVIE\",\"MOVIE\",\"MOVIE\",\"MOVIE\",\"MOVIE\",\"MOVIE\",\"MOVIE\",\"MOVIE\",\"MOVIE\",\"MOVIE\",\"MOVIE\",\"MOVIE\",\"MOVIE\",\"MOVIE\",\"MOVIE\",\"MOVIE\",\"MOVIE\",\"MOVIE\",\"MOVIE\",\"MOVIE\",\"MOVIE\",\"MOVIE\",\"MOVIE\",\"MOVIE\",\"MOVIE\",\"MOVIE\",\"MOVIE\",\"MOVIE\",\"MOVIE\",\"MOVIE\",\"MOVIE\",\"MOVIE\",\"MOVIE\",\"MOVIE\",\"MOVIE\",\"MOVIE\",\"MOVIE\",\"MOVIE\",\"MOVIE\",\"MOVIE\",\"MOVIE\",\"MOVIE\",\"MOVIE\",\"MOVIE\",\"MOVIE\",\"MOVIE\",\"MOVIE\",\"MOVIE\",\"MOVIE\",\"MOVIE\",\"MOVIE\",\"MOVIE\",\"MOVIE\",\"MOVIE\",\"MOVIE\",\"MOVIE\",\"MOVIE\",\"MOVIE\",\"MOVIE\",\"MOVIE\",\"MOVIE\",\"MOVIE\",\"MOVIE\",\"MOVIE\",\"MOVIE\",\"MOVIE\",\"MOVIE\",\"MOVIE\",\"MOVIE\",\"MOVIE\",\"MOVIE\",\"MOVIE\",\"MOVIE\",\"MOVIE\",\"MOVIE\",\"MOVIE\",\"MOVIE\",\"MOVIE\",\"MOVIE\",\"MOVIE\",\"MOVIE\",\"MOVIE\",\"MOVIE\",\"MOVIE\",\"MOVIE\",\"MOVIE\",\"MOVIE\",\"MOVIE\",\"MOVIE\",\"MOVIE\",\"MOVIE\",\"MOVIE\",\"MOVIE\",\"MOVIE\",\"MOVIE\",\"MOVIE\",\"MOVIE\",\"MOVIE\",\"MOVIE\",\"MOVIE\",\"MOVIE\",\"MOVIE\",\"MOVIE\",\"MOVIE\",\"MOVIE\",\"MOVIE\",\"MOVIE\",\"MOVIE\",\"MOVIE\",\"MOVIE\",\"MOVIE\",\"MOVIE\",\"MOVIE\",\"MOVIE\",\"MOVIE\",\"MOVIE\",\"MOVIE\",\"MOVIE\",\"MOVIE\",\"MOVIE\",\"MOVIE\",\"MOVIE\",\"MOVIE\",\"MOVIE\",\"MOVIE\",\"MOVIE\",\"MOVIE\",\"MOVIE\",\"MOVIE\",\"MOVIE\",\"MOVIE\",\"MOVIE\",\"MOVIE\",\"MOVIE\",\"MOVIE\",\"MOVIE\",\"MOVIE\",\"MOVIE\",\"MOVIE\",\"MOVIE\",\"MOVIE\",\"MOVIE\",\"MOVIE\",\"MOVIE\",\"MOVIE\",\"MOVIE\",\"MOVIE\",\"MOVIE\",\"MOVIE\",\"MOVIE\",\"MOVIE\",\"MOVIE\",\"MOVIE\",\"MOVIE\",\"MOVIE\",\"MOVIE\",\"MOVIE\",\"MOVIE\",\"MOVIE\",\"MOVIE\",\"MOVIE\",\"MOVIE\",\"MOVIE\",\"MOVIE\",\"MOVIE\",\"MOVIE\",\"MOVIE\",\"MOVIE\",\"MOVIE\",\"MOVIE\",\"MOVIE\",\"MOVIE\",\"MOVIE\",\"MOVIE\",\"MOVIE\",\"MOVIE\",\"MOVIE\",\"MOVIE\",\"MOVIE\",\"MOVIE\",\"MOVIE\",\"MOVIE\",\"MOVIE\",\"MOVIE\",\"MOVIE\",\"MOVIE\",\"MOVIE\",\"MOVIE\",\"MOVIE\",\"MOVIE\",\"MOVIE\",\"MOVIE\",\"MOVIE\",\"MOVIE\",\"MOVIE\",\"MOVIE\",\"MOVIE\",\"MOVIE\",\"MOVIE\",\"MOVIE\",\"MOVIE\",\"MOVIE\",\"MOVIE\",\"MOVIE\",\"MOVIE\",\"MOVIE\",\"MOVIE\",\"MOVIE\",\"MOVIE\",\"MOVIE\",\"MOVIE\",\"MOVIE\",\"MOVIE\",\"MOVIE\",\"MOVIE\",\"MOVIE\",\"MOVIE\",\"MOVIE\",\"MOVIE\",\"MOVIE\",\"MOVIE\",\"MOVIE\",\"MOVIE\",\"MOVIE\",\"MOVIE\",\"MOVIE\",\"MOVIE\",\"MOVIE\",\"MOVIE\",\"MOVIE\",\"MOVIE\",\"MOVIE\",\"MOVIE\",\"MOVIE\",\"MOVIE\",\"MOVIE\",\"MOVIE\",\"MOVIE\",\"MOVIE\",\"MOVIE\",\"MOVIE\",\"MOVIE\",\"MOVIE\",\"MOVIE\",\"MOVIE\",\"MOVIE\",\"MOVIE\",\"MOVIE\",\"MOVIE\",\"MOVIE\",\"MOVIE\",\"MOVIE\",\"MOVIE\",\"MOVIE\",\"MOVIE\",\"MOVIE\",\"MOVIE\",\"MOVIE\",\"MOVIE\",\"MOVIE\",\"MOVIE\",\"MOVIE\",\"MOVIE\",\"MOVIE\",\"MOVIE\",\"MOVIE\",\"MOVIE\",\"MOVIE\",\"MOVIE\",\"MOVIE\",\"MOVIE\",\"MOVIE\",\"MOVIE\",\"MOVIE\",\"MOVIE\",\"MOVIE\",\"MOVIE\",\"MOVIE\",\"MOVIE\",\"MOVIE\",\"MOVIE\",\"MOVIE\",\"MOVIE\",\"MOVIE\",\"MOVIE\",\"MOVIE\",\"MOVIE\",\"MOVIE\",\"MOVIE\",\"MOVIE\",\"MOVIE\",\"MOVIE\",\"MOVIE\",\"MOVIE\",\"MOVIE\",\"MOVIE\",\"MOVIE\",\"MOVIE\",\"MOVIE\",\"MOVIE\",\"MOVIE\",\"MOVIE\",\"MOVIE\",\"MOVIE\",\"MOVIE\",\"MOVIE\",\"MOVIE\",\"MOVIE\",\"MOVIE\",\"MOVIE\",\"MOVIE\",\"MOVIE\",\"MOVIE\",\"MOVIE\",\"MOVIE\",\"MOVIE\",\"MOVIE\",\"MOVIE\",\"MOVIE\",\"MOVIE\",\"MOVIE\",\"MOVIE\",\"MOVIE\",\"MOVIE\",\"MOVIE\",\"MOVIE\",\"MOVIE\",\"MOVIE\",\"MOVIE\",\"MOVIE\",\"MOVIE\",\"MOVIE\",\"MOVIE\",\"MOVIE\",\"MOVIE\",\"MOVIE\",\"MOVIE\",\"MOVIE\",\"MOVIE\",\"MOVIE\",\"MOVIE\",\"MOVIE\",\"MOVIE\",\"MOVIE\",\"MOVIE\",\"MOVIE\",\"MOVIE\",\"MOVIE\",\"MOVIE\",\"MOVIE\",\"MOVIE\",\"MOVIE\",\"MOVIE\",\"MOVIE\",\"MOVIE\",\"MOVIE\",\"MOVIE\",\"MOVIE\",\"MOVIE\",\"MOVIE\",\"MOVIE\",\"MOVIE\",\"MOVIE\",\"MOVIE\",\"MOVIE\",\"MOVIE\",\"MOVIE\",\"MOVIE\",\"MOVIE\",\"MOVIE\",\"MOVIE\",\"MOVIE\",\"MOVIE\",\"MOVIE\",\"MOVIE\",\"MOVIE\",\"MOVIE\",\"MOVIE\",\"MOVIE\",\"MOVIE\",\"MOVIE\",\"MOVIE\",\"MOVIE\",\"MOVIE\",\"MOVIE\",\"MOVIE\",\"MOVIE\",\"MOVIE\",\"MOVIE\",\"MOVIE\",\"MOVIE\",\"MOVIE\",\"MOVIE\",\"MOVIE\",\"MOVIE\",\"MOVIE\",\"MOVIE\",\"MOVIE\",\"MOVIE\",\"MOVIE\",\"MOVIE\",\"MOVIE\",\"MOVIE\",\"MOVIE\",\"MOVIE\",\"MOVIE\",\"MOVIE\",\"MOVIE\",\"MOVIE\",\"MOVIE\",\"MOVIE\",\"MOVIE\",\"MOVIE\",\"MOVIE\",\"MOVIE\",\"MOVIE\",\"MOVIE\",\"MOVIE\",\"MOVIE\",\"MOVIE\",\"MOVIE\",\"MOVIE\",\"MOVIE\",\"MOVIE\",\"MOVIE\",\"MOVIE\",\"MOVIE\",\"MOVIE\",\"MOVIE\",\"MOVIE\",\"MOVIE\",\"MOVIE\",\"MOVIE\",\"MOVIE\",\"MOVIE\",\"MOVIE\",\"MOVIE\",\"MOVIE\",\"MOVIE\",\"MOVIE\",\"MOVIE\",\"MOVIE\",\"MOVIE\",\"MOVIE\",\"MOVIE\",\"MOVIE\",\"MOVIE\",\"MOVIE\",\"MOVIE\",\"MOVIE\",\"MOVIE\",\"MOVIE\",\"MOVIE\",\"MOVIE\",\"MOVIE\",\"MOVIE\",\"MOVIE\",\"MOVIE\",\"MOVIE\",\"MOVIE\",\"MOVIE\",\"MOVIE\",\"MOVIE\",\"MOVIE\",\"MOVIE\",\"MOVIE\",\"MOVIE\",\"MOVIE\",\"MOVIE\",\"MOVIE\",\"MOVIE\",\"MOVIE\",\"MOVIE\",\"MOVIE\",\"MOVIE\",\"MOVIE\",\"MOVIE\",\"MOVIE\",\"MOVIE\",\"MOVIE\",\"MOVIE\",\"MOVIE\",\"MOVIE\",\"MOVIE\",\"MOVIE\",\"MOVIE\",\"MOVIE\",\"MOVIE\",\"MOVIE\",\"MOVIE\",\"MOVIE\",\"MOVIE\",\"MOVIE\",\"MOVIE\",\"MOVIE\",\"MOVIE\",\"MOVIE\",\"MOVIE\",\"MOVIE\",\"MOVIE\",\"MOVIE\",\"MOVIE\",\"MOVIE\",\"MOVIE\",\"MOVIE\",\"MOVIE\",\"MOVIE\",\"MOVIE\",\"MOVIE\",\"MOVIE\",\"MOVIE\",\"MOVIE\",\"MOVIE\",\"MOVIE\",\"MOVIE\",\"MOVIE\",\"MOVIE\",\"MOVIE\",\"MOVIE\",\"MOVIE\",\"MOVIE\",\"MOVIE\",\"MOVIE\",\"MOVIE\",\"MOVIE\",\"MOVIE\",\"MOVIE\",\"MOVIE\",\"MOVIE\",\"MOVIE\",\"MOVIE\",\"MOVIE\",\"MOVIE\",\"MOVIE\",\"MOVIE\",\"MOVIE\",\"MOVIE\",\"MOVIE\",\"MOVIE\",\"MOVIE\",\"MOVIE\",\"MOVIE\",\"MOVIE\",\"MOVIE\",\"MOVIE\",\"MOVIE\",\"MOVIE\",\"MOVIE\",\"MOVIE\",\"MOVIE\",\"MOVIE\",\"MOVIE\",\"MOVIE\",\"MOVIE\",\"MOVIE\",\"MOVIE\",\"MOVIE\",\"MOVIE\",\"MOVIE\",\"MOVIE\",\"MOVIE\",\"MOVIE\",\"MOVIE\",\"MOVIE\",\"MOVIE\",\"MOVIE\",\"MOVIE\",\"MOVIE\",\"MOVIE\",\"MOVIE\",\"MOVIE\",\"MOVIE\",\"MOVIE\",\"MOVIE\",\"MOVIE\",\"MOVIE\",\"MOVIE\",\"MOVIE\",\"MOVIE\",\"MOVIE\",\"MOVIE\",\"MOVIE\",\"MOVIE\",\"MOVIE\",\"MOVIE\",\"MOVIE\",\"MOVIE\",\"MOVIE\",\"MOVIE\",\"MOVIE\",\"MOVIE\",\"MOVIE\",\"MOVIE\",\"MOVIE\",\"MOVIE\",\"MOVIE\",\"MOVIE\",\"MOVIE\",\"MOVIE\",\"MOVIE\",\"MOVIE\",\"MOVIE\",\"MOVIE\",\"MOVIE\",\"MOVIE\",\"MOVIE\",\"MOVIE\",\"MOVIE\",\"MOVIE\",\"MOVIE\",\"MOVIE\",\"MOVIE\",\"MOVIE\",\"MOVIE\",\"MOVIE\",\"MOVIE\",\"MOVIE\",\"MOVIE\",\"MOVIE\",\"MOVIE\",\"MOVIE\",\"MOVIE\",\"MOVIE\",\"MOVIE\",\"MOVIE\",\"MOVIE\",\"MOVIE\",\"MOVIE\",\"MOVIE\",\"MOVIE\",\"MOVIE\",\"MOVIE\",\"MOVIE\",\"MOVIE\",\"MOVIE\",\"MOVIE\",\"MOVIE\",\"MOVIE\",\"MOVIE\",\"MOVIE\",\"MOVIE\",\"MOVIE\",\"MOVIE\",\"MOVIE\",\"MOVIE\",\"MOVIE\",\"MOVIE\",\"MOVIE\",\"MOVIE\",\"MOVIE\",\"MOVIE\",\"MOVIE\",\"MOVIE\",\"MOVIE\",\"MOVIE\",\"MOVIE\",\"MOVIE\",\"MOVIE\",\"MOVIE\",\"MOVIE\",\"MOVIE\",\"MOVIE\",\"MOVIE\",\"MOVIE\",\"MOVIE\",\"MOVIE\",\"MOVIE\",\"MOVIE\",\"MOVIE\",\"MOVIE\",\"MOVIE\",\"MOVIE\",\"MOVIE\",\"MOVIE\",\"MOVIE\",\"MOVIE\",\"MOVIE\",\"MOVIE\",\"MOVIE\",\"MOVIE\",\"MOVIE\",\"MOVIE\",\"MOVIE\",\"MOVIE\",\"MOVIE\",\"MOVIE\",\"MOVIE\",\"MOVIE\",\"MOVIE\",\"MOVIE\",\"MOVIE\",\"MOVIE\",\"MOVIE\",\"MOVIE\",\"MOVIE\",\"MOVIE\",\"MOVIE\",\"MOVIE\",\"MOVIE\",\"MOVIE\",\"MOVIE\",\"MOVIE\",\"MOVIE\",\"MOVIE\",\"MOVIE\",\"MOVIE\",\"MOVIE\",\"MOVIE\",\"MOVIE\",\"MOVIE\",\"MOVIE\",\"MOVIE\",\"MOVIE\",\"MOVIE\",\"MOVIE\",\"MOVIE\",\"MOVIE\",\"MOVIE\",\"MOVIE\",\"MOVIE\",\"MOVIE\",\"MOVIE\",\"MOVIE\",\"MOVIE\",\"MOVIE\",\"MOVIE\",\"MOVIE\",\"MOVIE\",\"MOVIE\",\"MOVIE\",\"MOVIE\",\"MOVIE\",\"MOVIE\",\"MOVIE\",\"MOVIE\",\"MOVIE\",\"MOVIE\",\"MOVIE\",\"MOVIE\",\"MOVIE\",\"MOVIE\",\"MOVIE\",\"MOVIE\",\"MOVIE\",\"MOVIE\",\"MOVIE\",\"MOVIE\",\"MOVIE\",\"MOVIE\",\"MOVIE\",\"MOVIE\",\"MOVIE\",\"MOVIE\",\"MOVIE\",\"MOVIE\",\"MOVIE\",\"MOVIE\",\"MOVIE\",\"MOVIE\",\"MOVIE\",\"MOVIE\",\"MOVIE\",\"MOVIE\",\"MOVIE\",\"MOVIE\",\"MOVIE\",\"MOVIE\",\"MOVIE\",\"MOVIE\",\"MOVIE\",\"MOVIE\",\"MOVIE\",\"MOVIE\",\"MOVIE\",\"MOVIE\",\"MOVIE\",\"MOVIE\",\"MOVIE\",\"MOVIE\",\"MOVIE\",\"MOVIE\",\"MOVIE\",\"MOVIE\",\"MOVIE\",\"MOVIE\",\"MOVIE\",\"MOVIE\",\"MOVIE\",\"MOVIE\",\"MOVIE\",\"MOVIE\",\"MOVIE\",\"MOVIE\",\"MOVIE\",\"MOVIE\",\"MOVIE\",\"MOVIE\",\"MOVIE\",\"MOVIE\",\"MOVIE\",\"MOVIE\",\"MOVIE\",\"MOVIE\",\"MOVIE\",\"MOVIE\",\"MOVIE\",\"MOVIE\",\"MOVIE\",\"MOVIE\",\"MOVIE\",\"MOVIE\",\"MOVIE\",\"MOVIE\",\"MOVIE\",\"MOVIE\",\"MOVIE\",\"MOVIE\",\"MOVIE\",\"MOVIE\",\"MOVIE\",\"MOVIE\",\"MOVIE\",\"MOVIE\",\"MOVIE\",\"MOVIE\",\"MOVIE\",\"MOVIE\",\"MOVIE\",\"MOVIE\",\"MOVIE\",\"MOVIE\",\"MOVIE\",\"MOVIE\",\"MOVIE\",\"MOVIE\",\"MOVIE\",\"MOVIE\",\"MOVIE\",\"MOVIE\",\"MOVIE\",\"MOVIE\",\"MOVIE\",\"MOVIE\",\"MOVIE\",\"MOVIE\",\"MOVIE\",\"MOVIE\",\"MOVIE\",\"MOVIE\",\"MOVIE\",\"MOVIE\",\"MOVIE\",\"MOVIE\",\"MOVIE\",\"MOVIE\",\"MOVIE\",\"MOVIE\",\"MOVIE\",\"MOVIE\",\"MOVIE\",\"MOVIE\",\"MOVIE\",\"MOVIE\",\"MOVIE\",\"MOVIE\",\"MOVIE\",\"MOVIE\",\"MOVIE\",\"MOVIE\",\"MOVIE\",\"MOVIE\",\"MOVIE\",\"MOVIE\",\"MOVIE\",\"MOVIE\",\"MOVIE\",\"MOVIE\",\"MOVIE\",\"MOVIE\",\"MOVIE\",\"MOVIE\",\"MOVIE\",\"MOVIE\",\"MOVIE\",\"MOVIE\",\"MOVIE\",\"MOVIE\",\"MOVIE\",\"MOVIE\",\"MOVIE\",\"MOVIE\",\"MOVIE\",\"MOVIE\",\"MOVIE\",\"MOVIE\",\"MOVIE\",\"MOVIE\",\"MOVIE\",\"MOVIE\",\"MOVIE\",\"MOVIE\",\"MOVIE\",\"MOVIE\",\"MOVIE\",\"MOVIE\",\"MOVIE\",\"MOVIE\",\"MOVIE\",\"MOVIE\",\"MOVIE\",\"MOVIE\",\"MOVIE\",\"MOVIE\",\"MOVIE\",\"MOVIE\",\"MOVIE\",\"MOVIE\",\"MOVIE\",\"MOVIE\",\"MOVIE\",\"MOVIE\",\"MOVIE\",\"MOVIE\",\"MOVIE\",\"MOVIE\",\"MOVIE\",\"MOVIE\",\"MOVIE\",\"MOVIE\",\"MOVIE\",\"MOVIE\",\"MOVIE\",\"MOVIE\",\"MOVIE\",\"MOVIE\",\"MOVIE\",\"MOVIE\",\"MOVIE\",\"MOVIE\",\"MOVIE\",\"MOVIE\",\"MOVIE\",\"MOVIE\",\"MOVIE\",\"MOVIE\",\"MOVIE\",\"MOVIE\",\"MOVIE\",\"MOVIE\",\"MOVIE\",\"MOVIE\",\"MOVIE\",\"MOVIE\",\"MOVIE\",\"MOVIE\",\"MOVIE\",\"MOVIE\",\"MOVIE\",\"MOVIE\",\"MOVIE\",\"MOVIE\",\"MOVIE\",\"MOVIE\",\"MOVIE\",\"MOVIE\",\"MOVIE\",\"MOVIE\",\"MOVIE\",\"MOVIE\",\"MOVIE\",\"MOVIE\",\"MOVIE\",\"MOVIE\",\"MOVIE\",\"MOVIE\",\"MOVIE\",\"MOVIE\",\"MOVIE\",\"MOVIE\",\"MOVIE\",\"MOVIE\",\"MOVIE\",\"MOVIE\",\"MOVIE\",\"MOVIE\",\"MOVIE\",\"MOVIE\",\"MOVIE\",\"MOVIE\",\"MOVIE\",\"MOVIE\",\"MOVIE\",\"MOVIE\",\"MOVIE\",\"MOVIE\",\"MOVIE\",\"MOVIE\",\"MOVIE\",\"MOVIE\",\"MOVIE\",\"MOVIE\",\"MOVIE\",\"MOVIE\",\"MOVIE\",\"MOVIE\",\"MOVIE\",\"MOVIE\",\"MOVIE\",\"MOVIE\",\"MOVIE\",\"MOVIE\",\"MOVIE\",\"MOVIE\",\"MOVIE\",\"MOVIE\",\"MOVIE\",\"MOVIE\",\"MOVIE\",\"MOVIE\",\"MOVIE\",\"MOVIE\",\"MOVIE\",\"MOVIE\",\"MOVIE\",\"MOVIE\",\"MOVIE\",\"MOVIE\",\"MOVIE\",\"MOVIE\",\"MOVIE\",\"MOVIE\",\"MOVIE\",\"MOVIE\",\"MOVIE\",\"MOVIE\",\"MOVIE\",\"MOVIE\",\"MOVIE\",\"MOVIE\",\"MOVIE\",\"MOVIE\",\"MOVIE\",\"MOVIE\",\"MOVIE\",\"MOVIE\",\"MOVIE\",\"MOVIE\",\"MOVIE\",\"MOVIE\",\"MOVIE\",\"MOVIE\",\"MOVIE\",\"MOVIE\",\"MOVIE\",\"MOVIE\",\"MOVIE\",\"MOVIE\",\"MOVIE\",\"MOVIE\",\"MOVIE\",\"MOVIE\",\"MOVIE\",\"MOVIE\",\"MOVIE\",\"MOVIE\",\"MOVIE\",\"MOVIE\",\"MOVIE\",\"MOVIE\",\"MOVIE\",\"MOVIE\",\"MOVIE\",\"MOVIE\",\"MOVIE\",\"MOVIE\",\"MOVIE\",\"MOVIE\",\"MOVIE\",\"MOVIE\",\"MOVIE\",\"MOVIE\",\"MOVIE\",\"MOVIE\",\"MOVIE\",\"MOVIE\",\"MOVIE\",\"MOVIE\",\"MOVIE\",\"MOVIE\",\"MOVIE\",\"MOVIE\",\"MOVIE\",\"MOVIE\",\"MOVIE\",\"MOVIE\",\"MOVIE\",\"MOVIE\",\"MOVIE\",\"MOVIE\",\"MOVIE\",\"MOVIE\",\"MOVIE\",\"MOVIE\",\"MOVIE\",\"MOVIE\",\"MOVIE\",\"MOVIE\",\"MOVIE\",\"MOVIE\",\"MOVIE\",\"MOVIE\",\"MOVIE\",\"MOVIE\",\"MOVIE\",\"MOVIE\",\"MOVIE\",\"MOVIE\",\"MOVIE\",\"MOVIE\",\"MOVIE\",\"MOVIE\",\"MOVIE\",\"MOVIE\",\"MOVIE\",\"MOVIE\",\"MOVIE\",\"MOVIE\",\"MOVIE\",\"MOVIE\",\"MOVIE\",\"MOVIE\",\"MOVIE\",\"MOVIE\",\"MOVIE\",\"MOVIE\",\"MOVIE\",\"MOVIE\",\"MOVIE\",\"MOVIE\",\"MOVIE\",\"MOVIE\",\"MOVIE\",\"MOVIE\",\"MOVIE\",\"MOVIE\",\"MOVIE\",\"MOVIE\",\"MOVIE\",\"MOVIE\",\"MOVIE\",\"MOVIE\",\"MOVIE\",\"MOVIE\",\"MOVIE\",\"MOVIE\",\"MOVIE\",\"MOVIE\",\"MOVIE\",\"MOVIE\",\"MOVIE\",\"MOVIE\",\"MOVIE\",\"MOVIE\",\"MOVIE\",\"MOVIE\",\"MOVIE\",\"MOVIE\",\"MOVIE\",\"MOVIE\",\"MOVIE\",\"MOVIE\",\"MOVIE\",\"MOVIE\",\"MOVIE\",\"MOVIE\",\"MOVIE\",\"MOVIE\",\"MOVIE\",\"MOVIE\",\"MOVIE\",\"MOVIE\",\"MOVIE\",\"MOVIE\",\"MOVIE\",\"MOVIE\",\"MOVIE\",\"MOVIE\",\"MOVIE\",\"MOVIE\",\"MOVIE\",\"MOVIE\",\"MOVIE\",\"MOVIE\",\"MOVIE\",\"MOVIE\",\"MOVIE\",\"MOVIE\",\"MOVIE\",\"MOVIE\",\"MOVIE\",\"MOVIE\",\"MOVIE\",\"MOVIE\",\"MOVIE\",\"MOVIE\",\"MOVIE\",\"MOVIE\",\"MOVIE\",\"MOVIE\",\"MOVIE\",\"MOVIE\",\"MOVIE\",\"MOVIE\",\"MOVIE\",\"MOVIE\",\"MOVIE\",\"MOVIE\",\"MOVIE\",\"MOVIE\",\"MOVIE\",\"MOVIE\",\"MOVIE\",\"MOVIE\",\"MOVIE\",\"MOVIE\",\"MOVIE\",\"MOVIE\",\"MOVIE\",\"MOVIE\",\"MOVIE\",\"MOVIE\",\"MOVIE\",\"MOVIE\",\"MOVIE\",\"MOVIE\",\"MOVIE\",\"MOVIE\",\"MOVIE\",\"MOVIE\",\"MOVIE\",\"MOVIE\",\"MOVIE\",\"MOVIE\",\"MOVIE\",\"MOVIE\",\"MOVIE\",\"MOVIE\",\"MOVIE\",\"MOVIE\",\"MOVIE\",\"MOVIE\",\"MOVIE\",\"MOVIE\",\"MOVIE\",\"MOVIE\",\"MOVIE\",\"MOVIE\",\"MOVIE\",\"MOVIE\",\"MOVIE\",\"MOVIE\",\"MOVIE\",\"MOVIE\",\"MOVIE\",\"MOVIE\",\"MOVIE\",\"MOVIE\",\"MOVIE\",\"MOVIE\",\"MOVIE\",\"MOVIE\",\"MOVIE\",\"MOVIE\",\"MOVIE\",\"MOVIE\",\"MOVIE\",\"MOVIE\",\"MOVIE\",\"MOVIE\",\"MOVIE\",\"MOVIE\",\"MOVIE\",\"MOVIE\",\"MOVIE\",\"MOVIE\",\"MOVIE\",\"MOVIE\",\"MOVIE\",\"MOVIE\",\"MOVIE\",\"MOVIE\",\"MOVIE\",\"MOVIE\",\"MOVIE\",\"MOVIE\",\"MOVIE\",\"MOVIE\",\"MOVIE\",\"MOVIE\",\"MOVIE\",\"MOVIE\",\"MOVIE\",\"MOVIE\",\"MOVIE\",\"MOVIE\",\"MOVIE\",\"MOVIE\",\"MOVIE\",\"MOVIE\",\"MOVIE\",\"MOVIE\",\"MOVIE\",\"MOVIE\",\"MOVIE\",\"MOVIE\",\"MOVIE\",\"MOVIE\",\"MOVIE\",\"MOVIE\",\"MOVIE\",\"MOVIE\",\"MOVIE\",\"MOVIE\",\"MOVIE\",\"MOVIE\",\"MOVIE\",\"MOVIE\",\"MOVIE\",\"MOVIE\",\"MOVIE\",\"MOVIE\",\"MOVIE\",\"MOVIE\",\"MOVIE\",\"MOVIE\",\"MOVIE\",\"MOVIE\",\"MOVIE\",\"MOVIE\",\"MOVIE\",\"MOVIE\",\"MOVIE\",\"MOVIE\",\"MOVIE\",\"MOVIE\",\"MOVIE\",\"MOVIE\",\"MOVIE\",\"MOVIE\",\"MOVIE\",\"MOVIE\",\"MOVIE\",\"MOVIE\",\"MOVIE\",\"MOVIE\",\"MOVIE\",\"MOVIE\",\"MOVIE\",\"MOVIE\",\"MOVIE\",\"MOVIE\",\"MOVIE\",\"MOVIE\",\"MOVIE\",\"MOVIE\",\"MOVIE\",\"MOVIE\",\"MOVIE\",\"MOVIE\",\"MOVIE\",\"MOVIE\",\"MOVIE\",\"MOVIE\",\"MOVIE\",\"MOVIE\",\"MOVIE\",\"MOVIE\",\"MOVIE\",\"MOVIE\",\"MOVIE\",\"MOVIE\",\"MOVIE\",\"MOVIE\",\"MOVIE\",\"MOVIE\",\"MOVIE\",\"MOVIE\",\"MOVIE\",\"MOVIE\",\"MOVIE\",\"MOVIE\",\"MOVIE\",\"MOVIE\",\"MOVIE\",\"MOVIE\",\"MOVIE\",\"MOVIE\",\"MOVIE\",\"MOVIE\",\"MOVIE\",\"MOVIE\",\"MOVIE\",\"MOVIE\",\"MOVIE\",\"MOVIE\",\"MOVIE\",\"MOVIE\",\"MOVIE\",\"MOVIE\",\"MOVIE\",\"MOVIE\",\"MOVIE\",\"MOVIE\",\"MOVIE\",\"MOVIE\",\"MOVIE\",\"MOVIE\",\"MOVIE\",\"MOVIE\",\"MOVIE\",\"MOVIE\",\"MOVIE\",\"MOVIE\",\"MOVIE\",\"MOVIE\",\"MOVIE\",\"MOVIE\",\"MOVIE\",\"MOVIE\",\"MOVIE\",\"MOVIE\",\"MOVIE\",\"MOVIE\",\"MOVIE\",\"MOVIE\",\"MOVIE\",\"MOVIE\",\"MOVIE\",\"MOVIE\",\"MOVIE\",\"MOVIE\",\"MOVIE\",\"MOVIE\",\"MOVIE\",\"MOVIE\",\"MOVIE\",\"MOVIE\",\"MOVIE\",\"MOVIE\",\"MOVIE\",\"MOVIE\",\"MOVIE\",\"MOVIE\",\"MOVIE\",\"MOVIE\",\"MOVIE\",\"MOVIE\",\"MOVIE\",\"MOVIE\",\"MOVIE\",\"MOVIE\",\"MOVIE\",\"MOVIE\",\"MOVIE\",\"MOVIE\",\"MOVIE\",\"MOVIE\",\"MOVIE\",\"MOVIE\",\"MOVIE\",\"MOVIE\",\"MOVIE\",\"MOVIE\",\"MOVIE\",\"MOVIE\",\"MOVIE\",\"MOVIE\",\"MOVIE\",\"MOVIE\",\"MOVIE\",\"MOVIE\",\"MOVIE\",\"MOVIE\",\"MOVIE\",\"MOVIE\",\"MOVIE\",\"MOVIE\",\"MOVIE\",\"MOVIE\",\"MOVIE\",\"MOVIE\",\"MOVIE\",\"MOVIE\",\"MOVIE\",\"MOVIE\",\"MOVIE\",\"MOVIE\",\"MOVIE\",\"MOVIE\",\"MOVIE\",\"MOVIE\",\"MOVIE\",\"MOVIE\",\"MOVIE\",\"MOVIE\",\"MOVIE\",\"MOVIE\",\"MOVIE\",\"MOVIE\",\"MOVIE\",\"MOVIE\",\"MOVIE\",\"MOVIE\",\"MOVIE\",\"MOVIE\",\"MOVIE\",\"MOVIE\",\"MOVIE\",\"MOVIE\",\"MOVIE\",\"MOVIE\",\"MOVIE\",\"MOVIE\",\"MOVIE\",\"MOVIE\",\"MOVIE\",\"MOVIE\",\"MOVIE\",\"MOVIE\",\"MOVIE\",\"MOVIE\",\"MOVIE\",\"MOVIE\",\"MOVIE\",\"MOVIE\",\"MOVIE\",\"MOVIE\",\"MOVIE\",\"MOVIE\",\"MOVIE\",\"MOVIE\",\"MOVIE\",\"MOVIE\",\"MOVIE\",\"MOVIE\",\"MOVIE\",\"MOVIE\",\"MOVIE\",\"MOVIE\",\"MOVIE\",\"MOVIE\",\"MOVIE\",\"MOVIE\",\"MOVIE\",\"MOVIE\",\"MOVIE\",\"MOVIE\",\"MOVIE\",\"MOVIE\",\"MOVIE\",\"MOVIE\",\"MOVIE\",\"MOVIE\",\"MOVIE\",\"MOVIE\",\"MOVIE\",\"MOVIE\",\"MOVIE\",\"MOVIE\",\"MOVIE\",\"MOVIE\",\"MOVIE\",\"MOVIE\",\"MOVIE\",\"MOVIE\",\"MOVIE\",\"MOVIE\",\"MOVIE\",\"MOVIE\",\"MOVIE\",\"MOVIE\",\"MOVIE\",\"MOVIE\",\"MOVIE\",\"MOVIE\",\"MOVIE\",\"MOVIE\",\"MOVIE\",\"MOVIE\",\"MOVIE\",\"MOVIE\",\"MOVIE\",\"MOVIE\",\"MOVIE\",\"MOVIE\",\"MOVIE\",\"MOVIE\",\"MOVIE\",\"MOVIE\",\"MOVIE\",\"MOVIE\",\"MOVIE\",\"MOVIE\",\"MOVIE\",\"MOVIE\",\"MOVIE\",\"MOVIE\",\"MOVIE\",\"MOVIE\",\"MOVIE\",\"MOVIE\",\"MOVIE\",\"MOVIE\",\"MOVIE\",\"MOVIE\",\"MOVIE\",\"MOVIE\",\"MOVIE\",\"MOVIE\",\"MOVIE\",\"MOVIE\",\"MOVIE\",\"MOVIE\",\"MOVIE\",\"MOVIE\",\"MOVIE\",\"MOVIE\",\"MOVIE\",\"MOVIE\",\"MOVIE\",\"MOVIE\",\"MOVIE\",\"MOVIE\",\"MOVIE\",\"MOVIE\",\"MOVIE\",\"MOVIE\",\"MOVIE\",\"MOVIE\",\"MOVIE\",\"MOVIE\",\"MOVIE\",\"MOVIE\",\"MOVIE\",\"MOVIE\",\"MOVIE\",\"MOVIE\",\"MOVIE\",\"MOVIE\",\"MOVIE\",\"MOVIE\",\"MOVIE\",\"MOVIE\",\"MOVIE\",\"MOVIE\",\"MOVIE\",\"MOVIE\",\"MOVIE\",\"MOVIE\",\"MOVIE\",\"MOVIE\",\"MOVIE\",\"MOVIE\",\"MOVIE\",\"MOVIE\",\"MOVIE\",\"MOVIE\",\"MOVIE\",\"MOVIE\",\"MOVIE\",\"MOVIE\",\"MOVIE\",\"MOVIE\",\"MOVIE\",\"MOVIE\",\"MOVIE\",\"MOVIE\",\"MOVIE\",\"MOVIE\",\"MOVIE\",\"MOVIE\",\"MOVIE\",\"MOVIE\",\"MOVIE\",\"MOVIE\",\"MOVIE\",\"MOVIE\",\"MOVIE\",\"MOVIE\",\"MOVIE\",\"MOVIE\",\"MOVIE\",\"MOVIE\",\"MOVIE\",\"MOVIE\",\"MOVIE\",\"MOVIE\",\"MOVIE\",\"MOVIE\",\"MOVIE\",\"MOVIE\",\"MOVIE\",\"MOVIE\",\"MOVIE\",\"MOVIE\",\"MOVIE\",\"MOVIE\",\"MOVIE\",\"MOVIE\",\"MOVIE\",\"MOVIE\",\"MOVIE\",\"MOVIE\",\"MOVIE\",\"MOVIE\",\"MOVIE\",\"MOVIE\",\"MOVIE\",\"MOVIE\",\"MOVIE\",\"MOVIE\",\"MOVIE\",\"MOVIE\",\"MOVIE\",\"MOVIE\",\"MOVIE\",\"MOVIE\",\"MOVIE\",\"MOVIE\",\"MOVIE\",\"MOVIE\",\"MOVIE\",\"MOVIE\",\"MOVIE\",\"MOVIE\",\"MOVIE\",\"MOVIE\",\"MOVIE\",\"MOVIE\",\"MOVIE\",\"MOVIE\",\"MOVIE\",\"MOVIE\",\"MOVIE\",\"MOVIE\",\"MOVIE\",\"MOVIE\",\"MOVIE\",\"MOVIE\",\"MOVIE\",\"MOVIE\",\"MOVIE\",\"MOVIE\",\"MOVIE\",\"MOVIE\",\"MOVIE\",\"MOVIE\",\"MOVIE\",\"MOVIE\",\"MOVIE\",\"MOVIE\",\"MOVIE\",\"MOVIE\",\"MOVIE\",\"MOVIE\",\"MOVIE\",\"MOVIE\",\"MOVIE\",\"MOVIE\",\"MOVIE\",\"MOVIE\",\"MOVIE\",\"MOVIE\",\"MOVIE\",\"MOVIE\",\"MOVIE\",\"MOVIE\",\"MOVIE\",\"MOVIE\",\"MOVIE\",\"MOVIE\",\"MOVIE\",\"MOVIE\",\"MOVIE\",\"MOVIE\",\"MOVIE\",\"MOVIE\",\"MOVIE\",\"MOVIE\",\"MOVIE\",\"MOVIE\",\"MOVIE\",\"MOVIE\",\"MOVIE\",\"MOVIE\",\"MOVIE\",\"MOVIE\",\"MOVIE\",\"MOVIE\",\"MOVIE\",\"MOVIE\",\"MOVIE\",\"MOVIE\",\"MOVIE\",\"MOVIE\",\"MOVIE\",\"MOVIE\",\"MOVIE\",\"MOVIE\",\"MOVIE\",\"MOVIE\",\"MOVIE\",\"MOVIE\",\"MOVIE\",\"MOVIE\",\"MOVIE\",\"MOVIE\",\"MOVIE\",\"MOVIE\",\"MOVIE\",\"MOVIE\",\"MOVIE\",\"MOVIE\",\"MOVIE\",\"MOVIE\",\"MOVIE\",\"MOVIE\",\"MOVIE\",\"MOVIE\",\"MOVIE\",\"MOVIE\",\"MOVIE\",\"MOVIE\",\"MOVIE\",\"MOVIE\",\"MOVIE\",\"MOVIE\",\"MOVIE\",\"MOVIE\",\"MOVIE\",\"MOVIE\",\"MOVIE\",\"MOVIE\",\"MOVIE\",\"MOVIE\",\"MOVIE\",\"MOVIE\",\"MOVIE\",\"MOVIE\",\"MOVIE\",\"MOVIE\",\"MOVIE\",\"MOVIE\",\"MOVIE\",\"MOVIE\",\"MOVIE\",\"MOVIE\",\"MOVIE\",\"MOVIE\",\"MOVIE\",\"MOVIE\",\"MOVIE\",\"MOVIE\",\"MOVIE\",\"MOVIE\",\"MOVIE\",\"MOVIE\",\"MOVIE\",\"MOVIE\",\"MOVIE\",\"MOVIE\",\"MOVIE\",\"MOVIE\",\"MOVIE\",\"MOVIE\",\"MOVIE\",\"MOVIE\",\"MOVIE\",\"MOVIE\",\"MOVIE\",\"MOVIE\",\"MOVIE\",\"MOVIE\",\"MOVIE\",\"MOVIE\",\"MOVIE\",\"MOVIE\",\"MOVIE\",\"MOVIE\",\"MOVIE\",\"MOVIE\",\"MOVIE\",\"MOVIE\",\"MOVIE\",\"MOVIE\",\"MOVIE\",\"MOVIE\",\"MOVIE\",\"MOVIE\",\"MOVIE\",\"MOVIE\",\"MOVIE\",\"MOVIE\",\"MOVIE\",\"MOVIE\",\"MOVIE\",\"MOVIE\",\"MOVIE\",\"MOVIE\",\"MOVIE\",\"MOVIE\",\"MOVIE\",\"MOVIE\",\"MOVIE\",\"MOVIE\",\"MOVIE\",\"MOVIE\",\"MOVIE\",\"MOVIE\",\"MOVIE\",\"MOVIE\",\"MOVIE\",\"MOVIE\",\"MOVIE\",\"MOVIE\",\"MOVIE\",\"MOVIE\",\"MOVIE\",\"MOVIE\",\"MOVIE\",\"MOVIE\",\"MOVIE\",\"MOVIE\",\"MOVIE\",\"MOVIE\",\"MOVIE\",\"MOVIE\",\"MOVIE\",\"MOVIE\",\"MOVIE\",\"MOVIE\",\"MOVIE\",\"MOVIE\",\"MOVIE\",\"MOVIE\",\"MOVIE\",\"MOVIE\",\"MOVIE\",\"MOVIE\",\"MOVIE\",\"MOVIE\",\"MOVIE\",\"MOVIE\",\"MOVIE\",\"MOVIE\",\"MOVIE\",\"MOVIE\",\"MOVIE\",\"MOVIE\",\"MOVIE\",\"MOVIE\",\"MOVIE\",\"MOVIE\",\"MOVIE\",\"MOVIE\",\"MOVIE\",\"MOVIE\",\"MOVIE\",\"MOVIE\",\"MOVIE\",\"MOVIE\",\"MOVIE\",\"MOVIE\",\"MOVIE\",\"MOVIE\",\"MOVIE\",\"MOVIE\",\"MOVIE\",\"MOVIE\",\"MOVIE\",\"MOVIE\",\"MOVIE\",\"MOVIE\",\"MOVIE\",\"MOVIE\",\"MOVIE\",\"MOVIE\",\"MOVIE\",\"MOVIE\",\"MOVIE\",\"MOVIE\",\"MOVIE\",\"MOVIE\",\"MOVIE\",\"MOVIE\",\"MOVIE\",\"MOVIE\",\"MOVIE\",\"MOVIE\",\"MOVIE\",\"MOVIE\",\"MOVIE\",\"MOVIE\",\"MOVIE\",\"MOVIE\",\"MOVIE\",\"MOVIE\",\"MOVIE\",\"MOVIE\",\"MOVIE\",\"MOVIE\",\"MOVIE\",\"MOVIE\",\"MOVIE\",\"MOVIE\",\"MOVIE\",\"MOVIE\",\"MOVIE\",\"MOVIE\",\"MOVIE\",\"MOVIE\",\"MOVIE\",\"MOVIE\",\"MOVIE\",\"MOVIE\",\"MOVIE\",\"MOVIE\",\"MOVIE\",\"MOVIE\",\"MOVIE\",\"MOVIE\",\"MOVIE\",\"MOVIE\",\"MOVIE\",\"MOVIE\",\"MOVIE\",\"MOVIE\",\"MOVIE\",\"MOVIE\",\"MOVIE\",\"MOVIE\",\"MOVIE\",\"MOVIE\",\"MOVIE\",\"MOVIE\",\"MOVIE\",\"MOVIE\",\"MOVIE\",\"MOVIE\",\"MOVIE\",\"MOVIE\",\"MOVIE\",\"MOVIE\",\"MOVIE\",\"MOVIE\",\"MOVIE\",\"MOVIE\",\"MOVIE\",\"MOVIE\",\"MOVIE\",\"MOVIE\",\"MOVIE\",\"MOVIE\",\"MOVIE\",\"MOVIE\",\"MOVIE\",\"MOVIE\",\"MOVIE\",\"MOVIE\",\"MOVIE\",\"MOVIE\",\"MOVIE\",\"MOVIE\",\"MOVIE\",\"MOVIE\",\"MOVIE\",\"MOVIE\",\"MOVIE\",\"MOVIE\",\"MOVIE\",\"MOVIE\",\"MOVIE\",\"MOVIE\",\"MOVIE\",\"MOVIE\",\"MOVIE\",\"MOVIE\",\"MOVIE\",\"MOVIE\",\"MOVIE\",\"MOVIE\",\"MOVIE\",\"MOVIE\",\"MOVIE\",\"MOVIE\",\"MOVIE\",\"MOVIE\",\"MOVIE\",\"MOVIE\",\"MOVIE\",\"MOVIE\",\"MOVIE\",\"MOVIE\",\"MOVIE\",\"MOVIE\",\"MOVIE\",\"MOVIE\",\"MOVIE\",\"MOVIE\",\"MOVIE\",\"MOVIE\",\"MOVIE\",\"MOVIE\",\"MOVIE\",\"MOVIE\",\"MOVIE\",\"MOVIE\",\"MOVIE\",\"MOVIE\",\"MOVIE\",\"MOVIE\",\"MOVIE\",\"MOVIE\",\"MOVIE\",\"MOVIE\",\"MOVIE\",\"MOVIE\",\"MOVIE\",\"MOVIE\",\"MOVIE\",\"MOVIE\",\"MOVIE\",\"MOVIE\",\"MOVIE\",\"MOVIE\",\"MOVIE\",\"MOVIE\",\"MOVIE\",\"MOVIE\",\"MOVIE\",\"MOVIE\",\"MOVIE\",\"MOVIE\",\"MOVIE\",\"MOVIE\",\"MOVIE\",\"MOVIE\",\"MOVIE\",\"MOVIE\",\"MOVIE\",\"MOVIE\",\"MOVIE\",\"MOVIE\",\"MOVIE\",\"MOVIE\",\"MOVIE\",\"MOVIE\",\"MOVIE\",\"MOVIE\",\"MOVIE\",\"MOVIE\",\"MOVIE\",\"MOVIE\",\"MOVIE\",\"MOVIE\",\"MOVIE\",\"MOVIE\",\"MOVIE\",\"MOVIE\",\"MOVIE\",\"MOVIE\",\"MOVIE\",\"MOVIE\",\"MOVIE\",\"MOVIE\",\"MOVIE\",\"MOVIE\",\"MOVIE\",\"MOVIE\",\"MOVIE\",\"MOVIE\",\"MOVIE\",\"MOVIE\",\"MOVIE\",\"MOVIE\",\"MOVIE\",\"MOVIE\",\"MOVIE\",\"MOVIE\",\"MOVIE\",\"MOVIE\",\"MOVIE\",\"MOVIE\",\"MOVIE\",\"MOVIE\",\"MOVIE\",\"MOVIE\",\"MOVIE\",\"MOVIE\",\"MOVIE\",\"MOVIE\",\"MOVIE\",\"MOVIE\",\"MOVIE\",\"MOVIE\",\"MOVIE\",\"MOVIE\",\"MOVIE\",\"MOVIE\",\"MOVIE\",\"MOVIE\",\"MOVIE\",\"MOVIE\",\"MOVIE\",\"MOVIE\",\"MOVIE\",\"MOVIE\",\"MOVIE\",\"MOVIE\",\"MOVIE\",\"MOVIE\",\"MOVIE\",\"MOVIE\",\"MOVIE\",\"MOVIE\",\"MOVIE\",\"MOVIE\",\"MOVIE\",\"MOVIE\",\"MOVIE\",\"MOVIE\",\"MOVIE\",\"MOVIE\",\"MOVIE\",\"MOVIE\",\"MOVIE\",\"MOVIE\",\"MOVIE\",\"MOVIE\",\"MOVIE\",\"MOVIE\",\"MOVIE\",\"MOVIE\",\"MOVIE\",\"MOVIE\",\"MOVIE\",\"MOVIE\",\"MOVIE\",\"MOVIE\",\"MOVIE\",\"MOVIE\",\"MOVIE\",\"MOVIE\",\"MOVIE\",\"MOVIE\",\"MOVIE\",\"MOVIE\",\"MOVIE\",\"MOVIE\",\"MOVIE\",\"MOVIE\",\"MOVIE\",\"MOVIE\",\"MOVIE\",\"MOVIE\",\"MOVIE\",\"MOVIE\",\"MOVIE\",\"MOVIE\",\"MOVIE\",\"MOVIE\",\"MOVIE\",\"MOVIE\",\"MOVIE\",\"MOVIE\",\"MOVIE\",\"MOVIE\",\"MOVIE\",\"MOVIE\",\"MOVIE\",\"MOVIE\",\"MOVIE\",\"MOVIE\",\"MOVIE\",\"MOVIE\",\"MOVIE\",\"MOVIE\",\"MOVIE\",\"MOVIE\",\"MOVIE\",\"MOVIE\",\"MOVIE\",\"MOVIE\",\"MOVIE\",\"MOVIE\",\"MOVIE\",\"MOVIE\",\"MOVIE\",\"MOVIE\",\"MOVIE\",\"MOVIE\",\"MOVIE\",\"MOVIE\",\"MOVIE\",\"MOVIE\",\"MOVIE\",\"MOVIE\",\"MOVIE\",\"MOVIE\",\"MOVIE\",\"MOVIE\",\"MOVIE\",\"MOVIE\",\"MOVIE\",\"MOVIE\",\"MOVIE\",\"MOVIE\",\"MOVIE\",\"MOVIE\",\"MOVIE\",\"MOVIE\",\"MOVIE\",\"MOVIE\",\"MOVIE\",\"MOVIE\",\"MOVIE\",\"MOVIE\",\"MOVIE\",\"MOVIE\",\"MOVIE\",\"MOVIE\",\"MOVIE\",\"MOVIE\",\"MOVIE\",\"MOVIE\",\"MOVIE\",\"MOVIE\",\"MOVIE\",\"MOVIE\",\"MOVIE\",\"MOVIE\",\"MOVIE\",\"MOVIE\",\"MOVIE\",\"MOVIE\",\"MOVIE\",\"MOVIE\",\"MOVIE\",\"MOVIE\",\"MOVIE\",\"MOVIE\",\"MOVIE\",\"MOVIE\",\"MOVIE\",\"MOVIE\",\"MOVIE\",\"MOVIE\",\"MOVIE\",\"MOVIE\",\"MOVIE\",\"MOVIE\",\"MOVIE\",\"MOVIE\",\"MOVIE\",\"MOVIE\",\"MOVIE\",\"MOVIE\",\"MOVIE\",\"MOVIE\",\"MOVIE\",\"MOVIE\",\"MOVIE\",\"MOVIE\",\"MOVIE\",\"MOVIE\",\"MOVIE\",\"MOVIE\",\"MOVIE\",\"MOVIE\",\"MOVIE\",\"MOVIE\",\"MOVIE\",\"MOVIE\",\"MOVIE\",\"MOVIE\",\"MOVIE\",\"MOVIE\",\"MOVIE\",\"MOVIE\",\"MOVIE\",\"MOVIE\",\"MOVIE\",\"MOVIE\",\"MOVIE\",\"MOVIE\",\"MOVIE\",\"MOVIE\",\"MOVIE\",\"MOVIE\",\"MOVIE\",\"MOVIE\",\"MOVIE\",\"MOVIE\",\"MOVIE\",\"MOVIE\",\"MOVIE\",\"MOVIE\",\"MOVIE\",\"MOVIE\",\"MOVIE\",\"MOVIE\",\"MOVIE\",\"MOVIE\",\"MOVIE\",\"MOVIE\",\"MOVIE\",\"MOVIE\",\"MOVIE\",\"MOVIE\",\"MOVIE\",\"MOVIE\",\"MOVIE\",\"MOVIE\",\"MOVIE\",\"MOVIE\",\"MOVIE\",\"MOVIE\",\"MOVIE\",\"MOVIE\",\"MOVIE\",\"MOVIE\",\"MOVIE\",\"MOVIE\",\"MOVIE\",\"MOVIE\",\"MOVIE\",\"MOVIE\",\"MOVIE\",\"MOVIE\",\"MOVIE\",\"MOVIE\",\"MOVIE\",\"MOVIE\",\"MOVIE\",\"MOVIE\",\"MOVIE\",\"MOVIE\",\"MOVIE\",\"MOVIE\",\"MOVIE\",\"MOVIE\",\"MOVIE\",\"MOVIE\",\"MOVIE\",\"MOVIE\",\"MOVIE\",\"MOVIE\",\"MOVIE\",\"MOVIE\",\"MOVIE\",\"MOVIE\",\"MOVIE\",\"MOVIE\",\"MOVIE\",\"MOVIE\",\"MOVIE\",\"MOVIE\",\"MOVIE\",\"MOVIE\",\"MOVIE\",\"MOVIE\",\"MOVIE\",\"MOVIE\",\"MOVIE\",\"MOVIE\",\"MOVIE\",\"MOVIE\",\"MOVIE\",\"MOVIE\",\"MOVIE\",\"MOVIE\",\"MOVIE\",\"MOVIE\",\"MOVIE\",\"MOVIE\",\"MOVIE\",\"MOVIE\",\"MOVIE\",\"MOVIE\",\"MOVIE\",\"MOVIE\",\"MOVIE\",\"MOVIE\",\"MOVIE\",\"MOVIE\",\"MOVIE\",\"MOVIE\",\"MOVIE\",\"MOVIE\",\"MOVIE\",\"MOVIE\",\"MOVIE\",\"MOVIE\",\"MOVIE\",\"MOVIE\",\"MOVIE\",\"MOVIE\",\"MOVIE\",\"MOVIE\",\"MOVIE\",\"MOVIE\",\"MOVIE\",\"MOVIE\",\"MOVIE\",\"MOVIE\",\"MOVIE\",\"MOVIE\",\"MOVIE\",\"MOVIE\",\"MOVIE\",\"MOVIE\",\"MOVIE\",\"MOVIE\",\"MOVIE\",\"MOVIE\",\"MOVIE\",\"MOVIE\",\"MOVIE\",\"MOVIE\",\"MOVIE\",\"MOVIE\",\"MOVIE\",\"MOVIE\",\"MOVIE\",\"MOVIE\",\"MOVIE\",\"MOVIE\",\"MOVIE\",\"MOVIE\",\"MOVIE\",\"MOVIE\",\"MOVIE\",\"MOVIE\",\"MOVIE\",\"MOVIE\",\"MOVIE\",\"MOVIE\",\"MOVIE\",\"MOVIE\",\"MOVIE\",\"MOVIE\",\"MOVIE\",\"MOVIE\",\"MOVIE\",\"MOVIE\",\"MOVIE\",\"MOVIE\",\"MOVIE\",\"MOVIE\",\"MOVIE\",\"MOVIE\",\"MOVIE\",\"MOVIE\",\"MOVIE\",\"MOVIE\",\"MOVIE\",\"MOVIE\",\"MOVIE\",\"MOVIE\",\"MOVIE\",\"MOVIE\",\"MOVIE\",\"MOVIE\",\"MOVIE\",\"MOVIE\",\"MOVIE\",\"MOVIE\",\"MOVIE\",\"MOVIE\",\"MOVIE\",\"MOVIE\",\"MOVIE\",\"MOVIE\",\"MOVIE\",\"MOVIE\",\"MOVIE\",\"MOVIE\",\"MOVIE\",\"MOVIE\",\"MOVIE\",\"MOVIE\",\"MOVIE\",\"MOVIE\",\"MOVIE\",\"MOVIE\",\"MOVIE\",\"MOVIE\",\"MOVIE\",\"MOVIE\",\"MOVIE\",\"MOVIE\",\"MOVIE\",\"MOVIE\",\"MOVIE\",\"MOVIE\",\"MOVIE\",\"MOVIE\",\"MOVIE\",\"MOVIE\",\"MOVIE\",\"MOVIE\",\"MOVIE\",\"MOVIE\",\"MOVIE\",\"MOVIE\",\"MOVIE\",\"MOVIE\",\"MOVIE\",\"MOVIE\",\"MOVIE\",\"MOVIE\",\"MOVIE\",\"MOVIE\",\"MOVIE\",\"MOVIE\",\"MOVIE\",\"MOVIE\",\"MOVIE\",\"MOVIE\",\"MOVIE\",\"MOVIE\",\"MOVIE\",\"MOVIE\",\"MOVIE\",\"MOVIE\",\"MOVIE\",\"MOVIE\",\"MOVIE\",\"MOVIE\",\"MOVIE\",\"MOVIE\",\"MOVIE\",\"MOVIE\",\"MOVIE\",\"MOVIE\",\"MOVIE\",\"MOVIE\",\"MOVIE\",\"MOVIE\",\"MOVIE\",\"MOVIE\",\"MOVIE\",\"MOVIE\",\"MOVIE\",\"MOVIE\",\"MOVIE\",\"MOVIE\",\"MOVIE\",\"MOVIE\",\"MOVIE\",\"MOVIE\",\"MOVIE\",\"MOVIE\",\"MOVIE\",\"MOVIE\",\"MOVIE\",\"MOVIE\",\"MOVIE\",\"MOVIE\",\"MOVIE\",\"MOVIE\",\"MOVIE\",\"MOVIE\",\"MOVIE\",\"MOVIE\",\"MOVIE\",\"MOVIE\",\"MOVIE\",\"MOVIE\",\"MOVIE\",\"MOVIE\",\"MOVIE\",\"MOVIE\",\"MOVIE\",\"MOVIE\",\"MOVIE\",\"MOVIE\",\"MOVIE\",\"MOVIE\",\"MOVIE\",\"MOVIE\",\"MOVIE\",\"MOVIE\",\"MOVIE\",\"MOVIE\",\"MOVIE\",\"MOVIE\",\"MOVIE\",\"MOVIE\",\"MOVIE\",\"MOVIE\",\"MOVIE\",\"MOVIE\",\"MOVIE\",\"MOVIE\",\"MOVIE\",\"MOVIE\",\"MOVIE\",\"MOVIE\",\"MOVIE\",\"MOVIE\",\"MOVIE\",\"MOVIE\",\"MOVIE\",\"MOVIE\",\"MOVIE\",\"MOVIE\",\"MOVIE\",\"MOVIE\",\"MOVIE\",\"MOVIE\",\"MOVIE\",\"MOVIE\",\"MOVIE\",\"MOVIE\",\"MOVIE\",\"MOVIE\",\"MOVIE\",\"MOVIE\",\"MOVIE\",\"MOVIE\",\"MOVIE\",\"MOVIE\",\"MOVIE\",\"MOVIE\",\"MOVIE\",\"MOVIE\",\"MOVIE\",\"MOVIE\",\"MOVIE\",\"MOVIE\",\"MOVIE\",\"MOVIE\",\"MOVIE\",\"MOVIE\",\"MOVIE\",\"MOVIE\",\"MOVIE\",\"MOVIE\",\"MOVIE\",\"MOVIE\",\"MOVIE\",\"MOVIE\",\"MOVIE\",\"MOVIE\",\"MOVIE\",\"MOVIE\",\"MOVIE\",\"MOVIE\",\"MOVIE\",\"MOVIE\",\"MOVIE\",\"MOVIE\",\"MOVIE\",\"MOVIE\",\"MOVIE\",\"MOVIE\",\"MOVIE\",\"MOVIE\",\"MOVIE\",\"MOVIE\",\"MOVIE\",\"MOVIE\",\"MOVIE\",\"MOVIE\",\"MOVIE\",\"MOVIE\",\"MOVIE\",\"MOVIE\",\"MOVIE\",\"MOVIE\",\"MOVIE\",\"MOVIE\",\"MOVIE\",\"MOVIE\",\"MOVIE\",\"MOVIE\",\"MOVIE\",\"MOVIE\",\"MOVIE\",\"MOVIE\",\"MOVIE\",\"MOVIE\",\"MOVIE\",\"MOVIE\",\"MOVIE\",\"MOVIE\",\"MOVIE\",\"MOVIE\",\"MOVIE\",\"MOVIE\",\"MOVIE\",\"MOVIE\",\"MOVIE\",\"MOVIE\",\"MOVIE\",\"MOVIE\",\"MOVIE\",\"MOVIE\",\"MOVIE\",\"MOVIE\",\"MOVIE\",\"MOVIE\",\"MOVIE\",\"MOVIE\",\"MOVIE\",\"MOVIE\",\"MOVIE\",\"MOVIE\",\"MOVIE\",\"MOVIE\",\"MOVIE\",\"MOVIE\",\"MOVIE\",\"MOVIE\",\"MOVIE\",\"MOVIE\",\"MOVIE\",\"MOVIE\",\"MOVIE\",\"MOVIE\",\"MOVIE\",\"MOVIE\",\"MOVIE\",\"MOVIE\",\"MOVIE\",\"MOVIE\",\"MOVIE\",\"MOVIE\",\"MOVIE\",\"MOVIE\",\"MOVIE\",\"MOVIE\",\"MOVIE\",\"MOVIE\",\"MOVIE\",\"MOVIE\",\"MOVIE\",\"MOVIE\",\"MOVIE\",\"MOVIE\",\"MOVIE\",\"MOVIE\",\"MOVIE\",\"MOVIE\",\"MOVIE\",\"MOVIE\",\"MOVIE\",\"MOVIE\",\"MOVIE\",\"MOVIE\",\"MOVIE\",\"MOVIE\",\"MOVIE\",\"MOVIE\",\"MOVIE\",\"MOVIE\",\"MOVIE\",\"MOVIE\",\"MOVIE\",\"MOVIE\",\"MOVIE\",\"MOVIE\",\"MOVIE\",\"MOVIE\",\"MOVIE\",\"MOVIE\",\"MOVIE\",\"MOVIE\",\"MOVIE\",\"MOVIE\",\"MOVIE\",\"MOVIE\",\"MOVIE\",\"MOVIE\",\"MOVIE\",\"MOVIE\",\"MOVIE\",\"MOVIE\",\"MOVIE\",\"MOVIE\",\"MOVIE\",\"MOVIE\",\"MOVIE\",\"MOVIE\",\"MOVIE\",\"MOVIE\",\"MOVIE\",\"MOVIE\",\"MOVIE\",\"MOVIE\",\"MOVIE\",\"MOVIE\",\"MOVIE\",\"MOVIE\",\"MOVIE\",\"MOVIE\",\"MOVIE\",\"MOVIE\",\"MOVIE\",\"MOVIE\",\"MOVIE\",\"MOVIE\",\"MOVIE\",\"MOVIE\",\"MOVIE\",\"MOVIE\",\"MOVIE\",\"MOVIE\",\"MOVIE\",\"MOVIE\",\"MOVIE\",\"MOVIE\",\"MOVIE\",\"MOVIE\",\"MOVIE\",\"MOVIE\",\"MOVIE\",\"MOVIE\",\"MOVIE\",\"MOVIE\",\"MOVIE\",\"MOVIE\",\"MOVIE\",\"MOVIE\",\"MOVIE\",\"MOVIE\",\"MOVIE\",\"MOVIE\",\"MOVIE\",\"MOVIE\",\"MOVIE\",\"MOVIE\",\"MOVIE\",\"MOVIE\",\"MOVIE\",\"MOVIE\",\"MOVIE\",\"MOVIE\",\"MOVIE\",\"MOVIE\",\"MOVIE\",\"MOVIE\",\"MOVIE\",\"MOVIE\",\"MOVIE\",\"MOVIE\",\"MOVIE\",\"MOVIE\",\"MOVIE\",\"MOVIE\",\"MOVIE\",\"MOVIE\",\"MOVIE\",\"MOVIE\",\"MOVIE\",\"MOVIE\",\"MOVIE\",\"MOVIE\",\"MOVIE\",\"MOVIE\",\"MOVIE\",\"MOVIE\",\"MOVIE\",\"MOVIE\",\"MOVIE\",\"MOVIE\",\"MOVIE\",\"MOVIE\",\"MOVIE\",\"MOVIE\",\"MOVIE\",\"MOVIE\",\"MOVIE\",\"MOVIE\",\"MOVIE\",\"MOVIE\",\"MOVIE\",\"MOVIE\",\"MOVIE\",\"MOVIE\",\"MOVIE\",\"MOVIE\",\"MOVIE\",\"MOVIE\",\"MOVIE\",\"MOVIE\",\"MOVIE\",\"MOVIE\",\"MOVIE\",\"MOVIE\",\"MOVIE\",\"MOVIE\",\"MOVIE\",\"MOVIE\",\"MOVIE\",\"MOVIE\",\"MOVIE\",\"MOVIE\",\"MOVIE\",\"MOVIE\",\"MOVIE\",\"MOVIE\",\"MOVIE\",\"MOVIE\",\"MOVIE\",\"MOVIE\",\"MOVIE\",\"MOVIE\",\"MOVIE\",\"MOVIE\",\"MOVIE\",\"MOVIE\",\"MOVIE\",\"MOVIE\",\"MOVIE\",\"MOVIE\",\"MOVIE\",\"MOVIE\",\"MOVIE\",\"MOVIE\",\"MOVIE\",\"MOVIE\",\"MOVIE\",\"MOVIE\",\"MOVIE\",\"MOVIE\",\"MOVIE\",\"MOVIE\",\"MOVIE\",\"MOVIE\",\"MOVIE\",\"MOVIE\",\"MOVIE\",\"MOVIE\",\"MOVIE\",\"MOVIE\",\"MOVIE\",\"MOVIE\",\"MOVIE\",\"MOVIE\",\"MOVIE\",\"MOVIE\",\"MOVIE\",\"MOVIE\",\"MOVIE\",\"MOVIE\",\"MOVIE\",\"MOVIE\",\"MOVIE\",\"MOVIE\",\"MOVIE\",\"MOVIE\",\"MOVIE\",\"MOVIE\",\"MOVIE\",\"MOVIE\",\"MOVIE\",\"MOVIE\",\"MOVIE\",\"MOVIE\",\"MOVIE\",\"MOVIE\",\"MOVIE\",\"MOVIE\",\"MOVIE\",\"MOVIE\",\"MOVIE\",\"MOVIE\",\"MOVIE\",\"MOVIE\",\"MOVIE\",\"MOVIE\",\"MOVIE\",\"MOVIE\",\"MOVIE\",\"MOVIE\",\"MOVIE\",\"MOVIE\",\"MOVIE\",\"MOVIE\",\"MOVIE\",\"MOVIE\",\"MOVIE\",\"MOVIE\",\"MOVIE\",\"MOVIE\",\"MOVIE\",\"MOVIE\",\"MOVIE\",\"MOVIE\",\"MOVIE\",\"MOVIE\",\"MOVIE\",\"MOVIE\",\"MOVIE\",\"MOVIE\",\"MOVIE\",\"MOVIE\",\"MOVIE\",\"MOVIE\",\"MOVIE\",\"MOVIE\",\"MOVIE\",\"MOVIE\",\"MOVIE\",\"MOVIE\",\"MOVIE\",\"MOVIE\",\"MOVIE\",\"MOVIE\",\"MOVIE\",\"MOVIE\",\"MOVIE\",\"MOVIE\",\"MOVIE\",\"MOVIE\",\"MOVIE\",\"MOVIE\",\"MOVIE\",\"MOVIE\",\"MOVIE\",\"MOVIE\",\"MOVIE\",\"MOVIE\",\"MOVIE\",\"MOVIE\",\"MOVIE\",\"MOVIE\",\"MOVIE\",\"MOVIE\",\"MOVIE\",\"MOVIE\",\"MOVIE\",\"MOVIE\",\"MOVIE\",\"MOVIE\",\"MOVIE\",\"MOVIE\",\"MOVIE\",\"MOVIE\",\"MOVIE\",\"MOVIE\",\"MOVIE\",\"MOVIE\",\"MOVIE\",\"MOVIE\",\"MOVIE\",\"MOVIE\",\"MOVIE\",\"MOVIE\",\"MOVIE\",\"MOVIE\",\"MOVIE\",\"MOVIE\",\"MOVIE\",\"MOVIE\",\"MOVIE\",\"MOVIE\",\"MOVIE\",\"MOVIE\",\"MOVIE\",\"MOVIE\",\"MOVIE\",\"MOVIE\",\"MOVIE\",\"MOVIE\",\"MOVIE\",\"MOVIE\",\"MOVIE\",\"MOVIE\",\"MOVIE\",\"MOVIE\",\"MOVIE\",\"MOVIE\",\"MOVIE\",\"MOVIE\",\"MOVIE\",\"MOVIE\",\"MOVIE\",\"MOVIE\",\"MOVIE\",\"MOVIE\"],\"xaxis\":\"x\",\"yaxis\":\"y\",\"type\":\"histogram\"}],                        {\"template\":{\"data\":{\"histogram2dcontour\":[{\"type\":\"histogram2dcontour\",\"colorbar\":{\"outlinewidth\":0,\"ticks\":\"\"},\"colorscale\":[[0.0,\"#0d0887\"],[0.1111111111111111,\"#46039f\"],[0.2222222222222222,\"#7201a8\"],[0.3333333333333333,\"#9c179e\"],[0.4444444444444444,\"#bd3786\"],[0.5555555555555556,\"#d8576b\"],[0.6666666666666666,\"#ed7953\"],[0.7777777777777778,\"#fb9f3a\"],[0.8888888888888888,\"#fdca26\"],[1.0,\"#f0f921\"]]}],\"choropleth\":[{\"type\":\"choropleth\",\"colorbar\":{\"outlinewidth\":0,\"ticks\":\"\"}}],\"histogram2d\":[{\"type\":\"histogram2d\",\"colorbar\":{\"outlinewidth\":0,\"ticks\":\"\"},\"colorscale\":[[0.0,\"#0d0887\"],[0.1111111111111111,\"#46039f\"],[0.2222222222222222,\"#7201a8\"],[0.3333333333333333,\"#9c179e\"],[0.4444444444444444,\"#bd3786\"],[0.5555555555555556,\"#d8576b\"],[0.6666666666666666,\"#ed7953\"],[0.7777777777777778,\"#fb9f3a\"],[0.8888888888888888,\"#fdca26\"],[1.0,\"#f0f921\"]]}],\"heatmap\":[{\"type\":\"heatmap\",\"colorbar\":{\"outlinewidth\":0,\"ticks\":\"\"},\"colorscale\":[[0.0,\"#0d0887\"],[0.1111111111111111,\"#46039f\"],[0.2222222222222222,\"#7201a8\"],[0.3333333333333333,\"#9c179e\"],[0.4444444444444444,\"#bd3786\"],[0.5555555555555556,\"#d8576b\"],[0.6666666666666666,\"#ed7953\"],[0.7777777777777778,\"#fb9f3a\"],[0.8888888888888888,\"#fdca26\"],[1.0,\"#f0f921\"]]}],\"heatmapgl\":[{\"type\":\"heatmapgl\",\"colorbar\":{\"outlinewidth\":0,\"ticks\":\"\"},\"colorscale\":[[0.0,\"#0d0887\"],[0.1111111111111111,\"#46039f\"],[0.2222222222222222,\"#7201a8\"],[0.3333333333333333,\"#9c179e\"],[0.4444444444444444,\"#bd3786\"],[0.5555555555555556,\"#d8576b\"],[0.6666666666666666,\"#ed7953\"],[0.7777777777777778,\"#fb9f3a\"],[0.8888888888888888,\"#fdca26\"],[1.0,\"#f0f921\"]]}],\"contourcarpet\":[{\"type\":\"contourcarpet\",\"colorbar\":{\"outlinewidth\":0,\"ticks\":\"\"}}],\"contour\":[{\"type\":\"contour\",\"colorbar\":{\"outlinewidth\":0,\"ticks\":\"\"},\"colorscale\":[[0.0,\"#0d0887\"],[0.1111111111111111,\"#46039f\"],[0.2222222222222222,\"#7201a8\"],[0.3333333333333333,\"#9c179e\"],[0.4444444444444444,\"#bd3786\"],[0.5555555555555556,\"#d8576b\"],[0.6666666666666666,\"#ed7953\"],[0.7777777777777778,\"#fb9f3a\"],[0.8888888888888888,\"#fdca26\"],[1.0,\"#f0f921\"]]}],\"surface\":[{\"type\":\"surface\",\"colorbar\":{\"outlinewidth\":0,\"ticks\":\"\"},\"colorscale\":[[0.0,\"#0d0887\"],[0.1111111111111111,\"#46039f\"],[0.2222222222222222,\"#7201a8\"],[0.3333333333333333,\"#9c179e\"],[0.4444444444444444,\"#bd3786\"],[0.5555555555555556,\"#d8576b\"],[0.6666666666666666,\"#ed7953\"],[0.7777777777777778,\"#fb9f3a\"],[0.8888888888888888,\"#fdca26\"],[1.0,\"#f0f921\"]]}],\"mesh3d\":[{\"type\":\"mesh3d\",\"colorbar\":{\"outlinewidth\":0,\"ticks\":\"\"}}],\"scatter\":[{\"fillpattern\":{\"fillmode\":\"overlay\",\"size\":10,\"solidity\":0.2},\"type\":\"scatter\"}],\"parcoords\":[{\"type\":\"parcoords\",\"line\":{\"colorbar\":{\"outlinewidth\":0,\"ticks\":\"\"}}}],\"scatterpolargl\":[{\"type\":\"scatterpolargl\",\"marker\":{\"colorbar\":{\"outlinewidth\":0,\"ticks\":\"\"}}}],\"bar\":[{\"error_x\":{\"color\":\"#2a3f5f\"},\"error_y\":{\"color\":\"#2a3f5f\"},\"marker\":{\"line\":{\"color\":\"#E5ECF6\",\"width\":0.5},\"pattern\":{\"fillmode\":\"overlay\",\"size\":10,\"solidity\":0.2}},\"type\":\"bar\"}],\"scattergeo\":[{\"type\":\"scattergeo\",\"marker\":{\"colorbar\":{\"outlinewidth\":0,\"ticks\":\"\"}}}],\"scatterpolar\":[{\"type\":\"scatterpolar\",\"marker\":{\"colorbar\":{\"outlinewidth\":0,\"ticks\":\"\"}}}],\"histogram\":[{\"marker\":{\"pattern\":{\"fillmode\":\"overlay\",\"size\":10,\"solidity\":0.2}},\"type\":\"histogram\"}],\"scattergl\":[{\"type\":\"scattergl\",\"marker\":{\"colorbar\":{\"outlinewidth\":0,\"ticks\":\"\"}}}],\"scatter3d\":[{\"type\":\"scatter3d\",\"line\":{\"colorbar\":{\"outlinewidth\":0,\"ticks\":\"\"}},\"marker\":{\"colorbar\":{\"outlinewidth\":0,\"ticks\":\"\"}}}],\"scattermapbox\":[{\"type\":\"scattermapbox\",\"marker\":{\"colorbar\":{\"outlinewidth\":0,\"ticks\":\"\"}}}],\"scatterternary\":[{\"type\":\"scatterternary\",\"marker\":{\"colorbar\":{\"outlinewidth\":0,\"ticks\":\"\"}}}],\"scattercarpet\":[{\"type\":\"scattercarpet\",\"marker\":{\"colorbar\":{\"outlinewidth\":0,\"ticks\":\"\"}}}],\"carpet\":[{\"aaxis\":{\"endlinecolor\":\"#2a3f5f\",\"gridcolor\":\"white\",\"linecolor\":\"white\",\"minorgridcolor\":\"white\",\"startlinecolor\":\"#2a3f5f\"},\"baxis\":{\"endlinecolor\":\"#2a3f5f\",\"gridcolor\":\"white\",\"linecolor\":\"white\",\"minorgridcolor\":\"white\",\"startlinecolor\":\"#2a3f5f\"},\"type\":\"carpet\"}],\"table\":[{\"cells\":{\"fill\":{\"color\":\"#EBF0F8\"},\"line\":{\"color\":\"white\"}},\"header\":{\"fill\":{\"color\":\"#C8D4E3\"},\"line\":{\"color\":\"white\"}},\"type\":\"table\"}],\"barpolar\":[{\"marker\":{\"line\":{\"color\":\"#E5ECF6\",\"width\":0.5},\"pattern\":{\"fillmode\":\"overlay\",\"size\":10,\"solidity\":0.2}},\"type\":\"barpolar\"}],\"pie\":[{\"automargin\":true,\"type\":\"pie\"}]},\"layout\":{\"autotypenumbers\":\"strict\",\"colorway\":[\"#636efa\",\"#EF553B\",\"#00cc96\",\"#ab63fa\",\"#FFA15A\",\"#19d3f3\",\"#FF6692\",\"#B6E880\",\"#FF97FF\",\"#FECB52\"],\"font\":{\"color\":\"#2a3f5f\"},\"hovermode\":\"closest\",\"hoverlabel\":{\"align\":\"left\"},\"paper_bgcolor\":\"white\",\"plot_bgcolor\":\"#E5ECF6\",\"polar\":{\"bgcolor\":\"#E5ECF6\",\"angularaxis\":{\"gridcolor\":\"white\",\"linecolor\":\"white\",\"ticks\":\"\"},\"radialaxis\":{\"gridcolor\":\"white\",\"linecolor\":\"white\",\"ticks\":\"\"}},\"ternary\":{\"bgcolor\":\"#E5ECF6\",\"aaxis\":{\"gridcolor\":\"white\",\"linecolor\":\"white\",\"ticks\":\"\"},\"baxis\":{\"gridcolor\":\"white\",\"linecolor\":\"white\",\"ticks\":\"\"},\"caxis\":{\"gridcolor\":\"white\",\"linecolor\":\"white\",\"ticks\":\"\"}},\"coloraxis\":{\"colorbar\":{\"outlinewidth\":0,\"ticks\":\"\"}},\"colorscale\":{\"sequential\":[[0.0,\"#0d0887\"],[0.1111111111111111,\"#46039f\"],[0.2222222222222222,\"#7201a8\"],[0.3333333333333333,\"#9c179e\"],[0.4444444444444444,\"#bd3786\"],[0.5555555555555556,\"#d8576b\"],[0.6666666666666666,\"#ed7953\"],[0.7777777777777778,\"#fb9f3a\"],[0.8888888888888888,\"#fdca26\"],[1.0,\"#f0f921\"]],\"sequentialminus\":[[0.0,\"#0d0887\"],[0.1111111111111111,\"#46039f\"],[0.2222222222222222,\"#7201a8\"],[0.3333333333333333,\"#9c179e\"],[0.4444444444444444,\"#bd3786\"],[0.5555555555555556,\"#d8576b\"],[0.6666666666666666,\"#ed7953\"],[0.7777777777777778,\"#fb9f3a\"],[0.8888888888888888,\"#fdca26\"],[1.0,\"#f0f921\"]],\"diverging\":[[0,\"#8e0152\"],[0.1,\"#c51b7d\"],[0.2,\"#de77ae\"],[0.3,\"#f1b6da\"],[0.4,\"#fde0ef\"],[0.5,\"#f7f7f7\"],[0.6,\"#e6f5d0\"],[0.7,\"#b8e186\"],[0.8,\"#7fbc41\"],[0.9,\"#4d9221\"],[1,\"#276419\"]]},\"xaxis\":{\"gridcolor\":\"white\",\"linecolor\":\"white\",\"ticks\":\"\",\"title\":{\"standoff\":15},\"zerolinecolor\":\"white\",\"automargin\":true,\"zerolinewidth\":2},\"yaxis\":{\"gridcolor\":\"white\",\"linecolor\":\"white\",\"ticks\":\"\",\"title\":{\"standoff\":15},\"zerolinecolor\":\"white\",\"automargin\":true,\"zerolinewidth\":2},\"scene\":{\"xaxis\":{\"backgroundcolor\":\"#E5ECF6\",\"gridcolor\":\"white\",\"linecolor\":\"white\",\"showbackground\":true,\"ticks\":\"\",\"zerolinecolor\":\"white\",\"gridwidth\":2},\"yaxis\":{\"backgroundcolor\":\"#E5ECF6\",\"gridcolor\":\"white\",\"linecolor\":\"white\",\"showbackground\":true,\"ticks\":\"\",\"zerolinecolor\":\"white\",\"gridwidth\":2},\"zaxis\":{\"backgroundcolor\":\"#E5ECF6\",\"gridcolor\":\"white\",\"linecolor\":\"white\",\"showbackground\":true,\"ticks\":\"\",\"zerolinecolor\":\"white\",\"gridwidth\":2}},\"shapedefaults\":{\"line\":{\"color\":\"#2a3f5f\"}},\"annotationdefaults\":{\"arrowcolor\":\"#2a3f5f\",\"arrowhead\":0,\"arrowwidth\":1},\"geo\":{\"bgcolor\":\"white\",\"landcolor\":\"#E5ECF6\",\"subunitcolor\":\"white\",\"showland\":true,\"showlakes\":true,\"lakecolor\":\"white\"},\"title\":{\"x\":0.05},\"mapbox\":{\"style\":\"light\"}}},\"xaxis\":{\"anchor\":\"y\",\"domain\":[0.0,1.0],\"title\":{\"text\":\"Type\"},\"categoryorder\":\"array\",\"categoryarray\":[\"SHOW\",\"MOVIE\"]},\"yaxis\":{\"anchor\":\"x\",\"domain\":[0.0,1.0],\"title\":{\"text\":\"count\"}},\"legend\":{\"title\":{\"text\":\"Type\"},\"tracegroupgap\":0},\"margin\":{\"t\":60},\"barmode\":\"relative\"},                        {\"responsive\": true}                    ).then(function(){\n",
       "                            \n",
       "var gd = document.getElementById('1b16b413-2b8b-4b94-90f8-6f04e504c001');\n",
       "var x = new MutationObserver(function (mutations, observer) {{\n",
       "        var display = window.getComputedStyle(gd).display;\n",
       "        if (!display || display === 'none') {{\n",
       "            console.log([gd, 'removed!']);\n",
       "            Plotly.purge(gd);\n",
       "            observer.disconnect();\n",
       "        }}\n",
       "}});\n",
       "\n",
       "// Listen for the removal of the full notebook cells\n",
       "var notebookContainer = gd.closest('#notebook-container');\n",
       "if (notebookContainer) {{\n",
       "    x.observe(notebookContainer, {childList: true});\n",
       "}}\n",
       "\n",
       "// Listen for the clearing of the current output cell\n",
       "var outputEl = gd.closest('.output');\n",
       "if (outputEl) {{\n",
       "    x.observe(outputEl, {childList: true});\n",
       "}}\n",
       "\n",
       "                        })                };                });            </script>        </div>"
      ]
     },
     "metadata": {},
     "output_type": "display_data"
    }
   ],
   "source": [
    "px.histogram(df_netflix, x=\"type\", color=\"type\", labels={\"type\": \"Type\"})"
   ]
  },
  {
   "cell_type": "code",
   "execution_count": 5,
   "id": "af3765f7",
   "metadata": {
    "_cell_guid": "fdea5bf6-f045-40c7-856d-716042003d1f",
    "_uuid": "7db7d5a5-0cbc-4643-ae82-660f09460f81",
    "collapsed": false,
    "execution": {
     "iopub.execute_input": "2023-11-27T14:28:30.298023Z",
     "iopub.status.busy": "2023-11-27T14:28:30.297355Z",
     "iopub.status.idle": "2023-11-27T14:28:30.376100Z",
     "shell.execute_reply": "2023-11-27T14:28:30.374778Z"
    },
    "jupyter": {
     "outputs_hidden": false
    },
    "papermill": {
     "duration": 0.092369,
     "end_time": "2023-11-27T14:28:30.378896",
     "exception": false,
     "start_time": "2023-11-27T14:28:30.286527",
     "status": "completed"
    },
    "tags": []
   },
   "outputs": [
    {
     "data": {
      "text/html": [
       "<div>                            <div id=\"4e351fa9-9e7c-4cb6-adb7-6febf422d2eb\" class=\"plotly-graph-div\" style=\"height:525px; width:100%;\"></div>            <script type=\"text/javascript\">                require([\"plotly\"], function(Plotly) {                    window.PLOTLYENV=window.PLOTLYENV || {};                                    if (document.getElementById(\"4e351fa9-9e7c-4cb6-adb7-6febf422d2eb\")) {                    Plotly.newPlot(                        \"4e351fa9-9e7c-4cb6-adb7-6febf422d2eb\",                        [{\"mode\":\"lines+markers\",\"name\":\"Movies + Shows\",\"x\":[1945,1953,1954,1956,1958,1959,1960,1961,1962,1963,1964,1966,1967,1968,1969,1971,1972,1973,1974,1975,1976,1977,1978,1979,1980,1981,1982,1983,1984,1985,1986,1987,1988,1989,1990,1991,1992,1993,1994,1995,1996,1997,1998,1999,2000,2001,2002,2003,2004,2005,2006,2007,2008,2009,2010,2011,2012,2013,2014,2015,2016,2017,2018,2019,2020,2021,2022],\"y\":[0,1,2,1,1,1,1,1,1,1,1,2,1,1,2,2,2,2,1,2,3,1,1,7,4,3,8,3,5,1,6,6,7,9,7,10,3,21,13,12,8,15,25,12,13,23,20,31,29,36,48,49,60,60,71,97,105,134,151,226,351,555,733,749,657,687,182],\"type\":\"scatter\"},{\"mode\":\"lines+markers\",\"name\":\"Movies\",\"x\":[1953,1954,1956,1958,1959,1960,1961,1962,1963,1964,1966,1967,1968,1969,1971,1972,1973,1974,1975,1976,1977,1978,1979,1980,1981,1982,1983,1984,1985,1986,1987,1988,1989,1990,1991,1992,1993,1994,1995,1996,1997,1998,1999,2000,2001,2002,2003,2004,2005,2006,2007,2008,2009,2010,2011,2012,2013,2014,2015,2016,2017,2018,2019,2020,2021,2022],\"y\":[1,2,1,1,1,1,1,1,1,1,2,1,1,1,2,1,2,1,2,3,1,1,7,4,2,7,2,4,1,6,5,6,6,7,10,2,17,10,10,7,13,20,9,8,17,13,22,25,26,36,39,47,43,51,68,74,97,108,134,213,378,447,469,407,411,90],\"type\":\"scatter\"},{\"mode\":\"lines+markers\",\"name\":\"Shows\",\"x\":[1945,1969,1972,1981,1982,1983,1984,1987,1988,1989,1991,1992,1993,1994,1995,1996,1997,1998,1999,2000,2001,2002,2003,2004,2005,2006,2007,2008,2009,2010,2011,2012,2013,2014,2015,2016,2017,2018,2019,2020,2021,2022],\"y\":[0,1,1,1,1,1,1,1,1,3,0,1,4,3,2,1,2,5,3,5,6,7,9,4,10,12,10,13,17,20,29,31,37,43,92,138,177,286,280,250,276,92],\"type\":\"scatter\"}],                        {\"template\":{\"data\":{\"histogram2dcontour\":[{\"type\":\"histogram2dcontour\",\"colorbar\":{\"outlinewidth\":0,\"ticks\":\"\"},\"colorscale\":[[0.0,\"#0d0887\"],[0.1111111111111111,\"#46039f\"],[0.2222222222222222,\"#7201a8\"],[0.3333333333333333,\"#9c179e\"],[0.4444444444444444,\"#bd3786\"],[0.5555555555555556,\"#d8576b\"],[0.6666666666666666,\"#ed7953\"],[0.7777777777777778,\"#fb9f3a\"],[0.8888888888888888,\"#fdca26\"],[1.0,\"#f0f921\"]]}],\"choropleth\":[{\"type\":\"choropleth\",\"colorbar\":{\"outlinewidth\":0,\"ticks\":\"\"}}],\"histogram2d\":[{\"type\":\"histogram2d\",\"colorbar\":{\"outlinewidth\":0,\"ticks\":\"\"},\"colorscale\":[[0.0,\"#0d0887\"],[0.1111111111111111,\"#46039f\"],[0.2222222222222222,\"#7201a8\"],[0.3333333333333333,\"#9c179e\"],[0.4444444444444444,\"#bd3786\"],[0.5555555555555556,\"#d8576b\"],[0.6666666666666666,\"#ed7953\"],[0.7777777777777778,\"#fb9f3a\"],[0.8888888888888888,\"#fdca26\"],[1.0,\"#f0f921\"]]}],\"heatmap\":[{\"type\":\"heatmap\",\"colorbar\":{\"outlinewidth\":0,\"ticks\":\"\"},\"colorscale\":[[0.0,\"#0d0887\"],[0.1111111111111111,\"#46039f\"],[0.2222222222222222,\"#7201a8\"],[0.3333333333333333,\"#9c179e\"],[0.4444444444444444,\"#bd3786\"],[0.5555555555555556,\"#d8576b\"],[0.6666666666666666,\"#ed7953\"],[0.7777777777777778,\"#fb9f3a\"],[0.8888888888888888,\"#fdca26\"],[1.0,\"#f0f921\"]]}],\"heatmapgl\":[{\"type\":\"heatmapgl\",\"colorbar\":{\"outlinewidth\":0,\"ticks\":\"\"},\"colorscale\":[[0.0,\"#0d0887\"],[0.1111111111111111,\"#46039f\"],[0.2222222222222222,\"#7201a8\"],[0.3333333333333333,\"#9c179e\"],[0.4444444444444444,\"#bd3786\"],[0.5555555555555556,\"#d8576b\"],[0.6666666666666666,\"#ed7953\"],[0.7777777777777778,\"#fb9f3a\"],[0.8888888888888888,\"#fdca26\"],[1.0,\"#f0f921\"]]}],\"contourcarpet\":[{\"type\":\"contourcarpet\",\"colorbar\":{\"outlinewidth\":0,\"ticks\":\"\"}}],\"contour\":[{\"type\":\"contour\",\"colorbar\":{\"outlinewidth\":0,\"ticks\":\"\"},\"colorscale\":[[0.0,\"#0d0887\"],[0.1111111111111111,\"#46039f\"],[0.2222222222222222,\"#7201a8\"],[0.3333333333333333,\"#9c179e\"],[0.4444444444444444,\"#bd3786\"],[0.5555555555555556,\"#d8576b\"],[0.6666666666666666,\"#ed7953\"],[0.7777777777777778,\"#fb9f3a\"],[0.8888888888888888,\"#fdca26\"],[1.0,\"#f0f921\"]]}],\"surface\":[{\"type\":\"surface\",\"colorbar\":{\"outlinewidth\":0,\"ticks\":\"\"},\"colorscale\":[[0.0,\"#0d0887\"],[0.1111111111111111,\"#46039f\"],[0.2222222222222222,\"#7201a8\"],[0.3333333333333333,\"#9c179e\"],[0.4444444444444444,\"#bd3786\"],[0.5555555555555556,\"#d8576b\"],[0.6666666666666666,\"#ed7953\"],[0.7777777777777778,\"#fb9f3a\"],[0.8888888888888888,\"#fdca26\"],[1.0,\"#f0f921\"]]}],\"mesh3d\":[{\"type\":\"mesh3d\",\"colorbar\":{\"outlinewidth\":0,\"ticks\":\"\"}}],\"scatter\":[{\"fillpattern\":{\"fillmode\":\"overlay\",\"size\":10,\"solidity\":0.2},\"type\":\"scatter\"}],\"parcoords\":[{\"type\":\"parcoords\",\"line\":{\"colorbar\":{\"outlinewidth\":0,\"ticks\":\"\"}}}],\"scatterpolargl\":[{\"type\":\"scatterpolargl\",\"marker\":{\"colorbar\":{\"outlinewidth\":0,\"ticks\":\"\"}}}],\"bar\":[{\"error_x\":{\"color\":\"#2a3f5f\"},\"error_y\":{\"color\":\"#2a3f5f\"},\"marker\":{\"line\":{\"color\":\"#E5ECF6\",\"width\":0.5},\"pattern\":{\"fillmode\":\"overlay\",\"size\":10,\"solidity\":0.2}},\"type\":\"bar\"}],\"scattergeo\":[{\"type\":\"scattergeo\",\"marker\":{\"colorbar\":{\"outlinewidth\":0,\"ticks\":\"\"}}}],\"scatterpolar\":[{\"type\":\"scatterpolar\",\"marker\":{\"colorbar\":{\"outlinewidth\":0,\"ticks\":\"\"}}}],\"histogram\":[{\"marker\":{\"pattern\":{\"fillmode\":\"overlay\",\"size\":10,\"solidity\":0.2}},\"type\":\"histogram\"}],\"scattergl\":[{\"type\":\"scattergl\",\"marker\":{\"colorbar\":{\"outlinewidth\":0,\"ticks\":\"\"}}}],\"scatter3d\":[{\"type\":\"scatter3d\",\"line\":{\"colorbar\":{\"outlinewidth\":0,\"ticks\":\"\"}},\"marker\":{\"colorbar\":{\"outlinewidth\":0,\"ticks\":\"\"}}}],\"scattermapbox\":[{\"type\":\"scattermapbox\",\"marker\":{\"colorbar\":{\"outlinewidth\":0,\"ticks\":\"\"}}}],\"scatterternary\":[{\"type\":\"scatterternary\",\"marker\":{\"colorbar\":{\"outlinewidth\":0,\"ticks\":\"\"}}}],\"scattercarpet\":[{\"type\":\"scattercarpet\",\"marker\":{\"colorbar\":{\"outlinewidth\":0,\"ticks\":\"\"}}}],\"carpet\":[{\"aaxis\":{\"endlinecolor\":\"#2a3f5f\",\"gridcolor\":\"white\",\"linecolor\":\"white\",\"minorgridcolor\":\"white\",\"startlinecolor\":\"#2a3f5f\"},\"baxis\":{\"endlinecolor\":\"#2a3f5f\",\"gridcolor\":\"white\",\"linecolor\":\"white\",\"minorgridcolor\":\"white\",\"startlinecolor\":\"#2a3f5f\"},\"type\":\"carpet\"}],\"table\":[{\"cells\":{\"fill\":{\"color\":\"#EBF0F8\"},\"line\":{\"color\":\"white\"}},\"header\":{\"fill\":{\"color\":\"#C8D4E3\"},\"line\":{\"color\":\"white\"}},\"type\":\"table\"}],\"barpolar\":[{\"marker\":{\"line\":{\"color\":\"#E5ECF6\",\"width\":0.5},\"pattern\":{\"fillmode\":\"overlay\",\"size\":10,\"solidity\":0.2}},\"type\":\"barpolar\"}],\"pie\":[{\"automargin\":true,\"type\":\"pie\"}]},\"layout\":{\"autotypenumbers\":\"strict\",\"colorway\":[\"#636efa\",\"#EF553B\",\"#00cc96\",\"#ab63fa\",\"#FFA15A\",\"#19d3f3\",\"#FF6692\",\"#B6E880\",\"#FF97FF\",\"#FECB52\"],\"font\":{\"color\":\"#2a3f5f\"},\"hovermode\":\"closest\",\"hoverlabel\":{\"align\":\"left\"},\"paper_bgcolor\":\"white\",\"plot_bgcolor\":\"#E5ECF6\",\"polar\":{\"bgcolor\":\"#E5ECF6\",\"angularaxis\":{\"gridcolor\":\"white\",\"linecolor\":\"white\",\"ticks\":\"\"},\"radialaxis\":{\"gridcolor\":\"white\",\"linecolor\":\"white\",\"ticks\":\"\"}},\"ternary\":{\"bgcolor\":\"#E5ECF6\",\"aaxis\":{\"gridcolor\":\"white\",\"linecolor\":\"white\",\"ticks\":\"\"},\"baxis\":{\"gridcolor\":\"white\",\"linecolor\":\"white\",\"ticks\":\"\"},\"caxis\":{\"gridcolor\":\"white\",\"linecolor\":\"white\",\"ticks\":\"\"}},\"coloraxis\":{\"colorbar\":{\"outlinewidth\":0,\"ticks\":\"\"}},\"colorscale\":{\"sequential\":[[0.0,\"#0d0887\"],[0.1111111111111111,\"#46039f\"],[0.2222222222222222,\"#7201a8\"],[0.3333333333333333,\"#9c179e\"],[0.4444444444444444,\"#bd3786\"],[0.5555555555555556,\"#d8576b\"],[0.6666666666666666,\"#ed7953\"],[0.7777777777777778,\"#fb9f3a\"],[0.8888888888888888,\"#fdca26\"],[1.0,\"#f0f921\"]],\"sequentialminus\":[[0.0,\"#0d0887\"],[0.1111111111111111,\"#46039f\"],[0.2222222222222222,\"#7201a8\"],[0.3333333333333333,\"#9c179e\"],[0.4444444444444444,\"#bd3786\"],[0.5555555555555556,\"#d8576b\"],[0.6666666666666666,\"#ed7953\"],[0.7777777777777778,\"#fb9f3a\"],[0.8888888888888888,\"#fdca26\"],[1.0,\"#f0f921\"]],\"diverging\":[[0,\"#8e0152\"],[0.1,\"#c51b7d\"],[0.2,\"#de77ae\"],[0.3,\"#f1b6da\"],[0.4,\"#fde0ef\"],[0.5,\"#f7f7f7\"],[0.6,\"#e6f5d0\"],[0.7,\"#b8e186\"],[0.8,\"#7fbc41\"],[0.9,\"#4d9221\"],[1,\"#276419\"]]},\"xaxis\":{\"gridcolor\":\"white\",\"linecolor\":\"white\",\"ticks\":\"\",\"title\":{\"standoff\":15},\"zerolinecolor\":\"white\",\"automargin\":true,\"zerolinewidth\":2},\"yaxis\":{\"gridcolor\":\"white\",\"linecolor\":\"white\",\"ticks\":\"\",\"title\":{\"standoff\":15},\"zerolinecolor\":\"white\",\"automargin\":true,\"zerolinewidth\":2},\"scene\":{\"xaxis\":{\"backgroundcolor\":\"#E5ECF6\",\"gridcolor\":\"white\",\"linecolor\":\"white\",\"showbackground\":true,\"ticks\":\"\",\"zerolinecolor\":\"white\",\"gridwidth\":2},\"yaxis\":{\"backgroundcolor\":\"#E5ECF6\",\"gridcolor\":\"white\",\"linecolor\":\"white\",\"showbackground\":true,\"ticks\":\"\",\"zerolinecolor\":\"white\",\"gridwidth\":2},\"zaxis\":{\"backgroundcolor\":\"#E5ECF6\",\"gridcolor\":\"white\",\"linecolor\":\"white\",\"showbackground\":true,\"ticks\":\"\",\"zerolinecolor\":\"white\",\"gridwidth\":2}},\"shapedefaults\":{\"line\":{\"color\":\"#2a3f5f\"}},\"annotationdefaults\":{\"arrowcolor\":\"#2a3f5f\",\"arrowhead\":0,\"arrowwidth\":1},\"geo\":{\"bgcolor\":\"white\",\"landcolor\":\"#E5ECF6\",\"subunitcolor\":\"white\",\"showland\":true,\"showlakes\":true,\"lakecolor\":\"white\"},\"title\":{\"x\":0.05},\"mapbox\":{\"style\":\"light\"}}},\"title\":{\"text\":\"Shows and movies released over the years\"},\"xaxis\":{\"title\":{\"text\":\"Release Year\"}},\"yaxis\":{\"title\":{\"text\":\"Count\"}},\"legend\":{\"title\":{\"text\":\"Legend\"}}},                        {\"responsive\": true}                    ).then(function(){\n",
       "                            \n",
       "var gd = document.getElementById('4e351fa9-9e7c-4cb6-adb7-6febf422d2eb');\n",
       "var x = new MutationObserver(function (mutations, observer) {{\n",
       "        var display = window.getComputedStyle(gd).display;\n",
       "        if (!display || display === 'none') {{\n",
       "            console.log([gd, 'removed!']);\n",
       "            Plotly.purge(gd);\n",
       "            observer.disconnect();\n",
       "        }}\n",
       "}});\n",
       "\n",
       "// Listen for the removal of the full notebook cells\n",
       "var notebookContainer = gd.closest('#notebook-container');\n",
       "if (notebookContainer) {{\n",
       "    x.observe(notebookContainer, {childList: true});\n",
       "}}\n",
       "\n",
       "// Listen for the clearing of the current output cell\n",
       "var outputEl = gd.closest('.output');\n",
       "if (outputEl) {{\n",
       "    x.observe(outputEl, {childList: true});\n",
       "}}\n",
       "\n",
       "                        })                };                });            </script>        </div>"
      ]
     },
     "metadata": {},
     "output_type": "display_data"
    }
   ],
   "source": [
    "fig = go.Figure()\n",
    "\n",
    "fig.add_trace(\n",
    "    go.Scatter(\n",
    "        x=df_netflix[\"release_year\"].unique(),\n",
    "        y=df_netflix.groupby(\"release_year\").count()[\"imdb_score\"],\n",
    "        name=\"Movies + Shows\",\n",
    "        mode=\"lines+markers\",\n",
    "    )\n",
    ")\n",
    "\n",
    "fig.add_trace(\n",
    "    go.Scatter(\n",
    "        x=df_netflix.query(\"type == 'MOVIE'\")[\"release_year\"].unique(),\n",
    "        y=df_netflix.groupby([\"release_year\", \"type\"])\n",
    "        .count()\n",
    "        .reset_index()\n",
    "        .query(\"type == 'MOVIE'\")[\"imdb_score\"],\n",
    "        name=\"Movies\",\n",
    "        mode=\"lines+markers\",\n",
    "    )\n",
    ")\n",
    "\n",
    "fig.add_trace(\n",
    "    go.Scatter(\n",
    "        x=df_netflix.query(\"type == 'SHOW'\")[\"release_year\"].unique(),\n",
    "        y=df_netflix.groupby([\"release_year\", \"type\"])\n",
    "        .count()\n",
    "        .reset_index()\n",
    "        .query(\"type == 'SHOW'\")[\"imdb_score\"],\n",
    "        name=\"Shows\",\n",
    "        mode=\"lines+markers\",\n",
    "    )\n",
    ")\n",
    "\n",
    "fig.update_layout(\n",
    "    title=\"Shows and movies released over the years\",\n",
    "    xaxis_title=\"Release Year\",\n",
    "    yaxis_title=\"Count\",\n",
    "    legend_title=\"Legend\",\n",
    ")\n",
    "fig.show()"
   ]
  },
  {
   "cell_type": "markdown",
   "id": "21bf6acc",
   "metadata": {
    "_cell_guid": "3f946f7e-14c3-49d5-8b56-a9da0b38abb9",
    "_uuid": "459b1ce5-ceda-4fe2-90bc-00f145b4863a",
    "papermill": {
     "duration": 0.008269,
     "end_time": "2023-11-27T14:28:30.395632",
     "exception": false,
     "start_time": "2023-11-27T14:28:30.387363",
     "status": "completed"
    },
    "tags": []
   },
   "source": [
    "2019 is the year with the most **movies and shows** released, and it is the same\n",
    "year with the most **movies** released. However, for **shows** it falls just\n",
    "short of 2018 by 8 shows released."
   ]
  },
  {
   "cell_type": "markdown",
   "id": "57172799",
   "metadata": {
    "_cell_guid": "e448d014-80df-438e-9e8b-27e58db97ef4",
    "_uuid": "c842207f-0c6f-4e54-b3fe-463562594db1",
    "papermill": {
     "duration": 0.007952,
     "end_time": "2023-11-27T14:28:30.411583",
     "exception": false,
     "start_time": "2023-11-27T14:28:30.403631",
     "status": "completed"
    },
    "tags": []
   },
   "source": [
    "# Separating Movies and Shows into two different dataframes"
   ]
  },
  {
   "cell_type": "code",
   "execution_count": 6,
   "id": "8f5b25fd",
   "metadata": {
    "_cell_guid": "e24edc22-9496-47e2-976e-7b1e46b98ca0",
    "_uuid": "66c432e1-9e36-4c57-9328-240a0878b36c",
    "collapsed": false,
    "execution": {
     "iopub.execute_input": "2023-11-27T14:28:30.431036Z",
     "iopub.status.busy": "2023-11-27T14:28:30.430100Z",
     "iopub.status.idle": "2023-11-27T14:28:30.445788Z",
     "shell.execute_reply": "2023-11-27T14:28:30.444382Z"
    },
    "jupyter": {
     "outputs_hidden": false
    },
    "papermill": {
     "duration": 0.029248,
     "end_time": "2023-11-27T14:28:30.449335",
     "exception": false,
     "start_time": "2023-11-27T14:28:30.420087",
     "status": "completed"
    },
    "tags": []
   },
   "outputs": [],
   "source": [
    "df_shows = df_netflix.loc[df_netflix[\"type\"] == \"SHOW\"].drop(columns=\"type\")\n",
    "df_movies = df_netflix.loc[df_netflix[\"type\"] == \"MOVIE\"].drop(columns=\"type\")"
   ]
  },
  {
   "cell_type": "markdown",
   "id": "e17469c6",
   "metadata": {
    "_cell_guid": "0cb4ce26-589f-4c42-9934-d6849215ec70",
    "_uuid": "e2f19b08-bae8-4345-9b07-57089f5249f4",
    "papermill": {
     "duration": 0.007774,
     "end_time": "2023-11-27T14:28:30.465333",
     "exception": false,
     "start_time": "2023-11-27T14:28:30.457559",
     "status": "completed"
    },
    "tags": []
   },
   "source": [
    "## Distribution of the age rating of Shows and Movies in 2019"
   ]
  },
  {
   "cell_type": "code",
   "execution_count": 7,
   "id": "72c98166",
   "metadata": {
    "_cell_guid": "2fdfc608-1c7c-4e8a-80a3-cb5302293cc5",
    "_uuid": "a25d331d-b5c2-4c2f-80cd-54369194cef6",
    "collapsed": false,
    "execution": {
     "iopub.execute_input": "2023-11-27T14:28:30.483595Z",
     "iopub.status.busy": "2023-11-27T14:28:30.483189Z",
     "iopub.status.idle": "2023-11-27T14:28:30.587960Z",
     "shell.execute_reply": "2023-11-27T14:28:30.586091Z"
    },
    "jupyter": {
     "outputs_hidden": false
    },
    "papermill": {
     "duration": 0.118235,
     "end_time": "2023-11-27T14:28:30.591755",
     "exception": false,
     "start_time": "2023-11-27T14:28:30.473520",
     "status": "completed"
    },
    "tags": []
   },
   "outputs": [
    {
     "data": {
      "text/html": [
       "<div>                            <div id=\"254b4c38-51ea-414c-bd25-3a83bae4ffe7\" class=\"plotly-graph-div\" style=\"height:525px; width:100%;\"></div>            <script type=\"text/javascript\">                require([\"plotly\"], function(Plotly) {                    window.PLOTLYENV=window.PLOTLYENV || {};                                    if (document.getElementById(\"254b4c38-51ea-414c-bd25-3a83bae4ffe7\")) {                    Plotly.newPlot(                        \"254b4c38-51ea-414c-bd25-3a83bae4ffe7\",                        [{\"alignmentgroup\":\"True\",\"bingroup\":\"x\",\"hovertemplate\":\"age certification=%{x}\\u003cbr\\u003ecount=%{y}\\u003cextra\\u003e\\u003c\\u002fextra\\u003e\",\"legendgroup\":\"G\",\"marker\":{\"color\":\"#636efa\",\"pattern\":{\"shape\":\"\"}},\"name\":\"G\",\"offsetgroup\":\"G\",\"orientation\":\"v\",\"showlegend\":true,\"x\":[\"G\",\"G\",\"G\",\"G\",\"G\",\"G\",\"G\",\"G\",\"G\",\"G\",\"G\",\"G\",\"G\",\"G\"],\"xaxis\":\"x\",\"yaxis\":\"y\",\"type\":\"histogram\"},{\"alignmentgroup\":\"True\",\"bingroup\":\"x\",\"hovertemplate\":\"age certification=%{x}\\u003cbr\\u003ecount=%{y}\\u003cextra\\u003e\\u003c\\u002fextra\\u003e\",\"legendgroup\":\"PG\",\"marker\":{\"color\":\"#EF553B\",\"pattern\":{\"shape\":\"\"}},\"name\":\"PG\",\"offsetgroup\":\"PG\",\"orientation\":\"v\",\"showlegend\":true,\"x\":[\"PG\",\"PG\",\"PG\",\"PG\",\"PG\",\"PG\",\"PG\",\"PG\",\"PG\",\"PG\",\"PG\",\"PG\",\"PG\",\"PG\",\"PG\",\"PG\",\"PG\",\"PG\",\"PG\",\"PG\"],\"xaxis\":\"x\",\"yaxis\":\"y\",\"type\":\"histogram\"},{\"alignmentgroup\":\"True\",\"bingroup\":\"x\",\"hovertemplate\":\"age certification=%{x}\\u003cbr\\u003ecount=%{y}\\u003cextra\\u003e\\u003c\\u002fextra\\u003e\",\"legendgroup\":\"PG-13\",\"marker\":{\"color\":\"#00cc96\",\"pattern\":{\"shape\":\"\"}},\"name\":\"PG-13\",\"offsetgroup\":\"PG-13\",\"orientation\":\"v\",\"showlegend\":true,\"x\":[\"PG-13\",\"PG-13\",\"PG-13\",\"PG-13\",\"PG-13\",\"PG-13\",\"PG-13\",\"PG-13\",\"PG-13\",\"PG-13\",\"PG-13\",\"PG-13\",\"PG-13\",\"PG-13\",\"PG-13\",\"PG-13\",\"PG-13\",\"PG-13\",\"PG-13\",\"PG-13\",\"PG-13\",\"PG-13\",\"PG-13\",\"PG-13\",\"PG-13\",\"PG-13\",\"PG-13\",\"PG-13\",\"PG-13\",\"PG-13\",\"PG-13\",\"PG-13\",\"PG-13\",\"PG-13\",\"PG-13\",\"PG-13\",\"PG-13\",\"PG-13\",\"PG-13\",\"PG-13\",\"PG-13\",\"PG-13\"],\"xaxis\":\"x\",\"yaxis\":\"y\",\"type\":\"histogram\"},{\"alignmentgroup\":\"True\",\"bingroup\":\"x\",\"hovertemplate\":\"age certification=%{x}\\u003cbr\\u003ecount=%{y}\\u003cextra\\u003e\\u003c\\u002fextra\\u003e\",\"legendgroup\":\"R\",\"marker\":{\"color\":\"#ab63fa\",\"pattern\":{\"shape\":\"\"}},\"name\":\"R\",\"offsetgroup\":\"R\",\"orientation\":\"v\",\"showlegend\":true,\"x\":[\"R\",\"R\",\"R\",\"R\",\"R\",\"R\",\"R\",\"R\",\"R\",\"R\",\"R\",\"R\",\"R\",\"R\",\"R\",\"R\",\"R\",\"R\",\"R\",\"R\",\"R\",\"R\",\"R\",\"R\",\"R\",\"R\",\"R\",\"R\",\"R\",\"R\",\"R\",\"R\",\"R\",\"R\",\"R\",\"R\",\"R\",\"R\",\"R\",\"R\",\"R\",\"R\",\"R\",\"R\",\"R\",\"R\",\"R\",\"R\",\"R\",\"R\",\"R\",\"R\"],\"xaxis\":\"x\",\"yaxis\":\"y\",\"type\":\"histogram\"},{\"alignmentgroup\":\"True\",\"bingroup\":\"x\",\"hovertemplate\":\"age certification=%{x}\\u003cbr\\u003ecount=%{y}\\u003cextra\\u003e\\u003c\\u002fextra\\u003e\",\"legendgroup\":\"NC-17\",\"marker\":{\"color\":\"#FFA15A\",\"pattern\":{\"shape\":\"\"}},\"name\":\"NC-17\",\"offsetgroup\":\"NC-17\",\"orientation\":\"v\",\"showlegend\":true,\"x\":[\"NC-17\"],\"xaxis\":\"x\",\"yaxis\":\"y\",\"type\":\"histogram\"}],                        {\"template\":{\"data\":{\"histogram2dcontour\":[{\"type\":\"histogram2dcontour\",\"colorbar\":{\"outlinewidth\":0,\"ticks\":\"\"},\"colorscale\":[[0.0,\"#0d0887\"],[0.1111111111111111,\"#46039f\"],[0.2222222222222222,\"#7201a8\"],[0.3333333333333333,\"#9c179e\"],[0.4444444444444444,\"#bd3786\"],[0.5555555555555556,\"#d8576b\"],[0.6666666666666666,\"#ed7953\"],[0.7777777777777778,\"#fb9f3a\"],[0.8888888888888888,\"#fdca26\"],[1.0,\"#f0f921\"]]}],\"choropleth\":[{\"type\":\"choropleth\",\"colorbar\":{\"outlinewidth\":0,\"ticks\":\"\"}}],\"histogram2d\":[{\"type\":\"histogram2d\",\"colorbar\":{\"outlinewidth\":0,\"ticks\":\"\"},\"colorscale\":[[0.0,\"#0d0887\"],[0.1111111111111111,\"#46039f\"],[0.2222222222222222,\"#7201a8\"],[0.3333333333333333,\"#9c179e\"],[0.4444444444444444,\"#bd3786\"],[0.5555555555555556,\"#d8576b\"],[0.6666666666666666,\"#ed7953\"],[0.7777777777777778,\"#fb9f3a\"],[0.8888888888888888,\"#fdca26\"],[1.0,\"#f0f921\"]]}],\"heatmap\":[{\"type\":\"heatmap\",\"colorbar\":{\"outlinewidth\":0,\"ticks\":\"\"},\"colorscale\":[[0.0,\"#0d0887\"],[0.1111111111111111,\"#46039f\"],[0.2222222222222222,\"#7201a8\"],[0.3333333333333333,\"#9c179e\"],[0.4444444444444444,\"#bd3786\"],[0.5555555555555556,\"#d8576b\"],[0.6666666666666666,\"#ed7953\"],[0.7777777777777778,\"#fb9f3a\"],[0.8888888888888888,\"#fdca26\"],[1.0,\"#f0f921\"]]}],\"heatmapgl\":[{\"type\":\"heatmapgl\",\"colorbar\":{\"outlinewidth\":0,\"ticks\":\"\"},\"colorscale\":[[0.0,\"#0d0887\"],[0.1111111111111111,\"#46039f\"],[0.2222222222222222,\"#7201a8\"],[0.3333333333333333,\"#9c179e\"],[0.4444444444444444,\"#bd3786\"],[0.5555555555555556,\"#d8576b\"],[0.6666666666666666,\"#ed7953\"],[0.7777777777777778,\"#fb9f3a\"],[0.8888888888888888,\"#fdca26\"],[1.0,\"#f0f921\"]]}],\"contourcarpet\":[{\"type\":\"contourcarpet\",\"colorbar\":{\"outlinewidth\":0,\"ticks\":\"\"}}],\"contour\":[{\"type\":\"contour\",\"colorbar\":{\"outlinewidth\":0,\"ticks\":\"\"},\"colorscale\":[[0.0,\"#0d0887\"],[0.1111111111111111,\"#46039f\"],[0.2222222222222222,\"#7201a8\"],[0.3333333333333333,\"#9c179e\"],[0.4444444444444444,\"#bd3786\"],[0.5555555555555556,\"#d8576b\"],[0.6666666666666666,\"#ed7953\"],[0.7777777777777778,\"#fb9f3a\"],[0.8888888888888888,\"#fdca26\"],[1.0,\"#f0f921\"]]}],\"surface\":[{\"type\":\"surface\",\"colorbar\":{\"outlinewidth\":0,\"ticks\":\"\"},\"colorscale\":[[0.0,\"#0d0887\"],[0.1111111111111111,\"#46039f\"],[0.2222222222222222,\"#7201a8\"],[0.3333333333333333,\"#9c179e\"],[0.4444444444444444,\"#bd3786\"],[0.5555555555555556,\"#d8576b\"],[0.6666666666666666,\"#ed7953\"],[0.7777777777777778,\"#fb9f3a\"],[0.8888888888888888,\"#fdca26\"],[1.0,\"#f0f921\"]]}],\"mesh3d\":[{\"type\":\"mesh3d\",\"colorbar\":{\"outlinewidth\":0,\"ticks\":\"\"}}],\"scatter\":[{\"fillpattern\":{\"fillmode\":\"overlay\",\"size\":10,\"solidity\":0.2},\"type\":\"scatter\"}],\"parcoords\":[{\"type\":\"parcoords\",\"line\":{\"colorbar\":{\"outlinewidth\":0,\"ticks\":\"\"}}}],\"scatterpolargl\":[{\"type\":\"scatterpolargl\",\"marker\":{\"colorbar\":{\"outlinewidth\":0,\"ticks\":\"\"}}}],\"bar\":[{\"error_x\":{\"color\":\"#2a3f5f\"},\"error_y\":{\"color\":\"#2a3f5f\"},\"marker\":{\"line\":{\"color\":\"#E5ECF6\",\"width\":0.5},\"pattern\":{\"fillmode\":\"overlay\",\"size\":10,\"solidity\":0.2}},\"type\":\"bar\"}],\"scattergeo\":[{\"type\":\"scattergeo\",\"marker\":{\"colorbar\":{\"outlinewidth\":0,\"ticks\":\"\"}}}],\"scatterpolar\":[{\"type\":\"scatterpolar\",\"marker\":{\"colorbar\":{\"outlinewidth\":0,\"ticks\":\"\"}}}],\"histogram\":[{\"marker\":{\"pattern\":{\"fillmode\":\"overlay\",\"size\":10,\"solidity\":0.2}},\"type\":\"histogram\"}],\"scattergl\":[{\"type\":\"scattergl\",\"marker\":{\"colorbar\":{\"outlinewidth\":0,\"ticks\":\"\"}}}],\"scatter3d\":[{\"type\":\"scatter3d\",\"line\":{\"colorbar\":{\"outlinewidth\":0,\"ticks\":\"\"}},\"marker\":{\"colorbar\":{\"outlinewidth\":0,\"ticks\":\"\"}}}],\"scattermapbox\":[{\"type\":\"scattermapbox\",\"marker\":{\"colorbar\":{\"outlinewidth\":0,\"ticks\":\"\"}}}],\"scatterternary\":[{\"type\":\"scatterternary\",\"marker\":{\"colorbar\":{\"outlinewidth\":0,\"ticks\":\"\"}}}],\"scattercarpet\":[{\"type\":\"scattercarpet\",\"marker\":{\"colorbar\":{\"outlinewidth\":0,\"ticks\":\"\"}}}],\"carpet\":[{\"aaxis\":{\"endlinecolor\":\"#2a3f5f\",\"gridcolor\":\"white\",\"linecolor\":\"white\",\"minorgridcolor\":\"white\",\"startlinecolor\":\"#2a3f5f\"},\"baxis\":{\"endlinecolor\":\"#2a3f5f\",\"gridcolor\":\"white\",\"linecolor\":\"white\",\"minorgridcolor\":\"white\",\"startlinecolor\":\"#2a3f5f\"},\"type\":\"carpet\"}],\"table\":[{\"cells\":{\"fill\":{\"color\":\"#EBF0F8\"},\"line\":{\"color\":\"white\"}},\"header\":{\"fill\":{\"color\":\"#C8D4E3\"},\"line\":{\"color\":\"white\"}},\"type\":\"table\"}],\"barpolar\":[{\"marker\":{\"line\":{\"color\":\"#E5ECF6\",\"width\":0.5},\"pattern\":{\"fillmode\":\"overlay\",\"size\":10,\"solidity\":0.2}},\"type\":\"barpolar\"}],\"pie\":[{\"automargin\":true,\"type\":\"pie\"}]},\"layout\":{\"autotypenumbers\":\"strict\",\"colorway\":[\"#636efa\",\"#EF553B\",\"#00cc96\",\"#ab63fa\",\"#FFA15A\",\"#19d3f3\",\"#FF6692\",\"#B6E880\",\"#FF97FF\",\"#FECB52\"],\"font\":{\"color\":\"#2a3f5f\"},\"hovermode\":\"closest\",\"hoverlabel\":{\"align\":\"left\"},\"paper_bgcolor\":\"white\",\"plot_bgcolor\":\"#E5ECF6\",\"polar\":{\"bgcolor\":\"#E5ECF6\",\"angularaxis\":{\"gridcolor\":\"white\",\"linecolor\":\"white\",\"ticks\":\"\"},\"radialaxis\":{\"gridcolor\":\"white\",\"linecolor\":\"white\",\"ticks\":\"\"}},\"ternary\":{\"bgcolor\":\"#E5ECF6\",\"aaxis\":{\"gridcolor\":\"white\",\"linecolor\":\"white\",\"ticks\":\"\"},\"baxis\":{\"gridcolor\":\"white\",\"linecolor\":\"white\",\"ticks\":\"\"},\"caxis\":{\"gridcolor\":\"white\",\"linecolor\":\"white\",\"ticks\":\"\"}},\"coloraxis\":{\"colorbar\":{\"outlinewidth\":0,\"ticks\":\"\"}},\"colorscale\":{\"sequential\":[[0.0,\"#0d0887\"],[0.1111111111111111,\"#46039f\"],[0.2222222222222222,\"#7201a8\"],[0.3333333333333333,\"#9c179e\"],[0.4444444444444444,\"#bd3786\"],[0.5555555555555556,\"#d8576b\"],[0.6666666666666666,\"#ed7953\"],[0.7777777777777778,\"#fb9f3a\"],[0.8888888888888888,\"#fdca26\"],[1.0,\"#f0f921\"]],\"sequentialminus\":[[0.0,\"#0d0887\"],[0.1111111111111111,\"#46039f\"],[0.2222222222222222,\"#7201a8\"],[0.3333333333333333,\"#9c179e\"],[0.4444444444444444,\"#bd3786\"],[0.5555555555555556,\"#d8576b\"],[0.6666666666666666,\"#ed7953\"],[0.7777777777777778,\"#fb9f3a\"],[0.8888888888888888,\"#fdca26\"],[1.0,\"#f0f921\"]],\"diverging\":[[0,\"#8e0152\"],[0.1,\"#c51b7d\"],[0.2,\"#de77ae\"],[0.3,\"#f1b6da\"],[0.4,\"#fde0ef\"],[0.5,\"#f7f7f7\"],[0.6,\"#e6f5d0\"],[0.7,\"#b8e186\"],[0.8,\"#7fbc41\"],[0.9,\"#4d9221\"],[1,\"#276419\"]]},\"xaxis\":{\"gridcolor\":\"white\",\"linecolor\":\"white\",\"ticks\":\"\",\"title\":{\"standoff\":15},\"zerolinecolor\":\"white\",\"automargin\":true,\"zerolinewidth\":2},\"yaxis\":{\"gridcolor\":\"white\",\"linecolor\":\"white\",\"ticks\":\"\",\"title\":{\"standoff\":15},\"zerolinecolor\":\"white\",\"automargin\":true,\"zerolinewidth\":2},\"scene\":{\"xaxis\":{\"backgroundcolor\":\"#E5ECF6\",\"gridcolor\":\"white\",\"linecolor\":\"white\",\"showbackground\":true,\"ticks\":\"\",\"zerolinecolor\":\"white\",\"gridwidth\":2},\"yaxis\":{\"backgroundcolor\":\"#E5ECF6\",\"gridcolor\":\"white\",\"linecolor\":\"white\",\"showbackground\":true,\"ticks\":\"\",\"zerolinecolor\":\"white\",\"gridwidth\":2},\"zaxis\":{\"backgroundcolor\":\"#E5ECF6\",\"gridcolor\":\"white\",\"linecolor\":\"white\",\"showbackground\":true,\"ticks\":\"\",\"zerolinecolor\":\"white\",\"gridwidth\":2}},\"shapedefaults\":{\"line\":{\"color\":\"#2a3f5f\"}},\"annotationdefaults\":{\"arrowcolor\":\"#2a3f5f\",\"arrowhead\":0,\"arrowwidth\":1},\"geo\":{\"bgcolor\":\"white\",\"landcolor\":\"#E5ECF6\",\"subunitcolor\":\"white\",\"showland\":true,\"showlakes\":true,\"lakecolor\":\"white\"},\"title\":{\"x\":0.05},\"mapbox\":{\"style\":\"light\"}}},\"xaxis\":{\"anchor\":\"y\",\"domain\":[0.0,1.0],\"title\":{\"text\":\"age certification\"},\"categoryorder\":\"array\",\"categoryarray\":[\"G\",\"PG\",\"PG-13\",\"R\",\"NC-17\",null]},\"yaxis\":{\"anchor\":\"x\",\"domain\":[0.0,1.0],\"title\":{\"text\":\"count\"}},\"legend\":{\"title\":{\"text\":\"age certification\"},\"tracegroupgap\":0},\"title\":{\"text\":\"Movies in 2019 by age certification\"},\"barmode\":\"relative\"},                        {\"responsive\": true}                    ).then(function(){\n",
       "                            \n",
       "var gd = document.getElementById('254b4c38-51ea-414c-bd25-3a83bae4ffe7');\n",
       "var x = new MutationObserver(function (mutations, observer) {{\n",
       "        var display = window.getComputedStyle(gd).display;\n",
       "        if (!display || display === 'none') {{\n",
       "            console.log([gd, 'removed!']);\n",
       "            Plotly.purge(gd);\n",
       "            observer.disconnect();\n",
       "        }}\n",
       "}});\n",
       "\n",
       "// Listen for the removal of the full notebook cells\n",
       "var notebookContainer = gd.closest('#notebook-container');\n",
       "if (notebookContainer) {{\n",
       "    x.observe(notebookContainer, {childList: true});\n",
       "}}\n",
       "\n",
       "// Listen for the clearing of the current output cell\n",
       "var outputEl = gd.closest('.output');\n",
       "if (outputEl) {{\n",
       "    x.observe(outputEl, {childList: true});\n",
       "}}\n",
       "\n",
       "                        })                };                });            </script>        </div>"
      ]
     },
     "metadata": {},
     "output_type": "display_data"
    }
   ],
   "source": [
    "px.histogram(\n",
    "    df_movies.loc[df_movies[\"release_year\"] == 2019],\n",
    "    x=\"age_certification\",\n",
    "    category_orders={\"age_certification\": [\"G\", \"PG\", \"PG-13\", \"R\", \"NC-17\"]},\n",
    "    title=\"Movies in 2019 by age certification\",\n",
    "    labels={\"age_certification\": \"age certification\"},\n",
    "    color=\"age_certification\",\n",
    ")"
   ]
  },
  {
   "cell_type": "code",
   "execution_count": 8,
   "id": "21fb7ecf",
   "metadata": {
    "_cell_guid": "bb7a9699-402a-4ab8-bd75-86e924d33663",
    "_uuid": "74431f32-2ae5-4d9d-a685-f78f3a48f6ec",
    "collapsed": false,
    "execution": {
     "iopub.execute_input": "2023-11-27T14:28:30.613474Z",
     "iopub.status.busy": "2023-11-27T14:28:30.613064Z",
     "iopub.status.idle": "2023-11-27T14:28:30.722372Z",
     "shell.execute_reply": "2023-11-27T14:28:30.720866Z"
    },
    "jupyter": {
     "outputs_hidden": false
    },
    "papermill": {
     "duration": 0.125314,
     "end_time": "2023-11-27T14:28:30.726346",
     "exception": false,
     "start_time": "2023-11-27T14:28:30.601032",
     "status": "completed"
    },
    "tags": []
   },
   "outputs": [
    {
     "data": {
      "text/html": [
       "<div>                            <div id=\"bdfa3a6c-dbbf-4cc7-9ebe-5bf606ecd962\" class=\"plotly-graph-div\" style=\"height:525px; width:100%;\"></div>            <script type=\"text/javascript\">                require([\"plotly\"], function(Plotly) {                    window.PLOTLYENV=window.PLOTLYENV || {};                                    if (document.getElementById(\"bdfa3a6c-dbbf-4cc7-9ebe-5bf606ecd962\")) {                    Plotly.newPlot(                        \"bdfa3a6c-dbbf-4cc7-9ebe-5bf606ecd962\",                        [{\"alignmentgroup\":\"True\",\"bingroup\":\"x\",\"hovertemplate\":\"age certification=%{x}\\u003cbr\\u003ecount=%{y}\\u003cextra\\u003e\\u003c\\u002fextra\\u003e\",\"legendgroup\":\"TV-Y\",\"marker\":{\"color\":\"#636efa\",\"pattern\":{\"shape\":\"\"}},\"name\":\"TV-Y\",\"offsetgroup\":\"TV-Y\",\"orientation\":\"v\",\"showlegend\":true,\"x\":[\"TV-Y\",\"TV-Y\",\"TV-Y\",\"TV-Y\",\"TV-Y\",\"TV-Y\",\"TV-Y\",\"TV-Y\"],\"xaxis\":\"x\",\"yaxis\":\"y\",\"type\":\"histogram\"},{\"alignmentgroup\":\"True\",\"bingroup\":\"x\",\"hovertemplate\":\"age certification=%{x}\\u003cbr\\u003ecount=%{y}\\u003cextra\\u003e\\u003c\\u002fextra\\u003e\",\"legendgroup\":\"TV-Y7\",\"marker\":{\"color\":\"#EF553B\",\"pattern\":{\"shape\":\"\"}},\"name\":\"TV-Y7\",\"offsetgroup\":\"TV-Y7\",\"orientation\":\"v\",\"showlegend\":true,\"x\":[\"TV-Y7\",\"TV-Y7\",\"TV-Y7\",\"TV-Y7\",\"TV-Y7\",\"TV-Y7\",\"TV-Y7\",\"TV-Y7\",\"TV-Y7\",\"TV-Y7\",\"TV-Y7\"],\"xaxis\":\"x\",\"yaxis\":\"y\",\"type\":\"histogram\"},{\"alignmentgroup\":\"True\",\"bingroup\":\"x\",\"hovertemplate\":\"age certification=%{x}\\u003cbr\\u003ecount=%{y}\\u003cextra\\u003e\\u003c\\u002fextra\\u003e\",\"legendgroup\":\"TV-G\",\"marker\":{\"color\":\"#00cc96\",\"pattern\":{\"shape\":\"\"}},\"name\":\"TV-G\",\"offsetgroup\":\"TV-G\",\"orientation\":\"v\",\"showlegend\":true,\"x\":[\"TV-G\",\"TV-G\",\"TV-G\",\"TV-G\",\"TV-G\",\"TV-G\"],\"xaxis\":\"x\",\"yaxis\":\"y\",\"type\":\"histogram\"},{\"alignmentgroup\":\"True\",\"bingroup\":\"x\",\"hovertemplate\":\"age certification=%{x}\\u003cbr\\u003ecount=%{y}\\u003cextra\\u003e\\u003c\\u002fextra\\u003e\",\"legendgroup\":\"TV-PG\",\"marker\":{\"color\":\"#ab63fa\",\"pattern\":{\"shape\":\"\"}},\"name\":\"TV-PG\",\"offsetgroup\":\"TV-PG\",\"orientation\":\"v\",\"showlegend\":true,\"x\":[\"TV-PG\",\"TV-PG\",\"TV-PG\",\"TV-PG\",\"TV-PG\",\"TV-PG\",\"TV-PG\",\"TV-PG\",\"TV-PG\",\"TV-PG\",\"TV-PG\",\"TV-PG\",\"TV-PG\",\"TV-PG\",\"TV-PG\",\"TV-PG\",\"TV-PG\",\"TV-PG\",\"TV-PG\",\"TV-PG\",\"TV-PG\",\"TV-PG\",\"TV-PG\",\"TV-PG\",\"TV-PG\",\"TV-PG\",\"TV-PG\",\"TV-PG\",\"TV-PG\"],\"xaxis\":\"x\",\"yaxis\":\"y\",\"type\":\"histogram\"},{\"alignmentgroup\":\"True\",\"bingroup\":\"x\",\"hovertemplate\":\"age certification=%{x}\\u003cbr\\u003ecount=%{y}\\u003cextra\\u003e\\u003c\\u002fextra\\u003e\",\"legendgroup\":\"TV-14\",\"marker\":{\"color\":\"#FFA15A\",\"pattern\":{\"shape\":\"\"}},\"name\":\"TV-14\",\"offsetgroup\":\"TV-14\",\"orientation\":\"v\",\"showlegend\":true,\"x\":[\"TV-14\",\"TV-14\",\"TV-14\",\"TV-14\",\"TV-14\",\"TV-14\",\"TV-14\",\"TV-14\",\"TV-14\",\"TV-14\",\"TV-14\",\"TV-14\",\"TV-14\",\"TV-14\",\"TV-14\",\"TV-14\",\"TV-14\",\"TV-14\",\"TV-14\",\"TV-14\",\"TV-14\",\"TV-14\",\"TV-14\",\"TV-14\",\"TV-14\",\"TV-14\",\"TV-14\",\"TV-14\",\"TV-14\",\"TV-14\",\"TV-14\",\"TV-14\",\"TV-14\",\"TV-14\",\"TV-14\",\"TV-14\",\"TV-14\",\"TV-14\",\"TV-14\",\"TV-14\",\"TV-14\",\"TV-14\",\"TV-14\",\"TV-14\",\"TV-14\",\"TV-14\",\"TV-14\",\"TV-14\",\"TV-14\",\"TV-14\",\"TV-14\",\"TV-14\"],\"xaxis\":\"x\",\"yaxis\":\"y\",\"type\":\"histogram\"},{\"alignmentgroup\":\"True\",\"bingroup\":\"x\",\"hovertemplate\":\"age certification=%{x}\\u003cbr\\u003ecount=%{y}\\u003cextra\\u003e\\u003c\\u002fextra\\u003e\",\"legendgroup\":\"TV-MA\",\"marker\":{\"color\":\"#19d3f3\",\"pattern\":{\"shape\":\"\"}},\"name\":\"TV-MA\",\"offsetgroup\":\"TV-MA\",\"orientation\":\"v\",\"showlegend\":true,\"x\":[\"TV-MA\",\"TV-MA\",\"TV-MA\",\"TV-MA\",\"TV-MA\",\"TV-MA\",\"TV-MA\",\"TV-MA\",\"TV-MA\",\"TV-MA\",\"TV-MA\",\"TV-MA\",\"TV-MA\",\"TV-MA\",\"TV-MA\",\"TV-MA\",\"TV-MA\",\"TV-MA\",\"TV-MA\",\"TV-MA\",\"TV-MA\",\"TV-MA\",\"TV-MA\",\"TV-MA\",\"TV-MA\",\"TV-MA\",\"TV-MA\",\"TV-MA\",\"TV-MA\",\"TV-MA\",\"TV-MA\",\"TV-MA\",\"TV-MA\",\"TV-MA\",\"TV-MA\",\"TV-MA\",\"TV-MA\",\"TV-MA\",\"TV-MA\",\"TV-MA\",\"TV-MA\",\"TV-MA\",\"TV-MA\",\"TV-MA\",\"TV-MA\",\"TV-MA\",\"TV-MA\",\"TV-MA\",\"TV-MA\",\"TV-MA\",\"TV-MA\",\"TV-MA\",\"TV-MA\",\"TV-MA\",\"TV-MA\",\"TV-MA\",\"TV-MA\",\"TV-MA\",\"TV-MA\",\"TV-MA\",\"TV-MA\",\"TV-MA\",\"TV-MA\",\"TV-MA\",\"TV-MA\",\"TV-MA\",\"TV-MA\",\"TV-MA\",\"TV-MA\",\"TV-MA\",\"TV-MA\",\"TV-MA\",\"TV-MA\",\"TV-MA\",\"TV-MA\",\"TV-MA\",\"TV-MA\",\"TV-MA\",\"TV-MA\",\"TV-MA\",\"TV-MA\",\"TV-MA\",\"TV-MA\",\"TV-MA\",\"TV-MA\",\"TV-MA\",\"TV-MA\",\"TV-MA\",\"TV-MA\",\"TV-MA\",\"TV-MA\",\"TV-MA\",\"TV-MA\",\"TV-MA\",\"TV-MA\",\"TV-MA\",\"TV-MA\",\"TV-MA\",\"TV-MA\",\"TV-MA\",\"TV-MA\",\"TV-MA\",\"TV-MA\",\"TV-MA\",\"TV-MA\",\"TV-MA\",\"TV-MA\",\"TV-MA\",\"TV-MA\",\"TV-MA\",\"TV-MA\",\"TV-MA\",\"TV-MA\",\"TV-MA\",\"TV-MA\",\"TV-MA\",\"TV-MA\",\"TV-MA\",\"TV-MA\",\"TV-MA\",\"TV-MA\",\"TV-MA\",\"TV-MA\",\"TV-MA\",\"TV-MA\",\"TV-MA\",\"TV-MA\",\"TV-MA\",\"TV-MA\",\"TV-MA\",\"TV-MA\",\"TV-MA\",\"TV-MA\",\"TV-MA\",\"TV-MA\",\"TV-MA\",\"TV-MA\",\"TV-MA\",\"TV-MA\",\"TV-MA\",\"TV-MA\",\"TV-MA\",\"TV-MA\",\"TV-MA\",\"TV-MA\",\"TV-MA\",\"TV-MA\"],\"xaxis\":\"x\",\"yaxis\":\"y\",\"type\":\"histogram\"}],                        {\"template\":{\"data\":{\"histogram2dcontour\":[{\"type\":\"histogram2dcontour\",\"colorbar\":{\"outlinewidth\":0,\"ticks\":\"\"},\"colorscale\":[[0.0,\"#0d0887\"],[0.1111111111111111,\"#46039f\"],[0.2222222222222222,\"#7201a8\"],[0.3333333333333333,\"#9c179e\"],[0.4444444444444444,\"#bd3786\"],[0.5555555555555556,\"#d8576b\"],[0.6666666666666666,\"#ed7953\"],[0.7777777777777778,\"#fb9f3a\"],[0.8888888888888888,\"#fdca26\"],[1.0,\"#f0f921\"]]}],\"choropleth\":[{\"type\":\"choropleth\",\"colorbar\":{\"outlinewidth\":0,\"ticks\":\"\"}}],\"histogram2d\":[{\"type\":\"histogram2d\",\"colorbar\":{\"outlinewidth\":0,\"ticks\":\"\"},\"colorscale\":[[0.0,\"#0d0887\"],[0.1111111111111111,\"#46039f\"],[0.2222222222222222,\"#7201a8\"],[0.3333333333333333,\"#9c179e\"],[0.4444444444444444,\"#bd3786\"],[0.5555555555555556,\"#d8576b\"],[0.6666666666666666,\"#ed7953\"],[0.7777777777777778,\"#fb9f3a\"],[0.8888888888888888,\"#fdca26\"],[1.0,\"#f0f921\"]]}],\"heatmap\":[{\"type\":\"heatmap\",\"colorbar\":{\"outlinewidth\":0,\"ticks\":\"\"},\"colorscale\":[[0.0,\"#0d0887\"],[0.1111111111111111,\"#46039f\"],[0.2222222222222222,\"#7201a8\"],[0.3333333333333333,\"#9c179e\"],[0.4444444444444444,\"#bd3786\"],[0.5555555555555556,\"#d8576b\"],[0.6666666666666666,\"#ed7953\"],[0.7777777777777778,\"#fb9f3a\"],[0.8888888888888888,\"#fdca26\"],[1.0,\"#f0f921\"]]}],\"heatmapgl\":[{\"type\":\"heatmapgl\",\"colorbar\":{\"outlinewidth\":0,\"ticks\":\"\"},\"colorscale\":[[0.0,\"#0d0887\"],[0.1111111111111111,\"#46039f\"],[0.2222222222222222,\"#7201a8\"],[0.3333333333333333,\"#9c179e\"],[0.4444444444444444,\"#bd3786\"],[0.5555555555555556,\"#d8576b\"],[0.6666666666666666,\"#ed7953\"],[0.7777777777777778,\"#fb9f3a\"],[0.8888888888888888,\"#fdca26\"],[1.0,\"#f0f921\"]]}],\"contourcarpet\":[{\"type\":\"contourcarpet\",\"colorbar\":{\"outlinewidth\":0,\"ticks\":\"\"}}],\"contour\":[{\"type\":\"contour\",\"colorbar\":{\"outlinewidth\":0,\"ticks\":\"\"},\"colorscale\":[[0.0,\"#0d0887\"],[0.1111111111111111,\"#46039f\"],[0.2222222222222222,\"#7201a8\"],[0.3333333333333333,\"#9c179e\"],[0.4444444444444444,\"#bd3786\"],[0.5555555555555556,\"#d8576b\"],[0.6666666666666666,\"#ed7953\"],[0.7777777777777778,\"#fb9f3a\"],[0.8888888888888888,\"#fdca26\"],[1.0,\"#f0f921\"]]}],\"surface\":[{\"type\":\"surface\",\"colorbar\":{\"outlinewidth\":0,\"ticks\":\"\"},\"colorscale\":[[0.0,\"#0d0887\"],[0.1111111111111111,\"#46039f\"],[0.2222222222222222,\"#7201a8\"],[0.3333333333333333,\"#9c179e\"],[0.4444444444444444,\"#bd3786\"],[0.5555555555555556,\"#d8576b\"],[0.6666666666666666,\"#ed7953\"],[0.7777777777777778,\"#fb9f3a\"],[0.8888888888888888,\"#fdca26\"],[1.0,\"#f0f921\"]]}],\"mesh3d\":[{\"type\":\"mesh3d\",\"colorbar\":{\"outlinewidth\":0,\"ticks\":\"\"}}],\"scatter\":[{\"fillpattern\":{\"fillmode\":\"overlay\",\"size\":10,\"solidity\":0.2},\"type\":\"scatter\"}],\"parcoords\":[{\"type\":\"parcoords\",\"line\":{\"colorbar\":{\"outlinewidth\":0,\"ticks\":\"\"}}}],\"scatterpolargl\":[{\"type\":\"scatterpolargl\",\"marker\":{\"colorbar\":{\"outlinewidth\":0,\"ticks\":\"\"}}}],\"bar\":[{\"error_x\":{\"color\":\"#2a3f5f\"},\"error_y\":{\"color\":\"#2a3f5f\"},\"marker\":{\"line\":{\"color\":\"#E5ECF6\",\"width\":0.5},\"pattern\":{\"fillmode\":\"overlay\",\"size\":10,\"solidity\":0.2}},\"type\":\"bar\"}],\"scattergeo\":[{\"type\":\"scattergeo\",\"marker\":{\"colorbar\":{\"outlinewidth\":0,\"ticks\":\"\"}}}],\"scatterpolar\":[{\"type\":\"scatterpolar\",\"marker\":{\"colorbar\":{\"outlinewidth\":0,\"ticks\":\"\"}}}],\"histogram\":[{\"marker\":{\"pattern\":{\"fillmode\":\"overlay\",\"size\":10,\"solidity\":0.2}},\"type\":\"histogram\"}],\"scattergl\":[{\"type\":\"scattergl\",\"marker\":{\"colorbar\":{\"outlinewidth\":0,\"ticks\":\"\"}}}],\"scatter3d\":[{\"type\":\"scatter3d\",\"line\":{\"colorbar\":{\"outlinewidth\":0,\"ticks\":\"\"}},\"marker\":{\"colorbar\":{\"outlinewidth\":0,\"ticks\":\"\"}}}],\"scattermapbox\":[{\"type\":\"scattermapbox\",\"marker\":{\"colorbar\":{\"outlinewidth\":0,\"ticks\":\"\"}}}],\"scatterternary\":[{\"type\":\"scatterternary\",\"marker\":{\"colorbar\":{\"outlinewidth\":0,\"ticks\":\"\"}}}],\"scattercarpet\":[{\"type\":\"scattercarpet\",\"marker\":{\"colorbar\":{\"outlinewidth\":0,\"ticks\":\"\"}}}],\"carpet\":[{\"aaxis\":{\"endlinecolor\":\"#2a3f5f\",\"gridcolor\":\"white\",\"linecolor\":\"white\",\"minorgridcolor\":\"white\",\"startlinecolor\":\"#2a3f5f\"},\"baxis\":{\"endlinecolor\":\"#2a3f5f\",\"gridcolor\":\"white\",\"linecolor\":\"white\",\"minorgridcolor\":\"white\",\"startlinecolor\":\"#2a3f5f\"},\"type\":\"carpet\"}],\"table\":[{\"cells\":{\"fill\":{\"color\":\"#EBF0F8\"},\"line\":{\"color\":\"white\"}},\"header\":{\"fill\":{\"color\":\"#C8D4E3\"},\"line\":{\"color\":\"white\"}},\"type\":\"table\"}],\"barpolar\":[{\"marker\":{\"line\":{\"color\":\"#E5ECF6\",\"width\":0.5},\"pattern\":{\"fillmode\":\"overlay\",\"size\":10,\"solidity\":0.2}},\"type\":\"barpolar\"}],\"pie\":[{\"automargin\":true,\"type\":\"pie\"}]},\"layout\":{\"autotypenumbers\":\"strict\",\"colorway\":[\"#636efa\",\"#EF553B\",\"#00cc96\",\"#ab63fa\",\"#FFA15A\",\"#19d3f3\",\"#FF6692\",\"#B6E880\",\"#FF97FF\",\"#FECB52\"],\"font\":{\"color\":\"#2a3f5f\"},\"hovermode\":\"closest\",\"hoverlabel\":{\"align\":\"left\"},\"paper_bgcolor\":\"white\",\"plot_bgcolor\":\"#E5ECF6\",\"polar\":{\"bgcolor\":\"#E5ECF6\",\"angularaxis\":{\"gridcolor\":\"white\",\"linecolor\":\"white\",\"ticks\":\"\"},\"radialaxis\":{\"gridcolor\":\"white\",\"linecolor\":\"white\",\"ticks\":\"\"}},\"ternary\":{\"bgcolor\":\"#E5ECF6\",\"aaxis\":{\"gridcolor\":\"white\",\"linecolor\":\"white\",\"ticks\":\"\"},\"baxis\":{\"gridcolor\":\"white\",\"linecolor\":\"white\",\"ticks\":\"\"},\"caxis\":{\"gridcolor\":\"white\",\"linecolor\":\"white\",\"ticks\":\"\"}},\"coloraxis\":{\"colorbar\":{\"outlinewidth\":0,\"ticks\":\"\"}},\"colorscale\":{\"sequential\":[[0.0,\"#0d0887\"],[0.1111111111111111,\"#46039f\"],[0.2222222222222222,\"#7201a8\"],[0.3333333333333333,\"#9c179e\"],[0.4444444444444444,\"#bd3786\"],[0.5555555555555556,\"#d8576b\"],[0.6666666666666666,\"#ed7953\"],[0.7777777777777778,\"#fb9f3a\"],[0.8888888888888888,\"#fdca26\"],[1.0,\"#f0f921\"]],\"sequentialminus\":[[0.0,\"#0d0887\"],[0.1111111111111111,\"#46039f\"],[0.2222222222222222,\"#7201a8\"],[0.3333333333333333,\"#9c179e\"],[0.4444444444444444,\"#bd3786\"],[0.5555555555555556,\"#d8576b\"],[0.6666666666666666,\"#ed7953\"],[0.7777777777777778,\"#fb9f3a\"],[0.8888888888888888,\"#fdca26\"],[1.0,\"#f0f921\"]],\"diverging\":[[0,\"#8e0152\"],[0.1,\"#c51b7d\"],[0.2,\"#de77ae\"],[0.3,\"#f1b6da\"],[0.4,\"#fde0ef\"],[0.5,\"#f7f7f7\"],[0.6,\"#e6f5d0\"],[0.7,\"#b8e186\"],[0.8,\"#7fbc41\"],[0.9,\"#4d9221\"],[1,\"#276419\"]]},\"xaxis\":{\"gridcolor\":\"white\",\"linecolor\":\"white\",\"ticks\":\"\",\"title\":{\"standoff\":15},\"zerolinecolor\":\"white\",\"automargin\":true,\"zerolinewidth\":2},\"yaxis\":{\"gridcolor\":\"white\",\"linecolor\":\"white\",\"ticks\":\"\",\"title\":{\"standoff\":15},\"zerolinecolor\":\"white\",\"automargin\":true,\"zerolinewidth\":2},\"scene\":{\"xaxis\":{\"backgroundcolor\":\"#E5ECF6\",\"gridcolor\":\"white\",\"linecolor\":\"white\",\"showbackground\":true,\"ticks\":\"\",\"zerolinecolor\":\"white\",\"gridwidth\":2},\"yaxis\":{\"backgroundcolor\":\"#E5ECF6\",\"gridcolor\":\"white\",\"linecolor\":\"white\",\"showbackground\":true,\"ticks\":\"\",\"zerolinecolor\":\"white\",\"gridwidth\":2},\"zaxis\":{\"backgroundcolor\":\"#E5ECF6\",\"gridcolor\":\"white\",\"linecolor\":\"white\",\"showbackground\":true,\"ticks\":\"\",\"zerolinecolor\":\"white\",\"gridwidth\":2}},\"shapedefaults\":{\"line\":{\"color\":\"#2a3f5f\"}},\"annotationdefaults\":{\"arrowcolor\":\"#2a3f5f\",\"arrowhead\":0,\"arrowwidth\":1},\"geo\":{\"bgcolor\":\"white\",\"landcolor\":\"#E5ECF6\",\"subunitcolor\":\"white\",\"showland\":true,\"showlakes\":true,\"lakecolor\":\"white\"},\"title\":{\"x\":0.05},\"mapbox\":{\"style\":\"light\"}}},\"xaxis\":{\"anchor\":\"y\",\"domain\":[0.0,1.0],\"title\":{\"text\":\"age certification\"},\"categoryorder\":\"array\",\"categoryarray\":[\"TV-Y\",\"TV-Y7\",\"TV-G\",\"TV-PG\",\"TV-14\",\"TV-MA\",null]},\"yaxis\":{\"anchor\":\"x\",\"domain\":[0.0,1.0],\"title\":{\"text\":\"count\"}},\"legend\":{\"title\":{\"text\":\"age certification\"},\"tracegroupgap\":0},\"title\":{\"text\":\"Shows in 2019 by age certification\"},\"barmode\":\"relative\"},                        {\"responsive\": true}                    ).then(function(){\n",
       "                            \n",
       "var gd = document.getElementById('bdfa3a6c-dbbf-4cc7-9ebe-5bf606ecd962');\n",
       "var x = new MutationObserver(function (mutations, observer) {{\n",
       "        var display = window.getComputedStyle(gd).display;\n",
       "        if (!display || display === 'none') {{\n",
       "            console.log([gd, 'removed!']);\n",
       "            Plotly.purge(gd);\n",
       "            observer.disconnect();\n",
       "        }}\n",
       "}});\n",
       "\n",
       "// Listen for the removal of the full notebook cells\n",
       "var notebookContainer = gd.closest('#notebook-container');\n",
       "if (notebookContainer) {{\n",
       "    x.observe(notebookContainer, {childList: true});\n",
       "}}\n",
       "\n",
       "// Listen for the clearing of the current output cell\n",
       "var outputEl = gd.closest('.output');\n",
       "if (outputEl) {{\n",
       "    x.observe(outputEl, {childList: true});\n",
       "}}\n",
       "\n",
       "                        })                };                });            </script>        </div>"
      ]
     },
     "metadata": {},
     "output_type": "display_data"
    }
   ],
   "source": [
    "px.histogram(\n",
    "    df_shows.loc[df_shows[\"release_year\"] == 2019],\n",
    "    x=\"age_certification\",\n",
    "    category_orders={\n",
    "        \"age_certification\": [\"TV-Y\", \"TV-Y7\", \"TV-G\", \"TV-PG\", \"TV-14\", \"TV-MA\"]\n",
    "    },\n",
    "    color=\"age_certification\",\n",
    "    title=\"Shows in 2019 by age certification\",\n",
    "    labels={\"age_certification\": \"age certification\"},\n",
    ")"
   ]
  },
  {
   "cell_type": "code",
   "execution_count": 9,
   "id": "ff21b7cc",
   "metadata": {
    "_cell_guid": "d1931a99-4bce-4d4a-ad8c-fe1df16e46ac",
    "_uuid": "33c57d61-ea77-4c17-aea3-1a464266abd4",
    "collapsed": false,
    "execution": {
     "iopub.execute_input": "2023-11-27T14:28:30.754036Z",
     "iopub.status.busy": "2023-11-27T14:28:30.752525Z",
     "iopub.status.idle": "2023-11-27T14:28:30.817403Z",
     "shell.execute_reply": "2023-11-27T14:28:30.815893Z"
    },
    "jupyter": {
     "outputs_hidden": false
    },
    "papermill": {
     "duration": 0.080867,
     "end_time": "2023-11-27T14:28:30.820711",
     "exception": false,
     "start_time": "2023-11-27T14:28:30.739844",
     "status": "completed"
    },
    "tags": []
   },
   "outputs": [
    {
     "data": {
      "text/html": [
       "<div>                            <div id=\"8889259a-2ce8-45ad-bf43-4c3871abf1be\" class=\"plotly-graph-div\" style=\"height:525px; width:100%;\"></div>            <script type=\"text/javascript\">                require([\"plotly\"], function(Plotly) {                    window.PLOTLYENV=window.PLOTLYENV || {};                                    if (document.getElementById(\"8889259a-2ce8-45ad-bf43-4c3871abf1be\")) {                    Plotly.newPlot(                        \"8889259a-2ce8-45ad-bf43-4c3871abf1be\",                        [{\"mode\":\"lines+markers\",\"name\":\"Maximum IMDB rating\",\"x\":[1953,1954,1956,1958,1959,1960,1961,1962,1963,1964,1966,1967,1968,1969,1971,1972,1973,1974,1975,1976,1977,1978,1979,1980,1981,1982,1983,1984,1985,1986,1987,1988,1989,1990,1991,1992,1993,1994,1995,1996,1997,1998,1999,2000,2001,2002,2003,2004,2005,2006,2007,2008,2009,2010,2011,2012,2013,2014,2015,2016,2017,2018,2019,2020,2021,2022],\"y\":[6.8,7.5,6.7,7.5,6.7,6.4,7.5,6.8,7.6,7.8,7.3,7.7,7.2,6.9,7.7,6.2,8.1,6.5,8.2,8.3,7.5,4.2,9.0,7.8,7.2,8.7,6.7,8.3,8.0,8.1,8.3,7.3,8.1,7.8,7.2,7.2,8.5,8.8,8.1,7.9,8.0,8.6,8.2,7.3,8.3,8.4,8.7,8.4,7.6,8.7,8.3,8.0,8.4,8.8,9.0,8.4,8.6,8.3,8.6,8.4,8.3,9.0,8.7,9.0,8.7,8.0],\"type\":\"scatter\"},{\"customdata\":[[null,1.0],[0.05,2.0],[null,1.0],[null,1.0],[null,1.0],[null,1.0],[null,1.0],[null,1.0],[null,1.0],[null,1.0],[0.3,2.0],[null,1.0],[null,1.0],[null,1.0],[0.75,2.0],[null,1.0],[1.5,2.0],[null,1.0],[0.85,2.0],[1.1,3.0],[null,1.0],[null,1.0],[0.39,7.0],[1.25,4.0],[1.15,2.0],[0.33,7.0],[0.2,2.0],[0.52,4.0],[null,1.0],[0.4,6.0],[0.6,5.0],[0.35,6.0],[0.4,6.0],[0.32,7.0],[0.3,10.0],[0.35,2.0],[0.26,17.0],[0.52,10.0],[0.4,10.0],[0.42,7.0],[0.32,13.0],[0.24,20.0],[0.36,9.0],[0.19,8.0],[0.27,17.0],[0.26,13.0],[0.25,22.0],[0.22,25.0],[0.15,26.0],[0.18,36.0],[0.17,39.0],[0.15,47.0],[0.2,43.0],[0.14,51.0],[0.13,68.0],[0.15,74.0],[0.13,97.0],[0.1,108.0],[0.1,134.0],[0.08,213.0],[0.05,378.0],[0.05,447.0],[0.05,469.0],[0.06,407.0],[0.06,411.0],[0.11,90.0]],\"error_y\":{\"array\":[null,0.05,null,null,null,null,null,null,null,null,0.3,null,null,null,0.75,null,1.5,null,0.85,1.1,null,null,0.39,1.25,1.15,0.33,0.2,0.52,null,0.4,0.6,0.35,0.4,0.32,0.3,0.35,0.26,0.52,0.4,0.42,0.32,0.24,0.36,0.19,0.27,0.26,0.25,0.22,0.15,0.18,0.17,0.15,0.2,0.14,0.13,0.15,0.13,0.1,0.1,0.08,0.05,0.05,0.05,0.06,0.06,0.11],\"type\":\"data\",\"visible\":true},\"hovertemplate\":\"Year: %{x}\\u003cbr\\u003eRating: %{y:.2f} +- %{customdata[0]:.2f}\\u003cbr\\u003eCount: %{customdata[1]}\",\"mode\":\"lines+markers\",\"name\":\"Average IMDB rating\",\"x\":[1953,1954,1956,1958,1959,1960,1961,1962,1963,1964,1966,1967,1968,1969,1971,1972,1973,1974,1975,1976,1977,1978,1979,1980,1981,1982,1983,1984,1985,1986,1987,1988,1989,1990,1991,1992,1993,1994,1995,1996,1997,1998,1999,2000,2001,2002,2003,2004,2005,2006,2007,2008,2009,2010,2011,2012,2013,2014,2015,2016,2017,2018,2019,2020,2021,2022],\"y\":[6.8,7.45,6.7,7.5,6.7,6.4,7.5,6.8,7.6,7.8,7.0,7.7,7.2,6.9,6.95,6.2,6.6,6.5,7.35,6.7,7.5,4.2,7.47,5.65,6.05,7.29,6.5,7.0,8.0,6.67,6.84,6.33,6.9,6.61,5.99,6.85,6.53,6.33,6.2,6.44,6.6,6.74,6.6,6.5,6.84,6.86,6.81,6.68,6.47,6.57,6.7,6.58,6.38,6.72,6.47,6.43,6.45,6.59,6.25,6.24,6.24,6.21,6.24,6.06,6.03,5.97],\"type\":\"scatter\"},{\"mode\":\"lines+markers\",\"name\":\"Minimum IMDB rating\",\"x\":[1953,1954,1956,1958,1959,1960,1961,1962,1963,1964,1966,1967,1968,1969,1971,1972,1973,1974,1975,1976,1977,1978,1979,1980,1981,1982,1983,1984,1985,1986,1987,1988,1989,1990,1991,1992,1993,1994,1995,1996,1997,1998,1999,2000,2001,2002,2003,2004,2005,2006,2007,2008,2009,2010,2011,2012,2013,2014,2015,2016,2017,2018,2019,2020,2021,2022],\"y\":[6.8,7.4,6.7,7.5,6.7,6.4,7.5,6.8,7.6,7.8,6.7,7.7,7.2,6.9,6.2,6.2,5.1,6.5,6.5,4.6,7.5,4.2,6.2,2.1,4.9,6.3,6.3,6.1,8.0,5.2,4.8,5.1,5.4,5.6,4.5,6.5,4.7,3.6,4.0,4.5,4.7,4.7,4.6,5.8,4.8,5.1,4.0,4.8,4.7,2.9,3.6,3.4,2.9,4.8,3.3,2.0,1.7,3.8,2.8,1.5,2.2,2.3,2.5,1.7,2.2,2.5],\"type\":\"scatter\"}],                        {\"template\":{\"data\":{\"histogram2dcontour\":[{\"type\":\"histogram2dcontour\",\"colorbar\":{\"outlinewidth\":0,\"ticks\":\"\"},\"colorscale\":[[0.0,\"#0d0887\"],[0.1111111111111111,\"#46039f\"],[0.2222222222222222,\"#7201a8\"],[0.3333333333333333,\"#9c179e\"],[0.4444444444444444,\"#bd3786\"],[0.5555555555555556,\"#d8576b\"],[0.6666666666666666,\"#ed7953\"],[0.7777777777777778,\"#fb9f3a\"],[0.8888888888888888,\"#fdca26\"],[1.0,\"#f0f921\"]]}],\"choropleth\":[{\"type\":\"choropleth\",\"colorbar\":{\"outlinewidth\":0,\"ticks\":\"\"}}],\"histogram2d\":[{\"type\":\"histogram2d\",\"colorbar\":{\"outlinewidth\":0,\"ticks\":\"\"},\"colorscale\":[[0.0,\"#0d0887\"],[0.1111111111111111,\"#46039f\"],[0.2222222222222222,\"#7201a8\"],[0.3333333333333333,\"#9c179e\"],[0.4444444444444444,\"#bd3786\"],[0.5555555555555556,\"#d8576b\"],[0.6666666666666666,\"#ed7953\"],[0.7777777777777778,\"#fb9f3a\"],[0.8888888888888888,\"#fdca26\"],[1.0,\"#f0f921\"]]}],\"heatmap\":[{\"type\":\"heatmap\",\"colorbar\":{\"outlinewidth\":0,\"ticks\":\"\"},\"colorscale\":[[0.0,\"#0d0887\"],[0.1111111111111111,\"#46039f\"],[0.2222222222222222,\"#7201a8\"],[0.3333333333333333,\"#9c179e\"],[0.4444444444444444,\"#bd3786\"],[0.5555555555555556,\"#d8576b\"],[0.6666666666666666,\"#ed7953\"],[0.7777777777777778,\"#fb9f3a\"],[0.8888888888888888,\"#fdca26\"],[1.0,\"#f0f921\"]]}],\"heatmapgl\":[{\"type\":\"heatmapgl\",\"colorbar\":{\"outlinewidth\":0,\"ticks\":\"\"},\"colorscale\":[[0.0,\"#0d0887\"],[0.1111111111111111,\"#46039f\"],[0.2222222222222222,\"#7201a8\"],[0.3333333333333333,\"#9c179e\"],[0.4444444444444444,\"#bd3786\"],[0.5555555555555556,\"#d8576b\"],[0.6666666666666666,\"#ed7953\"],[0.7777777777777778,\"#fb9f3a\"],[0.8888888888888888,\"#fdca26\"],[1.0,\"#f0f921\"]]}],\"contourcarpet\":[{\"type\":\"contourcarpet\",\"colorbar\":{\"outlinewidth\":0,\"ticks\":\"\"}}],\"contour\":[{\"type\":\"contour\",\"colorbar\":{\"outlinewidth\":0,\"ticks\":\"\"},\"colorscale\":[[0.0,\"#0d0887\"],[0.1111111111111111,\"#46039f\"],[0.2222222222222222,\"#7201a8\"],[0.3333333333333333,\"#9c179e\"],[0.4444444444444444,\"#bd3786\"],[0.5555555555555556,\"#d8576b\"],[0.6666666666666666,\"#ed7953\"],[0.7777777777777778,\"#fb9f3a\"],[0.8888888888888888,\"#fdca26\"],[1.0,\"#f0f921\"]]}],\"surface\":[{\"type\":\"surface\",\"colorbar\":{\"outlinewidth\":0,\"ticks\":\"\"},\"colorscale\":[[0.0,\"#0d0887\"],[0.1111111111111111,\"#46039f\"],[0.2222222222222222,\"#7201a8\"],[0.3333333333333333,\"#9c179e\"],[0.4444444444444444,\"#bd3786\"],[0.5555555555555556,\"#d8576b\"],[0.6666666666666666,\"#ed7953\"],[0.7777777777777778,\"#fb9f3a\"],[0.8888888888888888,\"#fdca26\"],[1.0,\"#f0f921\"]]}],\"mesh3d\":[{\"type\":\"mesh3d\",\"colorbar\":{\"outlinewidth\":0,\"ticks\":\"\"}}],\"scatter\":[{\"fillpattern\":{\"fillmode\":\"overlay\",\"size\":10,\"solidity\":0.2},\"type\":\"scatter\"}],\"parcoords\":[{\"type\":\"parcoords\",\"line\":{\"colorbar\":{\"outlinewidth\":0,\"ticks\":\"\"}}}],\"scatterpolargl\":[{\"type\":\"scatterpolargl\",\"marker\":{\"colorbar\":{\"outlinewidth\":0,\"ticks\":\"\"}}}],\"bar\":[{\"error_x\":{\"color\":\"#2a3f5f\"},\"error_y\":{\"color\":\"#2a3f5f\"},\"marker\":{\"line\":{\"color\":\"#E5ECF6\",\"width\":0.5},\"pattern\":{\"fillmode\":\"overlay\",\"size\":10,\"solidity\":0.2}},\"type\":\"bar\"}],\"scattergeo\":[{\"type\":\"scattergeo\",\"marker\":{\"colorbar\":{\"outlinewidth\":0,\"ticks\":\"\"}}}],\"scatterpolar\":[{\"type\":\"scatterpolar\",\"marker\":{\"colorbar\":{\"outlinewidth\":0,\"ticks\":\"\"}}}],\"histogram\":[{\"marker\":{\"pattern\":{\"fillmode\":\"overlay\",\"size\":10,\"solidity\":0.2}},\"type\":\"histogram\"}],\"scattergl\":[{\"type\":\"scattergl\",\"marker\":{\"colorbar\":{\"outlinewidth\":0,\"ticks\":\"\"}}}],\"scatter3d\":[{\"type\":\"scatter3d\",\"line\":{\"colorbar\":{\"outlinewidth\":0,\"ticks\":\"\"}},\"marker\":{\"colorbar\":{\"outlinewidth\":0,\"ticks\":\"\"}}}],\"scattermapbox\":[{\"type\":\"scattermapbox\",\"marker\":{\"colorbar\":{\"outlinewidth\":0,\"ticks\":\"\"}}}],\"scatterternary\":[{\"type\":\"scatterternary\",\"marker\":{\"colorbar\":{\"outlinewidth\":0,\"ticks\":\"\"}}}],\"scattercarpet\":[{\"type\":\"scattercarpet\",\"marker\":{\"colorbar\":{\"outlinewidth\":0,\"ticks\":\"\"}}}],\"carpet\":[{\"aaxis\":{\"endlinecolor\":\"#2a3f5f\",\"gridcolor\":\"white\",\"linecolor\":\"white\",\"minorgridcolor\":\"white\",\"startlinecolor\":\"#2a3f5f\"},\"baxis\":{\"endlinecolor\":\"#2a3f5f\",\"gridcolor\":\"white\",\"linecolor\":\"white\",\"minorgridcolor\":\"white\",\"startlinecolor\":\"#2a3f5f\"},\"type\":\"carpet\"}],\"table\":[{\"cells\":{\"fill\":{\"color\":\"#EBF0F8\"},\"line\":{\"color\":\"white\"}},\"header\":{\"fill\":{\"color\":\"#C8D4E3\"},\"line\":{\"color\":\"white\"}},\"type\":\"table\"}],\"barpolar\":[{\"marker\":{\"line\":{\"color\":\"#E5ECF6\",\"width\":0.5},\"pattern\":{\"fillmode\":\"overlay\",\"size\":10,\"solidity\":0.2}},\"type\":\"barpolar\"}],\"pie\":[{\"automargin\":true,\"type\":\"pie\"}]},\"layout\":{\"autotypenumbers\":\"strict\",\"colorway\":[\"#636efa\",\"#EF553B\",\"#00cc96\",\"#ab63fa\",\"#FFA15A\",\"#19d3f3\",\"#FF6692\",\"#B6E880\",\"#FF97FF\",\"#FECB52\"],\"font\":{\"color\":\"#2a3f5f\"},\"hovermode\":\"closest\",\"hoverlabel\":{\"align\":\"left\"},\"paper_bgcolor\":\"white\",\"plot_bgcolor\":\"#E5ECF6\",\"polar\":{\"bgcolor\":\"#E5ECF6\",\"angularaxis\":{\"gridcolor\":\"white\",\"linecolor\":\"white\",\"ticks\":\"\"},\"radialaxis\":{\"gridcolor\":\"white\",\"linecolor\":\"white\",\"ticks\":\"\"}},\"ternary\":{\"bgcolor\":\"#E5ECF6\",\"aaxis\":{\"gridcolor\":\"white\",\"linecolor\":\"white\",\"ticks\":\"\"},\"baxis\":{\"gridcolor\":\"white\",\"linecolor\":\"white\",\"ticks\":\"\"},\"caxis\":{\"gridcolor\":\"white\",\"linecolor\":\"white\",\"ticks\":\"\"}},\"coloraxis\":{\"colorbar\":{\"outlinewidth\":0,\"ticks\":\"\"}},\"colorscale\":{\"sequential\":[[0.0,\"#0d0887\"],[0.1111111111111111,\"#46039f\"],[0.2222222222222222,\"#7201a8\"],[0.3333333333333333,\"#9c179e\"],[0.4444444444444444,\"#bd3786\"],[0.5555555555555556,\"#d8576b\"],[0.6666666666666666,\"#ed7953\"],[0.7777777777777778,\"#fb9f3a\"],[0.8888888888888888,\"#fdca26\"],[1.0,\"#f0f921\"]],\"sequentialminus\":[[0.0,\"#0d0887\"],[0.1111111111111111,\"#46039f\"],[0.2222222222222222,\"#7201a8\"],[0.3333333333333333,\"#9c179e\"],[0.4444444444444444,\"#bd3786\"],[0.5555555555555556,\"#d8576b\"],[0.6666666666666666,\"#ed7953\"],[0.7777777777777778,\"#fb9f3a\"],[0.8888888888888888,\"#fdca26\"],[1.0,\"#f0f921\"]],\"diverging\":[[0,\"#8e0152\"],[0.1,\"#c51b7d\"],[0.2,\"#de77ae\"],[0.3,\"#f1b6da\"],[0.4,\"#fde0ef\"],[0.5,\"#f7f7f7\"],[0.6,\"#e6f5d0\"],[0.7,\"#b8e186\"],[0.8,\"#7fbc41\"],[0.9,\"#4d9221\"],[1,\"#276419\"]]},\"xaxis\":{\"gridcolor\":\"white\",\"linecolor\":\"white\",\"ticks\":\"\",\"title\":{\"standoff\":15},\"zerolinecolor\":\"white\",\"automargin\":true,\"zerolinewidth\":2},\"yaxis\":{\"gridcolor\":\"white\",\"linecolor\":\"white\",\"ticks\":\"\",\"title\":{\"standoff\":15},\"zerolinecolor\":\"white\",\"automargin\":true,\"zerolinewidth\":2},\"scene\":{\"xaxis\":{\"backgroundcolor\":\"#E5ECF6\",\"gridcolor\":\"white\",\"linecolor\":\"white\",\"showbackground\":true,\"ticks\":\"\",\"zerolinecolor\":\"white\",\"gridwidth\":2},\"yaxis\":{\"backgroundcolor\":\"#E5ECF6\",\"gridcolor\":\"white\",\"linecolor\":\"white\",\"showbackground\":true,\"ticks\":\"\",\"zerolinecolor\":\"white\",\"gridwidth\":2},\"zaxis\":{\"backgroundcolor\":\"#E5ECF6\",\"gridcolor\":\"white\",\"linecolor\":\"white\",\"showbackground\":true,\"ticks\":\"\",\"zerolinecolor\":\"white\",\"gridwidth\":2}},\"shapedefaults\":{\"line\":{\"color\":\"#2a3f5f\"}},\"annotationdefaults\":{\"arrowcolor\":\"#2a3f5f\",\"arrowhead\":0,\"arrowwidth\":1},\"geo\":{\"bgcolor\":\"white\",\"landcolor\":\"#E5ECF6\",\"subunitcolor\":\"white\",\"showland\":true,\"showlakes\":true,\"lakecolor\":\"white\"},\"title\":{\"x\":0.05},\"mapbox\":{\"style\":\"light\"}}},\"yaxis\":{\"range\":[0,10],\"title\":{\"text\":\"Rating\"}},\"title\":{\"text\":\"Movie ratings across the years\"},\"xaxis\":{\"title\":{\"text\":\"Release Year\"}},\"legend\":{\"title\":{\"text\":\"Legend\"}}},                        {\"responsive\": true}                    ).then(function(){\n",
       "                            \n",
       "var gd = document.getElementById('8889259a-2ce8-45ad-bf43-4c3871abf1be');\n",
       "var x = new MutationObserver(function (mutations, observer) {{\n",
       "        var display = window.getComputedStyle(gd).display;\n",
       "        if (!display || display === 'none') {{\n",
       "            console.log([gd, 'removed!']);\n",
       "            Plotly.purge(gd);\n",
       "            observer.disconnect();\n",
       "        }}\n",
       "}});\n",
       "\n",
       "// Listen for the removal of the full notebook cells\n",
       "var notebookContainer = gd.closest('#notebook-container');\n",
       "if (notebookContainer) {{\n",
       "    x.observe(notebookContainer, {childList: true});\n",
       "}}\n",
       "\n",
       "// Listen for the clearing of the current output cell\n",
       "var outputEl = gd.closest('.output');\n",
       "if (outputEl) {{\n",
       "    x.observe(outputEl, {childList: true});\n",
       "}}\n",
       "\n",
       "                        })                };                });            </script>        </div>"
      ]
     },
     "metadata": {},
     "output_type": "display_data"
    }
   ],
   "source": [
    "fig = go.Figure()\n",
    "\n",
    "x = df_movies.dropna(subset=\"imdb_score\")[\"release_year\"].unique()\n",
    "df_movies_year_rating = df_movies.dropna(subset=\"imdb_score\").groupby(\"release_year\")[\n",
    "    \"imdb_score\"\n",
    "]\n",
    "\n",
    "fig.add_trace(\n",
    "    go.Scatter(\n",
    "        x=x,\n",
    "        y=df_movies_year_rating.max(),\n",
    "        mode=\"lines+markers\",\n",
    "        name=\"Maximum IMDB rating\",\n",
    "    )\n",
    ")\n",
    "\n",
    "y_err = df_movies.groupby(\"release_year\")[\"imdb_score\"].sem().round(2)\n",
    "fig.add_trace(\n",
    "    go.Scatter(\n",
    "        x=x,\n",
    "        y=df_movies_year_rating.mean().round(2),\n",
    "        mode=\"lines+markers\",\n",
    "        name=\"Average IMDB rating\",\n",
    "        error_y=dict(\n",
    "            type=\"data\",\n",
    "            array=y_err,\n",
    "            visible=True,\n",
    "        ),\n",
    "        hovertemplate=\"Year: %{x}\"\n",
    "        + \"<br>Rating: %{y:.2f} +- %{customdata[0]:.2f}\"\n",
    "        + \"<br>Count: %{customdata[1]}\",\n",
    "        customdata=np.stack((y_err, df_movies_year_rating.count().values), axis=-1),\n",
    "    )\n",
    ")\n",
    "\n",
    "fig.add_trace(\n",
    "    go.Scatter(\n",
    "        x=x,\n",
    "        y=df_movies_year_rating.min(),\n",
    "        mode=\"lines+markers\",\n",
    "        name=\"Minimum IMDB rating\",\n",
    "    )\n",
    ")\n",
    "\n",
    "fig.update_yaxes(range=[0, 10])\n",
    "\n",
    "fig.update_layout(\n",
    "    title=\"Movie ratings across the years\",\n",
    "    xaxis_title=\"Release Year\",\n",
    "    yaxis_title=\"Rating\",\n",
    "    legend_title=\"Legend\",\n",
    ")"
   ]
  },
  {
   "cell_type": "code",
   "execution_count": 10,
   "id": "c9d131d6",
   "metadata": {
    "_cell_guid": "032f890e-19dd-464f-841c-bbded62b137c",
    "_uuid": "dd1fc9ae-ae15-433b-a21a-17f038dcb297",
    "collapsed": false,
    "execution": {
     "iopub.execute_input": "2023-11-27T14:28:30.843200Z",
     "iopub.status.busy": "2023-11-27T14:28:30.842702Z",
     "iopub.status.idle": "2023-11-27T14:28:30.885970Z",
     "shell.execute_reply": "2023-11-27T14:28:30.884315Z"
    },
    "jupyter": {
     "outputs_hidden": false
    },
    "papermill": {
     "duration": 0.0585,
     "end_time": "2023-11-27T14:28:30.889191",
     "exception": false,
     "start_time": "2023-11-27T14:28:30.830691",
     "status": "completed"
    },
    "tags": []
   },
   "outputs": [
    {
     "data": {
      "text/html": [
       "<div>                            <div id=\"b511a074-273e-415d-bde2-78c95a01c704\" class=\"plotly-graph-div\" style=\"height:525px; width:100%;\"></div>            <script type=\"text/javascript\">                require([\"plotly\"], function(Plotly) {                    window.PLOTLYENV=window.PLOTLYENV || {};                                    if (document.getElementById(\"b511a074-273e-415d-bde2-78c95a01c704\")) {                    Plotly.newPlot(                        \"b511a074-273e-415d-bde2-78c95a01c704\",                        [{\"hovertemplate\":\"Year: %{x}\\u003cbr\\u003e Max: %{y}\",\"mode\":\"lines+markers\",\"name\":\"Maximum IMDB rating\",\"x\":[1969,1972,1981,1982,1983,1984,1987,1988,1989,1992,1993,1994,1995,1996,1997,1998,1999,2000,2001,2002,2003,2004,2005,2006,2007,2008,2009,2010,2011,2012,2013,2014,2015,2016,2017,2018,2019,2020,2021,2022],\"y\":[8.8,8.1,7.4,6.9,6.7,6.5,6.1,3.8,8.9,3.8,8.1,7.8,8.5,5.7,8.4,8.9,8.8,9.0,8.6,8.9,8.8,7.8,9.6,9.0,8.4,9.5,8.6,8.7,9.0,8.5,9.0,9.0,9.2,9.0,8.9,9.6,9.3,9.1,9.1,9.2],\"type\":\"scatter\"},{\"customdata\":[[null,1.0],[null,1.0],[null,1.0],[null,1.0],[null,1.0],[null,1.0],[null,1.0],[null,1.0],[0.74,3.0],[null,1.0],[0.42,4.0],[0.53,3.0],[0.45,2.0],[null,1.0],[0.4,2.0],[0.3,5.0],[0.59,3.0],[0.32,5.0],[0.23,6.0],[0.34,7.0],[0.36,9.0],[0.4,4.0],[0.57,10.0],[0.26,12.0],[0.43,10.0],[0.37,13.0],[0.24,17.0],[0.25,20.0],[0.21,29.0],[0.14,31.0],[0.2,37.0],[0.16,43.0],[0.11,92.0],[0.08,138.0],[0.08,177.0],[0.06,286.0],[0.06,280.0],[0.07,250.0],[0.06,276.0],[0.13,92.0]],\"error_y\":{\"array\":[null,null,null,null,null,null,null,null,0.74,null,0.42,0.53,0.45,null,0.4,0.3,0.59,0.32,0.23,0.34,0.36,0.4,0.57,0.26,0.43,0.37,0.24,0.25,0.21,0.14,0.2,0.16,0.11,0.08,0.08,0.06,0.06,0.07,0.06,0.13],\"type\":\"data\",\"visible\":true},\"hovertemplate\":\"Year: %{x}\\u003cbr\\u003eRating: %{y:.2f} +- %{customdata[0]:.2f}\\u003cbr\\u003eCount: %{customdata[1]}\",\"mode\":\"lines+markers\",\"name\":\"Average IMDB rating\",\"x\":[1969,1972,1981,1982,1983,1984,1987,1988,1989,1992,1993,1994,1995,1996,1997,1998,1999,2000,2001,2002,2003,2004,2005,2006,2007,2008,2009,2010,2011,2012,2013,2014,2015,2016,2017,2018,2019,2020,2021,2022],\"y\":[8.8,8.1,7.4,6.9,6.7,6.5,6.1,3.8,7.47,3.8,6.98,7.27,8.05,5.7,8.0,7.86,7.67,7.94,7.52,7.83,7.21,6.88,7.25,7.96,6.97,7.39,7.26,7.31,7.24,7.45,7.11,7.29,7.37,7.26,7.14,7.03,7.01,6.8,6.75,6.55],\"type\":\"scatter\"},{\"hovertemplate\":\"Year: %{x}\\u003cbr\\u003e Min: %{y}\",\"mode\":\"lines+markers\",\"name\":\"Minimum IMDB rating\",\"x\":[1969,1972,1981,1982,1983,1984,1987,1988,1989,1992,1993,1994,1995,1996,1997,1998,1999,2000,2001,2002,2003,2004,2005,2006,2007,2008,2009,2010,2011,2012,2013,2014,2015,2016,2017,2018,2019,2020,2021,2022],\"y\":[8.8,8.1,7.4,6.9,6.7,6.5,6.1,3.8,6.4,3.8,6.2,6.2,7.6,5.7,7.6,7.2,6.8,7.2,7.0,6.5,5.6,6.2,3.9,6.3,4.1,4.1,5.3,4.2,4.5,5.9,4.6,4.3,3.1,3.8,2.3,3.4,3.5,2.5,1.7,1.6],\"type\":\"scatter\"}],                        {\"template\":{\"data\":{\"histogram2dcontour\":[{\"type\":\"histogram2dcontour\",\"colorbar\":{\"outlinewidth\":0,\"ticks\":\"\"},\"colorscale\":[[0.0,\"#0d0887\"],[0.1111111111111111,\"#46039f\"],[0.2222222222222222,\"#7201a8\"],[0.3333333333333333,\"#9c179e\"],[0.4444444444444444,\"#bd3786\"],[0.5555555555555556,\"#d8576b\"],[0.6666666666666666,\"#ed7953\"],[0.7777777777777778,\"#fb9f3a\"],[0.8888888888888888,\"#fdca26\"],[1.0,\"#f0f921\"]]}],\"choropleth\":[{\"type\":\"choropleth\",\"colorbar\":{\"outlinewidth\":0,\"ticks\":\"\"}}],\"histogram2d\":[{\"type\":\"histogram2d\",\"colorbar\":{\"outlinewidth\":0,\"ticks\":\"\"},\"colorscale\":[[0.0,\"#0d0887\"],[0.1111111111111111,\"#46039f\"],[0.2222222222222222,\"#7201a8\"],[0.3333333333333333,\"#9c179e\"],[0.4444444444444444,\"#bd3786\"],[0.5555555555555556,\"#d8576b\"],[0.6666666666666666,\"#ed7953\"],[0.7777777777777778,\"#fb9f3a\"],[0.8888888888888888,\"#fdca26\"],[1.0,\"#f0f921\"]]}],\"heatmap\":[{\"type\":\"heatmap\",\"colorbar\":{\"outlinewidth\":0,\"ticks\":\"\"},\"colorscale\":[[0.0,\"#0d0887\"],[0.1111111111111111,\"#46039f\"],[0.2222222222222222,\"#7201a8\"],[0.3333333333333333,\"#9c179e\"],[0.4444444444444444,\"#bd3786\"],[0.5555555555555556,\"#d8576b\"],[0.6666666666666666,\"#ed7953\"],[0.7777777777777778,\"#fb9f3a\"],[0.8888888888888888,\"#fdca26\"],[1.0,\"#f0f921\"]]}],\"heatmapgl\":[{\"type\":\"heatmapgl\",\"colorbar\":{\"outlinewidth\":0,\"ticks\":\"\"},\"colorscale\":[[0.0,\"#0d0887\"],[0.1111111111111111,\"#46039f\"],[0.2222222222222222,\"#7201a8\"],[0.3333333333333333,\"#9c179e\"],[0.4444444444444444,\"#bd3786\"],[0.5555555555555556,\"#d8576b\"],[0.6666666666666666,\"#ed7953\"],[0.7777777777777778,\"#fb9f3a\"],[0.8888888888888888,\"#fdca26\"],[1.0,\"#f0f921\"]]}],\"contourcarpet\":[{\"type\":\"contourcarpet\",\"colorbar\":{\"outlinewidth\":0,\"ticks\":\"\"}}],\"contour\":[{\"type\":\"contour\",\"colorbar\":{\"outlinewidth\":0,\"ticks\":\"\"},\"colorscale\":[[0.0,\"#0d0887\"],[0.1111111111111111,\"#46039f\"],[0.2222222222222222,\"#7201a8\"],[0.3333333333333333,\"#9c179e\"],[0.4444444444444444,\"#bd3786\"],[0.5555555555555556,\"#d8576b\"],[0.6666666666666666,\"#ed7953\"],[0.7777777777777778,\"#fb9f3a\"],[0.8888888888888888,\"#fdca26\"],[1.0,\"#f0f921\"]]}],\"surface\":[{\"type\":\"surface\",\"colorbar\":{\"outlinewidth\":0,\"ticks\":\"\"},\"colorscale\":[[0.0,\"#0d0887\"],[0.1111111111111111,\"#46039f\"],[0.2222222222222222,\"#7201a8\"],[0.3333333333333333,\"#9c179e\"],[0.4444444444444444,\"#bd3786\"],[0.5555555555555556,\"#d8576b\"],[0.6666666666666666,\"#ed7953\"],[0.7777777777777778,\"#fb9f3a\"],[0.8888888888888888,\"#fdca26\"],[1.0,\"#f0f921\"]]}],\"mesh3d\":[{\"type\":\"mesh3d\",\"colorbar\":{\"outlinewidth\":0,\"ticks\":\"\"}}],\"scatter\":[{\"fillpattern\":{\"fillmode\":\"overlay\",\"size\":10,\"solidity\":0.2},\"type\":\"scatter\"}],\"parcoords\":[{\"type\":\"parcoords\",\"line\":{\"colorbar\":{\"outlinewidth\":0,\"ticks\":\"\"}}}],\"scatterpolargl\":[{\"type\":\"scatterpolargl\",\"marker\":{\"colorbar\":{\"outlinewidth\":0,\"ticks\":\"\"}}}],\"bar\":[{\"error_x\":{\"color\":\"#2a3f5f\"},\"error_y\":{\"color\":\"#2a3f5f\"},\"marker\":{\"line\":{\"color\":\"#E5ECF6\",\"width\":0.5},\"pattern\":{\"fillmode\":\"overlay\",\"size\":10,\"solidity\":0.2}},\"type\":\"bar\"}],\"scattergeo\":[{\"type\":\"scattergeo\",\"marker\":{\"colorbar\":{\"outlinewidth\":0,\"ticks\":\"\"}}}],\"scatterpolar\":[{\"type\":\"scatterpolar\",\"marker\":{\"colorbar\":{\"outlinewidth\":0,\"ticks\":\"\"}}}],\"histogram\":[{\"marker\":{\"pattern\":{\"fillmode\":\"overlay\",\"size\":10,\"solidity\":0.2}},\"type\":\"histogram\"}],\"scattergl\":[{\"type\":\"scattergl\",\"marker\":{\"colorbar\":{\"outlinewidth\":0,\"ticks\":\"\"}}}],\"scatter3d\":[{\"type\":\"scatter3d\",\"line\":{\"colorbar\":{\"outlinewidth\":0,\"ticks\":\"\"}},\"marker\":{\"colorbar\":{\"outlinewidth\":0,\"ticks\":\"\"}}}],\"scattermapbox\":[{\"type\":\"scattermapbox\",\"marker\":{\"colorbar\":{\"outlinewidth\":0,\"ticks\":\"\"}}}],\"scatterternary\":[{\"type\":\"scatterternary\",\"marker\":{\"colorbar\":{\"outlinewidth\":0,\"ticks\":\"\"}}}],\"scattercarpet\":[{\"type\":\"scattercarpet\",\"marker\":{\"colorbar\":{\"outlinewidth\":0,\"ticks\":\"\"}}}],\"carpet\":[{\"aaxis\":{\"endlinecolor\":\"#2a3f5f\",\"gridcolor\":\"white\",\"linecolor\":\"white\",\"minorgridcolor\":\"white\",\"startlinecolor\":\"#2a3f5f\"},\"baxis\":{\"endlinecolor\":\"#2a3f5f\",\"gridcolor\":\"white\",\"linecolor\":\"white\",\"minorgridcolor\":\"white\",\"startlinecolor\":\"#2a3f5f\"},\"type\":\"carpet\"}],\"table\":[{\"cells\":{\"fill\":{\"color\":\"#EBF0F8\"},\"line\":{\"color\":\"white\"}},\"header\":{\"fill\":{\"color\":\"#C8D4E3\"},\"line\":{\"color\":\"white\"}},\"type\":\"table\"}],\"barpolar\":[{\"marker\":{\"line\":{\"color\":\"#E5ECF6\",\"width\":0.5},\"pattern\":{\"fillmode\":\"overlay\",\"size\":10,\"solidity\":0.2}},\"type\":\"barpolar\"}],\"pie\":[{\"automargin\":true,\"type\":\"pie\"}]},\"layout\":{\"autotypenumbers\":\"strict\",\"colorway\":[\"#636efa\",\"#EF553B\",\"#00cc96\",\"#ab63fa\",\"#FFA15A\",\"#19d3f3\",\"#FF6692\",\"#B6E880\",\"#FF97FF\",\"#FECB52\"],\"font\":{\"color\":\"#2a3f5f\"},\"hovermode\":\"closest\",\"hoverlabel\":{\"align\":\"left\"},\"paper_bgcolor\":\"white\",\"plot_bgcolor\":\"#E5ECF6\",\"polar\":{\"bgcolor\":\"#E5ECF6\",\"angularaxis\":{\"gridcolor\":\"white\",\"linecolor\":\"white\",\"ticks\":\"\"},\"radialaxis\":{\"gridcolor\":\"white\",\"linecolor\":\"white\",\"ticks\":\"\"}},\"ternary\":{\"bgcolor\":\"#E5ECF6\",\"aaxis\":{\"gridcolor\":\"white\",\"linecolor\":\"white\",\"ticks\":\"\"},\"baxis\":{\"gridcolor\":\"white\",\"linecolor\":\"white\",\"ticks\":\"\"},\"caxis\":{\"gridcolor\":\"white\",\"linecolor\":\"white\",\"ticks\":\"\"}},\"coloraxis\":{\"colorbar\":{\"outlinewidth\":0,\"ticks\":\"\"}},\"colorscale\":{\"sequential\":[[0.0,\"#0d0887\"],[0.1111111111111111,\"#46039f\"],[0.2222222222222222,\"#7201a8\"],[0.3333333333333333,\"#9c179e\"],[0.4444444444444444,\"#bd3786\"],[0.5555555555555556,\"#d8576b\"],[0.6666666666666666,\"#ed7953\"],[0.7777777777777778,\"#fb9f3a\"],[0.8888888888888888,\"#fdca26\"],[1.0,\"#f0f921\"]],\"sequentialminus\":[[0.0,\"#0d0887\"],[0.1111111111111111,\"#46039f\"],[0.2222222222222222,\"#7201a8\"],[0.3333333333333333,\"#9c179e\"],[0.4444444444444444,\"#bd3786\"],[0.5555555555555556,\"#d8576b\"],[0.6666666666666666,\"#ed7953\"],[0.7777777777777778,\"#fb9f3a\"],[0.8888888888888888,\"#fdca26\"],[1.0,\"#f0f921\"]],\"diverging\":[[0,\"#8e0152\"],[0.1,\"#c51b7d\"],[0.2,\"#de77ae\"],[0.3,\"#f1b6da\"],[0.4,\"#fde0ef\"],[0.5,\"#f7f7f7\"],[0.6,\"#e6f5d0\"],[0.7,\"#b8e186\"],[0.8,\"#7fbc41\"],[0.9,\"#4d9221\"],[1,\"#276419\"]]},\"xaxis\":{\"gridcolor\":\"white\",\"linecolor\":\"white\",\"ticks\":\"\",\"title\":{\"standoff\":15},\"zerolinecolor\":\"white\",\"automargin\":true,\"zerolinewidth\":2},\"yaxis\":{\"gridcolor\":\"white\",\"linecolor\":\"white\",\"ticks\":\"\",\"title\":{\"standoff\":15},\"zerolinecolor\":\"white\",\"automargin\":true,\"zerolinewidth\":2},\"scene\":{\"xaxis\":{\"backgroundcolor\":\"#E5ECF6\",\"gridcolor\":\"white\",\"linecolor\":\"white\",\"showbackground\":true,\"ticks\":\"\",\"zerolinecolor\":\"white\",\"gridwidth\":2},\"yaxis\":{\"backgroundcolor\":\"#E5ECF6\",\"gridcolor\":\"white\",\"linecolor\":\"white\",\"showbackground\":true,\"ticks\":\"\",\"zerolinecolor\":\"white\",\"gridwidth\":2},\"zaxis\":{\"backgroundcolor\":\"#E5ECF6\",\"gridcolor\":\"white\",\"linecolor\":\"white\",\"showbackground\":true,\"ticks\":\"\",\"zerolinecolor\":\"white\",\"gridwidth\":2}},\"shapedefaults\":{\"line\":{\"color\":\"#2a3f5f\"}},\"annotationdefaults\":{\"arrowcolor\":\"#2a3f5f\",\"arrowhead\":0,\"arrowwidth\":1},\"geo\":{\"bgcolor\":\"white\",\"landcolor\":\"#E5ECF6\",\"subunitcolor\":\"white\",\"showland\":true,\"showlakes\":true,\"lakecolor\":\"white\"},\"title\":{\"x\":0.05},\"mapbox\":{\"style\":\"light\"}}},\"yaxis\":{\"range\":[0,10],\"title\":{\"text\":\"Rating\"}},\"title\":{\"text\":\"Show ratings across the years\"},\"xaxis\":{\"title\":{\"text\":\"Release Year\"}},\"legend\":{\"title\":{\"text\":\"Legend\"}}},                        {\"responsive\": true}                    ).then(function(){\n",
       "                            \n",
       "var gd = document.getElementById('b511a074-273e-415d-bde2-78c95a01c704');\n",
       "var x = new MutationObserver(function (mutations, observer) {{\n",
       "        var display = window.getComputedStyle(gd).display;\n",
       "        if (!display || display === 'none') {{\n",
       "            console.log([gd, 'removed!']);\n",
       "            Plotly.purge(gd);\n",
       "            observer.disconnect();\n",
       "        }}\n",
       "}});\n",
       "\n",
       "// Listen for the removal of the full notebook cells\n",
       "var notebookContainer = gd.closest('#notebook-container');\n",
       "if (notebookContainer) {{\n",
       "    x.observe(notebookContainer, {childList: true});\n",
       "}}\n",
       "\n",
       "// Listen for the clearing of the current output cell\n",
       "var outputEl = gd.closest('.output');\n",
       "if (outputEl) {{\n",
       "    x.observe(outputEl, {childList: true});\n",
       "}}\n",
       "\n",
       "                        })                };                });            </script>        </div>"
      ]
     },
     "metadata": {},
     "output_type": "display_data"
    }
   ],
   "source": [
    "fig = go.Figure()\n",
    "\n",
    "x = df_shows.dropna(subset=\"imdb_score\")[\"release_year\"].unique()\n",
    "\n",
    "df_shows_year_rating = df_shows.dropna(subset=\"imdb_score\").groupby(\"release_year\")[\n",
    "    \"imdb_score\"\n",
    "]\n",
    "fig.add_trace(\n",
    "    go.Scatter(\n",
    "        x=x,\n",
    "        y=df_shows_year_rating.max(),\n",
    "        mode=\"lines+markers\",\n",
    "        name=\"Maximum IMDB rating\",\n",
    "        hovertemplate=\"Year: %{x}\" + \"<br> Max: %{y}\",\n",
    "    )\n",
    ")\n",
    "\n",
    "y_err = df_shows_year_rating.sem().round(2)\n",
    "fig.add_trace(\n",
    "    go.Scatter(\n",
    "        x=x,\n",
    "        y=df_shows_year_rating.mean().round(2),\n",
    "        mode=\"lines+markers\",\n",
    "        name=\"Average IMDB rating\",\n",
    "        error_y=dict(\n",
    "            type=\"data\",\n",
    "            array=y_err,\n",
    "            visible=True,\n",
    "        ),\n",
    "        hovertemplate=\"Year: %{x}\"\n",
    "        + \"<br>Rating: %{y:.2f} +- %{customdata[0]:.2f}\"\n",
    "        + \"<br>Count: %{customdata[1]}\",\n",
    "        customdata=np.stack((y_err, df_shows_year_rating.count().values), axis=-1),\n",
    "    )\n",
    ")\n",
    "\n",
    "fig.add_trace(\n",
    "    go.Scatter(\n",
    "        x=x,\n",
    "        y=df_shows_year_rating.min(),\n",
    "        mode=\"lines+markers\",\n",
    "        name=\"Minimum IMDB rating\",\n",
    "        hovertemplate=\"Year: %{x}\" + \"<br> Min: %{y}\",\n",
    "    )\n",
    ")\n",
    "\n",
    "fig.update_yaxes(range=[0, 10])\n",
    "\n",
    "fig.update_layout(\n",
    "    title=\"Show ratings across the years\",\n",
    "    xaxis_title=\"Release Year\",\n",
    "    yaxis_title=\"Rating\",\n",
    "    legend_title=\"Legend\",\n",
    ")"
   ]
  },
  {
   "cell_type": "markdown",
   "id": "94495000",
   "metadata": {
    "_cell_guid": "581c1981-e6e6-4f43-b36c-e19fc7ed2456",
    "_uuid": "5fd62b78-20cc-42f9-abbe-7965e39cd091",
    "papermill": {
     "duration": 0.010908,
     "end_time": "2023-11-27T14:28:30.913582",
     "exception": false,
     "start_time": "2023-11-27T14:28:30.902674",
     "status": "completed"
    },
    "tags": []
   },
   "source": [
    "It seems that from 2000 onwards we see a strong decrease in the 'worst'\n",
    "rating given to productions across both movies and shows."
   ]
  },
  {
   "cell_type": "code",
   "execution_count": null,
   "id": "9ad88f57",
   "metadata": {
    "_cell_guid": "c4503c3b-5df2-4f3d-8cdb-0838dff341cd",
    "_uuid": "1526fc17-143a-4619-bed7-628d09c197fe",
    "collapsed": false,
    "jupyter": {
     "outputs_hidden": false
    },
    "papermill": {
     "duration": 0.011353,
     "end_time": "2023-11-27T14:28:30.935852",
     "exception": false,
     "start_time": "2023-11-27T14:28:30.924499",
     "status": "completed"
    },
    "tags": []
   },
   "outputs": [],
   "source": []
  }
 ],
 "metadata": {
  "kaggle": {
   "accelerator": "none",
   "dataSources": [
    {
     "datasetId": 4026921,
     "sourceId": 7004629,
     "sourceType": "datasetVersion"
    }
   ],
   "isGpuEnabled": false,
   "isInternetEnabled": false,
   "language": "python",
   "sourceType": "notebook"
  },
  "kernelspec": {
   "display_name": "Python 3",
   "language": "python",
   "name": "python3"
  },
  "language_info": {
   "codemirror_mode": {
    "name": "ipython",
    "version": 3
   },
   "file_extension": ".py",
   "mimetype": "text/x-python",
   "name": "python",
   "nbconvert_exporter": "python",
   "pygments_lexer": "ipython3",
   "version": "3.10.12"
  },
  "papermill": {
   "default_parameters": {},
   "duration": 8.862911,
   "end_time": "2023-11-27T14:28:31.673449",
   "environment_variables": {},
   "exception": null,
   "input_path": "__notebook__.ipynb",
   "output_path": "__notebook__.ipynb",
   "parameters": {},
   "start_time": "2023-11-27T14:28:22.810538",
   "version": "2.4.0"
  }
 },
 "nbformat": 4,
 "nbformat_minor": 5
}
